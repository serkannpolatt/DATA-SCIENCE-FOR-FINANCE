{
  "cells": [
    {
      "cell_type": "markdown",
      "metadata": {},
      "source": [
        "\n# Select Best Performers\n\nThis tutorial introduces the `pre-selection transformers <pre_selection>`\n:class:`~skfolio.pre_selection.SelectKExtremes` to select the `k` best or the `k` worst\nassets according to a given measure before the optimization.\n\nIn this example, we will use a `Pipeline` to assemble the pre-selection step with a\nminimum variance optimization. Then, we will use cross-validation to find the optimal\nnumber of pre-selected assets to maximize the mean out-of-sample Sharpe Ratio.\n"
      ]
    },
    {
      "cell_type": "markdown",
      "metadata": {},
      "source": [
        "## Data\nWe load the FTSE 100 `dataset <datasets>` composed of the daily prices of 64\nassets from the FTSE 100 Index starting from 2000-01-04 up to 2023-05-31:\n\n"
      ]
    },
    {
      "cell_type": "code",
      "execution_count": null,
      "metadata": {
        "collapsed": false
      },
      "outputs": [],
      "source": [
        "import plotly.graph_objs as go\nfrom plotly.io import show\nfrom sklearn import set_config\nfrom sklearn.model_selection import GridSearchCV, train_test_split\nfrom sklearn.pipeline import Pipeline\n\nfrom skfolio import Population, RatioMeasure\nfrom skfolio.datasets import load_ftse100_dataset\nfrom skfolio.metrics import make_scorer\nfrom skfolio.model_selection import (\n    WalkForward,\n    cross_val_predict,\n)\nfrom skfolio.moments import EmpiricalCovariance\nfrom skfolio.optimization import MeanRisk\nfrom skfolio.pre_selection import SelectKExtremes\nfrom skfolio.preprocessing import prices_to_returns\nfrom skfolio.prior import EmpiricalPrior\n\nprices = load_ftse100_dataset()\nX = prices_to_returns(prices)\nX_train, X_test = train_test_split(X, test_size=0.33, shuffle=False)"
      ]
    },
    {
      "cell_type": "markdown",
      "metadata": {},
      "source": [
        "## Model\nFirst, we create a Minimum Variance model without pre-selection:\n\n"
      ]
    },
    {
      "cell_type": "code",
      "execution_count": null,
      "metadata": {
        "collapsed": false
      },
      "outputs": [],
      "source": [
        "benchmark = MeanRisk(\n    prior_estimator=EmpiricalPrior(\n        covariance_estimator=EmpiricalCovariance(nearest=True)\n    ),\n)"
      ]
    },
    {
      "cell_type": "markdown",
      "metadata": {},
      "source": [
        "<div class=\"alert alert-info\"><h4>Note</h4><p>A covariance matrix is in theory positive semi-definite (PSD). However, due to\n  floating-point inaccuracies, we can end up with a covariance matrix that is just\n  slightly non-PSD. This often occurs in high dimensional problems. By setting the\n  `nearest` parameter from the covariance estimator to `True`, when the covariance\n  is not positive semi-definite (PSD), it is replaced by the nearest covariance that\n  is PSD without changing the variance.</p></div>\n\n"
      ]
    },
    {
      "cell_type": "markdown",
      "metadata": {},
      "source": [
        "## Pipeline\nThen, we create a Minimum Variance model with pre-selection using `Pipepline`:\n\n"
      ]
    },
    {
      "cell_type": "code",
      "execution_count": null,
      "metadata": {
        "collapsed": false
      },
      "outputs": [],
      "source": [
        "set_config(transform_output=\"pandas\")\n\nmodel = Pipeline([(\"pre_selection\", SelectKExtremes()), (\"optimization\", benchmark)])"
      ]
    },
    {
      "cell_type": "markdown",
      "metadata": {},
      "source": [
        "## Parameter Tuning\nTo demonstrate how parameter tuning works in a Pipeline model, we find the number of\npre-selected assets `k` that maximizes the out-of-sample Sharpe Ratio using\n`GridSearchCV` with `WalkForward` cross-validation on the training set. The\n`WalkForward` is chosen to simulate a three months (60 business days) rolling\nportfolio fitted on the previous year (252 business days):\n\n"
      ]
    },
    {
      "cell_type": "code",
      "execution_count": null,
      "metadata": {
        "collapsed": false
      },
      "outputs": [],
      "source": [
        "cv = WalkForward(train_size=252, test_size=60)\n\nscorer = make_scorer(RatioMeasure.ANNUALIZED_SHARPE_RATIO)"
      ]
    },
    {
      "cell_type": "markdown",
      "metadata": {},
      "source": [
        "Note that we can also create a custom scorer this way:\n`scorer=make_scorer(lambda pred: pred.mean - 0.5 * pred.variance)`\n\n"
      ]
    },
    {
      "cell_type": "code",
      "execution_count": null,
      "metadata": {
        "collapsed": false
      },
      "outputs": [],
      "source": [
        "grid_search = GridSearchCV(\n    estimator=model,\n    cv=cv,\n    n_jobs=-1,\n    param_grid={\"pre_selection__k\": list(range(5, 66, 3))},\n    scoring=scorer,\n    return_train_score=True,\n)\ngrid_search.fit(X_train)\nmodel = grid_search.best_estimator_\nprint(model)"
      ]
    },
    {
      "cell_type": "markdown",
      "metadata": {},
      "source": [
        "Let's plot the train and test scores as a function of the number of pre-selected\nassets. The vertical line represents the best test score and the selected model:\n\n"
      ]
    },
    {
      "cell_type": "code",
      "execution_count": null,
      "metadata": {
        "collapsed": false
      },
      "outputs": [],
      "source": [
        "cv_results = grid_search.cv_results_\nfig = go.Figure([\n    go.Scatter(\n        x=cv_results[\"param_pre_selection__k\"],\n        y=cv_results[\"mean_train_score\"],\n        name=\"Train\",\n        mode=\"lines\",\n        line=dict(color=\"rgb(31, 119, 180)\"),\n    ),\n    go.Scatter(\n        x=cv_results[\"param_pre_selection__k\"],\n        y=cv_results[\"mean_train_score\"] + cv_results[\"std_train_score\"],\n        mode=\"lines\",\n        line=dict(width=0),\n        showlegend=False,\n    ),\n    go.Scatter(\n        x=cv_results[\"param_pre_selection__k\"],\n        y=cv_results[\"mean_train_score\"] - cv_results[\"std_train_score\"],\n        mode=\"lines\",\n        line=dict(width=0),\n        showlegend=False,\n        fillcolor=\"rgba(31, 119, 180,0.15)\",\n        fill=\"tonexty\",\n    ),\n    go.Scatter(\n        x=cv_results[\"param_pre_selection__k\"],\n        y=cv_results[\"mean_test_score\"],\n        name=\"Test\",\n        mode=\"lines\",\n        line=dict(color=\"rgb(255,165,0)\"),\n    ),\n    go.Scatter(\n        x=cv_results[\"param_pre_selection__k\"],\n        y=cv_results[\"mean_test_score\"] + cv_results[\"std_test_score\"],\n        mode=\"lines\",\n        line=dict(width=0),\n        showlegend=False,\n    ),\n    go.Scatter(\n        x=cv_results[\"param_pre_selection__k\"],\n        y=cv_results[\"mean_test_score\"] - cv_results[\"std_test_score\"],\n        line=dict(width=0),\n        mode=\"lines\",\n        fillcolor=\"rgba(255,165,0, 0.15)\",\n        fill=\"tonexty\",\n        showlegend=False,\n    ),\n])\nfig.add_vline(\n    x=grid_search.best_params_[\"pre_selection__k\"],\n    line_width=2,\n    line_dash=\"dash\",\n    line_color=\"green\",\n)\nfig.update_layout(\n    title=\"Train/Test score\",\n    xaxis_title=\"Number of pre-selected best performers\",\n    yaxis_title=\"Annualized Sharpe Ratio\",\n)\nfig.update_yaxes(tickformat=\".2f\")\nshow(fig)"
      ]
    },
    {
      "cell_type": "markdown",
      "metadata": {},
      "source": [
        "|\n\nThe mean test Sharpe Ratio increases from 1.17 (for k=5) to its maximum 1.91\n(for k=50) then decreases to 1.81 (for k=65).\nThe selected model is a pre-selection of the top 50 performers based on their Sharpe\nRatio, followed by a Minimum Variance optimization.\n\n"
      ]
    },
    {
      "cell_type": "markdown",
      "metadata": {},
      "source": [
        "## Prediction\nNow we evaluate the two models using the same `WalkForward` object on the test set:\n\n"
      ]
    },
    {
      "cell_type": "code",
      "execution_count": null,
      "metadata": {
        "collapsed": false
      },
      "outputs": [],
      "source": [
        "pred_bench = cross_val_predict(\n    benchmark,\n    X_test,\n    cv=cv,\n    portfolio_params=dict(name=\"Benchmark\"),\n)\n\npred_model = cross_val_predict(\n    model,\n    X_test,\n    cv=cv,\n    n_jobs=-1,\n    portfolio_params=dict(name=\"Pre-selection\"),\n)"
      ]
    },
    {
      "cell_type": "markdown",
      "metadata": {},
      "source": [
        "Each predicted object is a `MultiPeriodPortfolio`.\nFor improved analysis, we can add them to a `Population`:\n\n"
      ]
    },
    {
      "cell_type": "code",
      "execution_count": null,
      "metadata": {
        "collapsed": false
      },
      "outputs": [],
      "source": [
        "population = Population([pred_bench, pred_model])"
      ]
    },
    {
      "cell_type": "markdown",
      "metadata": {},
      "source": [
        "Let's plot the rolling portfolios cumulative returns on the test set:\n\n"
      ]
    },
    {
      "cell_type": "code",
      "execution_count": null,
      "metadata": {
        "collapsed": false
      },
      "outputs": [],
      "source": [
        "population.plot_cumulative_returns()"
      ]
    },
    {
      "cell_type": "markdown",
      "metadata": {},
      "source": [
        "Let's plot the rolling portfolios compositions:\n\n"
      ]
    },
    {
      "cell_type": "code",
      "execution_count": null,
      "metadata": {
        "collapsed": false
      },
      "outputs": [],
      "source": [
        "population.plot_composition(display_sub_ptf_name=False)"
      ]
    },
    {
      "cell_type": "markdown",
      "metadata": {},
      "source": [
        "Let's display the full summary:\n\n"
      ]
    },
    {
      "cell_type": "code",
      "execution_count": null,
      "metadata": {
        "collapsed": false
      },
      "outputs": [],
      "source": [
        "population.summary()"
      ]
    }
  ],
  "metadata": {
    "kernelspec": {
      "display_name": "Python 3",
      "language": "python",
      "name": "python3"
    },
    "language_info": {
      "codemirror_mode": {
        "name": "ipython",
        "version": 3
      },
      "file_extension": ".py",
      "mimetype": "text/x-python",
      "name": "python",
      "nbconvert_exporter": "python",
      "pygments_lexer": "ipython3",
      "version": "3.10.13"
    }
  },
  "nbformat": 4,
  "nbformat_minor": 0
}