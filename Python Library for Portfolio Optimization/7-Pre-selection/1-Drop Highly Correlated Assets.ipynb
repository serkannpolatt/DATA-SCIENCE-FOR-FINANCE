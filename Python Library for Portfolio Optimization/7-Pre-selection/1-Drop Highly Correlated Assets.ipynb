{
  "cells": [
    {
      "cell_type": "markdown",
      "metadata": {},
      "source": [
        "\n# Drop Highly Correlated Assets\n\nThis tutorial introduces the  `pre-selection transformers <pre_selection>`\n:class:`~skfolio.pre_selection.DropCorrelated` to remove highly correlated assets before\nthe optimization.\n\nHighly correlated assets tend to increase the instability of mean-variance optimization.\n\nIn this example, we will compare a mean-variance optimization with and without\npre-selection.\n"
      ]
    },
    {
      "cell_type": "markdown",
      "metadata": {},
      "source": [
        "## Data\nWe load the FTSE 100 `dataset <datasets>` composed of the daily prices of 64\nassets from the FTSE 100 Index composition starting from 2000-01-04 up to 2023-05-31:\n\n"
      ]
    },
    {
      "cell_type": "code",
      "execution_count": null,
      "metadata": {
        "collapsed": false
      },
      "outputs": [],
      "source": [
        "from plotly.io import show\nfrom sklearn import set_config\nfrom sklearn.model_selection import train_test_split\nfrom sklearn.pipeline import Pipeline\n\nfrom skfolio import Population, RatioMeasure\nfrom skfolio.datasets import load_ftse100_dataset\nfrom skfolio.model_selection import CombinatorialPurgedCV, cross_val_predict\nfrom skfolio.optimization import MeanRisk, ObjectiveFunction\nfrom skfolio.pre_selection import DropCorrelated\nfrom skfolio.preprocessing import prices_to_returns\n\nprices = load_ftse100_dataset()\n\nX = prices_to_returns(prices)\nX_train, X_test = train_test_split(X, test_size=0.33, shuffle=False)"
      ]
    },
    {
      "cell_type": "markdown",
      "metadata": {},
      "source": [
        "## Model\nFirst, we create a maximum Sharpe Ratio model without pre-selection and fit it on the\ntraining set:\n\n"
      ]
    },
    {
      "cell_type": "code",
      "execution_count": null,
      "metadata": {
        "collapsed": false
      },
      "outputs": [],
      "source": [
        "model1 = MeanRisk(objective_function=ObjectiveFunction.MAXIMIZE_RATIO)\nmodel1.fit(X_train)\nmodel1.weights_"
      ]
    },
    {
      "cell_type": "markdown",
      "metadata": {},
      "source": [
        "## Pipeline\nThen, we create a maximum Sharpe ratio model with pre-selection using `Pipepline` and\nfit it on the training set:\n\n"
      ]
    },
    {
      "cell_type": "code",
      "execution_count": null,
      "metadata": {
        "collapsed": false
      },
      "outputs": [],
      "source": [
        "set_config(transform_output=\"pandas\")\n\nmodel2 = Pipeline([\n    (\"pre_selection\", DropCorrelated(threshold=0.5)),\n    (\"optimization\", MeanRisk(objective_function=ObjectiveFunction.MAXIMIZE_RATIO)),\n])\nmodel2.fit(X_train)\nmodel2.named_steps[\"optimization\"].weights_"
      ]
    },
    {
      "cell_type": "markdown",
      "metadata": {},
      "source": [
        "## Prediction\nWe predict both models on the test set:\n\n"
      ]
    },
    {
      "cell_type": "code",
      "execution_count": null,
      "metadata": {
        "collapsed": false
      },
      "outputs": [],
      "source": [
        "ptf1 = model1.predict(X_test)\nptf1.name = \"model1\"\nptf2 = model2.predict(X_test)\nptf2.name = \"model2\"\n\nprint(ptf1.n_assets)\nprint(ptf2.n_assets)"
      ]
    },
    {
      "cell_type": "markdown",
      "metadata": {},
      "source": [
        "Each predicted object is a `MultiPeriodPortfolio`.\nFor improved analysis, we can add them to a `Population`:\n\n"
      ]
    },
    {
      "cell_type": "code",
      "execution_count": null,
      "metadata": {
        "collapsed": false
      },
      "outputs": [],
      "source": [
        "population = Population([ptf1, ptf2])"
      ]
    },
    {
      "cell_type": "markdown",
      "metadata": {},
      "source": [
        "Let's plot the portfolios cumulative returns on the test set:\n\n"
      ]
    },
    {
      "cell_type": "code",
      "execution_count": null,
      "metadata": {
        "collapsed": false
      },
      "outputs": [],
      "source": [
        "population.plot_cumulative_returns()"
      ]
    },
    {
      "cell_type": "markdown",
      "metadata": {},
      "source": [
        "## Combinatorial Purged Cross-Validation\nOnly using one testing path (the historical path) may not be enough for comparing both\nmodels. For a more robust analysis, we can use the\n:class:`~skfolio.model_selection.CombinatorialPurgedCV` to create multiple testing\npaths from different training folds combinations:\n\n"
      ]
    },
    {
      "cell_type": "code",
      "execution_count": null,
      "metadata": {
        "collapsed": false
      },
      "outputs": [],
      "source": [
        "cv = CombinatorialPurgedCV(n_folds=10, n_test_folds=6)"
      ]
    },
    {
      "cell_type": "markdown",
      "metadata": {},
      "source": [
        "We choose `n_folds` and `n_test_folds` to obtain more than 100 test paths and an average\ntraining size of approximately 800 days:\n\n"
      ]
    },
    {
      "cell_type": "code",
      "execution_count": null,
      "metadata": {
        "collapsed": false
      },
      "outputs": [],
      "source": [
        "cv.summary(X_test)"
      ]
    },
    {
      "cell_type": "code",
      "execution_count": null,
      "metadata": {
        "collapsed": false
      },
      "outputs": [],
      "source": [
        "pred_1 = cross_val_predict(\n    model1,\n    X_test,\n    cv=cv,\n    n_jobs=-1,\n    portfolio_params=dict(annualized_factor=252, tag=\"model1\"),\n)\n\npred_2 = cross_val_predict(\n    model2,\n    X_test,\n    cv=cv,\n    n_jobs=-1,\n    portfolio_params=dict(annualized_factor=252, tag=\"model2\"),\n)"
      ]
    },
    {
      "cell_type": "markdown",
      "metadata": {},
      "source": [
        "The predicted object is a `Population` of `MultiPeriodPortfolio`. Each\n`MultiPeriodPortfolio` represents one testing path of a rolling portfolio.\nFor improved analysis, we can merge the populations of each model:\n\n"
      ]
    },
    {
      "cell_type": "code",
      "execution_count": null,
      "metadata": {
        "collapsed": false
      },
      "outputs": [],
      "source": [
        "population = pred_1 + pred_2"
      ]
    },
    {
      "cell_type": "markdown",
      "metadata": {},
      "source": [
        "## Distribution\nWe plot the out-of-sample distribution of Sharpe ratio for both models:\n\n"
      ]
    },
    {
      "cell_type": "code",
      "execution_count": null,
      "metadata": {
        "collapsed": false
      },
      "outputs": [],
      "source": [
        "fig = population.plot_distribution(\n    measure_list=[RatioMeasure.SHARPE_RATIO], tag_list=[\"model1\", \"model2\"], n_bins=40\n)\nshow(fig)"
      ]
    },
    {
      "cell_type": "markdown",
      "metadata": {},
      "source": [
        "|\n\nModel 1:\n\n"
      ]
    },
    {
      "cell_type": "code",
      "execution_count": null,
      "metadata": {
        "collapsed": false
      },
      "outputs": [],
      "source": [
        "print(\n    \"Average of Sharpe Ratio:\"\n    f\" {pred_1.measures_mean(measure=RatioMeasure.ANNUALIZED_SHARPE_RATIO):0.2f}\"\n)\nprint(\n    \"Std of Sharpe Ratio:\"\n    f\" {pred_1.measures_std(measure=RatioMeasure.ANNUALIZED_SHARPE_RATIO):0.2f}\"\n)"
      ]
    },
    {
      "cell_type": "markdown",
      "metadata": {},
      "source": [
        "Model 2:\n\n"
      ]
    },
    {
      "cell_type": "code",
      "execution_count": null,
      "metadata": {
        "collapsed": false
      },
      "outputs": [],
      "source": [
        "print(\n    \"Average of Sharpe Ratio:\"\n    f\" {pred_2.measures_mean(measure=RatioMeasure.ANNUALIZED_SHARPE_RATIO):0.2f}\"\n)\nprint(\n    \"Std of Sharpe Ratio:\"\n    f\" {pred_2.measures_std(measure=RatioMeasure.ANNUALIZED_SHARPE_RATIO):0.2f}\"\n)"
      ]
    }
  ],
  "metadata": {
    "kernelspec": {
      "display_name": "Python 3",
      "language": "python",
      "name": "python3"
    },
    "language_info": {
      "codemirror_mode": {
        "name": "ipython",
        "version": 3
      },
      "file_extension": ".py",
      "mimetype": "text/x-python",
      "name": "python",
      "nbconvert_exporter": "python",
      "pygments_lexer": "ipython3",
      "version": "3.10.13"
    }
  },
  "nbformat": 4,
  "nbformat_minor": 0
}