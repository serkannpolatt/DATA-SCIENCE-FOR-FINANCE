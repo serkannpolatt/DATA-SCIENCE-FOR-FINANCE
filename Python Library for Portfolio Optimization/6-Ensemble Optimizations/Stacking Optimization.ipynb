{
  "cells": [
    {
      "cell_type": "markdown",
      "metadata": {},
      "source": [
        "\n# Stacking Optimization\n\nThis tutorial introduces the :class:`~skfolio.optimization.StackingOptimization`.\n\nStacking Optimization is an ensemble method that consists in stacking the output of\nindividual portfolio optimizations with a final portfolio optimization.\n\nThe weights are the dot-product of individual optimizations weights with the final\noptimization weights.\n\nStacking allows to use the strength of each individual portfolio optimization by using\ntheir output as input of a final portfolio optimization.\n\nTo avoid data leakage, out-of-sample estimates are used to fit the outer optimization.\n\n.. note ::\n    The `estimators_` are fitted on the full `X` while `final_estimator_` is trained\n    using cross-validated predictions of the base estimators using `cross_val_predict`.\n"
      ]
    },
    {
      "cell_type": "markdown",
      "metadata": {},
      "source": [
        "## Data\nWe load the FTSE 100 dataset. This dataset is composed of the daily prices of 64\nassets from the FTSE 100 Index composition starting from 2000-01-04 up to 2023-05-31:\n\n"
      ]
    },
    {
      "cell_type": "code",
      "execution_count": null,
      "metadata": {
        "collapsed": false
      },
      "outputs": [],
      "source": [
        "from plotly.io import show\nfrom sklearn.model_selection import GridSearchCV, train_test_split\n\nfrom skfolio import Population, RatioMeasure, RiskMeasure\nfrom skfolio.datasets import load_ftse100_dataset\nfrom skfolio.metrics import make_scorer\nfrom skfolio.model_selection import (\n    CombinatorialPurgedCV,\n    WalkForward,\n    cross_val_predict,\n)\nfrom skfolio.moments import EmpiricalCovariance, LedoitWolf\nfrom skfolio.optimization import (\n    EqualWeighted,\n    HierarchicalEqualRiskContribution,\n    InverseVolatility,\n    MaximumDiversification,\n    MeanRisk,\n    ObjectiveFunction,\n    StackingOptimization,\n)\nfrom skfolio.preprocessing import prices_to_returns\nfrom skfolio.prior import EmpiricalPrior\n\nprices = load_ftse100_dataset()\n\nX = prices_to_returns(prices)\nX_train, X_test = train_test_split(X, test_size=0.50, shuffle=False)"
      ]
    },
    {
      "cell_type": "markdown",
      "metadata": {},
      "source": [
        "## Stacking Model\nOur stacking model will be composed of 4 models:\n  * Inverse Volatility\n  * Maximum Diversification\n  * Maximum Mean-Risk Utility allowing short position with L1 regularization\n  * Hierarchical Equal Risk Contribution\n\nWe will stack these 4 models together using the Mean-CDaR utility maximization:\n\n"
      ]
    },
    {
      "cell_type": "code",
      "execution_count": null,
      "metadata": {
        "collapsed": false
      },
      "outputs": [],
      "source": [
        "estimators = [\n    (\"model1\", InverseVolatility()),\n    (\"model2\", MaximumDiversification(prior_estimator=EmpiricalPrior())),\n    (\n        \"model3\",\n        MeanRisk(objective_function=ObjectiveFunction.MAXIMIZE_UTILITY, min_weights=-1),\n    ),\n    (\"model4\", HierarchicalEqualRiskContribution()),\n]\n\nmodel_stacking = StackingOptimization(\n    estimators=estimators,\n    final_estimator=MeanRisk(\n        objective_function=ObjectiveFunction.MAXIMIZE_UTILITY,\n        risk_measure=RiskMeasure.CDAR,\n    ),\n)"
      ]
    },
    {
      "cell_type": "markdown",
      "metadata": {},
      "source": [
        "## Benchmark\nTo compare the staking model, we use an equal-weighted benchmark:\n\n"
      ]
    },
    {
      "cell_type": "code",
      "execution_count": null,
      "metadata": {
        "collapsed": false
      },
      "outputs": [],
      "source": [
        "benchmark = EqualWeighted()"
      ]
    },
    {
      "cell_type": "markdown",
      "metadata": {},
      "source": [
        "## Parameter Tuning\nTo demonstrate how parameter tuning works in a staking model, we find the model\nparameters that maximizes the out-of-sample Calmar Ratio using `GridSearchCV` with\n`WalkForward` cross-validation on the training set.\nThe `WalkForward` are chosen to simulate a three months (60 business days) rolling\nportfolio fitted on the previous year (252 business days):\n\n"
      ]
    },
    {
      "cell_type": "code",
      "execution_count": null,
      "metadata": {
        "collapsed": false
      },
      "outputs": [],
      "source": [
        "cv = WalkForward(train_size=252, test_size=60)\n\ngrid_search = GridSearchCV(\n    estimator=model_stacking,\n    cv=cv,\n    n_jobs=-1,\n    param_grid={\n        \"model2__prior_estimator__covariance_estimator\": [\n            EmpiricalCovariance(),\n            LedoitWolf(),\n        ],\n        \"model3__l1_coef\": [0.001, 0.1],\n        \"model4__risk_measure\": [\n            RiskMeasure.VARIANCE,\n            RiskMeasure.GINI_MEAN_DIFFERENCE,\n        ],\n    },\n    scoring=make_scorer(RatioMeasure.CALMAR_RATIO),\n)\ngrid_search.fit(X_train)\nmodel_stacking = grid_search.best_estimator_\nprint(model_stacking)"
      ]
    },
    {
      "cell_type": "markdown",
      "metadata": {},
      "source": [
        "## Prediction\nWe evaluate the Stacking model and the Benchmark using the same `WalkForward` object\non the test set:\n\n"
      ]
    },
    {
      "cell_type": "code",
      "execution_count": null,
      "metadata": {
        "collapsed": false
      },
      "outputs": [],
      "source": [
        "pred_bench = cross_val_predict(\n    benchmark,\n    X_test,\n    cv=cv,\n    portfolio_params=dict(name=\"Benchmark\"),\n)\n\npred_stacking = cross_val_predict(\n    model_stacking,\n    X_test,\n    cv=cv,\n    n_jobs=-1,\n    portfolio_params=dict(name=\"Stacking\"),\n)"
      ]
    },
    {
      "cell_type": "markdown",
      "metadata": {},
      "source": [
        "Each predicted object is a `MultiPeriodPortfolio`.\nFor improved analysis, we can add them to a `Population`:\n\n"
      ]
    },
    {
      "cell_type": "code",
      "execution_count": null,
      "metadata": {
        "collapsed": false
      },
      "outputs": [],
      "source": [
        "population = Population([pred_bench, pred_stacking])"
      ]
    },
    {
      "cell_type": "markdown",
      "metadata": {},
      "source": [
        "Let's plot the rolling portfolios cumulative returns on the test set:\n\n"
      ]
    },
    {
      "cell_type": "code",
      "execution_count": null,
      "metadata": {
        "collapsed": false
      },
      "outputs": [],
      "source": [
        "population.plot_cumulative_returns()"
      ]
    },
    {
      "cell_type": "markdown",
      "metadata": {},
      "source": [
        "Let's plot the rolling portfolios compositions:\n\n"
      ]
    },
    {
      "cell_type": "code",
      "execution_count": null,
      "metadata": {
        "collapsed": false
      },
      "outputs": [],
      "source": [
        "population.plot_composition(display_sub_ptf_name=False)"
      ]
    },
    {
      "cell_type": "markdown",
      "metadata": {},
      "source": [
        "## Analysis\nThe Stacking model outperforms the Benchmark on the test set for the below ratios:\n\n"
      ]
    },
    {
      "cell_type": "code",
      "execution_count": null,
      "metadata": {
        "collapsed": false
      },
      "outputs": [],
      "source": [
        "for ptf in population:\n    print(\"=\" * 25)\n    print(\" \" * 8 + ptf.name)\n    print(\"=\" * 25)\n    print(f\"Sharpe ratio : {ptf.annualized_sharpe_ratio:0.2f}\")\n    print(f\"CVaR ratio : {ptf.cdar_ratio:0.5f}\")\n    print(f\"Calmar ratio : {ptf.calmar_ratio:0.5f}\")\n    print(\"\\n\")"
      ]
    },
    {
      "cell_type": "markdown",
      "metadata": {},
      "source": [
        "Let's display the full summary:\n\n"
      ]
    },
    {
      "cell_type": "code",
      "execution_count": null,
      "metadata": {
        "collapsed": false
      },
      "outputs": [],
      "source": [
        "population.summary()"
      ]
    },
    {
      "cell_type": "markdown",
      "metadata": {},
      "source": [
        "## Combinatorial Purged Cross-Validation\nOnly using one testing path (the historical path) may not be enough for comparing both\nmodels. For a more robust analysis, we can use the\n:class:`~skfolio.model_selection.CombinatorialPurgedCV` to create multiple testing\npaths from different training folds combinations:\n\n"
      ]
    },
    {
      "cell_type": "code",
      "execution_count": null,
      "metadata": {
        "collapsed": false
      },
      "outputs": [],
      "source": [
        "cv = CombinatorialPurgedCV(n_folds=20, n_test_folds=18)"
      ]
    },
    {
      "cell_type": "markdown",
      "metadata": {},
      "source": [
        "We choose `n_folds` and `n_test_folds` to obtain more than 100 test paths and an\naverage training size of approximately 252 days:\n\n"
      ]
    },
    {
      "cell_type": "code",
      "execution_count": null,
      "metadata": {
        "collapsed": false
      },
      "outputs": [],
      "source": [
        "cv.summary(X_test)"
      ]
    },
    {
      "cell_type": "code",
      "execution_count": null,
      "metadata": {
        "collapsed": false
      },
      "outputs": [],
      "source": [
        "pred_stacking = cross_val_predict(\n    model_stacking,\n    X_test,\n    cv=cv,\n    n_jobs=-1,\n    portfolio_params=dict(tag=\"Stacking\"),\n)"
      ]
    },
    {
      "cell_type": "markdown",
      "metadata": {},
      "source": [
        "The predicted object is a `Population` of `MultiPeriodPortfolio`. Each\n`MultiPeriodPortfolio` represents one test path of a rolling portfolio.\n\n"
      ]
    },
    {
      "cell_type": "markdown",
      "metadata": {},
      "source": [
        "## Distribution\nLet's plot the out-of-sample distribution of Sharpe Ratio for the Stacking model:\n\n"
      ]
    },
    {
      "cell_type": "code",
      "execution_count": null,
      "metadata": {
        "collapsed": false
      },
      "outputs": [],
      "source": [
        "pred_stacking.plot_distribution(\n    measure_list=[RatioMeasure.ANNUALIZED_SHARPE_RATIO], n_bins=40\n)"
      ]
    },
    {
      "cell_type": "code",
      "execution_count": null,
      "metadata": {
        "collapsed": false
      },
      "outputs": [],
      "source": [
        "print(\n    \"Average of Sharpe Ratio :\"\n    f\" {pred_stacking.measures_mean(measure=RatioMeasure.ANNUALIZED_SHARPE_RATIO):0.2f}\"\n)\nprint(\n    \"Std of Sharpe Ratio :\"\n    f\" {pred_stacking.measures_std(measure=RatioMeasure.ANNUALIZED_SHARPE_RATIO):0.2f}\"\n)"
      ]
    },
    {
      "cell_type": "markdown",
      "metadata": {},
      "source": [
        "Now, let's analyze how the sub-models would have performed independently and compare\ntheir distribution with the Stacking model:\n\n"
      ]
    },
    {
      "cell_type": "code",
      "execution_count": null,
      "metadata": {
        "collapsed": false
      },
      "outputs": [],
      "source": [
        "population = Population([])\nfor model_name, model in model_stacking.estimators:\n    pred = cross_val_predict(\n        model,\n        X_test,\n        cv=cv,\n        n_jobs=-1,\n        portfolio_params=dict(tag=model_name),\n    )\n    population.extend(pred)\npopulation.extend(pred_stacking)\n\nfig = population.plot_distribution(\n    measure_list=[RatioMeasure.ANNUALIZED_SHARPE_RATIO],\n    n_bins=40,\n    tag_list=[\"Stacking\", \"model1\", \"model2\", \"model3\", \"model4\"],\n)\nshow(fig)"
      ]
    },
    {
      "cell_type": "markdown",
      "metadata": {},
      "source": [
        "## Conclusion\nThe Stacking model outperforms the Benchmark on the historical test set. The\ndistribution analysis on the recombined (non-historical) test sets shows that the\nStacking model continues to outperform the Benchmark in average.\n\n"
      ]
    }
  ],
  "metadata": {
    "kernelspec": {
      "display_name": "Python 3",
      "language": "python",
      "name": "python3"
    },
    "language_info": {
      "codemirror_mode": {
        "name": "ipython",
        "version": 3
      },
      "file_extension": ".py",
      "mimetype": "text/x-python",
      "name": "python",
      "nbconvert_exporter": "python",
      "pygments_lexer": "ipython3",
      "version": "3.10.13"
    }
  },
  "nbformat": 4,
  "nbformat_minor": 0
}