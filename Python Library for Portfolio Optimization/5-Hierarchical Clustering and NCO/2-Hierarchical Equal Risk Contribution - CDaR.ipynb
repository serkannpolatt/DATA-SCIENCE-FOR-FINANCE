{
  "cells": [
    {
      "cell_type": "markdown",
      "metadata": {},
      "source": [
        "\n# Hierarchical Equal Risk Contribution - CDaR\n\nThis tutorial introduces the\n:class:`~skfolio.optimization.HierarchicalEqualRiskContribution` optimization.\n\nThe Hierarchical Equal Risk Contribution (HERC) is a portfolio optimization method\ndeveloped by Thomas Raffinot.\n\nThis algorithm uses a distance matrix to compute hierarchical clusters using the\nHierarchical Tree Clustering algorithm. It then computes, for each cluster, the\ntotal cluster risk of an inverse-risk allocation.\n\nThe final step is the top-down recursive division of the dendrogram, where the\nassets weights are updated using a naive risk parity within clusters.\n\nIt differs from the Hierarchical Risk Parity by exploiting the dendrogram shape\nduring the top-down recursive division instead of bisecting it.\n\n.. note ::\n    The default linkage method is set to the Ward variance minimization algorithm,\n    which is more stable and has better properties than the single-linkage method\n\nIn this example, we will use the CDaR risk measure.\n"
      ]
    },
    {
      "cell_type": "markdown",
      "metadata": {},
      "source": [
        "## Data\nWe load the S&P 500 `dataset <datasets>` composed of the daily prices of 20\nassets from the S&P 500 Index composition starting from 2020-01-02 up to 2022-12-28:\n\n"
      ]
    },
    {
      "cell_type": "code",
      "execution_count": null,
      "metadata": {
        "collapsed": false
      },
      "outputs": [],
      "source": [
        "from plotly.io import show\nfrom sklearn.model_selection import train_test_split\n\nfrom skfolio import Population, RiskMeasure\nfrom skfolio.cluster import HierarchicalClustering, LinkageMethod\nfrom skfolio.datasets import load_sp500_dataset\nfrom skfolio.distance import KendallDistance\nfrom skfolio.optimization import (\n    EqualWeighted,\n    HierarchicalEqualRiskContribution,\n)\nfrom skfolio.preprocessing import prices_to_returns\n\nprices = load_sp500_dataset()\n\nX = prices_to_returns(prices)\nX_train, X_test = train_test_split(X, test_size=0.5, shuffle=False)"
      ]
    },
    {
      "cell_type": "markdown",
      "metadata": {},
      "source": [
        "## Model\nWe create a CVaR Hierarchical Equal Risk Contribution model and then fit it on the\ntraining set:\n\n"
      ]
    },
    {
      "cell_type": "code",
      "execution_count": null,
      "metadata": {
        "collapsed": false
      },
      "outputs": [],
      "source": [
        "model1 = HierarchicalEqualRiskContribution(\n    risk_measure=RiskMeasure.CDAR, portfolio_params=dict(name=\"HERC-CDaR-Ward-Pearson\")\n)\nmodel1.fit(X_train)\nmodel1.weights_"
      ]
    },
    {
      "cell_type": "markdown",
      "metadata": {},
      "source": [
        "## Risk Contribution\nLet's analyze the risk contribution of the model on the training set:\n\n"
      ]
    },
    {
      "cell_type": "code",
      "execution_count": null,
      "metadata": {
        "collapsed": false
      },
      "outputs": [],
      "source": [
        "ptf1 = model1.predict(X_train)\nptf1.plot_contribution(measure=RiskMeasure.CDAR)"
      ]
    },
    {
      "cell_type": "markdown",
      "metadata": {},
      "source": [
        "## Dendrogram\nTo analyze the clusters structure, we plot the dendrogram.\nThe blue lines represent distinct clusters composed of a single asset.\nThe remaining colors represent clusters of more than one asset:\n\n"
      ]
    },
    {
      "cell_type": "code",
      "execution_count": null,
      "metadata": {
        "collapsed": false
      },
      "outputs": [],
      "source": [
        "fig = model1.hierarchical_clustering_estimator_.plot_dendrogram(heatmap=False)\nshow(fig)"
      ]
    },
    {
      "cell_type": "markdown",
      "metadata": {},
      "source": [
        "|\n\nThe horizontal axis represents the assets. The links between clusters are represented\nas upside-down U-shaped lines. The height of the U indicates the distance between the\nclusters. For example, the link representing the cluster containing Assets HD and WMT\nhas a distance of 0.5 (called cophenetic distance).\n\n"
      ]
    },
    {
      "cell_type": "markdown",
      "metadata": {},
      "source": [
        "When `heatmap` is set to True, the heatmap of the reordered distance matrix is\ndisplayed below the dendrogram and clusters are outlined with yellow squares:\n\n"
      ]
    },
    {
      "cell_type": "code",
      "execution_count": null,
      "metadata": {
        "collapsed": false
      },
      "outputs": [],
      "source": [
        "model1.hierarchical_clustering_estimator_.plot_dendrogram()"
      ]
    },
    {
      "cell_type": "markdown",
      "metadata": {},
      "source": [
        "## Linkage Methods\nThe clustering can be greatly affected by the choice of the linkage method.\nIn the :class:`~skfolio.optimization.HierarchicalEqualRiskContribution` estimator, the\ndefault linkage method is set to the Ward variance minimization algorithm which is\nmore stable and has better properties than the single-linkage method, which suffers\nfrom the chaining effect.\n\nAnd because HERC rely on the dendrogram structure as opposed\nto HRP, the choice of the linkage method will have a greater impact on the allocation.\n\nTo show this effect, let's create a second model with the single-linkage method:\n\n"
      ]
    },
    {
      "cell_type": "code",
      "execution_count": null,
      "metadata": {
        "collapsed": false
      },
      "outputs": [],
      "source": [
        "model2 = HierarchicalEqualRiskContribution(\n    risk_measure=RiskMeasure.CDAR,\n    hierarchical_clustering_estimator=HierarchicalClustering(\n        linkage_method=LinkageMethod.SINGLE,\n    ),\n    portfolio_params=dict(name=\"HERC-CDaR-Single-Pearson\"),\n)\nmodel2.fit(X_train)\nmodel2.hierarchical_clustering_estimator_.plot_dendrogram(heatmap=True)"
      ]
    },
    {
      "cell_type": "markdown",
      "metadata": {},
      "source": [
        "We can see that the clustering has been greatly affected by the change of the linkage\nmethod. Let's analyze the risk contribution of this model on the training set:\n\n"
      ]
    },
    {
      "cell_type": "code",
      "execution_count": null,
      "metadata": {
        "collapsed": false
      },
      "outputs": [],
      "source": [
        "ptf2 = model2.predict(X_train)\nptf2.plot_contribution(measure=RiskMeasure.CDAR)"
      ]
    },
    {
      "cell_type": "markdown",
      "metadata": {},
      "source": [
        "The risk of that second model is very concentrated. We can already conclude that the\nsingle-linkage method is not appropriate for this dataset. This will be confirmed\nbelow on the test set.\n\n"
      ]
    },
    {
      "cell_type": "markdown",
      "metadata": {},
      "source": [
        "## Distance Estimator\nThe distance metric used has also an important effect on the clustering.\nThe default is to use the distance of the pearson correlation matrix.\nThis can be changed using the `distance estimators <distance>`.\nFor example, let's create a third model with a distance computed from the absolute\nvalue of the Kendal correlation matrix:\n\n"
      ]
    },
    {
      "cell_type": "code",
      "execution_count": null,
      "metadata": {
        "collapsed": false
      },
      "outputs": [],
      "source": [
        "model3 = HierarchicalEqualRiskContribution(\n    risk_measure=RiskMeasure.CDAR,\n    distance_estimator=KendallDistance(absolute=True),\n    portfolio_params=dict(name=\"HERC-CDaR-Ward-Kendal\"),\n)\nmodel3.fit(X_train)\nmodel3.hierarchical_clustering_estimator_.plot_dendrogram(heatmap=True)"
      ]
    },
    {
      "cell_type": "markdown",
      "metadata": {},
      "source": [
        "To compare the models, we use an equal weighted benchmark using\nthe :class:`~skfolio.optimization.EqualWeighted` estimator:\n\n"
      ]
    },
    {
      "cell_type": "code",
      "execution_count": null,
      "metadata": {
        "collapsed": false
      },
      "outputs": [],
      "source": [
        "bench = EqualWeighted()\nbench.fit(X_train)\nbench.weights_"
      ]
    },
    {
      "cell_type": "markdown",
      "metadata": {},
      "source": [
        "## Prediction\nWe predict the models and the benchmark on the test set:\n\n"
      ]
    },
    {
      "cell_type": "code",
      "execution_count": null,
      "metadata": {
        "collapsed": false
      },
      "outputs": [],
      "source": [
        "population_test = Population([])\nfor model in [model1, model2, model3, bench]:\n    population_test.append(model.predict(X_test))\n\npopulation_test.plot_cumulative_returns()"
      ]
    },
    {
      "cell_type": "markdown",
      "metadata": {},
      "source": [
        "## Composition\nFrom the below composition, we notice that the model with single-linkage method is\nhighly concentrated:\n\n"
      ]
    },
    {
      "cell_type": "code",
      "execution_count": null,
      "metadata": {
        "collapsed": false
      },
      "outputs": [],
      "source": [
        "population_test.plot_composition()"
      ]
    }
  ],
  "metadata": {
    "kernelspec": {
      "display_name": "Python 3",
      "language": "python",
      "name": "python3"
    },
    "language_info": {
      "codemirror_mode": {
        "name": "ipython",
        "version": 3
      },
      "file_extension": ".py",
      "mimetype": "text/x-python",
      "name": "python",
      "nbconvert_exporter": "python",
      "pygments_lexer": "ipython3",
      "version": "3.10.13"
    }
  },
  "nbformat": 4,
  "nbformat_minor": 0
}