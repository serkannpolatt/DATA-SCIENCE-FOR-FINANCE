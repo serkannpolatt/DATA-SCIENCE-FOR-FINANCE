{
  "cells": [
    {
      "cell_type": "markdown",
      "metadata": {},
      "source": [
        "\n# Maximum Diversification\n\nThis tutorial uses the :class:`~skfolio.optimization.MaximumDiversification`\noptimization to find the portfolio that maximizes the diversification ratio, which is\nthe ratio of the weighted volatilities over the total volatility.\n"
      ]
    },
    {
      "cell_type": "markdown",
      "metadata": {},
      "source": [
        "## Data\nWe load the S&P 500 `dataset <datasets>` composed of the daily prices of 20\nassets from the S&P 500 Index composition starting from 1990-01-02 up to 2022-12-28:\n\n"
      ]
    },
    {
      "cell_type": "code",
      "execution_count": null,
      "metadata": {
        "collapsed": false
      },
      "outputs": [],
      "source": [
        "from plotly.io import show\nfrom sklearn.model_selection import train_test_split\n\nfrom skfolio import Population\nfrom skfolio.datasets import load_sp500_dataset\nfrom skfolio.optimization import EqualWeighted, MaximumDiversification\nfrom skfolio.preprocessing import prices_to_returns\n\nprices = load_sp500_dataset()\nX = prices_to_returns(prices)\n\nX_train, X_test = train_test_split(X, test_size=0.33, shuffle=False)"
      ]
    },
    {
      "cell_type": "markdown",
      "metadata": {},
      "source": [
        "## Model\nWe create the maximum diversification model and then fit it on the training set:\n\n"
      ]
    },
    {
      "cell_type": "code",
      "execution_count": null,
      "metadata": {
        "collapsed": false
      },
      "outputs": [],
      "source": [
        "model = MaximumDiversification()\nmodel.fit(X_train)\nmodel.weights_"
      ]
    },
    {
      "cell_type": "markdown",
      "metadata": {},
      "source": [
        "To compare this model, we use an equal weighted benchmark using\nthe :class:`~skfolio.optimization.EqualWeighted` estimator:\n\n"
      ]
    },
    {
      "cell_type": "code",
      "execution_count": null,
      "metadata": {
        "collapsed": false
      },
      "outputs": [],
      "source": [
        "bench = EqualWeighted()\nbench.fit(X_train)\nbench.weights_"
      ]
    },
    {
      "cell_type": "markdown",
      "metadata": {},
      "source": [
        "## Diversification Analysis\nLet's analyze the diversification ratio of both models on the training set.\nAs expected, the maximum diversification model has the highest diversification ratio:\n\n"
      ]
    },
    {
      "cell_type": "code",
      "execution_count": null,
      "metadata": {
        "collapsed": false
      },
      "outputs": [],
      "source": [
        "ptf_model_train = model.predict(X_train)\nptf_bench_train = bench.predict(X_train)\nprint(\"Diversification Ratio:\")\nprint(f\"    Maximum Diversification model: {ptf_model_train.diversification:0.2f}\")\nprint(f\"    Equal Weighted model: {ptf_bench_train.diversification:0.2f}\")"
      ]
    },
    {
      "cell_type": "markdown",
      "metadata": {},
      "source": [
        "## Prediction\nWe predict the model and the benchmark on the test set:\n\n"
      ]
    },
    {
      "cell_type": "code",
      "execution_count": null,
      "metadata": {
        "collapsed": false
      },
      "outputs": [],
      "source": [
        "ptf_model_test = model.predict(X_test)\nptf_bench_test = bench.predict(X_test)"
      ]
    },
    {
      "cell_type": "markdown",
      "metadata": {},
      "source": [
        "## Analysis\nFor improved analysis, it's possible to load both predicted portfolios into a\n:class:`~skfolio.population.Population`:\n\n"
      ]
    },
    {
      "cell_type": "code",
      "execution_count": null,
      "metadata": {
        "collapsed": false
      },
      "outputs": [],
      "source": [
        "population = Population([ptf_model_test, ptf_bench_test])"
      ]
    },
    {
      "cell_type": "markdown",
      "metadata": {},
      "source": [
        "Let's plot each portfolio composition:\n\n"
      ]
    },
    {
      "cell_type": "code",
      "execution_count": null,
      "metadata": {
        "collapsed": false
      },
      "outputs": [],
      "source": [
        "fig = population.plot_composition()\nshow(fig)"
      ]
    },
    {
      "cell_type": "markdown",
      "metadata": {},
      "source": [
        "|\n\nFinally we can show a full summary of both strategies evaluated on the test set:\n\n"
      ]
    },
    {
      "cell_type": "code",
      "execution_count": null,
      "metadata": {
        "collapsed": false
      },
      "outputs": [],
      "source": [
        "population.plot_cumulative_returns()"
      ]
    },
    {
      "cell_type": "markdown",
      "metadata": {},
      "source": [
        "|\n\nFinally, we print a full summary of both strategies evaluated on the test set:\n\n"
      ]
    },
    {
      "cell_type": "code",
      "execution_count": null,
      "metadata": {
        "collapsed": false
      },
      "outputs": [],
      "source": [
        "population.summary()"
      ]
    }
  ],
  "metadata": {
    "kernelspec": {
      "display_name": "Python 3",
      "language": "python",
      "name": "python3"
    },
    "language_info": {
      "codemirror_mode": {
        "name": "ipython",
        "version": 3
      },
      "file_extension": ".py",
      "mimetype": "text/x-python",
      "name": "python",
      "nbconvert_exporter": "python",
      "pygments_lexer": "ipython3",
      "version": "3.10.13"
    }
  },
  "nbformat": 4,
  "nbformat_minor": 0
}