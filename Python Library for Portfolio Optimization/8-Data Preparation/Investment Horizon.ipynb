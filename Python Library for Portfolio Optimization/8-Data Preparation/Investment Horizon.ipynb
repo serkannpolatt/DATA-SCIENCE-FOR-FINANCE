{
  "cells": [
    {
      "cell_type": "markdown",
      "metadata": {},
      "source": [
        "\n# Investment Horizon\n\nThis tutorial explores the difference between the general\nprocedure using different investment horizon and the simplified procedure as explained\nin `data preparation <data_preparation>`.\n"
      ]
    },
    {
      "cell_type": "markdown",
      "metadata": {},
      "source": [
        "## Prices\nWe load the S&P 500 `dataset <datasets>` composed of the daily prices of 20\nassets from the S&P 500 Index composition starting from 1990-01-02 up to 2022-12-28:\n\n"
      ]
    },
    {
      "cell_type": "code",
      "execution_count": null,
      "metadata": {
        "collapsed": false
      },
      "outputs": [],
      "source": [
        "from plotly.io import show\n\nfrom skfolio import PerfMeasure, Population, RiskMeasure\nfrom skfolio.datasets import load_sp500_dataset\nfrom skfolio.optimization import MeanRisk\nfrom skfolio.preprocessing import prices_to_returns\nfrom skfolio.prior import EmpiricalPrior\n\nprices = load_sp500_dataset()\nprices.head()"
      ]
    },
    {
      "cell_type": "markdown",
      "metadata": {},
      "source": [
        "## Linear Returns\nWe transform the daily prices into daily linear returns:\n\n"
      ]
    },
    {
      "cell_type": "code",
      "execution_count": null,
      "metadata": {
        "collapsed": false
      },
      "outputs": [],
      "source": [
        "X = prices_to_returns(prices)"
      ]
    },
    {
      "cell_type": "markdown",
      "metadata": {},
      "source": [
        "## Model\nWe first create a Mean-Variance model using the simplified procedure:\n\n"
      ]
    },
    {
      "cell_type": "code",
      "execution_count": null,
      "metadata": {
        "collapsed": false
      },
      "outputs": [],
      "source": [
        "population = Population([])\n\nmodel = MeanRisk(\n    risk_measure=RiskMeasure.VARIANCE,\n    efficient_frontier_size=30,\n    portfolio_params=dict(name=\"Simplified\", tag=\"Simplified\"),\n)\npopulation.extend(model.fit_predict(X))\n\nfor tag, investment_horizon in [\n    (\"3M\", 252 / 4),\n    (\"1Y\", 252),\n    (\"10Y\", 10 * 252),\n]:\n    model = MeanRisk(\n        risk_measure=RiskMeasure.VARIANCE,\n        efficient_frontier_size=30,\n        prior_estimator=EmpiricalPrior(\n            is_log_normal=True, investment_horizon=investment_horizon\n        ),\n        portfolio_params=dict(name=f\"General - {tag}\", tag=f\"General - {tag}\"),\n    )\n    population.extend(model.fit_predict(X))"
      ]
    },
    {
      "cell_type": "markdown",
      "metadata": {},
      "source": [
        "Let's plot the efficient frontier:\n\n"
      ]
    },
    {
      "cell_type": "code",
      "execution_count": null,
      "metadata": {
        "collapsed": false
      },
      "outputs": [],
      "source": [
        "fig = population.plot_measures(\n    x=RiskMeasure.ANNUALIZED_VARIANCE,\n    y=PerfMeasure.ANNUALIZED_MEAN,\n)\nshow(fig)"
      ]
    },
    {
      "cell_type": "markdown",
      "metadata": {},
      "source": [
        "|\n\nLet's plot the portfolios compositions:\n\n"
      ]
    },
    {
      "cell_type": "code",
      "execution_count": null,
      "metadata": {
        "collapsed": false
      },
      "outputs": [],
      "source": [
        "population.plot_composition()"
      ]
    },
    {
      "cell_type": "markdown",
      "metadata": {},
      "source": [
        "We can see that the simplified procedure only start to diverge from the general one\nfor investment horizons longer than one year.\n\n"
      ]
    }
  ],
  "metadata": {
    "kernelspec": {
      "display_name": "Python 3",
      "language": "python",
      "name": "python3"
    },
    "language_info": {
      "codemirror_mode": {
        "name": "ipython",
        "version": 3
      },
      "file_extension": ".py",
      "mimetype": "text/x-python",
      "name": "python",
      "nbconvert_exporter": "python",
      "pygments_lexer": "ipython3",
      "version": "3.10.13"
    }
  },
  "nbformat": 4,
  "nbformat_minor": 0
}