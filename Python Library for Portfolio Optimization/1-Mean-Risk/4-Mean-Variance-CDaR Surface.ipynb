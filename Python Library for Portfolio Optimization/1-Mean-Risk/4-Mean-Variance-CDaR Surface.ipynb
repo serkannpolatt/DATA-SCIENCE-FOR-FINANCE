{
  "cells": [
    {
      "cell_type": "markdown",
      "metadata": {},
      "source": [
        "\n# Mean-Variance-CDaR Surface\n\nThis tutorial uses the :class:`~skfolio.optimization.MeanRisk` optimization to find an\nensemble of portfolios belonging to the Mean-Variance-CDaR efficient frontier.\n"
      ]
    },
    {
      "cell_type": "markdown",
      "metadata": {},
      "source": [
        "## Data\nWe load the S&P 500 `dataset <datasets>` composed of the daily prices of 20\nassets from the S&P 500 Index composition starting from 2015-01-05 up to 2022-12-28:\n\n"
      ]
    },
    {
      "cell_type": "code",
      "execution_count": null,
      "metadata": {
        "collapsed": false
      },
      "outputs": [],
      "source": [
        "import numpy as np\nfrom plotly.io import show\nfrom sklearn.model_selection import train_test_split\n\nfrom skfolio import PerfMeasure, RatioMeasure, RiskMeasure\nfrom skfolio.datasets import load_sp500_dataset\nfrom skfolio.optimization import MeanRisk, ObjectiveFunction\nfrom skfolio.preprocessing import prices_to_returns\n\nprices = load_sp500_dataset()\nprices = prices[\"2015\":]\n\nX = prices_to_returns(prices)\nX_train, X_test = train_test_split(X, test_size=0.33, shuffle=False)"
      ]
    },
    {
      "cell_type": "markdown",
      "metadata": {},
      "source": [
        "## Model\nFirst, we create a Maximum Sharpe Ratio model that we fit on the training set:\n\n"
      ]
    },
    {
      "cell_type": "code",
      "execution_count": null,
      "metadata": {
        "collapsed": false
      },
      "outputs": [],
      "source": [
        "model = MeanRisk(\n    risk_measure=RiskMeasure.VARIANCE,\n    objective_function=ObjectiveFunction.MAXIMIZE_RATIO,\n)\nportfolio = model.fit_predict(X_train)\nprint(portfolio.cdar)"
      ]
    },
    {
      "cell_type": "markdown",
      "metadata": {},
      "source": [
        "Let's assume that we are not satisfied with the CDaR (Conditional Drawdown at Risk)\nof 17% corresponding to the maximum Sharpe portfolio. We want to analyze alternative\nportfolios that maximize the Sharpe under CDaR constraints.\nTo have an idea of the feasible CDaR constraints, we analyze the Minimum CDaR\nportfolio:\n\n"
      ]
    },
    {
      "cell_type": "code",
      "execution_count": null,
      "metadata": {
        "collapsed": false
      },
      "outputs": [],
      "source": [
        "model = MeanRisk(risk_measure=RiskMeasure.CDAR)\nportfolio = model.fit_predict(X_train)\nprint(portfolio.cdar)"
      ]
    },
    {
      "cell_type": "markdown",
      "metadata": {},
      "source": [
        "The minimum CDaR is 9.72%.\nNow we find the pareto optimal portfolios that maximizes the Sharpe under CDaR\nconstraint ranging from 9.72% to 17%:\n\n"
      ]
    },
    {
      "cell_type": "code",
      "execution_count": null,
      "metadata": {
        "collapsed": false
      },
      "outputs": [],
      "source": [
        "model = MeanRisk(\n    risk_measure=RiskMeasure.VARIANCE,\n    objective_function=ObjectiveFunction.MAXIMIZE_RATIO,\n    max_cdar=np.linspace(start=0.0972, stop=0.17, num=10),\n)\nmodel.fit(X_train)\nprint(model.weights_.shape)"
      ]
    },
    {
      "cell_type": "markdown",
      "metadata": {},
      "source": [
        "## Analysis\nWe predict this model on both the training set and the test set to analyze the\ndeformation of the efficient frontier:\n\n"
      ]
    },
    {
      "cell_type": "code",
      "execution_count": null,
      "metadata": {
        "collapsed": false
      },
      "outputs": [],
      "source": [
        "population_train = model.predict(X_train)\npopulation_test = model.predict(X_test)\n\npopulation_train.set_portfolio_params(tag=\"Train\")\npopulation_test.set_portfolio_params(tag=\"Test\")\n\npopulation = population_train + population_test\n\npopulation.plot_measures(\n    x=RiskMeasure.CDAR,\n    y=RatioMeasure.ANNUALIZED_SHARPE_RATIO,\n    color_scale=RatioMeasure.ANNUALIZED_SHARPE_RATIO,\n    hover_measures=[RiskMeasure.MAX_DRAWDOWN, RatioMeasure.ANNUALIZED_SORTINO_RATIO],\n)"
      ]
    },
    {
      "cell_type": "markdown",
      "metadata": {},
      "source": [
        "## Pareto Optimal Surface\nInstead of analyzing the Sharpe-CDaR efficient frontier, we can analyze the\nmean-Variance-CDaR pareto optimal surface:\n\n"
      ]
    },
    {
      "cell_type": "code",
      "execution_count": null,
      "metadata": {
        "collapsed": false
      },
      "outputs": [],
      "source": [
        "variance_upper = population_train.max_measure(PerfMeasure.MEAN).variance\nx = np.linspace(start=0.00012, stop=variance_upper, num=10)\ny = np.linspace(start=0.10, stop=0.17, num=10)\nx, y = map(np.ravel, np.meshgrid(x, y))\n\nmodel = MeanRisk(\n    objective_function=ObjectiveFunction.MAXIMIZE_RETURN,\n    max_variance=x,\n    max_cdar=y,\n    raise_on_failure=False,\n)\nmodel.fit(X_train)\n\npopulation_train = model.predict(X_train)\n\nfig = population_train.plot_measures(\n    x=RiskMeasure.ANNUALIZED_VARIANCE,\n    y=RiskMeasure.CDAR,\n    z=PerfMeasure.ANNUALIZED_MEAN,\n    to_surface=True,\n)\nfig.update_layout(scene_camera=dict(eye=dict(x=-2, y=-0.5, z=1)))\nshow(fig)"
      ]
    },
    {
      "cell_type": "markdown",
      "metadata": {},
      "source": [
        "|\n\nLet's plot the composition of the portfolios:\n\n"
      ]
    },
    {
      "cell_type": "code",
      "execution_count": null,
      "metadata": {
        "collapsed": false
      },
      "outputs": [],
      "source": [
        "population_train.plot_composition()"
      ]
    },
    {
      "cell_type": "markdown",
      "metadata": {},
      "source": [
        "Let's compare the average and standard-deviation of the Sharpe Ratio and CDaR Ratio of\nthe portfolios on the training set versus the test set:\n\nTrain:\n\n"
      ]
    },
    {
      "cell_type": "code",
      "execution_count": null,
      "metadata": {
        "collapsed": false
      },
      "outputs": [],
      "source": [
        "print(population_train.measures_mean(measure=RatioMeasure.ANNUALIZED_SHARPE_RATIO))\nprint(population_train.measures_std(measure=RatioMeasure.ANNUALIZED_SHARPE_RATIO))"
      ]
    },
    {
      "cell_type": "markdown",
      "metadata": {},
      "source": [
        "Test:\n\n"
      ]
    },
    {
      "cell_type": "code",
      "execution_count": null,
      "metadata": {
        "collapsed": false
      },
      "outputs": [],
      "source": [
        "print(population_test.measures_mean(measure=RatioMeasure.ANNUALIZED_SHARPE_RATIO))\nprint(population_test.measures_std(measure=RatioMeasure.ANNUALIZED_SHARPE_RATIO))"
      ]
    }
  ],
  "metadata": {
    "kernelspec": {
      "display_name": "Python 3",
      "language": "python",
      "name": "python3"
    },
    "language_info": {
      "codemirror_mode": {
        "name": "ipython",
        "version": 3
      },
      "file_extension": ".py",
      "mimetype": "text/x-python",
      "name": "python",
      "nbconvert_exporter": "python",
      "pygments_lexer": "ipython3",
      "version": "3.10.13"
    }
  },
  "nbformat": 4,
  "nbformat_minor": 0
}