{
  "cells": [
    {
      "cell_type": "markdown",
      "metadata": {},
      "source": [
        "\n# Tracking Error\n\nThis tutorial shows how to incorporate a tracking error constraint into the\n:class:`~skfolio.optimization.MeanRisk` optimization.\n\nThe tracking error is defined as the RMSE (root-mean-square error) of the portfolio\nreturns compared to a target returns.\n\nIn this example we will create a long-short portfolio of 20 stocks that tracks the\nSPX Index with a tracking error constraint of 0.30% while minimizing the CVaR\n(Conditional Value at Risk) at 95%.\n"
      ]
    },
    {
      "cell_type": "markdown",
      "metadata": {},
      "source": [
        "## Data\nWe load the S&P 500 `dataset <datasets>` composed of the daily prices of 20\nassets from the S&P 500 Index composition and the prices of the S&P 500 Index itself:\n\n"
      ]
    },
    {
      "cell_type": "code",
      "execution_count": null,
      "metadata": {
        "collapsed": false
      },
      "outputs": [],
      "source": [
        "import numpy as np\nfrom plotly.io import show\nfrom sklearn import clone\nfrom sklearn.model_selection import train_test_split\n\nfrom skfolio import Population, RiskMeasure\nfrom skfolio.datasets import load_sp500_dataset, load_sp500_index\nfrom skfolio.optimization import EqualWeighted, MeanRisk, ObjectiveFunction\nfrom skfolio.preprocessing import prices_to_returns\n\nprices = load_sp500_dataset()\nprices = prices[\"2014\":]\nspx_prices = load_sp500_index()\nspx_prices = spx_prices[\"2014\":]\n\nX, y = prices_to_returns(prices, spx_prices)\nX_train, X_test, y_train, y_test = train_test_split(X, y, test_size=0.33, shuffle=False)"
      ]
    },
    {
      "cell_type": "markdown",
      "metadata": {},
      "source": [
        "## Model\nWe create two long-short models: a Minimum CVaR without tracking error and a\nMinimum CVaR with a 0.30% tracking error constraint versus the SPX Index.\nA 0.30% tracking error constraint is a constraint on the RMSE of the difference\nbetween the daily portfolio returns and the SPX Index returns.\nWe first create the Minimum CVaR model without tracking error:\n\n"
      ]
    },
    {
      "cell_type": "code",
      "execution_count": null,
      "metadata": {
        "collapsed": false
      },
      "outputs": [],
      "source": [
        "model_no_tracking = MeanRisk(\n    objective_function=ObjectiveFunction.MINIMIZE_RISK,\n    risk_measure=RiskMeasure.CVAR,\n    min_weights=-1,\n    portfolio_params=dict(name=\"Minimum-CVaR\", tag=\"No Tracking\"),\n)\nmodel_no_tracking.fit(X_train, y_train)\nmodel_no_tracking.weights_"
      ]
    },
    {
      "cell_type": "markdown",
      "metadata": {},
      "source": [
        "Then we create the Minimum CVaR model with a 0.30% tracking error constraint\nversus the SPX Index:\n\n"
      ]
    },
    {
      "cell_type": "code",
      "execution_count": null,
      "metadata": {
        "collapsed": false
      },
      "outputs": [],
      "source": [
        "model_tracking = clone(model_no_tracking)\nmodel_tracking.set_params(\n    max_tracking_error=0.003,\n    portfolio_params=dict(name=\"Minimum-CVaR\", tag=\"Tracking 0.30%\"),\n)\nmodel_tracking.fit(X_train, y_train)\nmodel_no_tracking.weights_"
      ]
    },
    {
      "cell_type": "markdown",
      "metadata": {},
      "source": [
        "For comparison, we create a single asset Portfolio model containing the SPX Index.\n\n"
      ]
    },
    {
      "cell_type": "code",
      "execution_count": null,
      "metadata": {
        "collapsed": false
      },
      "outputs": [],
      "source": [
        "model_spx = EqualWeighted(portfolio_params=dict(name=\"SPX Index\"))\nmodel_spx.fit(y_train)\nmodel_spx.weights_"
      ]
    },
    {
      "cell_type": "markdown",
      "metadata": {},
      "source": [
        "Now we plot both models and the SPX Index on the training set:\n\n"
      ]
    },
    {
      "cell_type": "code",
      "execution_count": null,
      "metadata": {
        "collapsed": false
      },
      "outputs": [],
      "source": [
        "ptf_no_tracking_train = model_no_tracking.predict(X_train)\nptf_tracking_train = model_tracking.predict(X_train)\nspx_train = model_spx.predict(y_train)\n# Note that we coule have directly used:\n# train_spx = Portfolio(y_train, weights=[1], name=\"SPX Index\")\n\npopulation_train = Population([ptf_no_tracking_train, ptf_tracking_train, spx_train])\n\nfig = population_train.plot_cumulative_returns()\nshow(fig)"
      ]
    },
    {
      "cell_type": "markdown",
      "metadata": {},
      "source": [
        "|\n\nLet's print the tracking error and the CVaR:\n\n"
      ]
    },
    {
      "cell_type": "code",
      "execution_count": null,
      "metadata": {
        "collapsed": false
      },
      "outputs": [],
      "source": [
        "for portfolio in [ptf_no_tracking_train, ptf_tracking_train]:\n    tracking_rmse = np.sqrt(np.mean((portfolio.returns - spx_train.returns) ** 2))\n    print(\"========================\")\n    print(portfolio.tag)\n    print(\"========================\")\n    print(f\"Tracking RMSE: {tracking_rmse:0.2%}\")\n    print(f\"CVaR at 95%: {portfolio.cvar:0.2%}\")\n    print(f\"CVaR ratio: {portfolio.cvar_ratio:0.2f}\")\n    print(\"\\n\")"
      ]
    },
    {
      "cell_type": "markdown",
      "metadata": {},
      "source": [
        "The model with tracking error achieved the required RMSE of 0.30% versus the SPX on\nthe training set. The tradeoff of this constraint is the higher CVaR value versus\nthe model without tracking error.\n\n"
      ]
    },
    {
      "cell_type": "markdown",
      "metadata": {},
      "source": [
        "## Prediction\nFinally, we predict both models on the test set:\n\n"
      ]
    },
    {
      "cell_type": "code",
      "execution_count": null,
      "metadata": {
        "collapsed": false
      },
      "outputs": [],
      "source": [
        "ptf_no_tracking_test = model_no_tracking.predict(X_test)\nptf_tracking_test = model_tracking.predict(X_test)\nspx_test = model_spx.predict(y_test)\n\nfor portfolio in [ptf_no_tracking_test, ptf_tracking_test]:\n    tracking_rmse = np.sqrt(np.mean((portfolio.returns - spx_test.returns) ** 2))\n    print(\"========================\")\n    print(portfolio.tag)\n    print(\"========================\")\n    print(f\"Tracking RMSE: {tracking_rmse:0.2%}\")\n    print(f\"CVaR at 95%: {portfolio.cvar:0.2%}\")\n    print(f\"CVaR ratio: {portfolio.cvar_ratio:0.2f}\")\n    print(\"\\n\")"
      ]
    },
    {
      "cell_type": "markdown",
      "metadata": {},
      "source": [
        "As expected, the model with tracking error also achieved a lower RMSE on the test set\ncompared to the model without tracking error.\n\n"
      ]
    }
  ],
  "metadata": {
    "kernelspec": {
      "display_name": "Python 3",
      "language": "python",
      "name": "python3"
    },
    "language_info": {
      "codemirror_mode": {
        "name": "ipython",
        "version": 3
      },
      "file_extension": ".py",
      "mimetype": "text/x-python",
      "name": "python",
      "nbconvert_exporter": "python",
      "pygments_lexer": "ipython3",
      "version": "3.10.13"
    }
  },
  "nbformat": 4,
  "nbformat_minor": 0
}