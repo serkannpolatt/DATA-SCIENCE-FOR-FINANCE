{
  "cells": [
    {
      "cell_type": "markdown",
      "metadata": {},
      "source": [
        "\n# Management Fees\n\nThis tutorial shows how to incorporate management fees (MF) into the \n:class:`~skfolio.optimization.MeanRisk` optimization.\n\nBy using The `management_fees` parameter, you can add linear MF to the optimization \nproblem:\n\n\\begin{align}total\\_fee = \\sum_{i=1}^{N} f_{i} \\times w_{i}\\end{align}\n\nwith $f_{i}$ the management fee of asset i and $w_{i}$ its weight.\nThe float $total\\_fee$ is impacting the portfolio expected return in the optimization:\n\n\\begin{align}expected\\_return = \\mu^{T} \\cdot w - total\\_fee\\end{align}\n\nwith $\\mu$ the vector af assets expected returns and $w$ the vector of \nassets weights.\n\nThe `management_fees` parameter can be a float, a dictionary or an array-like of\nshape `(n_assets, )`. If a float is provided, it is applied to each asset.\nIf a dictionary is provided, its (key/value) pair must be the (asset name/asset MF) and\nthe input `X` of the `fit` method must be a DataFrame with the assets names in\ncolumns. The default is 0.0 (no management fees).\n\n<div class=\"alert alert-info\"><h4>Note</h4><p>Another approach is to direcly impact the MF to the input `X` in order to express \n    the returns net of fee. However, when estimating the $\\mu$ parameter using,\n    for example, Shrinkage estimators, this approach would mix a deterministic amount\n    with an uncertain one leading to unwanted bias in the management fees.</p></div>\n"
      ]
    },
    {
      "cell_type": "markdown",
      "metadata": {},
      "source": [
        "## Data\nWe load the S&P 500 `dataset <datasets>` composed of the daily prices of 20\nassets from the S&P 500 Index composition starting from 1990-01-02 up to 2022-12-28.\nWe select only 3 assets to make the example more readable, which are Apple (AAPL),\nGeneral Electric (GE) and JPMorgan (JPM).\n\n"
      ]
    },
    {
      "cell_type": "code",
      "execution_count": null,
      "metadata": {
        "collapsed": false
      },
      "outputs": [],
      "source": [
        "import numpy as np\nfrom plotly.io import show\n\nfrom skfolio import Population\nfrom skfolio.datasets import load_sp500_dataset\nfrom skfolio.model_selection import WalkForward, cross_val_predict\nfrom skfolio.optimization import MeanRisk, ObjectiveFunction\nfrom skfolio.preprocessing import prices_to_returns\n\nprices = load_sp500_dataset()\nprices = prices[[\"AAPL\", \"GE\", \"JPM\"]]\n\nX = prices_to_returns(prices)"
      ]
    },
    {
      "cell_type": "markdown",
      "metadata": {},
      "source": [
        "## Model\nIn this tutorial, we will use the Maximum Mean-Variance Utility model with a risk\naversion of 1.0:\n\n"
      ]
    },
    {
      "cell_type": "code",
      "execution_count": null,
      "metadata": {
        "collapsed": false
      },
      "outputs": [],
      "source": [
        "model = MeanRisk(objective_function=ObjectiveFunction.MAXIMIZE_UTILITY)\nmodel.fit(X)\nmodel.weights_"
      ]
    },
    {
      "cell_type": "markdown",
      "metadata": {},
      "source": [
        "## Management Fees\nManagement fees are usually used in assets under management but for this example we\nwill assume that it also applies for the below stocks:\n\n  * Apple: 3% p.a.\n  * General Electric: 6% p.a.\n  * JPMorgan: 1% p.a.\n\nThe MF are expressed in per annum, so we need to convert them in daily MF.\nWe suppose 252 trading days in a year:\n\n"
      ]
    },
    {
      "cell_type": "code",
      "execution_count": null,
      "metadata": {
        "collapsed": false
      },
      "outputs": [],
      "source": [
        "management_fees = {\"AAPL\": 0.03 / 252, \"GE\": 0.06 / 252, \"JPM\": 0.01 / 252}\n# Same as management_fees = np.array([0.03, 0.06, 0.01]) / 252\n\nmodel_mf = MeanRisk(\n    objective_function=ObjectiveFunction.MAXIMIZE_UTILITY,\n    management_fees=management_fees,\n)\nmodel_mf.fit(X)\nmodel_mf.weights_"
      ]
    },
    {
      "cell_type": "markdown",
      "metadata": {},
      "source": [
        "The higher MF of Apple induced a change of weights toward JPMorgan:\n\n"
      ]
    },
    {
      "cell_type": "code",
      "execution_count": null,
      "metadata": {
        "collapsed": false
      },
      "outputs": [],
      "source": [
        "model_mf.weights_ - model.weights_"
      ]
    },
    {
      "cell_type": "markdown",
      "metadata": {},
      "source": [
        "## Multi-period portfolio\nLet's assume that we want to rebalance our portfolio every 60 days by re-fitting the\nmodel on the latest 60 days. We test the impact of MF using Walk Forward Analysis:\n\n"
      ]
    },
    {
      "cell_type": "code",
      "execution_count": null,
      "metadata": {
        "collapsed": false
      },
      "outputs": [],
      "source": [
        "holding_period = 60\nfitting_period = 60\ncv = WalkForward(train_size=fitting_period, test_size=holding_period)"
      ]
    },
    {
      "cell_type": "markdown",
      "metadata": {},
      "source": [
        "As explained above, we transform the yearly MF into a daily MF:\n\n"
      ]
    },
    {
      "cell_type": "code",
      "execution_count": null,
      "metadata": {
        "collapsed": false
      },
      "outputs": [],
      "source": [
        "management_fees = np.array([0.03, 0.06, 0.01]) / 252"
      ]
    },
    {
      "cell_type": "markdown",
      "metadata": {},
      "source": [
        "First, we train the model without MF and test it with MF.\nNote that `portfolio_params` are parameters passed to the Portfolio during `predict`\nand **not** during `fit`:\n\n"
      ]
    },
    {
      "cell_type": "code",
      "execution_count": null,
      "metadata": {
        "collapsed": false
      },
      "outputs": [],
      "source": [
        "model = MeanRisk(\n    objective_function=ObjectiveFunction.MAXIMIZE_UTILITY,\n    portfolio_params=dict(management_fees=management_fees),\n)\n# pred1 is a MultiPeriodPortfolio\npred1 = cross_val_predict(model, X, cv=cv, n_jobs=-1)\npred1.name = \"pred1\""
      ]
    },
    {
      "cell_type": "markdown",
      "metadata": {},
      "source": [
        "Then, we train and test the model with MF:\n\n"
      ]
    },
    {
      "cell_type": "code",
      "execution_count": null,
      "metadata": {
        "collapsed": false
      },
      "outputs": [],
      "source": [
        "model.set_params(management_fees=management_fees)\npred2 = cross_val_predict(model, X, cv=cv, n_jobs=-1)\npred2.name = \"pred2\""
      ]
    },
    {
      "cell_type": "markdown",
      "metadata": {},
      "source": [
        "We visualize the results by plotting the cumulative returns of the successive test\nperiods:\n\n"
      ]
    },
    {
      "cell_type": "code",
      "execution_count": null,
      "metadata": {
        "collapsed": false
      },
      "outputs": [],
      "source": [
        "population = Population([pred1, pred2])\nfig = population.plot_cumulative_returns()\nshow(fig)"
      ]
    },
    {
      "cell_type": "markdown",
      "metadata": {},
      "source": [
        "|\n\nWe notice that the model **fitted with MF** outperform the model **fitted without\nMF**.\n\n"
      ]
    }
  ],
  "metadata": {
    "kernelspec": {
      "display_name": "Python 3",
      "language": "python",
      "name": "python3"
    },
    "language_info": {
      "codemirror_mode": {
        "name": "ipython",
        "version": 3
      },
      "file_extension": ".py",
      "mimetype": "text/x-python",
      "name": "python",
      "nbconvert_exporter": "python",
      "pygments_lexer": "ipython3",
      "version": "3.10.13"
    }
  },
  "nbformat": 4,
  "nbformat_minor": 0
}