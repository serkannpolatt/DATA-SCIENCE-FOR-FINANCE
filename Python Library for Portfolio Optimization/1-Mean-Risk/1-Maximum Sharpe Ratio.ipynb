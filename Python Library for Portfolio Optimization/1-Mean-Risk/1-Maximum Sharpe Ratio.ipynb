{
  "cells": [
    {
      "cell_type": "markdown",
      "metadata": {},
      "source": [
        "\n# Maximum Sharpe Ratio\n\nThis tutorial uses the :class:`~skfolio.optimization.MeanRisk` optimization to find the\nmaximum Sharpe Ratio portfolio.\n"
      ]
    },
    {
      "cell_type": "markdown",
      "metadata": {},
      "source": [
        "## Data\nWe load the S&P 500 `dataset <datasets>` composed of the daily prices of 20\nassets from the S&P 500 Index composition starting from 1990-01-02 up to 2022-12-28.\nPrices are transformed into linear returns (see `data preparation\n<data_preparation>`) and split into a training set and a test set without shuffling to\navoid `data leakage <data_leakage>`.\n\n"
      ]
    },
    {
      "cell_type": "code",
      "execution_count": null,
      "metadata": {
        "collapsed": false
      },
      "outputs": [],
      "source": [
        "import numpy as np\nfrom plotly.io import show\nfrom sklearn.model_selection import train_test_split\n\nfrom skfolio import Population, RiskMeasure\nfrom skfolio.datasets import load_sp500_dataset\nfrom skfolio.optimization import InverseVolatility, MeanRisk, ObjectiveFunction\nfrom skfolio.preprocessing import prices_to_returns\n\nprices = load_sp500_dataset()\n\nX = prices_to_returns(prices)\nX_train, X_test = train_test_split(X, test_size=0.33, shuffle=False)\n\nprint(X_train.head())"
      ]
    },
    {
      "cell_type": "markdown",
      "metadata": {},
      "source": [
        "## Model\nWe create a Maximum Sharpe Ratio model and then fit it on the training set.\n`portfolio_params` are parameters passed to the :class:`~skfolio.portfolio.Portfolio`\nreturned by the `predict` method. It can be\nomitted, here we use it to give a name to our maximum Sharpe Ration portfolio:\n\n"
      ]
    },
    {
      "cell_type": "code",
      "execution_count": null,
      "metadata": {
        "collapsed": false
      },
      "outputs": [],
      "source": [
        "model = MeanRisk(\n    risk_measure=RiskMeasure.VARIANCE,\n    objective_function=ObjectiveFunction.MAXIMIZE_RATIO,\n    portfolio_params=dict(name=\"Max Sharpe\"),\n)\nmodel.fit(X_train)\nmodel.weights_"
      ]
    },
    {
      "cell_type": "markdown",
      "metadata": {},
      "source": [
        "To compare this model, we use an inverse volatility benchmark using\nthe :class:`~skfolio.optimization.InverseVolatility` estimator:\n\n"
      ]
    },
    {
      "cell_type": "code",
      "execution_count": null,
      "metadata": {
        "collapsed": false
      },
      "outputs": [],
      "source": [
        "benchmark = InverseVolatility(portfolio_params=dict(name=\"Inverse Vol\"))\nbenchmark.fit(X_train)\nbenchmark.weights_"
      ]
    },
    {
      "cell_type": "markdown",
      "metadata": {},
      "source": [
        "## Prediction\nWe predict the model and the benchmark on the test set:\n\n"
      ]
    },
    {
      "cell_type": "code",
      "execution_count": null,
      "metadata": {
        "collapsed": false
      },
      "outputs": [],
      "source": [
        "pred_model = model.predict(X_test)\npred_bench = benchmark.predict(X_test)"
      ]
    },
    {
      "cell_type": "markdown",
      "metadata": {},
      "source": [
        "The `predict` method returns a :class:`~skfolio.portfolio.Portfolio` object.\n\n:class:`~skfolio.portfolio.Portfolio` is an array-container making it compatible\nwith `scikit-learn` tools: calling `np.asarray(pred_model)` gives the portfolio\nreturns (same as `pred_model.returns`):\n\n"
      ]
    },
    {
      "cell_type": "code",
      "execution_count": null,
      "metadata": {
        "collapsed": false
      },
      "outputs": [],
      "source": [
        "np.asarray(pred_model)"
      ]
    },
    {
      "cell_type": "markdown",
      "metadata": {},
      "source": [
        "The :class:`~skfolio.portfolio.Portfolio` class contains a vast number of properties\nand methods used for analysis.\n\n| For example:\n\n* pred_model.plot_cumulative_returns()\n* pred_model.plot_composition()\n* pred_model.summary()\n\n"
      ]
    },
    {
      "cell_type": "code",
      "execution_count": null,
      "metadata": {
        "collapsed": false
      },
      "outputs": [],
      "source": [
        "print(pred_model.annualized_sharpe_ratio)\nprint(pred_bench.annualized_sharpe_ratio)"
      ]
    },
    {
      "cell_type": "markdown",
      "metadata": {},
      "source": [
        "## Analysis\nFor improved analysis, we load both predicted portfolios into a\n:class:`~skfolio.population.Population`:\n\n"
      ]
    },
    {
      "cell_type": "code",
      "execution_count": null,
      "metadata": {
        "collapsed": false
      },
      "outputs": [],
      "source": [
        "population = Population([pred_model, pred_bench])"
      ]
    },
    {
      "cell_type": "markdown",
      "metadata": {},
      "source": [
        "The :class:`~skfolio.population.Population` class also contains a\nvast number of properties and methods used for analysis.\nLet's plot each portfolio composition:\n\n"
      ]
    },
    {
      "cell_type": "code",
      "execution_count": null,
      "metadata": {
        "collapsed": false
      },
      "outputs": [],
      "source": [
        "population.plot_composition()"
      ]
    },
    {
      "cell_type": "markdown",
      "metadata": {},
      "source": [
        "<div class=\"alert alert-info\"><h4>Note</h4><p>Every `plot` methods in `skfolio` returns a `plotly` figure.\n      To display a plotly figure, you may need to call `show()` and change the\n      default renderer: https://plotly.com/python/renderers/</p></div>\n\nLet's plot each portfolio cumulative returns:\n\n"
      ]
    },
    {
      "cell_type": "code",
      "execution_count": null,
      "metadata": {
        "collapsed": false
      },
      "outputs": [],
      "source": [
        "fig = population.plot_cumulative_returns()\n# show(fig) is only used for the documentation sticker.\nshow(fig)"
      ]
    },
    {
      "cell_type": "markdown",
      "metadata": {},
      "source": [
        "|\n\nFinally, let's display the full summary of both strategies evaluated on the test\nset:\n\n"
      ]
    },
    {
      "cell_type": "code",
      "execution_count": null,
      "metadata": {
        "collapsed": false
      },
      "outputs": [],
      "source": [
        "population.summary()"
      ]
    },
    {
      "cell_type": "markdown",
      "metadata": {},
      "source": [
        "## Conclusion\nFrom the analysis on the test set, we see that the Maximum Sharpe Ratio portfolio\noutperform the inverse-volatility benchmark for the mean and the ratio\nmeasures including the Sharpe Ratio, and underperforms for the deviation and\nshortfall measures.\n\n.. seealso::\n      This was a toy example, for more advanced concepts check the `user guide\n      <user_guide>` or the `other examples <general_examples>`.\n\n\n"
      ]
    }
  ],
  "metadata": {
    "kernelspec": {
      "display_name": "Python 3",
      "language": "python",
      "name": "python3"
    },
    "language_info": {
      "codemirror_mode": {
        "name": "ipython",
        "version": 3
      },
      "file_extension": ".py",
      "mimetype": "text/x-python",
      "name": "python",
      "nbconvert_exporter": "python",
      "pygments_lexer": "ipython3",
      "version": "3.10.13"
    }
  },
  "nbformat": 4,
  "nbformat_minor": 0
}