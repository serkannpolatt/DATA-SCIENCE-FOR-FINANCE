{
  "cells": [
    {
      "cell_type": "markdown",
      "metadata": {},
      "source": [
        "\n# Transaction Costs\n\nThis tutorial shows how to incorporate transaction costs (TC) into the\n:class:`~skfolio.optimization.MeanRisk` optimization.\n\nTC are fixed costs incurred when buying or selling an asset.\n\nBy using the `transaction_costs` parameter, you can add linear TC to the optimization\nproblem:\n\n\\begin{align}total\\_cost = \\sum_{i=1}^{N} c_{i} \\times |w_{i} - w\\_prev_{i}|\\end{align}\n\nwith $c_{i}$ the TC of asset i, $w_{i}$ its weight and $w\\_prev_{i}$\nits previous weight (defined in `previous_weights`).\nThe float $total\\_cost$ is impacting the portfolio expected return in the\noptimization:\n\n\\begin{align}expected\\_return = \\mu^{T} \\cdot w - total\\_cost\\end{align}\n\nwith $\\mu$ the vector af assets expected returns and $w$ the vector of\nassets weights.\n\nthe `transaction_costs` parameter can be a float, a dictionary or an array-like of\nshape `(n_assets, )`. If a float is provided, it is applied to each asset.\nIf a dictionary is provided, its (key/value) pair must be the (asset name/asset TC) and\nthe input `X` of the `fit` method must be a DataFrame with the assets names in columns.\nThe default is 0.0 (no transaction costs).\n\n<div class=\"alert alert-danger\"><h4>Warning</h4><p>According to the above formula, the periodicity of the transaction costs\n    needs to be homogenous to the periodicity of $\\mu$. For example, if\n    the input `X` is composed of **daily** returns, the `transaction_costs` need\n    to be expressed as **daily** costs.</p></div>\n\nThis means that you need to convert this fixed transaction costs into daily costs. To\nachieve this, you need the notion of expected investment duration. This is crucial since\nthe optimization problem has no notion of investment duration.\n\nFor example, let's assume that asset A has an expected daily return of 0.01%\nwith a TC of 1% and asset B has an expected daily return of 0.005% with no TC.\nLet's assume both assets have the same volatility and a correlation of 1.0.\nIf the investment duration is only one month, we should allocate all the weights to\nasset B. However, if the investment duration is one year, we should allocate all the\nweights to asset A.\n\nExample:\n    * Duration = 1 months (21 business days):\n        * 1 month expected return A \u2248 -0.8%\n        * 1 month expected return B \u2248 0.1%\n    * Duration = 1 year (252 business days):\n        * 1 year expected return A \u2248 1.5%\n        * 1 year expected return B \u2248 1.3%\n\nSo in order to take that duration into account, you should divide the fix TC by the\nexpected investment duration.\n"
      ]
    },
    {
      "cell_type": "markdown",
      "metadata": {},
      "source": [
        "## Data\nWe load the S&P 500 `dataset <datasets>` composed of the daily prices of 20\nassets from the S&P 500 Index composition starting from 1990-01-02 up to 2022-12-28.\nWe select only 3 assets to make the example more readable, which are Apple (AAPL),\nGeneral Electric (GE) and JPMorgan (JPM):\n\n"
      ]
    },
    {
      "cell_type": "code",
      "execution_count": null,
      "metadata": {
        "collapsed": false
      },
      "outputs": [],
      "source": [
        "import numpy as np\nfrom plotly.io import show\n\nfrom skfolio import MultiPeriodPortfolio, Population, Portfolio\nfrom skfolio.datasets import load_sp500_dataset\nfrom skfolio.model_selection import WalkForward, cross_val_predict\nfrom skfolio.optimization import MeanRisk, ObjectiveFunction\nfrom skfolio.preprocessing import prices_to_returns\n\nprices = load_sp500_dataset()\nprices = prices[[\"AAPL\", \"GE\", \"JPM\"]]\n\nX = prices_to_returns(prices)"
      ]
    },
    {
      "cell_type": "markdown",
      "metadata": {},
      "source": [
        "## Model\nIn this tutorial, we will use the Maximum Mean-Variance Utility model with a risk\naversion of 1.0:\n\n"
      ]
    },
    {
      "cell_type": "code",
      "execution_count": null,
      "metadata": {
        "collapsed": false
      },
      "outputs": [],
      "source": [
        "model = MeanRisk(objective_function=ObjectiveFunction.MAXIMIZE_UTILITY)\nmodel.fit(X)\nmodel.weights_"
      ]
    },
    {
      "cell_type": "markdown",
      "metadata": {},
      "source": [
        "## Transaction Cost\nLet's assume we have the below TC:\n  * Apple: 1%\n  * General Electric: 0.50%\n  * JPMorgan: 0.20%\n\nand an investment duration of one month (21 business days):\n\n"
      ]
    },
    {
      "cell_type": "code",
      "execution_count": null,
      "metadata": {
        "collapsed": false
      },
      "outputs": [],
      "source": [
        "transaction_costs = {\"AAPL\": 0.01 / 21, \"GE\": 0.005 / 21, \"JPM\": 0.002 / 21}\n# Same as transaction_costs = np.array([0.01, 0.005, 0.002]) / 21"
      ]
    },
    {
      "cell_type": "markdown",
      "metadata": {},
      "source": [
        "First, we assume that there is no previous position:\n\n"
      ]
    },
    {
      "cell_type": "code",
      "execution_count": null,
      "metadata": {
        "collapsed": false
      },
      "outputs": [],
      "source": [
        "model_tc = MeanRisk(\n    objective_function=ObjectiveFunction.MAXIMIZE_UTILITY,\n    transaction_costs=transaction_costs,\n)\nmodel_tc.fit(X)\nmodel_tc.weights_"
      ]
    },
    {
      "cell_type": "markdown",
      "metadata": {},
      "source": [
        "The higher TC of Apple induced a change of weights toward JPMorgan:\n\n"
      ]
    },
    {
      "cell_type": "code",
      "execution_count": null,
      "metadata": {
        "collapsed": false
      },
      "outputs": [],
      "source": [
        "model_tc.weights_ - model.weights_"
      ]
    },
    {
      "cell_type": "markdown",
      "metadata": {},
      "source": [
        "Now, let's assume that the previous position was equal-weighted:\n\n"
      ]
    },
    {
      "cell_type": "code",
      "execution_count": null,
      "metadata": {
        "collapsed": false
      },
      "outputs": [],
      "source": [
        "model_tc2 = MeanRisk(\n    objective_function=ObjectiveFunction.MAXIMIZE_UTILITY,\n    transaction_costs=transaction_costs,\n    previous_weights=np.ones(3) / 3,\n)\nmodel_tc2.fit(X)\nmodel_tc2.weights_"
      ]
    },
    {
      "cell_type": "markdown",
      "metadata": {},
      "source": [
        "Notice that the weight of General Electric becomes non-negligible due to the cost of\nrebalancing the position:\n\n"
      ]
    },
    {
      "cell_type": "code",
      "execution_count": null,
      "metadata": {
        "collapsed": false
      },
      "outputs": [],
      "source": [
        "model_tc2.weights_ - model.weights_"
      ]
    },
    {
      "cell_type": "markdown",
      "metadata": {},
      "source": [
        "## Multi-period portfolio\nLet's assume that we want to rebalance our portfolio every 60 days by re-fitting the\nmodel on the latest 60 days. We test the impact of TC using Walk Forward Analysis:\n\n"
      ]
    },
    {
      "cell_type": "code",
      "execution_count": null,
      "metadata": {
        "collapsed": false
      },
      "outputs": [],
      "source": [
        "holding_period = 60\nfitting_period = 60\ncv = WalkForward(train_size=fitting_period, test_size=holding_period)"
      ]
    },
    {
      "cell_type": "markdown",
      "metadata": {},
      "source": [
        "As explained above, we transform the fix TC into a daily cost by dividing the TC by\nthe expected investment duration:\n\n"
      ]
    },
    {
      "cell_type": "code",
      "execution_count": null,
      "metadata": {
        "collapsed": false
      },
      "outputs": [],
      "source": [
        "transaction_costs = np.array([0.01, 0.005, 0.002]) / holding_period"
      ]
    },
    {
      "cell_type": "markdown",
      "metadata": {},
      "source": [
        "First, we train and test the model without TC:\n\n"
      ]
    },
    {
      "cell_type": "code",
      "execution_count": null,
      "metadata": {
        "collapsed": false
      },
      "outputs": [],
      "source": [
        "model = MeanRisk(objective_function=ObjectiveFunction.MAXIMIZE_UTILITY)\n# pred1 is a MultiPeriodPortfolio\npred1 = cross_val_predict(model, X, cv=cv, n_jobs=-1)\npred1.name = \"pred1\""
      ]
    },
    {
      "cell_type": "markdown",
      "metadata": {},
      "source": [
        "Then, we train the model without TC and test it with TC. The model trained without TC\nis the same as above so we can retrieve the results and simply update the prediction\nwith the TC:\n\n"
      ]
    },
    {
      "cell_type": "code",
      "execution_count": null,
      "metadata": {
        "collapsed": false
      },
      "outputs": [],
      "source": [
        "pred2 = MultiPeriodPortfolio(name=\"pred2\")\nprevious_weights = None\nfor portfolio in pred1:\n    new_portfolio = Portfolio(\n        X=portfolio.X,\n        weights=portfolio.weights,\n        previous_weights=previous_weights,\n        transaction_costs=transaction_costs,\n    )\n    previous_weights = portfolio.weights\n    pred2.append(new_portfolio)"
      ]
    },
    {
      "cell_type": "markdown",
      "metadata": {},
      "source": [
        "Finally, we train and test the model with TC. Note that we cannot use the\n`cross_val_predict` function anymore because it uses parallelization and cannot handle\nthe `previous_weights` dependency between folds:\n\n"
      ]
    },
    {
      "cell_type": "code",
      "execution_count": null,
      "metadata": {
        "collapsed": false
      },
      "outputs": [],
      "source": [
        "pred3 = MultiPeriodPortfolio(name=\"pred3\")\n\nmodel.set_params(transaction_costs=transaction_costs)\nprevious_weights = None\nfor train, test in cv.split(X):\n    X_train = X.take(train)\n    X_test = X.take(test)\n    model.set_params(previous_weights=previous_weights)\n    model.fit(X_train)\n    portfolio = model.predict(X_test)\n    pred3.append(portfolio)\n    previous_weights = model.weights_"
      ]
    },
    {
      "cell_type": "markdown",
      "metadata": {},
      "source": [
        "We visualize the results by plotting the cumulative returns of the successive test\nperiods:\n\n"
      ]
    },
    {
      "cell_type": "code",
      "execution_count": null,
      "metadata": {
        "collapsed": false
      },
      "outputs": [],
      "source": [
        "population = Population([pred1, pred2, pred3])\nfig = population.plot_cumulative_returns()\nshow(fig)"
      ]
    },
    {
      "cell_type": "markdown",
      "metadata": {},
      "source": [
        "|\n\nIf we exclude the unrealistic prediction without TC, we notice that the model\n**fitted with TC** outperforms the model **fitted without TC**.\n\n"
      ]
    }
  ],
  "metadata": {
    "kernelspec": {
      "display_name": "Python 3",
      "language": "python",
      "name": "python3"
    },
    "language_info": {
      "codemirror_mode": {
        "name": "ipython",
        "version": 3
      },
      "file_extension": ".py",
      "mimetype": "text/x-python",
      "name": "python",
      "nbconvert_exporter": "python",
      "pygments_lexer": "ipython3",
      "version": "3.10.13"
    }
  },
  "nbformat": 4,
  "nbformat_minor": 0
}