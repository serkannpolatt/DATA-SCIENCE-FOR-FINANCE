{
  "cells": [
    {
      "cell_type": "markdown",
      "metadata": {},
      "source": [
        "\n# Efficient Frontier\n\nThis tutorial uses the :class:`~skfolio.optimization.MeanRisk` optimization to find an\nensemble of portfolios belonging to the Mean-Variance efficient frontier (pareto font).\n"
      ]
    },
    {
      "cell_type": "markdown",
      "metadata": {},
      "source": [
        "## Data\nWe load the S&P 500 `dataset <datasets>` composed of the daily prices of 20\nassets from the S&P 500 Index composition starting from 1990-01-02 up to 2022-12-28:\n\n"
      ]
    },
    {
      "cell_type": "code",
      "execution_count": null,
      "metadata": {
        "collapsed": false
      },
      "outputs": [],
      "source": [
        "import numpy as np\nfrom plotly.io import show\nfrom sklearn.model_selection import train_test_split\n\nfrom skfolio import PerfMeasure, RatioMeasure, RiskMeasure\nfrom skfolio.datasets import load_sp500_dataset\nfrom skfolio.optimization import MeanRisk\nfrom skfolio.preprocessing import prices_to_returns\n\nprices = load_sp500_dataset()\n\nX = prices_to_returns(prices)\nX_train, X_test = train_test_split(X, test_size=0.33, shuffle=False)"
      ]
    },
    {
      "cell_type": "markdown",
      "metadata": {},
      "source": [
        "## Model\nWe create the Mean-Variance model and then fit it on the training set.\nThe parameter `efficient_frontier_size=30` is used to find 30 portfolios on the entire\nefficient frontier:\n\n"
      ]
    },
    {
      "cell_type": "code",
      "execution_count": null,
      "metadata": {
        "collapsed": false
      },
      "outputs": [],
      "source": [
        "model = MeanRisk(\n    risk_measure=RiskMeasure.VARIANCE,\n    efficient_frontier_size=30,\n    portfolio_params=dict(name=\"Variance\"),\n)\nmodel.fit(X_train)\nprint(model.weights_.shape)"
      ]
    },
    {
      "cell_type": "markdown",
      "metadata": {},
      "source": [
        "## Prediction\nWe predict this model on both the training set and the test set.\nThe `predict` method returns the :class:`~skfolio.population.Population` of\n30 :class:`~skfolio.portfolio.Portfolio`:\n\n"
      ]
    },
    {
      "cell_type": "code",
      "execution_count": null,
      "metadata": {
        "collapsed": false
      },
      "outputs": [],
      "source": [
        "population_train = model.predict(X_train)\npopulation_test = model.predict(X_test)"
      ]
    },
    {
      "cell_type": "markdown",
      "metadata": {},
      "source": [
        "## Analysis\nFor improved analysis, we add a \"Train\" and \"Test\" tag to the portfolios and\nconcatenate the training and the test populations:\n\n"
      ]
    },
    {
      "cell_type": "code",
      "execution_count": null,
      "metadata": {
        "collapsed": false
      },
      "outputs": [],
      "source": [
        "population_train.set_portfolio_params(tag=\"Train\")\npopulation_test.set_portfolio_params(tag=\"Test\")\n\npopulation = population_train + population_test\n\nfig = population.plot_measures(\n    x=RiskMeasure.ANNUALIZED_VARIANCE,\n    y=PerfMeasure.ANNUALIZED_MEAN,\n    color_scale=RatioMeasure.ANNUALIZED_SHARPE_RATIO,\n    hover_measures=[RiskMeasure.MAX_DRAWDOWN, RatioMeasure.ANNUALIZED_SORTINO_RATIO],\n)\nshow(fig)"
      ]
    },
    {
      "cell_type": "markdown",
      "metadata": {},
      "source": [
        "|\n\nLet's plot the composition of the 30 portfolios:\n\n"
      ]
    },
    {
      "cell_type": "code",
      "execution_count": null,
      "metadata": {
        "collapsed": false
      },
      "outputs": [],
      "source": [
        "population_train.plot_composition()"
      ]
    },
    {
      "cell_type": "markdown",
      "metadata": {},
      "source": [
        "Let's print the Sharpe Ratio of the 30 portfolios on the test set:\n\n"
      ]
    },
    {
      "cell_type": "code",
      "execution_count": null,
      "metadata": {
        "collapsed": false
      },
      "outputs": [],
      "source": [
        "population_test.measures(measure=RatioMeasure.ANNUALIZED_SHARPE_RATIO)"
      ]
    },
    {
      "cell_type": "markdown",
      "metadata": {},
      "source": [
        "Finally, we can show a full summary of the 30 portfolios evaluated on the test set:\n\n"
      ]
    },
    {
      "cell_type": "code",
      "execution_count": null,
      "metadata": {
        "collapsed": false
      },
      "outputs": [],
      "source": [
        "population.summary()"
      ]
    },
    {
      "cell_type": "markdown",
      "metadata": {},
      "source": [
        "Instead of providing `efficient_frontier_size=30`, you can also provide an array of\nlower bounds for the expected returns using `min_return`. In the below example, we\nfind the 5 portfolios that minimize the variance under a minimum return constraint of\n15%, 20%, 25%, 30% and 35% (annualized):\n\n"
      ]
    },
    {
      "cell_type": "code",
      "execution_count": null,
      "metadata": {
        "collapsed": false
      },
      "outputs": [],
      "source": [
        "model = MeanRisk(\n    risk_measure=RiskMeasure.VARIANCE,\n    min_return=np.array([0.15, 0.20, 0.25, 0.30, 0.35]) / 252,\n    portfolio_params=dict(name=\"Variance\"),\n)\n\npopulation = model.fit_predict(X_train)\n\npopulation.plot_measures(\n    x=RiskMeasure.ANNUALIZED_VARIANCE,\n    y=PerfMeasure.ANNUALIZED_MEAN,\n    color_scale=RatioMeasure.ANNUALIZED_SHARPE_RATIO,\n    hover_measures=[RiskMeasure.MAX_DRAWDOWN, RatioMeasure.ANNUALIZED_SORTINO_RATIO],\n)"
      ]
    }
  ],
  "metadata": {
    "kernelspec": {
      "display_name": "Python 3",
      "language": "python",
      "name": "python3"
    },
    "language_info": {
      "codemirror_mode": {
        "name": "ipython",
        "version": 3
      },
      "file_extension": ".py",
      "mimetype": "text/x-python",
      "name": "python",
      "nbconvert_exporter": "python",
      "pygments_lexer": "ipython3",
      "version": "3.10.13"
    }
  },
  "nbformat": 4,
  "nbformat_minor": 0
}