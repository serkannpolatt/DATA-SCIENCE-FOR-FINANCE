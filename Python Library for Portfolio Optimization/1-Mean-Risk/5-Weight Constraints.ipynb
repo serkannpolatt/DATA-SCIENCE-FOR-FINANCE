{
  "cells": [
    {
      "cell_type": "markdown",
      "metadata": {},
      "source": [
        "\n# Weight Constraints\n\nThis tutorial shows how to incorporate weight constraints into the\n:class:`~skfolio.optimization.MeanRisk` optimization.\n\nWe will show how to use the below parameters:\n    * min_weights\n    * max_weights\n    * budget\n    * min_budget\n    * max_budget\n    * max_short\n    * max_long\n    * linear_constraints\n    * groups\n    * left_inequality\n    * right_inequality\n"
      ]
    },
    {
      "cell_type": "markdown",
      "metadata": {},
      "source": [
        "## Data\nWe load the S&P 500 `dataset <datasets>` composed of the daily prices of 20\nassets from the S&P 500 Index composition starting from 1990-01-02 up to 2022-12-28.\nWe select only 3 assets to make the example more readable, which are Apple (AAPL),\nGeneral Electric (GE) and JPMorgan (JPM):\n\n"
      ]
    },
    {
      "cell_type": "code",
      "execution_count": null,
      "metadata": {
        "collapsed": false
      },
      "outputs": [],
      "source": [
        "import numpy as np\nfrom plotly.io import show\n\nfrom skfolio.datasets import load_sp500_dataset\nfrom skfolio.optimization import MeanRisk\nfrom skfolio.preprocessing import prices_to_returns\n\nprices = load_sp500_dataset()\nprices = prices[[\"AAPL\", \"GE\", \"JPM\"]]\n\nX = prices_to_returns(prices)"
      ]
    },
    {
      "cell_type": "markdown",
      "metadata": {},
      "source": [
        "## Model\nIn this tutorial, we will use a Minimum Variance model.\nBy default,  :class:`~skfolio.optimization.MeanRisk` is long only (`min_weights=0`)\nand fully invested (`budget=1`). In other terms, all weights are positive and sum to\none.\n\n"
      ]
    },
    {
      "cell_type": "code",
      "execution_count": null,
      "metadata": {
        "collapsed": false
      },
      "outputs": [],
      "source": [
        "model = MeanRisk()\nmodel.fit(X)\nprint(sum(model.weights_))\nmodel.weights_"
      ]
    },
    {
      "cell_type": "markdown",
      "metadata": {},
      "source": [
        "## Budget\nThe budget is the sum of long positions and short positions (sum of all weights).\nIt can be `None` or a float. `None` means that there are no budget constraints.\nThe default is `1.0` (fully invested).\n\nExamples:\n\n  * budget = 1    \u2013> fully invested portfolio\n  * budget = 0    \u2013> market neutral portfolio\n  * budget = None \u2013> no constraints on the sum of weights\n\n"
      ]
    },
    {
      "cell_type": "code",
      "execution_count": null,
      "metadata": {
        "collapsed": false
      },
      "outputs": [],
      "source": [
        "model = MeanRisk(budget=0.5)\nmodel.fit(X)\nprint(sum(model.weights_))\nmodel.weights_"
      ]
    },
    {
      "cell_type": "markdown",
      "metadata": {},
      "source": [
        "You can also set a constraint on the minimum and maximum budget using `min_budget`\nand `max_budget`, which are the lower and upper bounds of the sum of long and short\npositions (sum of all weights). The default is `None`. If provided, you must set\n`budget=None`.\n\n"
      ]
    },
    {
      "cell_type": "code",
      "execution_count": null,
      "metadata": {
        "collapsed": false
      },
      "outputs": [],
      "source": [
        "model = MeanRisk(budget=None, min_budget=0.3, max_budget=0.5)\nmodel.fit(X)\nprint(sum(model.weights_))\nmodel.weights_"
      ]
    },
    {
      "cell_type": "markdown",
      "metadata": {},
      "source": [
        "## Lower and Upper Bounds on Weights\nThe weights lower and upper bounds are controlled by the parameters `min_weights` and\n`max_weights` respectively.\nYou can provide `None`, a float, an array-like or a dictionary.\n`None` is equivalent to `-np.Inf` (no lower bounds).\nIf a float is provided, it is applied to each asset.\nIf a dictionary is provided, its (key/value) pair must be the (asset name/asset\nweight bound) and the input `X` of the `fit` method must be a DataFrame with the\nassets names in columns.\nThe default values are `min_weights=0.0` (no short selling) and `max_weights=1.0`\n(each asset is below 100%). When using a dictionary, you don't have to provide\nconstraints for all assets. If not provided, the default values (0.0 for min_weights\nand 1.0 for max_weights) will be assigned to the assets not specified in the\ndictionary.\n\n.. note ::\n\n  When incorporating a pre-selection transformer into a Pipeline, using a list for\n  weight constraints is not feasible, as we don't know in advance which assets will\n  be selected by the pre-selection process. This is where the dictionary proves\n  useful.\n\nExample:\n  * min_weights = 0                     \u2013> long only portfolio (no short selling).\n  * min_weights = None                  \u2013> no lower bound (same as -np.Inf).\n  * min_weights = -2                    \u2013> each weight must be above -200%.\n  * min_weights = [0, -2, 0.5]          \u2013> \"AAPL\", \"GE\" and \"JPM\" must be above 0%, -200% and 50% respectively.\n  * min_weights = {\"AAPL\": 0, \"GE\": -2} -> \"AAPL\", \"GE\" and \"JPM\"  must be above 0%, -200% and 0% (default) respectively.\n  * max_weights = 0                     \u2013> no long position (short only portfolio).\n  * max_weights = None                  \u2013> no upper bound (same as +np.Inf).\n  * max_weights = 2                     \u2013> each weight must be below 200%.\n  * max_weights = [1, 2, -0.5]          -> \"AAPL\", \"GE\" and \"JPM\"  must be below 100%, 200% and -50% respectively.\n  * max_weights = {\"AAPL\": 1, \"GE\": 2}  -> \"AAPL\", \"GE\" and \"JPM\"  must be below 100%, 200% and 100% (default).\n\n"
      ]
    },
    {
      "cell_type": "markdown",
      "metadata": {},
      "source": [
        "Let's create a model that allows short positions with a budget of -100%:\n\n"
      ]
    },
    {
      "cell_type": "code",
      "execution_count": null,
      "metadata": {
        "collapsed": false
      },
      "outputs": [],
      "source": [
        "model = MeanRisk(budget=-1, min_weights=-1)\nmodel.fit(X)\nprint(sum(model.weights_))\nmodel.weights_"
      ]
    },
    {
      "cell_type": "markdown",
      "metadata": {},
      "source": [
        "Let's add weight constraints on \"AAPL\", \"GE\" and \"JPM\" to be above 0%, 50% and 10%\nrespectively:\n\n"
      ]
    },
    {
      "cell_type": "code",
      "execution_count": null,
      "metadata": {
        "collapsed": false
      },
      "outputs": [],
      "source": [
        "model = MeanRisk(min_weights=[0, 0.5, 0.1])\nmodel.fit(X)\nprint(sum(model.weights_))\nmodel.weights_"
      ]
    },
    {
      "cell_type": "markdown",
      "metadata": {},
      "source": [
        "Let's plot the composition:\n\n"
      ]
    },
    {
      "cell_type": "code",
      "execution_count": null,
      "metadata": {
        "collapsed": false
      },
      "outputs": [],
      "source": [
        "portfolio = model.predict(X)\nfig = portfolio.plot_composition()\nshow(fig)"
      ]
    },
    {
      "cell_type": "markdown",
      "metadata": {},
      "source": [
        "|\n\nLet's create the same model as above but using partial dictionary:\n\n"
      ]
    },
    {
      "cell_type": "code",
      "execution_count": null,
      "metadata": {
        "collapsed": false
      },
      "outputs": [],
      "source": [
        "model = MeanRisk(min_weights={\"GE\": 0.5, \"JPM\": 0.1})\nmodel.fit(X)\nprint(sum(model.weights_))\nmodel.weights_"
      ]
    },
    {
      "cell_type": "markdown",
      "metadata": {},
      "source": [
        "Let's create a model with a leverage of 3 and every weights below 150%:\n\n"
      ]
    },
    {
      "cell_type": "code",
      "execution_count": null,
      "metadata": {
        "collapsed": false
      },
      "outputs": [],
      "source": [
        "model = MeanRisk(budget=3, max_weights=1.5)\nmodel.fit(X)\nprint(sum(model.weights_))\nmodel.weights_"
      ]
    },
    {
      "cell_type": "markdown",
      "metadata": {},
      "source": [
        "## Short and Long Position Constraints\nConstraints on the upper bound for short and long positions can be set using\n`max_short` and `max_long`. The short position is defined as the sum of negative\nweights (in absolute term) and the long position as the sum of positive weights.\n\n"
      ]
    },
    {
      "cell_type": "markdown",
      "metadata": {},
      "source": [
        "Let's create a fully invested long-short portfolio model with a total short position\nless than 50%:\n\n"
      ]
    },
    {
      "cell_type": "code",
      "execution_count": null,
      "metadata": {
        "collapsed": false
      },
      "outputs": [],
      "source": [
        "model = MeanRisk(min_weights=-1, max_short=0.5)\nmodel.fit(X)\nprint(sum(model.weights_))\nmodel.weights_"
      ]
    },
    {
      "cell_type": "markdown",
      "metadata": {},
      "source": [
        "## Group and Linear Constraints\nWe can assign groups to each asset using the `groups` parameter and set\nconstraints on these groups using the `linear_constraint` parameter.\nThe `groups` parameter can be a 2D array-like or a dictionary. If a dictionary is\nprovided, its (key/value)  pair must be the (asset name/asset groups).\nYou can reference these groups and/or the asset names in `linear_constraint`, which\nis a list if strings following the below patterns:\n\n  * \"2.5 * ref1 + 0.10 * ref2 + 0.0013 <= 2.5 * ref3\"\n  * \"ref1 >= 2.9 * ref2\"\n  * \"ref1 <= ref2\"\n  * \"ref1 >= ref1\"\n\nLet's create a model with groups constraints on \"industry sector\" and\n\"capitalization\":\n\n"
      ]
    },
    {
      "cell_type": "code",
      "execution_count": null,
      "metadata": {
        "collapsed": false
      },
      "outputs": [],
      "source": [
        "groups = {\n    \"AAPL\": [\"Technology\", \"Mega Cap\"],\n    \"GE\": [\"Industrial\", \"Big Cap\"],\n    \"JPM\": [\"Financial\", \"Big Cap\"],\n}\n# You can also provide a 2D array-like:\n# groups = [[\"Technology\", \"Industrial\", \"Financial\"], [\"Mega Cap\", \"Big Cap\", \"Big Cap\"]]\nlinear_constraints = [\n    \"Technology + 1.5 * Industrial <= 2 * Financial\",  # First group\n    \"Mega Cap >= 0.75 * Big Cap\",  # Second group\n    \"Technology >= Big Cap\",  # Mix of first and second groups\n    \"Mega Cap >= 2 * JPM\",  # Mix of groups and assets\n]\n# Note that only the first constraint would be sufficient in that case.\n\nmodel = MeanRisk(groups=groups, linear_constraints=linear_constraints)\nmodel.fit(X)\nmodel.weights_"
      ]
    },
    {
      "cell_type": "markdown",
      "metadata": {},
      "source": [
        "## Left and Right Inequalities\nFinally, you can also directly provide the matrix $A$ and the vector\n$b$ of the linear constraint $A \\cdot w \\leq b$:\n\n"
      ]
    },
    {
      "cell_type": "code",
      "execution_count": null,
      "metadata": {
        "collapsed": false
      },
      "outputs": [],
      "source": [
        "left_inequality = np.array(\n    [[1.0, 1.5, -2.0], [-1.0, 0.75, 0.75], [-1.0, 1.0, 1.0], [-1.0, -0.0, 2.0]]\n)\nright_inequality = np.array([0.0, 0.0, 0.0, 0.0])\n\nmodel = MeanRisk(left_inequality=left_inequality, right_inequality=right_inequality)\nmodel.fit(X)\nmodel.weights_"
      ]
    }
  ],
  "metadata": {
    "kernelspec": {
      "display_name": "Python 3",
      "language": "python",
      "name": "python3"
    },
    "language_info": {
      "codemirror_mode": {
        "name": "ipython",
        "version": 3
      },
      "file_extension": ".py",
      "mimetype": "text/x-python",
      "name": "python",
      "nbconvert_exporter": "python",
      "pygments_lexer": "ipython3",
      "version": "3.10.13"
    }
  },
  "nbformat": 4,
  "nbformat_minor": 0
}