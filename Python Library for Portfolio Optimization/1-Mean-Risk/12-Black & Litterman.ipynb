{
  "cells": [
    {
      "cell_type": "markdown",
      "metadata": {},
      "source": [
        "\n# Black & Litterman\n\nThis tutorial shows how to use the :class:`~skfolio.prior.BlackLitterman` estimator in\nthe :class:`~skfolio.optimization.MeanRisk` optimization.\n\nA `prior estimator <prior>` fits a :class:`~skfolio.prior.PriorModel` containing\nthe distribution estimate of asset returns. It represents the investor's prior beliefs\nabout the model used to estimate such distribution.\n\nThe `PriorModel` is a dataclass containing:\n\n    * `mu`: Expected returns estimation\n    * `covariance`: Covariance matrix estimation\n    * `returns`: assets returns estimation\n    * `cholesky` : Lower-triangular Cholesky factor of the covariance estimation (optional)\n\nThe `BlackLitterman` estimator estimates the `PriorModel` using the Black & Litterman\nmodel. It takes as input a prior estimator used to compute the prior expected returns\nand prior covariance matrix, which are updated using the analyst's views to get the\nposterior expected returns and posterior covariance matrix.\n\nIn this tutorial we will build a Maximum Sharpe Ratio portfolio using the\n`BlackLitterman` estimator.\n"
      ]
    },
    {
      "cell_type": "markdown",
      "metadata": {},
      "source": [
        "## Data\nWe load the S&P 500 `dataset <datasets>` composed of the daily prices of 20\nassets from the SPX Index composition starting from 1990-01-02 up to 2022-12-28:\n\n"
      ]
    },
    {
      "cell_type": "code",
      "execution_count": null,
      "metadata": {
        "collapsed": false
      },
      "outputs": [],
      "source": [
        "from plotly.io import show\nfrom sklearn.model_selection import train_test_split\n\nfrom skfolio import Population, RiskMeasure\nfrom skfolio.datasets import load_sp500_dataset\nfrom skfolio.optimization import MeanRisk, ObjectiveFunction\nfrom skfolio.preprocessing import prices_to_returns\nfrom skfolio.prior import BlackLitterman\n\nprices = load_sp500_dataset()\nX = prices_to_returns(prices)\nX_train, X_test = train_test_split(X, test_size=0.33, shuffle=False)"
      ]
    },
    {
      "cell_type": "markdown",
      "metadata": {},
      "source": [
        "## Analyst views\nLet's assume we are able to accurately estimate views about future realization of the\nmarket. We estimate that Apple will have an expected return of 25% p.a. (absolute\nview) and will outperform General Electric by 22% p.a. (relative view). We also\nestimate that JPMorgan will outperform General Electric by 15% p.a (relative view).\nBy converting these annualized estimates into daily estimates to be homogenous with\nthe input `X`, we get:\n\n"
      ]
    },
    {
      "cell_type": "code",
      "execution_count": null,
      "metadata": {
        "collapsed": false
      },
      "outputs": [],
      "source": [
        "analyst_views = [\n    \"AAPL == 0.00098\",\n    \"AAPL - GE == 0.00086\",\n    \"JPM - GE == 0.00059\",\n]"
      ]
    },
    {
      "cell_type": "markdown",
      "metadata": {},
      "source": [
        "## Black & Litterman Model\nWe create a Maximum Sharpe Ratio model using the Black & Litterman estimator that we\nfit on the training set:\n\n"
      ]
    },
    {
      "cell_type": "code",
      "execution_count": null,
      "metadata": {
        "collapsed": false
      },
      "outputs": [],
      "source": [
        "model_bl = MeanRisk(\n    risk_measure=RiskMeasure.VARIANCE,\n    objective_function=ObjectiveFunction.MAXIMIZE_RATIO,\n    prior_estimator=BlackLitterman(views=analyst_views),\n    portfolio_params=dict(name=\"Black & Litterman\"),\n)\nmodel_bl.fit(X_train)\nmodel_bl.weights_"
      ]
    },
    {
      "cell_type": "markdown",
      "metadata": {},
      "source": [
        "## Empirical Model\nFor comparison, we also create a Maximum Sharpe Ratio model using the default\nEmpirical estimator:\n\n"
      ]
    },
    {
      "cell_type": "code",
      "execution_count": null,
      "metadata": {
        "collapsed": false
      },
      "outputs": [],
      "source": [
        "model_empirical = MeanRisk(\n    risk_measure=RiskMeasure.VARIANCE,\n    objective_function=ObjectiveFunction.MAXIMIZE_RATIO,\n    portfolio_params=dict(name=\"Empirical\"),\n)\nmodel_empirical.fit(X_train)\nmodel_empirical.weights_"
      ]
    },
    {
      "cell_type": "markdown",
      "metadata": {},
      "source": [
        "## Prediction\nWe predict both models on the test set:\n\n"
      ]
    },
    {
      "cell_type": "code",
      "execution_count": null,
      "metadata": {
        "collapsed": false
      },
      "outputs": [],
      "source": [
        "pred_bl = model_bl.predict(X_test)\npred_empirical = model_empirical.predict(X_test)\n\npopulation = Population([pred_bl, pred_empirical])\n\npopulation.plot_cumulative_returns()"
      ]
    },
    {
      "cell_type": "markdown",
      "metadata": {},
      "source": [
        "Because our views were accurate, the Black & Litterman model outperformed the\nEmpirical model on the test set. From the below composition, we can see that Apple\nand JPMorgan were allocated more weights:\n\n"
      ]
    },
    {
      "cell_type": "code",
      "execution_count": null,
      "metadata": {
        "collapsed": false
      },
      "outputs": [],
      "source": [
        "fig = population.plot_composition()\nshow(fig)"
      ]
    }
  ],
  "metadata": {
    "kernelspec": {
      "display_name": "Python 3",
      "language": "python",
      "name": "python3"
    },
    "language_info": {
      "codemirror_mode": {
        "name": "ipython",
        "version": 3
      },
      "file_extension": ".py",
      "mimetype": "text/x-python",
      "name": "python",
      "nbconvert_exporter": "python",
      "pygments_lexer": "ipython3",
      "version": "3.10.13"
    }
  },
  "nbformat": 4,
  "nbformat_minor": 0
}