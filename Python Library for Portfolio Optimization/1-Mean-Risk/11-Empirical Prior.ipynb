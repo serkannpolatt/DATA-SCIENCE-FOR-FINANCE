{
  "cells": [
    {
      "cell_type": "markdown",
      "metadata": {},
      "source": [
        "\n# Empirical Prior\n\nThis tutorial shows how to use the :class:`~skfolio.prior.EmpiricalPrior` estimator in\nthe :class:`~skfolio.optimization.MeanRisk` optimization.\n\nA `prior estimator <prior>` fits a :class:`~skfolio.prior.PriorModel` containing\nthe distribution estimate of asset returns. It represents the investor's prior beliefs\nabout the model used to estimate such distribution.\n\nThe `PriorModel` is a dataclass containing:\n\n    * `mu`: Expected returns estimation\n    * `covariance`: Covariance matrix estimation\n    * `returns`: assets returns estimation\n    * `cholesky` : Lower-triangular Cholesky factor of the covariance estimation (optional)\n\nThe `EmpiricalPrior` estimator simply estimates the `PriorModel` from a `mu_estimator`\nand a `covariance_estimator`.\n\nIn this tutorial we will build a Maximum Sharpe Ratio portfolio using the\n`EmpiricalPrior` estimator with James-Stein shrinkage for the estimation of expected\nreturns and Denoising for the estimation of the covariance matrix.\n"
      ]
    },
    {
      "cell_type": "markdown",
      "metadata": {},
      "source": [
        "## Data\nWe load the S&P 500 `dataset <datasets>` composed of the daily prices of 20\nassets from the SPX Index composition starting from 1990-01-02 up to 2022-12-28:\n\n"
      ]
    },
    {
      "cell_type": "code",
      "execution_count": null,
      "metadata": {
        "collapsed": false
      },
      "outputs": [],
      "source": [
        "from plotly.io import show\nfrom sklearn.model_selection import train_test_split\n\nfrom skfolio import Population, RiskMeasure\nfrom skfolio.datasets import load_sp500_dataset\nfrom skfolio.moments import DenoiseCovariance, ShrunkMu\nfrom skfolio.optimization import MeanRisk, ObjectiveFunction\nfrom skfolio.preprocessing import prices_to_returns\nfrom skfolio.prior import EmpiricalPrior\n\nprices = load_sp500_dataset()\nX = prices_to_returns(prices)\nX_train, X_test = train_test_split(X, test_size=0.33, shuffle=False)"
      ]
    },
    {
      "cell_type": "markdown",
      "metadata": {},
      "source": [
        "## Model\nWe create a Maximum Sharpe Ratio model with shrinkage for the estimation of the\nexpected returns and denoising for the estimation of the covariance matrix:\n\n"
      ]
    },
    {
      "cell_type": "code",
      "execution_count": null,
      "metadata": {
        "collapsed": false
      },
      "outputs": [],
      "source": [
        "model = MeanRisk(\n    risk_measure=RiskMeasure.VARIANCE,\n    objective_function=ObjectiveFunction.MAXIMIZE_RATIO,\n    prior_estimator=EmpiricalPrior(\n        mu_estimator=ShrunkMu(), covariance_estimator=DenoiseCovariance()\n    ),\n    portfolio_params=dict(name=\"Max Sharpe - ShrunkMu & DenoiseCovariance\"),\n)\nmodel.fit(X_train)\nmodel.weights_"
      ]
    },
    {
      "cell_type": "markdown",
      "metadata": {},
      "source": [
        "## Benchmark\nFor comparison, we also create a Maximum Sharpe Ratio model using the default\nmoments estimators:\n\n"
      ]
    },
    {
      "cell_type": "code",
      "execution_count": null,
      "metadata": {
        "collapsed": false
      },
      "outputs": [],
      "source": [
        "bench = MeanRisk(\n    risk_measure=RiskMeasure.VARIANCE,\n    objective_function=ObjectiveFunction.MAXIMIZE_RATIO,\n    portfolio_params=dict(name=\"Max Sharpe\"),\n)\nbench.fit(X_train)\nbench.weights_"
      ]
    },
    {
      "cell_type": "markdown",
      "metadata": {},
      "source": [
        "## Prediction\nWe predict both models on the test set:\n\n"
      ]
    },
    {
      "cell_type": "code",
      "execution_count": null,
      "metadata": {
        "collapsed": false
      },
      "outputs": [],
      "source": [
        "pred_model = model.predict(X_test)\npred_bench = bench.predict(X_test)\n\npopulation = Population([pred_model, pred_bench])\n\nfig = population.plot_cumulative_returns()\nshow(fig)"
      ]
    }
  ],
  "metadata": {
    "kernelspec": {
      "display_name": "Python 3",
      "language": "python",
      "name": "python3"
    },
    "language_info": {
      "codemirror_mode": {
        "name": "ipython",
        "version": 3
      },
      "file_extension": ".py",
      "mimetype": "text/x-python",
      "name": "python",
      "nbconvert_exporter": "python",
      "pygments_lexer": "ipython3",
      "version": "3.10.13"
    }
  },
  "nbformat": 4,
  "nbformat_minor": 0
}