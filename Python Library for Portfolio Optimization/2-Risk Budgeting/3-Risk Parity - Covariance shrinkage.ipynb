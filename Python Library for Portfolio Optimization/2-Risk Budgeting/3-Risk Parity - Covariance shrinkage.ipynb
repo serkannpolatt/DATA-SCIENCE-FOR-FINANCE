{
  "cells": [
    {
      "cell_type": "markdown",
      "metadata": {},
      "source": [
        "\n# Risk Parity - Covariance shrinkage\n\nThis tutorial shows how to incorporate covariance shrinkage in the\n:class:`~skfolio.optimization.RiskBudgeting` optimization.\n"
      ]
    },
    {
      "cell_type": "markdown",
      "metadata": {},
      "source": [
        "## Data\nWe load the S&P 500 `dataset <datasets>` composed of the daily prices of 20\nassets from the S&P 500 Index composition starting from 1990-01-02 up to 2022-12-28:\n\n"
      ]
    },
    {
      "cell_type": "code",
      "execution_count": null,
      "metadata": {
        "collapsed": false
      },
      "outputs": [],
      "source": [
        "from plotly.io import show\nfrom sklearn.model_selection import train_test_split\n\nfrom skfolio import Population, RiskMeasure\nfrom skfolio.datasets import load_sp500_dataset\nfrom skfolio.moments import ShrunkCovariance\nfrom skfolio.optimization import RiskBudgeting\nfrom skfolio.preprocessing import prices_to_returns\nfrom skfolio.prior import EmpiricalPrior\n\nprices = load_sp500_dataset()\n\nX = prices_to_returns(prices)\nX_train, X_test = train_test_split(X, test_size=0.33, shuffle=False)"
      ]
    },
    {
      "cell_type": "markdown",
      "metadata": {},
      "source": [
        "## Model\nWe create a risk parity model by using :class:`~skfolio.moments.ShrunkCovariance` as\nthe covariance estimator then fit it on the training set:\n\n"
      ]
    },
    {
      "cell_type": "code",
      "execution_count": null,
      "metadata": {
        "collapsed": false
      },
      "outputs": [],
      "source": [
        "model = RiskBudgeting(\n    risk_measure=RiskMeasure.VARIANCE,\n    prior_estimator=EmpiricalPrior(\n        covariance_estimator=ShrunkCovariance(shrinkage=0.9)\n    ),\n    portfolio_params=dict(name=\"Risk Parity - Covariance Shrinkage\"),\n)\nmodel.fit(X_train)\nmodel.weights_"
      ]
    },
    {
      "cell_type": "markdown",
      "metadata": {},
      "source": [
        "To compare this model, we use a basic risk parity without covariance shrinkage:\n\n"
      ]
    },
    {
      "cell_type": "code",
      "execution_count": null,
      "metadata": {
        "collapsed": false
      },
      "outputs": [],
      "source": [
        "bench = RiskBudgeting(\n    risk_measure=RiskMeasure.VARIANCE,\n    portfolio_params=dict(name=\"Risk Parity - Basic\"),\n)\nbench.fit(X_train)\nbench.weights_"
      ]
    },
    {
      "cell_type": "markdown",
      "metadata": {},
      "source": [
        "## Prediction\nWe predict the model and the benchmark on the test set:\n\n"
      ]
    },
    {
      "cell_type": "code",
      "execution_count": null,
      "metadata": {
        "collapsed": false
      },
      "outputs": [],
      "source": [
        "ptf_model_test = model.predict(X_test)\nptf_bench_test = bench.predict(X_test)"
      ]
    },
    {
      "cell_type": "markdown",
      "metadata": {},
      "source": [
        "## Analysis\nFor improved analysis, it's possible to load both predicted portfolios into a\n:class:`~skfolio.population.Population`:\n\n"
      ]
    },
    {
      "cell_type": "code",
      "execution_count": null,
      "metadata": {
        "collapsed": false
      },
      "outputs": [],
      "source": [
        "population = Population([ptf_model_test, ptf_bench_test])"
      ]
    },
    {
      "cell_type": "markdown",
      "metadata": {},
      "source": [
        "Let's plot each portfolio cumulative returns:\n\n"
      ]
    },
    {
      "cell_type": "code",
      "execution_count": null,
      "metadata": {
        "collapsed": false
      },
      "outputs": [],
      "source": [
        "fig = population.plot_cumulative_returns()\nshow(fig)"
      ]
    },
    {
      "cell_type": "markdown",
      "metadata": {},
      "source": [
        "|\n\nFinally, we print a full summary of both strategies evaluated on the test set:\n\n"
      ]
    },
    {
      "cell_type": "code",
      "execution_count": null,
      "metadata": {
        "collapsed": false
      },
      "outputs": [],
      "source": [
        "population.summary()"
      ]
    }
  ],
  "metadata": {
    "kernelspec": {
      "display_name": "Python 3",
      "language": "python",
      "name": "python3"
    },
    "language_info": {
      "codemirror_mode": {
        "name": "ipython",
        "version": 3
      },
      "file_extension": ".py",
      "mimetype": "text/x-python",
      "name": "python",
      "nbconvert_exporter": "python",
      "pygments_lexer": "ipython3",
      "version": "3.10.13"
    }
  },
  "nbformat": 4,
  "nbformat_minor": 0
}