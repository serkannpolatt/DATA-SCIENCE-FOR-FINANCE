{
  "cells": [
    {
      "cell_type": "markdown",
      "metadata": {},
      "source": [
        "\n# Distributionally Robust CVaR\n\nThis tutorial introduces the :class:`~skfolio.optimization.DistributionallyRobustCVaR`\nmodel.\n\nThe Distributionally Robust CVaR model constructs a Wasserstein ball in the space of\nmultivariate and non-discrete probability distributions centered at the uniform\ndistribution on the training samples, and find the allocation that minimize the CVaR of\nthe worst-case distribution within this Wasserstein ball.\n\nMohajerin Esfahani and Kuhn (2018) proved that for piecewise linear objective functions,\nwhich is the case of CVaR (Rockafellar and Uryasev), the distributionally robust\noptimization problem over Wasserstein ball can be reformulated as finite convex\nprograms.\n\nIt's advised to use a solver that handles a high number of constraints like `Mosek`.\nFor accessibility, this example uses the default open source solver `CLARABEL`, so to\nincrease convergence speed, we only use 3 years of data.\n\nThe radius of the Wasserstein ball is controlled with the `wasserstein_ball_radius`\nparameter. Increasing the radius will increase the uncertainty about the\ndistribution, bringing the weights closer to the equal weighted portfolio.\n"
      ]
    },
    {
      "cell_type": "markdown",
      "metadata": {},
      "source": [
        "## Data\nWe load the S&P 500 `dataset <datasets>` composed of the daily prices of 20\nassets from the S&P 500 Index composition starting from 2020-01-02 up to 2022-12-28:\n\n"
      ]
    },
    {
      "cell_type": "code",
      "execution_count": null,
      "metadata": {
        "collapsed": false
      },
      "outputs": [],
      "source": [
        "from plotly.io import show\nfrom sklearn.model_selection import train_test_split\n\nfrom skfolio import Population\nfrom skfolio.datasets import load_sp500_dataset\nfrom skfolio.optimization import DistributionallyRobustCVaR, EqualWeighted\nfrom skfolio.preprocessing import prices_to_returns\n\nprices = load_sp500_dataset()\nprices = prices[\"2020\":]\n\nX = prices_to_returns(prices)\nX_train, X_test = train_test_split(X, test_size=0.5, shuffle=False)"
      ]
    },
    {
      "cell_type": "markdown",
      "metadata": {},
      "source": [
        "## Model\nWe create four distributionally robust CVaR models with different radius then fit them\non the training set:\n\n"
      ]
    },
    {
      "cell_type": "code",
      "execution_count": null,
      "metadata": {
        "collapsed": false
      },
      "outputs": [],
      "source": [
        "model1 = DistributionallyRobustCVaR(\n    wasserstein_ball_radius=0.1,\n    portfolio_params=dict(name=\"Distributionally Robust CVaR - 0.1\"),\n)\nmodel1.fit(X_train)\n\nmodel2 = DistributionallyRobustCVaR(\n    wasserstein_ball_radius=0.01,\n    portfolio_params=dict(name=\"Distributionally Robust CVaR - 0.01\"),\n)\nmodel2.fit(X_train)\n\nmodel3 = DistributionallyRobustCVaR(\n    wasserstein_ball_radius=0.001,\n    portfolio_params=dict(name=\"Distributionally Robust CVaR - 0.001\"),\n)\nmodel3.fit(X_train)\n\nmodel4 = DistributionallyRobustCVaR(\n    wasserstein_ball_radius=0.0001,\n    portfolio_params=dict(name=\"Distributionally Robust CVaR - 0.0001\"),\n)\nmodel4.fit(X_train)\nmodel4.weights_"
      ]
    },
    {
      "cell_type": "markdown",
      "metadata": {},
      "source": [
        "To compare the models, we use an equal weighted benchmark using\nthe :class:`~skfolio.optimization.EqualWeighted` estimator:\n\n"
      ]
    },
    {
      "cell_type": "code",
      "execution_count": null,
      "metadata": {
        "collapsed": false
      },
      "outputs": [],
      "source": [
        "bench = EqualWeighted()\nbench.fit(X_train)\nbench.weights_"
      ]
    },
    {
      "cell_type": "markdown",
      "metadata": {},
      "source": [
        "## Prediction\nWe predict the models and the benchmark on the test set:\n\n"
      ]
    },
    {
      "cell_type": "code",
      "execution_count": null,
      "metadata": {
        "collapsed": false
      },
      "outputs": [],
      "source": [
        "ptf_model1_test = model1.predict(X_test)\nptf_model2_test = model2.predict(X_test)\nptf_model3_test = model3.predict(X_test)\nptf_model4_test = model4.predict(X_test)\nptf_bench_test = bench.predict(X_test)"
      ]
    },
    {
      "cell_type": "markdown",
      "metadata": {},
      "source": [
        "## Analysis\nWe load all predicted portfolios into a :class:`~skfolio.population.Population` and\nplot their compositions:\n\n"
      ]
    },
    {
      "cell_type": "code",
      "execution_count": null,
      "metadata": {
        "collapsed": false
      },
      "outputs": [],
      "source": [
        "population = Population(\n    [ptf_model1_test, ptf_model2_test, ptf_model3_test, ptf_model4_test, ptf_bench_test]\n)\npopulation.plot_composition()"
      ]
    },
    {
      "cell_type": "markdown",
      "metadata": {},
      "source": [
        "We can see that by increasing the radius of the Wasserstein ball, the weights get\ncloser to the equal weighted portfolio.\n\nLet's plot the portfolios cumulative returns:\n\n"
      ]
    },
    {
      "cell_type": "code",
      "execution_count": null,
      "metadata": {
        "collapsed": false
      },
      "outputs": [],
      "source": [
        "fig = population.plot_cumulative_returns()\nshow(fig)"
      ]
    }
  ],
  "metadata": {
    "kernelspec": {
      "display_name": "Python 3",
      "language": "python",
      "name": "python3"
    },
    "language_info": {
      "codemirror_mode": {
        "name": "ipython",
        "version": 3
      },
      "file_extension": ".py",
      "mimetype": "text/x-python",
      "name": "python",
      "nbconvert_exporter": "python",
      "pygments_lexer": "ipython3",
      "version": "3.10.13"
    }
  },
  "nbformat": 4,
  "nbformat_minor": 0
}