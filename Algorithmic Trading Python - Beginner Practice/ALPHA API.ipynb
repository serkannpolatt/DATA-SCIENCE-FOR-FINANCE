{
 "cells": [
  {
   "cell_type": "markdown",
   "id": "5b906f33",
   "metadata": {},
   "source": [
    "## API \n",
    "### eg alpha vantage"
   ]
  },
  {
   "cell_type": "code",
   "execution_count": 1,
   "id": "302dba5e",
   "metadata": {},
   "outputs": [],
   "source": [
    "from alpha_vantage.timeseries import TimeSeries"
   ]
  },
  {
   "cell_type": "code",
   "execution_count": 2,
   "id": "eaa59075",
   "metadata": {},
   "outputs": [],
   "source": [
    "API_key=\"H456ZLCOCHH7CH10\""
   ]
  },
  {
   "cell_type": "code",
   "execution_count": 3,
   "id": "2054439d",
   "metadata": {},
   "outputs": [],
   "source": [
    "ts=TimeSeries(key=API_key,output_format='pandas')"
   ]
  },
  {
   "cell_type": "code",
   "execution_count": 4,
   "id": "a0c9e142",
   "metadata": {},
   "outputs": [],
   "source": [
    "data=ts.get_daily('AAPL')"
   ]
  },
  {
   "cell_type": "code",
   "execution_count": 5,
   "id": "4fe71297",
   "metadata": {},
   "outputs": [
    {
     "data": {
      "text/plain": [
       "(            1. open  2. high    3. low  4. close    5. volume\n",
       " date                                                         \n",
       " 2023-10-23  170.910  174.010  169.9300    173.00   55980109.0\n",
       " 2023-10-20  175.310  175.420  172.6400    172.88   64244028.0\n",
       " 2023-10-19  176.040  177.840  175.1900    175.46   59302863.0\n",
       " 2023-10-18  175.580  177.575  175.1100    175.84   54764375.0\n",
       " 2023-10-17  176.645  178.420  174.8000    177.15   57549350.0\n",
       " ...             ...      ...       ...       ...          ...\n",
       " 2023-06-07  178.440  181.210  177.3200    177.82   61944615.0\n",
       " 2023-06-06  179.965  180.120  177.4300    179.21   64848374.0\n",
       " 2023-06-05  182.630  184.951  178.0350    179.58  121946497.0\n",
       " 2023-06-02  181.030  181.780  179.2600    180.95   61996913.0\n",
       " 2023-06-01  177.700  180.120  176.9306    180.09   68901809.0\n",
       " \n",
       " [100 rows x 5 columns],\n",
       " {'1. Information': 'Daily Prices (open, high, low, close) and Volumes',\n",
       "  '2. Symbol': 'AAPL',\n",
       "  '3. Last Refreshed': '2023-10-23',\n",
       "  '4. Output Size': 'Compact',\n",
       "  '5. Time Zone': 'US/Eastern'})"
      ]
     },
     "execution_count": 5,
     "metadata": {},
     "output_type": "execute_result"
    }
   ],
   "source": [
    "data"
   ]
  },
  {
   "cell_type": "code",
   "execution_count": 6,
   "id": "4d811c71",
   "metadata": {},
   "outputs": [
    {
     "data": {
      "text/html": [
       "<div>\n",
       "<style scoped>\n",
       "    .dataframe tbody tr th:only-of-type {\n",
       "        vertical-align: middle;\n",
       "    }\n",
       "\n",
       "    .dataframe tbody tr th {\n",
       "        vertical-align: top;\n",
       "    }\n",
       "\n",
       "    .dataframe thead th {\n",
       "        text-align: right;\n",
       "    }\n",
       "</style>\n",
       "<table border=\"1\" class=\"dataframe\">\n",
       "  <thead>\n",
       "    <tr style=\"text-align: right;\">\n",
       "      <th></th>\n",
       "      <th>1. open</th>\n",
       "      <th>2. high</th>\n",
       "      <th>3. low</th>\n",
       "      <th>4. close</th>\n",
       "      <th>5. volume</th>\n",
       "    </tr>\n",
       "    <tr>\n",
       "      <th>date</th>\n",
       "      <th></th>\n",
       "      <th></th>\n",
       "      <th></th>\n",
       "      <th></th>\n",
       "      <th></th>\n",
       "    </tr>\n",
       "  </thead>\n",
       "  <tbody>\n",
       "    <tr>\n",
       "      <th>2023-10-23</th>\n",
       "      <td>170.910</td>\n",
       "      <td>174.010</td>\n",
       "      <td>169.9300</td>\n",
       "      <td>173.00</td>\n",
       "      <td>55980109.0</td>\n",
       "    </tr>\n",
       "    <tr>\n",
       "      <th>2023-10-20</th>\n",
       "      <td>175.310</td>\n",
       "      <td>175.420</td>\n",
       "      <td>172.6400</td>\n",
       "      <td>172.88</td>\n",
       "      <td>64244028.0</td>\n",
       "    </tr>\n",
       "    <tr>\n",
       "      <th>2023-10-19</th>\n",
       "      <td>176.040</td>\n",
       "      <td>177.840</td>\n",
       "      <td>175.1900</td>\n",
       "      <td>175.46</td>\n",
       "      <td>59302863.0</td>\n",
       "    </tr>\n",
       "    <tr>\n",
       "      <th>2023-10-18</th>\n",
       "      <td>175.580</td>\n",
       "      <td>177.575</td>\n",
       "      <td>175.1100</td>\n",
       "      <td>175.84</td>\n",
       "      <td>54764375.0</td>\n",
       "    </tr>\n",
       "    <tr>\n",
       "      <th>2023-10-17</th>\n",
       "      <td>176.645</td>\n",
       "      <td>178.420</td>\n",
       "      <td>174.8000</td>\n",
       "      <td>177.15</td>\n",
       "      <td>57549350.0</td>\n",
       "    </tr>\n",
       "    <tr>\n",
       "      <th>...</th>\n",
       "      <td>...</td>\n",
       "      <td>...</td>\n",
       "      <td>...</td>\n",
       "      <td>...</td>\n",
       "      <td>...</td>\n",
       "    </tr>\n",
       "    <tr>\n",
       "      <th>2023-06-07</th>\n",
       "      <td>178.440</td>\n",
       "      <td>181.210</td>\n",
       "      <td>177.3200</td>\n",
       "      <td>177.82</td>\n",
       "      <td>61944615.0</td>\n",
       "    </tr>\n",
       "    <tr>\n",
       "      <th>2023-06-06</th>\n",
       "      <td>179.965</td>\n",
       "      <td>180.120</td>\n",
       "      <td>177.4300</td>\n",
       "      <td>179.21</td>\n",
       "      <td>64848374.0</td>\n",
       "    </tr>\n",
       "    <tr>\n",
       "      <th>2023-06-05</th>\n",
       "      <td>182.630</td>\n",
       "      <td>184.951</td>\n",
       "      <td>178.0350</td>\n",
       "      <td>179.58</td>\n",
       "      <td>121946497.0</td>\n",
       "    </tr>\n",
       "    <tr>\n",
       "      <th>2023-06-02</th>\n",
       "      <td>181.030</td>\n",
       "      <td>181.780</td>\n",
       "      <td>179.2600</td>\n",
       "      <td>180.95</td>\n",
       "      <td>61996913.0</td>\n",
       "    </tr>\n",
       "    <tr>\n",
       "      <th>2023-06-01</th>\n",
       "      <td>177.700</td>\n",
       "      <td>180.120</td>\n",
       "      <td>176.9306</td>\n",
       "      <td>180.09</td>\n",
       "      <td>68901809.0</td>\n",
       "    </tr>\n",
       "  </tbody>\n",
       "</table>\n",
       "<p>100 rows × 5 columns</p>\n",
       "</div>"
      ],
      "text/plain": [
       "            1. open  2. high    3. low  4. close    5. volume\n",
       "date                                                         \n",
       "2023-10-23  170.910  174.010  169.9300    173.00   55980109.0\n",
       "2023-10-20  175.310  175.420  172.6400    172.88   64244028.0\n",
       "2023-10-19  176.040  177.840  175.1900    175.46   59302863.0\n",
       "2023-10-18  175.580  177.575  175.1100    175.84   54764375.0\n",
       "2023-10-17  176.645  178.420  174.8000    177.15   57549350.0\n",
       "...             ...      ...       ...       ...          ...\n",
       "2023-06-07  178.440  181.210  177.3200    177.82   61944615.0\n",
       "2023-06-06  179.965  180.120  177.4300    179.21   64848374.0\n",
       "2023-06-05  182.630  184.951  178.0350    179.58  121946497.0\n",
       "2023-06-02  181.030  181.780  179.2600    180.95   61996913.0\n",
       "2023-06-01  177.700  180.120  176.9306    180.09   68901809.0\n",
       "\n",
       "[100 rows x 5 columns]"
      ]
     },
     "execution_count": 6,
     "metadata": {},
     "output_type": "execute_result"
    }
   ],
   "source": [
    "data[0]"
   ]
  },
  {
   "cell_type": "code",
   "execution_count": 7,
   "id": "c52d8653",
   "metadata": {},
   "outputs": [],
   "source": [
    "data2=data[0]"
   ]
  },
  {
   "cell_type": "code",
   "execution_count": 8,
   "id": "a8cfc04c",
   "metadata": {},
   "outputs": [
    {
     "data": {
      "text/plain": [
       "Index(['1. open', '2. high', '3. low', '4. close', '5. volume'], dtype='object')"
      ]
     },
     "execution_count": 8,
     "metadata": {},
     "output_type": "execute_result"
    }
   ],
   "source": [
    "data2.columns"
   ]
  },
  {
   "cell_type": "code",
   "execution_count": 9,
   "id": "fdc93f46",
   "metadata": {},
   "outputs": [
    {
     "data": {
      "text/html": [
       "<div>\n",
       "<style scoped>\n",
       "    .dataframe tbody tr th:only-of-type {\n",
       "        vertical-align: middle;\n",
       "    }\n",
       "\n",
       "    .dataframe tbody tr th {\n",
       "        vertical-align: top;\n",
       "    }\n",
       "\n",
       "    .dataframe thead th {\n",
       "        text-align: right;\n",
       "    }\n",
       "</style>\n",
       "<table border=\"1\" class=\"dataframe\">\n",
       "  <thead>\n",
       "    <tr style=\"text-align: right;\">\n",
       "      <th></th>\n",
       "      <th>4. close</th>\n",
       "    </tr>\n",
       "    <tr>\n",
       "      <th>date</th>\n",
       "      <th></th>\n",
       "    </tr>\n",
       "  </thead>\n",
       "  <tbody>\n",
       "    <tr>\n",
       "      <th>2023-10-23</th>\n",
       "      <td>173.00</td>\n",
       "    </tr>\n",
       "    <tr>\n",
       "      <th>2023-10-20</th>\n",
       "      <td>172.88</td>\n",
       "    </tr>\n",
       "    <tr>\n",
       "      <th>2023-10-19</th>\n",
       "      <td>175.46</td>\n",
       "    </tr>\n",
       "    <tr>\n",
       "      <th>2023-10-18</th>\n",
       "      <td>175.84</td>\n",
       "    </tr>\n",
       "    <tr>\n",
       "      <th>2023-10-17</th>\n",
       "      <td>177.15</td>\n",
       "    </tr>\n",
       "    <tr>\n",
       "      <th>...</th>\n",
       "      <td>...</td>\n",
       "    </tr>\n",
       "    <tr>\n",
       "      <th>2023-06-07</th>\n",
       "      <td>177.82</td>\n",
       "    </tr>\n",
       "    <tr>\n",
       "      <th>2023-06-06</th>\n",
       "      <td>179.21</td>\n",
       "    </tr>\n",
       "    <tr>\n",
       "      <th>2023-06-05</th>\n",
       "      <td>179.58</td>\n",
       "    </tr>\n",
       "    <tr>\n",
       "      <th>2023-06-02</th>\n",
       "      <td>180.95</td>\n",
       "    </tr>\n",
       "    <tr>\n",
       "      <th>2023-06-01</th>\n",
       "      <td>180.09</td>\n",
       "    </tr>\n",
       "  </tbody>\n",
       "</table>\n",
       "<p>100 rows × 1 columns</p>\n",
       "</div>"
      ],
      "text/plain": [
       "            4. close\n",
       "date                \n",
       "2023-10-23    173.00\n",
       "2023-10-20    172.88\n",
       "2023-10-19    175.46\n",
       "2023-10-18    175.84\n",
       "2023-10-17    177.15\n",
       "...              ...\n",
       "2023-06-07    177.82\n",
       "2023-06-06    179.21\n",
       "2023-06-05    179.58\n",
       "2023-06-02    180.95\n",
       "2023-06-01    180.09\n",
       "\n",
       "[100 rows x 1 columns]"
      ]
     },
     "execution_count": 9,
     "metadata": {},
     "output_type": "execute_result"
    }
   ],
   "source": [
    "data2[\"4. close\"].to_frame()"
   ]
  }
 ],
 "metadata": {
  "kernelspec": {
   "display_name": "Python 3 (ipykernel)",
   "language": "python",
   "name": "python3"
  },
  "language_info": {
   "codemirror_mode": {
    "name": "ipython",
    "version": 3
   },
   "file_extension": ".py",
   "mimetype": "text/x-python",
   "name": "python",
   "nbconvert_exporter": "python",
   "pygments_lexer": "ipython3",
   "version": "3.10.9"
  }
 },
 "nbformat": 4,
 "nbformat_minor": 5
}
