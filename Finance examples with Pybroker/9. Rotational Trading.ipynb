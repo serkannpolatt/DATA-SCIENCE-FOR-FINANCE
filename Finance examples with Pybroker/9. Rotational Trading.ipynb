{
 "cells": [
  {
   "cell_type": "markdown",
   "id": "c5f562db",
   "metadata": {},
   "source": [
    "# Rotasyonel Ticaret\n",
    "\n",
    "Rotasyonel ticaret, en iyi performans gösteren varlıkları satın alırken düşük performans gösteren varlıkları satmayı içerir. Tahmin edebileceğiniz gibi **PyBroker** bu tür stratejilerin geriye doğru test edilmesi için mükemmel bir araçtır. O halde hadi hemen dalalım ve rotasyonel ticaret stratejimizi test etmeye başlayalım!"
   ]
  },
  {
   "cell_type": "code",
   "execution_count": 13,
   "id": "e174e6d3",
   "metadata": {},
   "outputs": [],
   "source": [
    "import pybroker as pyb\n",
    "from pybroker import ExecContext, Strategy, StrategyConfig, YFinance"
   ]
  },
  {
   "cell_type": "markdown",
   "id": "6475b3fc",
   "metadata": {},
   "source": [
    "Stratejimiz, en yüksek [fiyat değişim oranı (ROC)](https://www.investopedia.com/terms/p/pricerateofchange.asp) olan hisse senetlerini sıralamayı ve satın almayı içerecektir. Başlangıç ​​olarak, [TA-Lib](https://github.com/TA-Lib/ta-lib-python) kullanarak 20 günlük bir ROC göstergesi tanımlayacağız:"
   ]
  },
  {
   "cell_type": "code",
   "execution_count": 14,
   "id": "20e6f772",
   "metadata": {},
   "outputs": [],
   "source": [
    "import talib as ta\n",
    "\n",
    "roc_20 = pyb.indicator(\n",
    "    'roc_20', lambda data: ta.ROC(data.adj_close, timeperiod=20))"
   ]
  },
  {
   "cell_type": "markdown",
   "id": "ce92ab84",
   "metadata": {},
   "source": [
    "Şimdi stratejimizin kurallarını tanımlayalım:\n",
    "\n",
    "- 20 günlük ROC'si en yüksek olan iki hisse senedini satın alın.\n",
    "- Her hisse senedine sermayemizin %50'sini tahsis ediyoruz.\n",
    "- Hisse senetlerinden herhangi biri artık ilk beş 20 günlük ROC arasında yer almıyorsa, o hisse senedini tasfiye edeceğiz.\n",
    "- Bu kuralları günlük olarak değiştirin.\n",
    "\n",
    "Yukarıdaki kurallar için konfigürasyonumuzu ve bazı parametrelerimizi ayarlayalım:"
   ]
  },
  {
   "cell_type": "code",
   "execution_count": 15,
   "id": "0ee3887a",
   "metadata": {},
   "outputs": [
    {
     "data": {
      "text/plain": [
       "5"
      ]
     },
     "execution_count": 15,
     "metadata": {},
     "output_type": "execute_result"
    }
   ],
   "source": [
    "config = StrategyConfig(max_long_positions=2)\n",
    "pyb.param('target_size', 1 / config.max_long_positions)\n",
    "pyb.param('rank_threshold', 5)"
   ]
  },
  {
   "cell_type": "markdown",
   "id": "7350345c",
   "metadata": {},
   "source": [
    "Stratejimize devam etmek için, her hisse senedini 20 günlük ROC'sine göre en yüksekten en düşüğe doğru sıralayan bir ``sıralama`` işlevi uygulayacağız."
   ]
  },
  {
   "cell_type": "code",
   "execution_count": 16,
   "id": "dbc19aa4",
   "metadata": {},
   "outputs": [],
   "source": [
    "def rank(ctxs: dict[str, ExecContext]):\n",
    "    scores = {\n",
    "        symbol: ctx.indicator('roc_20')[-1]\n",
    "        for symbol, ctx in ctxs.items()\n",
    "    }\n",
    "    sorted_scores = sorted(\n",
    "        scores.items(), \n",
    "        key=lambda score: score[1],\n",
    "        reverse=True\n",
    "    )\n",
    "    threshold = pyb.param('rank_threshold')\n",
    "    top_scores = sorted_scores[:threshold]\n",
    "    top_symbols = [score[0] for score in top_scores]\n",
    "    pyb.param('top_symbols', top_symbols)"
   ]
  },
  {
   "cell_type": "markdown",
   "id": "d3634399",
   "metadata": {},
   "source": [
    "``top_symbols`` global parametresi, 20 günlük en yüksek ROC'ye sahip ilk beş hisse senedinin sembollerini içerir.\n",
    "\n",
    "Artık hisse senetlerini ROC'lerine göre sıralamak için bir yöntemimiz olduğuna göre, rotasyonel ticareti yönetmek için bir ``rotate`` fonksiyonunu uygulamaya devam edebiliriz."
   ]
  },
  {
   "cell_type": "code",
   "execution_count": 17,
   "id": "e26bbffb",
   "metadata": {},
   "outputs": [],
   "source": [
    "def rotate(ctx: ExecContext):\n",
    "    if ctx.long_pos():\n",
    "        if ctx.symbol not in pyb.param('top_symbols'):\n",
    "            ctx.sell_all_shares()\n",
    "    else:\n",
    "        target_size = pyb.param('target_size')\n",
    "        ctx.buy_shares = ctx.calc_target_shares(target_size)\n",
    "        ctx.score = ctx.indicator('roc_20')[-1]"
   ]
  },
  {
   "cell_type": "markdown",
   "id": "e2da6b56",
   "metadata": {},
   "source": [
    "Şu anda tutulan hisse senedini, artık ilk beş 20 günlük ROC arasında yer almıyorsa tasfiye ederiz. Aksi takdirde, tüm hisse senetlerini 20 günlük ROC'lerine göre sıralarız ve ilk iki sıraya kadar satın alırız. Satın alma emirlerini verirken sıralama hakkında daha fazla bilgi için [Sıralama ve Konum Boyutlandırma not defterine](https://www.pybroker.com/en/latest/notebooks/4.%20Ranking%20and%20Position%20Sizing.html) bakın.\n",
    "\n",
    "Sıralamamızı ``rank`` ile yürütmek için [set_before_exec](https://www.pybroker.com/en/latest/reference/pybroker.strategy.html#pybroker.strategy.Strategy.set_before_exec) yöntemini kullanacağız. ``döndürme`` fonksiyonunu çalıştırıyorum. Bu geriye dönük test için 10 hisse senedinden oluşan bir evren kullanacağız:"
   ]
  },
  {
   "cell_type": "code",
   "execution_count": 18,
   "id": "33f90b28",
   "metadata": {},
   "outputs": [
    {
     "name": "stdout",
     "output_type": "stream",
     "text": [
      "Backtesting: 2018-01-01 00:00:00 to 2023-01-01 00:00:00\n",
      "\n",
      "Loading bar data...\n",
      "[*********************100%***********************]  4 of 4 completed\n",
      "Loaded bar data: 0:00:01 \n",
      "\n",
      "Computing indicators...\n"
     ]
    },
    {
     "name": "stderr",
     "output_type": "stream",
     "text": [
      "  0% (0 of 4) |                          | Elapsed Time: 0:00:00 ETA:  --:--:--\n",
      " 25% (1 of 4) |######                    | Elapsed Time: 0:00:00 ETA:   0:00:02\n",
      "100% (4 of 4) |##########################| Elapsed Time: 0:00:00 Time:  0:00:00\n"
     ]
    },
    {
     "name": "stdout",
     "output_type": "stream",
     "text": [
      "\n",
      "Test split: 2018-01-01 00:00:00 to 2022-12-30 00:00:00\n"
     ]
    },
    {
     "name": "stderr",
     "output_type": "stream",
     "text": [
      "  0% (0 of 1274) |                       | Elapsed Time: 0:00:00 ETA:  --:--:--\n",
      "  7% (101 of 1274) |#                    | Elapsed Time: 0:00:00 ETA:  00:00:00\n",
      " 16% (211 of 1274) |###                  | Elapsed Time: 0:00:00 ETA:   0:00:00\n",
      " 24% (311 of 1274) |#####                | Elapsed Time: 0:00:00 ETA:   0:00:00\n",
      " 32% (411 of 1274) |######               | Elapsed Time: 0:00:00 ETA:   0:00:00\n",
      " 40% (521 of 1274) |########             | Elapsed Time: 0:00:00 ETA:   0:00:00\n",
      " 49% (631 of 1274) |##########           | Elapsed Time: 0:00:00 ETA:   0:00:00\n",
      " 57% (731 of 1274) |############         | Elapsed Time: 0:00:00 ETA:   0:00:00\n",
      " 66% (841 of 1274) |#############        | Elapsed Time: 0:00:00 ETA:   0:00:00\n",
      " 75% (961 of 1274) |###############      | Elapsed Time: 0:00:00 ETA:   0:00:00\n",
      " 84% (1071 of 1274) |################    | Elapsed Time: 0:00:00 ETA:   0:00:00\n",
      " 92% (1181 of 1274) |##################  | Elapsed Time: 0:00:00 ETA:   0:00:00\n",
      "100% (1274 of 1274) |####################| Elapsed Time: 0:00:00 Time:  0:00:00\n"
     ]
    },
    {
     "name": "stdout",
     "output_type": "stream",
     "text": [
      "\n",
      "Finished backtest: 0:00:05\n"
     ]
    }
   ],
   "source": [
    "strategy = Strategy(\n",
    "    YFinance(), \n",
    "    start_date='1/1/2018', \n",
    "    end_date='1/1/2023', \n",
    "    config=config\n",
    ")\n",
    "strategy.set_before_exec(rank)\n",
    "strategy.add_execution(rotate, [\n",
    "    'FROTO.IS', \n",
    "    'DOAS.IS', \n",
    "    'FROTO.IS', \n",
    "    'EREGL.IS', \n",
    "    'ISMEN.IS',\n",
    "], indicators=roc_20)\n",
    "result = strategy.backtest(warmup=20)"
   ]
  },
  {
   "cell_type": "code",
   "execution_count": 19,
   "id": "da570475",
   "metadata": {},
   "outputs": [
    {
     "data": {
      "text/html": [
       "<div>\n",
       "<style scoped>\n",
       "    .dataframe tbody tr th:only-of-type {\n",
       "        vertical-align: middle;\n",
       "    }\n",
       "\n",
       "    .dataframe tbody tr th {\n",
       "        vertical-align: top;\n",
       "    }\n",
       "\n",
       "    .dataframe thead th {\n",
       "        text-align: right;\n",
       "    }\n",
       "</style>\n",
       "<table border=\"1\" class=\"dataframe\">\n",
       "  <thead>\n",
       "    <tr style=\"text-align: right;\">\n",
       "      <th></th>\n",
       "      <th>type</th>\n",
       "      <th>symbol</th>\n",
       "      <th>date</th>\n",
       "      <th>shares</th>\n",
       "      <th>limit_price</th>\n",
       "      <th>fill_price</th>\n",
       "      <th>fees</th>\n",
       "    </tr>\n",
       "    <tr>\n",
       "      <th>id</th>\n",
       "      <th></th>\n",
       "      <th></th>\n",
       "      <th></th>\n",
       "      <th></th>\n",
       "      <th></th>\n",
       "      <th></th>\n",
       "      <th></th>\n",
       "    </tr>\n",
       "  </thead>\n",
       "  <tbody>\n",
       "    <tr>\n",
       "      <th>1</th>\n",
       "      <td>buy</td>\n",
       "      <td>FROTO.IS</td>\n",
       "      <td>2018-01-30</td>\n",
       "      <td>794</td>\n",
       "      <td>NaN</td>\n",
       "      <td>62.48</td>\n",
       "      <td>0.0</td>\n",
       "    </tr>\n",
       "    <tr>\n",
       "      <th>2</th>\n",
       "      <td>buy</td>\n",
       "      <td>DOAS.IS</td>\n",
       "      <td>2018-01-30</td>\n",
       "      <td>5886</td>\n",
       "      <td>NaN</td>\n",
       "      <td>8.56</td>\n",
       "      <td>0.0</td>\n",
       "    </tr>\n",
       "  </tbody>\n",
       "</table>\n",
       "</div>"
      ],
      "text/plain": [
       "   type    symbol       date  shares  limit_price  fill_price  fees\n",
       "id                                                                 \n",
       "1   buy  FROTO.IS 2018-01-30     794          NaN       62.48   0.0\n",
       "2   buy   DOAS.IS 2018-01-30    5886          NaN        8.56   0.0"
      ]
     },
     "execution_count": 19,
     "metadata": {},
     "output_type": "execute_result"
    }
   ],
   "source": [
    "result.orders"
   ]
  }
 ],
 "metadata": {
  "kernelspec": {
   "display_name": "Python 3 (ipykernel)",
   "language": "python",
   "name": "python3"
  },
  "language_info": {
   "codemirror_mode": {
    "name": "ipython",
    "version": 3
   },
   "file_extension": ".py",
   "mimetype": "text/x-python",
   "name": "python",
   "nbconvert_exporter": "python",
   "pygments_lexer": "ipython3",
   "version": "3.10.9"
  }
 },
 "nbformat": 4,
 "nbformat_minor": 5
}
