{
 "cells": [
  {
   "cell_type": "markdown",
   "id": "29de864c",
   "metadata": {},
   "source": [
    "# Model Eğitimi\n",
    "\n",
    "[Son not defterinde](https://www.pybroker.com/en/latest/notebooks/5.%20Writing%20Indicators.html), **PyBroker**'da hisse senedi göstergelerinin nasıl yazılacağını öğrendik. Göstergeler bir ticaret stratejisi geliştirmek için iyi bir başlangıç ​​noktasıdır. Ancak başarılı bir strateji oluşturmak için tahmine dayalı modellemeyi kullanan daha karmaşık bir yaklaşıma ihtiyaç duyulması muhtemeldir.\n",
    "\n",
    "Neyse ki **PyBroker**'ın ana özelliklerinden biri makine öğrenimi modellerini eğitme ve geriye doğru test etme yeteneğidir. Bu modeller, piyasa hareketleri hakkında daha doğru tahminler yapmak için göstergeleri özellik olarak kullanabilir. Bu modeller eğitildikten sonra, bir stratejinin gerçek ticaret sırasında nasıl performans göstereceğini simüle eden [İleriye Doğru Analiz](https://www.youtube.com/watch?v=WBZ_Vv-iMv4) olarak bilinen popüler bir teknik kullanılarak geriye doğru test edilebilir.\n",
    "\n",
    "İleriye Doğru Analizi bu not defterinin ilerleyen kısımlarında daha derinlemesine açıklayacağız. Ama önce gerekli bazı ithalatlarla başlayalım!"
   ]
  },
  {
   "cell_type": "code",
   "execution_count": 1,
   "id": "6699f2df",
   "metadata": {},
   "outputs": [],
   "source": [
    "import numpy as np\n",
    "import pandas as pd\n",
    "import pybroker\n",
    "from numba import njit\n",
    "from pybroker import Strategy, StrategyConfig, YFinance"
   ]
  },
  {
   "cell_type": "markdown",
   "id": "3a2c7fb5",
   "metadata": {},
   "source": [
    "[DataSource](https://www.pybroker.com/en/latest/reference/pybroker.data.html#pybroker.data.DataSource) ve [Indicator](https://www.pybroker.com/en) ile olduğu gibi /latest/reference/pybroker.indicator.html#pybroker.indicator.Indicator) verileri, **PyBroker** ayrıca eğitimli modelleri diske önbelleğe alabilir. [pybroker.enable_caches](https://www.pybroker.com/en/latest/reference/pybroker.cache.html#pybroker.cache.enable_caches) numaralı telefonu arayarak üçü için de önbelleğe almayı etkinleştirebilirsiniz:"
   ]
  },
  {
   "cell_type": "code",
   "execution_count": 2,
   "id": "d6a5ae5f",
   "metadata": {},
   "outputs": [],
   "source": [
    "pybroker.enable_caches('walkforward_strategy')"
   ]
  },
  {
   "cell_type": "markdown",
   "id": "5b7a78ba",
   "metadata": {},
   "source": [
    "[Son not defterinde](https://www.pybroker.com/en/latest/notebooks/5.%20Writing%20Indicators.html), yakın eksi hareketli ortalamayı (CMMA) hesaplayan bir gösterge uyguladık. [NumPy](https://www.numpy.org) ve [Numba](https://numba.pydata.org/) kullanarak. İşte yine CMMA göstergesinin kodu:"
   ]
  },
  {
   "cell_type": "code",
   "execution_count": 3,
   "id": "bcbef85f",
   "metadata": {},
   "outputs": [],
   "source": [
    "def cmma(bar_data, lookback):\n",
    "\n",
    "    @njit  # Numba JIT'i etkinleştirin.\n",
    "    def vec_cmma(values):\n",
    "        # Sonuç dizisini başlatın.\n",
    "        n = len(values)\n",
    "        out = np.array([np.nan for _ in range(n)])\n",
    "        \n",
    "        # Yeniden incelemeden başlayan tüm çubuklar için:\n",
    "        for i in range(lookback, n):\n",
    "            # Yeniden incelemenin hareketli ortalamasını hesaplayın.\n",
    "            ma = 0\n",
    "            for j in range(i - lookback, i):\n",
    "                ma += values[j]\n",
    "            ma /= lookback\n",
    "            # Hareketli ortalamayı değerden çıkarın.\n",
    "            out[i] = values[i] - ma\n",
    "        return out\n",
    "    \n",
    "    # Yakın fiyatlar için hesaplayın.\n",
    "    return vec_cmma(bar_data.close)\n",
    "\n",
    "cmma_20 = pybroker.indicator('cmma_20', cmma, lookback=20)"
   ]
  },
  {
   "cell_type": "markdown",
   "id": "216876da",
   "metadata": {},
   "source": [
    "## Eğitim ve Arka Test\n",
    "\n",
    "Daha sonra 20 günlük CMMA'yı kullanarak ertesi günün getirisini tahmin eden bir model oluşturmak istiyoruz. [Basit doğrusal regresyonu](https://en.wikipedia.org/wiki/Simple_linear_regression) kullanmak, denemeye başlamak için iyi bir yaklaşımdır. Aşağıda, [scikit-learn](https://scikit-learn.org/) adresinden bir [LinearRegression](https://scikit-learn.org/stable/modules/generate/sklearn.linear_model.LinearRegression.html) modelini içe aktarıyoruz. stabil/):"
   ]
  },
  {
   "cell_type": "code",
   "execution_count": 4,
   "id": "40a28c9d",
   "metadata": {},
   "outputs": [],
   "source": [
    "from sklearn.linear_model import LinearRegression\n",
    "from sklearn.metrics import r2_score"
   ]
  },
  {
   "cell_type": "markdown",
   "id": "905a3d5c",
   "metadata": {},
   "source": [
    "```LinearRegression``` modelini eğitmek için bir ```train_slr``` işlevi oluşturuyoruz:"
   ]
  },
  {
   "cell_type": "code",
   "execution_count": 5,
   "id": "93056c20",
   "metadata": {},
   "outputs": [],
   "source": [
    "def train_slr(symbol, train_data, test_data):\n",
    "    # Train\n",
    "    # Önceki gün kapanış fiyatları.\n",
    "    train_prev_close = train_data['close'].shift(1)\n",
    "    # Günlük getirileri hesaplayın.\n",
    "    train_daily_returns = (train_data['close'] - train_prev_close) / train_prev_close\n",
    "    # Ertesi günün dönüşünü tahmin edin.\n",
    "    train_data['pred'] = train_daily_returns.shift(-1)\n",
    "    train_data = train_data.dropna()\n",
    "    # Ertesi günün getirisini tahmin etmek için LinearRegession modelini eğitin\n",
    "    # 20 günlük CMMA verildi.\n",
    "    X_train = train_data[['cmma_20']]\n",
    "    y_train = train_data[['pred']]\n",
    "    model = LinearRegression()\n",
    "    model.fit(X_train, y_train)\n",
    "    \n",
    "    # Test\n",
    "    test_prev_close = test_data['close'].shift(1)\n",
    "    test_daily_returns = (test_data['close'] - test_prev_close) / test_prev_close\n",
    "    test_data['pred'] = test_daily_returns.shift(-1)\n",
    "    test_data = test_data.dropna()\n",
    "    X_test = test_data[['cmma_20']]\n",
    "    y_test = test_data[['pred']]\n",
    "    # Test verilerinden tahminler yapın.\n",
    "    y_pred = model.predict(X_test)\n",
    "    # Uyum iyiliğini yazdırın.\n",
    "    r2 = r2_score(y_test, np.squeeze(y_pred))\n",
    "    print(symbol, f'R^2={r2}')\n",
    "    \n",
    "    # Giriş verileri olarak kullanılacak eğitilmiş modeli ve sütunları döndürün.\n",
    "    return model, ['cmma_20']"
   ]
  },
  {
   "cell_type": "markdown",
   "id": "4f1fd74e",
   "metadata": {},
   "source": [
    "```train_slr``` işlevi, ```LinearRegression``` modeli için giriş özelliği veya tahmin aracı olarak 20 günlük CMMA'yı kullanır. Fonksiyon daha sonra ```LinearRegression``` modelini o hisse senedi sembolünün eğitim verilerine uyarlar.\n",
    "\n",
    "Modeli yerleştirdikten sonra işlev, özellikle [R-kare](https://en.wikipedia.org/wiki/Cotained_of_determination) puanını hesaplayarak modelin doğruluğunu değerlendirmek için test verilerini kullanır. R-kare puanı, \"LinearRegression\" modelinin test verilerine ne kadar iyi uyduğunun bir ölçüsünü sağlar.\n",
    "\n",
    "```train_slr``` fonksiyonunun son çıktısı, giriş verisi olarak kullanılacak olan ```cmma_20``` sütunuyla birlikte, o hisse senedi sembolü için özel olarak eğitilmiş ```LinearRegression``` modelidir. tahminlerde bulunurken. **PyBroker**, geriye dönük test sırasında hisse senedinin ertesi günkü getirisini tahmin etmek için bu modeli kullanacaktır. Her hisse senedi sembolü için ```train_slr``` işlevi çağrılacak ve eğitilen modeller, her bir hisse senedi için bir sonraki günün getirisini tahmin etmek için kullanılacak.\n",
    "\n",
    "Modeli eğitme işlevi tanımlandıktan sonra **PyBroker**'a kaydedilmesi gerekir. Bu, [pybroker.model](https://www.pybroker.com/en/latest/reference/pybroker.model.html#pybroker.model.model) işlevi. Bu işlevin argümanları, modelin adı (bu durumda ```'slr'```), modeli eğitecek işlev (```train_slr```) ve kullanılacak göstergelerin listesidir modelin girdileri olarak (bu durumda, ```cmma_20```)."
   ]
  },
  {
   "cell_type": "code",
   "execution_count": 6,
   "id": "e46d8c01",
   "metadata": {},
   "outputs": [],
   "source": [
    "model_slr = pybroker.model('slr', train_slr, indicators=[cmma_20])"
   ]
  },
  {
   "cell_type": "markdown",
   "id": "4a37b917",
   "metadata": {},
   "source": [
    "Eğitilen modeli kullanan bir ticaret stratejisi oluşturmak için, aşağıdakiler kullanılarak yeni bir [Strategy](https://www.pybroker.com/en/latest/reference/pybroker.strategy.html#pybroker.strategy.Strategy) nesnesi oluşturulur. [YFinance](https://www.pybroker.com/en/latest/reference/pybroker.data.html#pybroker.data.YFinance) veri kaynağı ve arka test döneminin başlangıç ​​ve bitiş tarihlerini belirtme."
   ]
  },
  {
   "cell_type": "code",
   "execution_count": 7,
   "id": "6059e0af",
   "metadata": {},
   "outputs": [],
   "source": [
    "config = StrategyConfig(bootstrap_sample_size=100)\n",
    "strategy = Strategy(YFinance(), '3/1/2017', '3/1/2022', config)\n",
    "strategy.add_execution(None, ['FROTO.IS', 'DOAS.IS'], models=model_slr)"
   ]
  },
  {
   "cell_type": "markdown",
   "id": "728da208",
   "metadata": {},
   "source": [
    "Daha sonra [add_execution](https://www.pybroker.com/en/latest/reference/pybroker.strategy.html#pybroker.strategy.Strategy.add_execution) yöntemi, [Strategy](https://www) üzerinde çağrılır. Bu durumda, ilk argüman olarak \"Yok\" değeri iletilir; bu, geri test sırasında hiçbir işlem fonksiyonunun kullanılmayacağı anlamına gelir.\n",
    "\n",
    "Son adım, üzerinde [backtest](https://www.pybroker.com/en/latest/reference/pybroker.strategy.html#pybroker.strategy.Strategy.backtest) yöntemini çağırarak backtest'i çalıştırmaktır. Modelin arka test verilerinin ilk yarısında eğitilmesi ve ikinci yarısında test edilmesi gerektiğini belirtmek için \"0,5\" değerinde \"train_size\"\"ye sahip \"Strateji\" nesnesi."
   ]
  },
  {
   "cell_type": "code",
   "execution_count": 8,
   "id": "f9484f84",
   "metadata": {
    "scrolled": true
   },
   "outputs": [
    {
     "name": "stdout",
     "output_type": "stream",
     "text": [
      "Backtesting: 2017-03-01 00:00:00 to 2022-03-01 00:00:00\n",
      "\n",
      "Loading bar data...\n",
      "[*********************100%***********************]  2 of 2 completed\n",
      "Loaded bar data: 0:00:02 \n",
      "\n",
      "Computing indicators...\n"
     ]
    },
    {
     "name": "stderr",
     "output_type": "stream",
     "text": [
      "  0% (0 of 2) |                          | Elapsed Time: 0:00:00 ETA:  --:--:--\n",
      " 50% (1 of 2) |#############             | Elapsed Time: 0:00:02 ETA:   0:00:02\n",
      "100% (2 of 2) |##########################| Elapsed Time: 0:00:02 Time:  0:00:02\n"
     ]
    },
    {
     "name": "stdout",
     "output_type": "stream",
     "text": [
      "\n",
      "Train split: 2017-03-01 00:00:00 to 2019-08-13 00:00:00\n",
      "DOAS.IS R^2=-0.049404174613011165\n",
      "FROTO.IS R^2=-0.017928050766510273\n",
      "Finished training models: 0:00:00 \n",
      "\n",
      "Finished backtest: 0:00:05\n"
     ]
    },
    {
     "data": {
      "text/plain": [
       "TestResult(start_date=datetime.datetime(2017, 3, 1, 0, 0), end_date=datetime.datetime(2022, 3, 1, 0, 0), portfolio=Empty DataFrame\n",
       "Columns: []\n",
       "Index: [], positions=Empty DataFrame\n",
       "Columns: []\n",
       "Index: [], orders=Empty DataFrame\n",
       "Columns: []\n",
       "Index: [], trades=Empty DataFrame\n",
       "Columns: []\n",
       "Index: [], metrics=EvalMetrics(trade_count=0, initial_market_value=0, end_market_value=0, total_pnl=0, unrealized_pnl=0, total_return_pct=0, annual_return_pct=None, total_profit=0, total_loss=0, total_fees=0, max_drawdown=0, max_drawdown_pct=0, win_rate=0, loss_rate=0, winning_trades=0, losing_trades=0, avg_pnl=0, avg_return_pct=0, avg_trade_bars=0, avg_profit=0, avg_profit_pct=0, avg_winning_trade_bars=0, avg_loss=0, avg_loss_pct=0, avg_losing_trade_bars=0, largest_win=0, largest_win_pct=0, largest_win_bars=0, largest_loss=0, largest_loss_pct=0, largest_loss_bars=0, max_wins=0, max_losses=0, sharpe=0, sortino=0, calmar=None, profit_factor=0, ulcer_index=0, upi=0, equity_r2=0, std_error=0, annual_std_error=None, annual_volatility_pct=None), metrics_df=Empty DataFrame\n",
       "Columns: []\n",
       "Index: [], bootstrap=None, signals=None)"
      ]
     },
     "execution_count": 8,
     "metadata": {},
     "output_type": "execute_result"
    }
   ],
   "source": [
    "strategy.backtest(train_size=0.5)"
   ]
  },
  {
   "cell_type": "markdown",
   "id": "912b0c7d",
   "metadata": {},
   "source": [
    "## İleriye Yönelik Analiz\n",
    "\n",
    "\n",
    "**PyBroker**, geriye dönük test gerçekleştirmek için [İleriye Doğru Analiz](https://www.youtube.com/watch?v=WBZ_Vv-iMv4) olarak bilinen güçlü bir algoritma kullanır. Algoritma, arka test verilerini, her biri verinin tren-test bölümünü içeren sabit sayıda zaman penceresine böler.\n",
    "\n",
    "İleriye Doğru Analiz algoritması daha sonra, gerçek dünyada bir ticaret stratejisinin yürütüleceği şekilde, zamanda \"ileriye doğru yürümeye\" devam eder. Model ilk önce en erken pencerede eğitilir ve daha sonra bu penceredeki test verileri üzerinden değerlendirilir.\n",
    "\n",
    "Algoritma zaman içinde bir sonraki pencereyi değerlendirmek için ilerledikçe, önceki penceredeki test verileri eğitim verilerine eklenir. Bu süreç tüm zaman pencereleri değerlendirilinceye kadar devam eder.\n",
    "\n",
    "![İleriye Doğru Şeması](https://github.com/edtechre/pybroker/blob/master/docs/_static/walkforward.png?raw=true)\n",
    "\n",
    "Walkforward Analiz algoritması, bu yaklaşımı kullanarak bir ticaret stratejisinin gerçek dünyadaki performansını simüle edebilir ve daha güvenilir ve doğru geriye dönük test sonuçları üretebilir.\n",
    "\n",
    "Daha önce eğittiğimiz [LinearRegression](https://scikit-learn.org/stable/modules/generate/sklearn.linear_model.LinearRegression.html) modelinden alım ve satım sinyalleri üreten bir ticaret stratejisini düşünelim. Strateji ``hold_long``` işlevi olarak uygulanır:"
   ]
  },
  {
   "cell_type": "code",
   "execution_count": 9,
   "id": "b065eb8d",
   "metadata": {},
   "outputs": [],
   "source": [
    "def hold_long(ctx):\n",
    "    if not ctx.long_pos():\n",
    "        # Bir sonraki çubuğun olumlu bir getiri sağlayacağı öngörülüyorsa satın alın:\n",
    "        if ctx.preds('slr')[-1] > 0:\n",
    "            ctx.buy_shares = 100\n",
    "    else:\n",
    "        # Bir sonraki çubuğun negatif getiri sağlayacağı tahmin ediliyorsa satış yapın:\n",
    "        if ctx.preds('slr')[-1] < 0:\n",
    "            ctx.sell_shares = 100\n",
    "            \n",
    "strategy.clear_executions()\n",
    "strategy.add_execution(hold_long, ['FROTO.IS', 'EREGL.IS'], models=model_slr)"
   ]
  },
  {
   "cell_type": "markdown",
   "id": "1263e1ab",
   "metadata": {},
   "source": [
    "``hold_long``` işlevi, model bir sonraki çubuk için pozitif bir getiri tahmin ettiğinde uzun bir pozisyon açar ve ardından model negatif bir getiri tahmin ettiğinde konumu kapatır.\n",
    "\n",
    "Yapılan tahminlere erişmek için [ctx.preds('slr')](https://www.pybroker.com/en/latest/reference/pybroker.context.html#pybroker.context.ExecContext.preds) yöntemi kullanılır işlevde yürütülen mevcut hisse senedi sembolü için ```'slr'``` modeliyle (NVDA veya AMD). Tahminler bir [NumPy dizisinde](https://numpy.org/doc/stable/reference/generate/numpy.array.html) saklanır ve mevcut hisse senedi sembolü için en son tahmine ``` kullanılarak erişilir. ctx.preds('slr')[-1]```, bu, modelin bir sonraki çubuğun dönüşüne ilişkin tahminidir.\n",
    "\n",
    "Artık bir ticaret stratejisi tanımladığımıza ve ```'slr'``` modelini kaydettiğimize göre, Walkforward Analiz algoritmasını kullanarak geriye dönük testi çalıştırabiliriz.\n",
    "\n",
    "Geri test, ``Strategy`` üzerinde [walkforward](https://www.pybroker.com/en/latest/reference/pybroker.strategy.html#pybroker.strategy.Strategy.walkforward) yöntemi çağrılarak çalıştırılır. İstenilen sayıda zaman penceresi ve eğitim/test bölme oranı ile nesne. Bu durumda, her biri 50/50 tren-test ayrımına sahip 3 zaman penceresi kullanacağız.\n",
    "\n",
    "Ayrıca ```'slr'``` modelimiz gelecekte bir çubuk için tahmin yaptığı için ``lookahead``` parametresini ```1``` olarak belirtmemiz gerekiyor. Bu, eğitim verilerinin test sınırına sızmamasını sağlamak için gereklidir. ``lookahead``` parametresi her zaman gelecekte tahmin edilen çubuk sayısına ayarlanmalıdır."
   ]
  },
  {
   "cell_type": "code",
   "execution_count": 10,
   "id": "c7566d0f",
   "metadata": {},
   "outputs": [
    {
     "name": "stdout",
     "output_type": "stream",
     "text": [
      "Backtesting: 2017-03-01 00:00:00 to 2022-03-01 00:00:00\n",
      "\n",
      "Loading bar data...\n",
      "[*********************100%***********************]  1 of 1 completed\n",
      "Loaded bar data: 0:00:00 \n",
      "\n",
      "Computing indicators...\n"
     ]
    },
    {
     "name": "stderr",
     "output_type": "stream",
     "text": [
      "  0% (0 of 1) |                          | Elapsed Time: 0:00:00 ETA:  --:--:--\n",
      "100% (1 of 1) |##########################| Elapsed Time: 0:00:00 ETA:  00:00:00\n",
      "100% (1 of 1) |##########################| Elapsed Time: 0:00:00 Time:  0:00:00\n"
     ]
    },
    {
     "name": "stdout",
     "output_type": "stream",
     "text": [
      "\n",
      "Train split: 2017-03-08 00:00:00 to 2018-05-28 00:00:00\n",
      "EREGL.IS R^2=-0.05324926162898347\n",
      "FROTO.IS R^2=-0.0047909961822389935\n",
      "Finished training models: 0:00:00 \n",
      "\n",
      "Test split: 2018-05-29 00:00:00 to 2019-08-16 00:00:00\n"
     ]
    },
    {
     "name": "stderr",
     "output_type": "stream",
     "text": [
      "  0% (0 of 319) |                        | Elapsed Time: 0:00:00 ETA:  --:--:--\n",
      " 50% (161 of 319) |###########           | Elapsed Time: 0:00:00 ETA:  00:00:00\n",
      "100% (319 of 319) |######################| Elapsed Time: 0:00:00 Time:  0:00:00\n"
     ]
    },
    {
     "name": "stdout",
     "output_type": "stream",
     "text": [
      "\n",
      "Train split: 2018-05-29 00:00:00 to 2019-08-16 00:00:00\n",
      "EREGL.IS R^2=-0.05372138271192117\n",
      "FROTO.IS R^2=-0.059907976342019165\n",
      "Finished training models: 0:00:00 \n",
      "\n",
      "Test split: 2019-08-19 00:00:00 to 2020-11-20 00:00:00\n"
     ]
    },
    {
     "name": "stderr",
     "output_type": "stream",
     "text": [
      "  0% (0 of 319) |                        | Elapsed Time: 0:00:00 ETA:  --:--:--\n",
      "100% (319 of 319) |######################| Elapsed Time: 0:00:00 Time:  0:00:00\n"
     ]
    },
    {
     "name": "stdout",
     "output_type": "stream",
     "text": [
      "\n",
      "Train split: 2019-08-19 00:00:00 to 2020-11-20 00:00:00\n",
      "EREGL.IS R^2=-0.014160870768241685\n",
      "FROTO.IS R^2=-0.04725413090756847\n",
      "Finished training models: 0:00:00 \n",
      "\n",
      "Test split: 2020-11-23 00:00:00 to 2022-02-28 00:00:00\n"
     ]
    },
    {
     "name": "stderr",
     "output_type": "stream",
     "text": [
      "  0% (0 of 319) |                        | Elapsed Time: 0:00:00 ETA:  --:--:--\n",
      " 59% (191 of 319) |#############         | Elapsed Time: 0:00:00 ETA:  00:00:00\n",
      "100% (319 of 319) |######################| Elapsed Time: 0:00:00 Time:  0:00:00\n"
     ]
    },
    {
     "name": "stdout",
     "output_type": "stream",
     "text": [
      "\n",
      "Calculating bootstrap metrics: sample_size=100, samples=10000...\n",
      "Calculated bootstrap metrics: 0:00:04 \n",
      "\n",
      "Finished backtest: 0:00:07\n"
     ]
    }
   ],
   "source": [
    "result = strategy.walkforward(\n",
    "    warmup=20, \n",
    "    windows=3, \n",
    "    train_size=0.5, \n",
    "    lookahead=1, \n",
    "    calc_bootstrap=True\n",
    ")"
   ]
  },
  {
   "cell_type": "markdown",
   "id": "f8619725",
   "metadata": {},
   "source": [
    "Walkforward Analiz algoritmasını kullanan geriye dönük test işlemi sırasında, ```'slr'``` modeli belirli bir pencerenin eğitim verileri üzerinde eğitilir ve ardından ```hold_long``` işlevi aynı pencerenin test verileri üzerinde çalıştırılır.\n",
    "\n",
    "Model, bir sonraki günün getirileri hakkında tahminlerde bulunmak için eğitim verileriyle eğitilir. Daha sonra ```hold_long``` işlevi bu tahminleri geçerli günün işlem seansına yönelik alım veya satım kararları vermek için kullanır.\n",
    "\n",
    "Her bir pencere için test verileri üzerinde ticaret stratejisinin performansını değerlendirerek, stratejinin gerçek dünya ticaret koşullarında ne kadar iyi performans göstereceğini görebiliriz. Bu süreç, ticaret stratejisinin genel performansını değerlendirmek için sonuçları kullanarak, arka testteki her zaman penceresi için tekrarlanır:"
   ]
  },
  {
   "cell_type": "code",
   "execution_count": 11,
   "id": "2bb849bb",
   "metadata": {},
   "outputs": [
    {
     "data": {
      "text/html": [
       "<div>\n",
       "<style scoped>\n",
       "    .dataframe tbody tr th:only-of-type {\n",
       "        vertical-align: middle;\n",
       "    }\n",
       "\n",
       "    .dataframe tbody tr th {\n",
       "        vertical-align: top;\n",
       "    }\n",
       "\n",
       "    .dataframe thead th {\n",
       "        text-align: right;\n",
       "    }\n",
       "</style>\n",
       "<table border=\"1\" class=\"dataframe\">\n",
       "  <thead>\n",
       "    <tr style=\"text-align: right;\">\n",
       "      <th></th>\n",
       "      <th>name</th>\n",
       "      <th>value</th>\n",
       "    </tr>\n",
       "  </thead>\n",
       "  <tbody>\n",
       "    <tr>\n",
       "      <th>0</th>\n",
       "      <td>trade_count</td>\n",
       "      <td>67.000000</td>\n",
       "    </tr>\n",
       "    <tr>\n",
       "      <th>1</th>\n",
       "      <td>initial_market_value</td>\n",
       "      <td>100000.000000</td>\n",
       "    </tr>\n",
       "    <tr>\n",
       "      <th>2</th>\n",
       "      <td>end_market_value</td>\n",
       "      <td>109423.000000</td>\n",
       "    </tr>\n",
       "    <tr>\n",
       "      <th>3</th>\n",
       "      <td>total_pnl</td>\n",
       "      <td>9008.000000</td>\n",
       "    </tr>\n",
       "    <tr>\n",
       "      <th>4</th>\n",
       "      <td>unrealized_pnl</td>\n",
       "      <td>415.000000</td>\n",
       "    </tr>\n",
       "    <tr>\n",
       "      <th>5</th>\n",
       "      <td>total_return_pct</td>\n",
       "      <td>9.008000</td>\n",
       "    </tr>\n",
       "    <tr>\n",
       "      <th>6</th>\n",
       "      <td>total_profit</td>\n",
       "      <td>20686.000000</td>\n",
       "    </tr>\n",
       "    <tr>\n",
       "      <th>7</th>\n",
       "      <td>total_loss</td>\n",
       "      <td>-11678.000000</td>\n",
       "    </tr>\n",
       "    <tr>\n",
       "      <th>8</th>\n",
       "      <td>total_fees</td>\n",
       "      <td>0.000000</td>\n",
       "    </tr>\n",
       "    <tr>\n",
       "      <th>9</th>\n",
       "      <td>max_drawdown</td>\n",
       "      <td>-9131.000000</td>\n",
       "    </tr>\n",
       "    <tr>\n",
       "      <th>10</th>\n",
       "      <td>max_drawdown_pct</td>\n",
       "      <td>-7.829300</td>\n",
       "    </tr>\n",
       "    <tr>\n",
       "      <th>11</th>\n",
       "      <td>win_rate</td>\n",
       "      <td>67.164179</td>\n",
       "    </tr>\n",
       "    <tr>\n",
       "      <th>12</th>\n",
       "      <td>loss_rate</td>\n",
       "      <td>32.835821</td>\n",
       "    </tr>\n",
       "    <tr>\n",
       "      <th>13</th>\n",
       "      <td>winning_trades</td>\n",
       "      <td>45.000000</td>\n",
       "    </tr>\n",
       "    <tr>\n",
       "      <th>14</th>\n",
       "      <td>losing_trades</td>\n",
       "      <td>22.000000</td>\n",
       "    </tr>\n",
       "    <tr>\n",
       "      <th>15</th>\n",
       "      <td>avg_pnl</td>\n",
       "      <td>134.447761</td>\n",
       "    </tr>\n",
       "    <tr>\n",
       "      <th>16</th>\n",
       "      <td>avg_return_pct</td>\n",
       "      <td>1.849403</td>\n",
       "    </tr>\n",
       "    <tr>\n",
       "      <th>17</th>\n",
       "      <td>avg_trade_bars</td>\n",
       "      <td>16.865672</td>\n",
       "    </tr>\n",
       "    <tr>\n",
       "      <th>18</th>\n",
       "      <td>avg_profit</td>\n",
       "      <td>459.688889</td>\n",
       "    </tr>\n",
       "    <tr>\n",
       "      <th>19</th>\n",
       "      <td>avg_profit_pct</td>\n",
       "      <td>5.952889</td>\n",
       "    </tr>\n",
       "    <tr>\n",
       "      <th>20</th>\n",
       "      <td>avg_winning_trade_bars</td>\n",
       "      <td>8.555556</td>\n",
       "    </tr>\n",
       "    <tr>\n",
       "      <th>21</th>\n",
       "      <td>avg_loss</td>\n",
       "      <td>-530.818182</td>\n",
       "    </tr>\n",
       "    <tr>\n",
       "      <th>22</th>\n",
       "      <td>avg_loss_pct</td>\n",
       "      <td>-6.544091</td>\n",
       "    </tr>\n",
       "    <tr>\n",
       "      <th>23</th>\n",
       "      <td>avg_losing_trade_bars</td>\n",
       "      <td>33.863636</td>\n",
       "    </tr>\n",
       "    <tr>\n",
       "      <th>24</th>\n",
       "      <td>largest_win</td>\n",
       "      <td>7690.000000</td>\n",
       "    </tr>\n",
       "    <tr>\n",
       "      <th>25</th>\n",
       "      <td>largest_win_pct</td>\n",
       "      <td>47.450000</td>\n",
       "    </tr>\n",
       "    <tr>\n",
       "      <th>26</th>\n",
       "      <td>largest_win_bars</td>\n",
       "      <td>50.000000</td>\n",
       "    </tr>\n",
       "    <tr>\n",
       "      <th>27</th>\n",
       "      <td>largest_loss</td>\n",
       "      <td>-1623.000000</td>\n",
       "    </tr>\n",
       "    <tr>\n",
       "      <th>28</th>\n",
       "      <td>largest_loss_pct</td>\n",
       "      <td>-21.060000</td>\n",
       "    </tr>\n",
       "    <tr>\n",
       "      <th>29</th>\n",
       "      <td>largest_loss_bars</td>\n",
       "      <td>23.000000</td>\n",
       "    </tr>\n",
       "    <tr>\n",
       "      <th>30</th>\n",
       "      <td>max_wins</td>\n",
       "      <td>13.000000</td>\n",
       "    </tr>\n",
       "    <tr>\n",
       "      <th>31</th>\n",
       "      <td>max_losses</td>\n",
       "      <td>3.000000</td>\n",
       "    </tr>\n",
       "    <tr>\n",
       "      <th>32</th>\n",
       "      <td>sharpe</td>\n",
       "      <td>0.025617</td>\n",
       "    </tr>\n",
       "    <tr>\n",
       "      <th>33</th>\n",
       "      <td>sortino</td>\n",
       "      <td>0.025560</td>\n",
       "    </tr>\n",
       "    <tr>\n",
       "      <th>34</th>\n",
       "      <td>profit_factor</td>\n",
       "      <td>1.119928</td>\n",
       "    </tr>\n",
       "    <tr>\n",
       "      <th>35</th>\n",
       "      <td>ulcer_index</td>\n",
       "      <td>1.011226</td>\n",
       "    </tr>\n",
       "    <tr>\n",
       "      <th>36</th>\n",
       "      <td>upi</td>\n",
       "      <td>0.009939</td>\n",
       "    </tr>\n",
       "    <tr>\n",
       "      <th>37</th>\n",
       "      <td>equity_r2</td>\n",
       "      <td>0.638579</td>\n",
       "    </tr>\n",
       "    <tr>\n",
       "      <th>38</th>\n",
       "      <td>std_error</td>\n",
       "      <td>3690.197733</td>\n",
       "    </tr>\n",
       "  </tbody>\n",
       "</table>\n",
       "</div>"
      ],
      "text/plain": [
       "                      name          value\n",
       "0              trade_count      67.000000\n",
       "1     initial_market_value  100000.000000\n",
       "2         end_market_value  109423.000000\n",
       "3                total_pnl    9008.000000\n",
       "4           unrealized_pnl     415.000000\n",
       "5         total_return_pct       9.008000\n",
       "6             total_profit   20686.000000\n",
       "7               total_loss  -11678.000000\n",
       "8               total_fees       0.000000\n",
       "9             max_drawdown   -9131.000000\n",
       "10        max_drawdown_pct      -7.829300\n",
       "11                win_rate      67.164179\n",
       "12               loss_rate      32.835821\n",
       "13          winning_trades      45.000000\n",
       "14           losing_trades      22.000000\n",
       "15                 avg_pnl     134.447761\n",
       "16          avg_return_pct       1.849403\n",
       "17          avg_trade_bars      16.865672\n",
       "18              avg_profit     459.688889\n",
       "19          avg_profit_pct       5.952889\n",
       "20  avg_winning_trade_bars       8.555556\n",
       "21                avg_loss    -530.818182\n",
       "22            avg_loss_pct      -6.544091\n",
       "23   avg_losing_trade_bars      33.863636\n",
       "24             largest_win    7690.000000\n",
       "25         largest_win_pct      47.450000\n",
       "26        largest_win_bars      50.000000\n",
       "27            largest_loss   -1623.000000\n",
       "28        largest_loss_pct     -21.060000\n",
       "29       largest_loss_bars      23.000000\n",
       "30                max_wins      13.000000\n",
       "31              max_losses       3.000000\n",
       "32                  sharpe       0.025617\n",
       "33                 sortino       0.025560\n",
       "34           profit_factor       1.119928\n",
       "35             ulcer_index       1.011226\n",
       "36                     upi       0.009939\n",
       "37               equity_r2       0.638579\n",
       "38               std_error    3690.197733"
      ]
     },
     "execution_count": 11,
     "metadata": {},
     "output_type": "execute_result"
    }
   ],
   "source": [
    "result.metrics_df"
   ]
  },
  {
   "cell_type": "code",
   "execution_count": 12,
   "id": "8ee26a14",
   "metadata": {},
   "outputs": [
    {
     "data": {
      "text/html": [
       "<div>\n",
       "<style scoped>\n",
       "    .dataframe tbody tr th:only-of-type {\n",
       "        vertical-align: middle;\n",
       "    }\n",
       "\n",
       "    .dataframe tbody tr th {\n",
       "        vertical-align: top;\n",
       "    }\n",
       "\n",
       "    .dataframe thead th {\n",
       "        text-align: right;\n",
       "    }\n",
       "</style>\n",
       "<table border=\"1\" class=\"dataframe\">\n",
       "  <thead>\n",
       "    <tr style=\"text-align: right;\">\n",
       "      <th></th>\n",
       "      <th></th>\n",
       "      <th>lower</th>\n",
       "      <th>upper</th>\n",
       "    </tr>\n",
       "    <tr>\n",
       "      <th>name</th>\n",
       "      <th>conf</th>\n",
       "      <th></th>\n",
       "      <th></th>\n",
       "    </tr>\n",
       "  </thead>\n",
       "  <tbody>\n",
       "    <tr>\n",
       "      <th rowspan=\"3\" valign=\"top\">Profit Factor</th>\n",
       "      <th>97.5%</th>\n",
       "      <td>0.389781</td>\n",
       "      <td>2.464466</td>\n",
       "    </tr>\n",
       "    <tr>\n",
       "      <th>95%</th>\n",
       "      <td>0.465539</td>\n",
       "      <td>2.150435</td>\n",
       "    </tr>\n",
       "    <tr>\n",
       "      <th>90%</th>\n",
       "      <td>0.560400</td>\n",
       "      <td>1.843387</td>\n",
       "    </tr>\n",
       "    <tr>\n",
       "      <th rowspan=\"3\" valign=\"top\">Sharpe Ratio</th>\n",
       "      <th>97.5%</th>\n",
       "      <td>-0.176622</td>\n",
       "      <td>0.217270</td>\n",
       "    </tr>\n",
       "    <tr>\n",
       "      <th>95%</th>\n",
       "      <td>-0.147028</td>\n",
       "      <td>0.191185</td>\n",
       "    </tr>\n",
       "    <tr>\n",
       "      <th>90%</th>\n",
       "      <td>-0.110889</td>\n",
       "      <td>0.156415</td>\n",
       "    </tr>\n",
       "  </tbody>\n",
       "</table>\n",
       "</div>"
      ],
      "text/plain": [
       "                        lower     upper\n",
       "name          conf                     \n",
       "Profit Factor 97.5%  0.389781  2.464466\n",
       "              95%    0.465539  2.150435\n",
       "              90%    0.560400  1.843387\n",
       "Sharpe Ratio  97.5% -0.176622  0.217270\n",
       "              95%   -0.147028  0.191185\n",
       "              90%   -0.110889  0.156415"
      ]
     },
     "execution_count": 12,
     "metadata": {},
     "output_type": "execute_result"
    }
   ],
   "source": [
    "result.bootstrap.conf_intervals"
   ]
  },
  {
   "cell_type": "code",
   "execution_count": 13,
   "id": "5b3b2433",
   "metadata": {},
   "outputs": [
    {
     "data": {
      "text/html": [
       "<div>\n",
       "<style scoped>\n",
       "    .dataframe tbody tr th:only-of-type {\n",
       "        vertical-align: middle;\n",
       "    }\n",
       "\n",
       "    .dataframe tbody tr th {\n",
       "        vertical-align: top;\n",
       "    }\n",
       "\n",
       "    .dataframe thead th {\n",
       "        text-align: right;\n",
       "    }\n",
       "</style>\n",
       "<table border=\"1\" class=\"dataframe\">\n",
       "  <thead>\n",
       "    <tr style=\"text-align: right;\">\n",
       "      <th></th>\n",
       "      <th>amount</th>\n",
       "      <th>percent</th>\n",
       "    </tr>\n",
       "    <tr>\n",
       "      <th>conf</th>\n",
       "      <th></th>\n",
       "      <th></th>\n",
       "    </tr>\n",
       "  </thead>\n",
       "  <tbody>\n",
       "    <tr>\n",
       "      <th>99.9%</th>\n",
       "      <td>-12458.0</td>\n",
       "      <td>-10.791081</td>\n",
       "    </tr>\n",
       "    <tr>\n",
       "      <th>99%</th>\n",
       "      <td>-9836.0</td>\n",
       "      <td>-8.542115</td>\n",
       "    </tr>\n",
       "    <tr>\n",
       "      <th>95%</th>\n",
       "      <td>-7305.0</td>\n",
       "      <td>-6.497609</td>\n",
       "    </tr>\n",
       "    <tr>\n",
       "      <th>90%</th>\n",
       "      <td>-6254.0</td>\n",
       "      <td>-5.600556</td>\n",
       "    </tr>\n",
       "  </tbody>\n",
       "</table>\n",
       "</div>"
      ],
      "text/plain": [
       "        amount    percent\n",
       "conf                     \n",
       "99.9% -12458.0 -10.791081\n",
       "99%    -9836.0  -8.542115\n",
       "95%    -7305.0  -6.497609\n",
       "90%    -6254.0  -5.600556"
      ]
     },
     "execution_count": 13,
     "metadata": {},
     "output_type": "execute_result"
    }
   ],
   "source": [
    "result.bootstrap.drawdown_conf"
   ]
  },
  {
   "cell_type": "markdown",
   "id": "0f1abad3",
   "metadata": {},
   "source": [
    "Özetle, Walkforward Analizi'nin yardımıyla **PyBroker** kullanarak doğrusal bir regresyon modelini eğitme ve geriye dönük test etme sürecini tamamladık. Gördüğümüz ölçümler, arka testteki tüm zaman pencerelerinden elde edilen test verilerine dayanmaktadır. Ticaret stratejimizin iyileştirilmesi gerekmesine rağmen **PyBroker**'da bir modelin nasıl eğitilip değerlendirileceği konusunda iyi bir anlayışa sahip olduk.\n",
    "\n",
    "Regresyon analizi yapmadan önce, [homoscedasticity](https://en.wikipedia.org/wiki/Homoscedasticity_and_heteroscedasticity), artıkların normalliği vb. gibi belirli varsayımları doğrulamanın önemli olduğunu lütfen unutmayın. Ayrıntıları vermedim. Kısalık olması açısından bu varsayımları burada paylaşıyorum ve bu alıştırmayı kendi başınıza yapmanızı tavsiye ediyorum.\n",
    "\n",
    "**PyBroker**'da yalnızca doğrusal regresyon modelleri oluşturmakla da sınırlı değiliz. Gradyan destekli makineler, sinir ağları veya seçtiğimiz diğer mimariler gibi diğer model türlerini eğitebiliriz. Bu esneklik, belirli ticaret hedeflerimiz için en iyi performansı gösteren modeli bulmak amacıyla çeşitli modelleri ve yaklaşımları keşfetmemize ve denememize olanak tanır.\n",
    "\n",
    "PyBroker ayrıca, duruma göre modelimiz için bir [input_data_fn](https://www.pybroker.com/en/latest/reference/pybroker.model.html#pybroker.model.model) belirtme yeteneği gibi özelleştirme seçenekleri de sunar. giriş verilerinin nasıl oluşturulduğunu özelleştirmemiz gerekiyor. Tahmin yapmak için birden fazla geçmiş değer kullanan otoregresif modeller (yani ARMA veya RNN) için girdi oluştururken bu gerekli olacaktır. Benzer şekilde, tahminlerin nasıl yapıldığını özelleştirmek için kendi [predict_fn](https://www.pybroker.com/en/latest/reference/pybroker.model.html#pybroker.model.model) modelimizi belirtebiliriz (varsayılan olarak, modelin ```tahmin``` fonksiyonu çağrılır).\n",
    "\n",
    "Bu bilgiyle **PyBroker**'da kendi modellerinizi ve ticaret stratejilerinizi oluşturmaya ve test etmeye başlayabilir ve bu çerçevenin sunduğu geniş olanakları keşfetmeye başlayabilirsiniz!"
   ]
  }
 ],
 "metadata": {
  "kernelspec": {
   "display_name": "Python 3 (ipykernel)",
   "language": "python",
   "name": "python3"
  },
  "language_info": {
   "codemirror_mode": {
    "name": "ipython",
    "version": 3
   },
   "file_extension": ".py",
   "mimetype": "text/x-python",
   "name": "python",
   "nbconvert_exporter": "python",
   "pygments_lexer": "ipython3",
   "version": "3.10.9"
  }
 },
 "nbformat": 4,
 "nbformat_minor": 5
}
