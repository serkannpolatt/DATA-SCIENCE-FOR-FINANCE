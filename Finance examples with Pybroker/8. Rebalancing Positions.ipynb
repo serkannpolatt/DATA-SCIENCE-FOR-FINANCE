{
 "cells": [
  {
   "cell_type": "markdown",
   "id": "d95e2c6b",
   "metadata": {},
   "source": [
    "# Pozisyonların Yeniden Dengelenmesi\n",
    "\n",
    "**PyBroker** bir portföyün yeniden dengelenmesini simüle etmek için kullanılabilir. Bu, **PyBroker**'ın bir portföyün varlık tahsisini istenen hedef tahsise uyacak şekilde ayarlamayı simüle edebileceği anlamına gelir. Ek olarak, bu not defterinin de göstereceği gibi, portföyümüz [portföy optimizasyonu](https://en.wikipedia.org/wiki/Portfolio_optimization) kullanılarak yeniden dengelenebilir."
   ]
  },
  {
   "cell_type": "code",
   "execution_count": 19,
   "id": "1b3d19c9",
   "metadata": {},
   "outputs": [
    {
     "data": {
      "text/plain": [
       "<diskcache.core.Cache at 0x18a4f9d93c0>"
      ]
     },
     "execution_count": 19,
     "metadata": {},
     "output_type": "execute_result"
    }
   ],
   "source": [
    "import pybroker as pyb\n",
    "from datetime import datetime\n",
    "from pybroker import ExecContext, Strategy, YFinance\n",
    "\n",
    "pyb.enable_data_source_cache('rebalancing')"
   ]
  },
  {
   "cell_type": "markdown",
   "id": "807d42ab",
   "metadata": {},
   "source": [
    "## Eşit Konum Boyutlandırması\n",
    "\n",
    "Portföyümüzdeki her varlığın kabaca eşit bir tahsise sahip olduğundan emin olmak için her ayın başında sadece uzun vadeli bir portföyü yeniden dengelemek istediğimizi varsayalım.\n",
    "\n",
    "Öncelikle mevcut çubuğun tarihinin yeni ayın başlangıcı olduğunu tespit edecek bir yardımcı fonksiyon yazarak başlıyoruz:"
   ]
  },
  {
   "cell_type": "code",
   "execution_count": 20,
   "id": "e4e129f0",
   "metadata": {},
   "outputs": [],
   "source": [
    "def start_of_month(dt: datetime) -> bool:\n",
    "    if dt.month != pyb.param('current_month'):\n",
    "        pyb.param('current_month', dt.month)\n",
    "        return True\n",
    "    return False"
   ]
  },
  {
   "cell_type": "markdown",
   "id": "37b1ce80",
   "metadata": {},
   "source": [
    "Daha sonra, hedef tahsise ulaşmak için bir varlıkta yeterli miktarda hisse satın alacak veya satacak bir fonksiyon uyguluyoruz."
   ]
  },
  {
   "cell_type": "code",
   "execution_count": 21,
   "id": "4dcac652",
   "metadata": {},
   "outputs": [],
   "source": [
    "def set_target_shares(\n",
    "    ctxs: dict[str, ExecContext], \n",
    "    targets: dict[str, float]\n",
    "):\n",
    "    for symbol, target in targets.items():\n",
    "        ctx = ctxs[symbol]\n",
    "        target_shares = ctx.calc_target_shares(target)\n",
    "        pos = ctx.long_pos()\n",
    "        if pos is None:\n",
    "            ctx.buy_shares = target_shares\n",
    "        elif pos.shares < target_shares:\n",
    "            ctx.buy_shares = target_shares - pos.shares\n",
    "        elif pos.shares > target_shares:\n",
    "            ctx.sell_shares = pos.shares - target_shares"
   ]
  },
  {
   "cell_type": "markdown",
   "id": "ef4d6cfd",
   "metadata": {},
   "source": [
    "Mevcut tahsis hedef seviyenin üzerindeyse fonksiyon varlığın bir kısmını satacak, mevcut tahsis hedef seviyenin altındaysa fonksiyon varlığın bir kısmını satın alacaktır.\n",
    "\n",
    "Bunu takiben, her ayın başında her varlığı eşit hedef tahsisine ayarlamak için bir ``yeniden dengeleme`` işlevi yazıyoruz:"
   ]
  },
  {
   "cell_type": "code",
   "execution_count": 22,
   "id": "2ab0fbfe",
   "metadata": {},
   "outputs": [],
   "source": [
    "def rebalance(ctxs: dict[str, ExecContext]):\n",
    "    dt = tuple(ctxs.values())[0].dt\n",
    "    if start_of_month(dt):\n",
    "        target = 1 / len(ctxs)\n",
    "        set_target_shares(ctxs, {symbol: target for symbol in ctxs.keys()})"
   ]
  },
  {
   "cell_type": "markdown",
   "id": "bb714864",
   "metadata": {},
   "source": [
    "Now that we have implemented the ``rebalance`` function, the next step is to backtest our rebalancing strategy using five different stocks in our portfolio. To process all stocks at once on each bar of data, we will use the [Strategy#set_after_exec](https://www.pybroker.com/en/latest/reference/pybroker.strategy.html#pybroker.strategy.Strategy.set_after_exec) method:"
   ]
  },
  {
   "cell_type": "code",
   "execution_count": 23,
   "id": "4e74fa41",
   "metadata": {},
   "outputs": [
    {
     "name": "stdout",
     "output_type": "stream",
     "text": [
      "Backtesting: 2018-01-01 00:00:00 to 2023-01-01 00:00:00\n",
      "\n",
      "Loaded cached bar data.\n",
      "\n",
      "Test split: 2018-01-01 00:00:00 to 2022-12-30 00:00:00\n"
     ]
    },
    {
     "name": "stderr",
     "output_type": "stream",
     "text": [
      "  0% (0 of 1274) |                       | Elapsed Time: 0:00:00 ETA:  --:--:--\n",
      "  5% (71 of 1274) |#                     | Elapsed Time: 0:00:00 ETA:  00:00:00\n",
      " 13% (171 of 1274) |##                   | Elapsed Time: 0:00:00 ETA:   0:00:00\n",
      " 19% (251 of 1274) |####                 | Elapsed Time: 0:00:00 ETA:   0:00:00\n",
      " 25% (331 of 1274) |#####                | Elapsed Time: 0:00:00 ETA:   0:00:00\n",
      " 33% (421 of 1274) |######               | Elapsed Time: 0:00:00 ETA:   0:00:00\n",
      " 39% (501 of 1274) |########             | Elapsed Time: 0:00:00 ETA:   0:00:00\n",
      " 47% (601 of 1274) |#########            | Elapsed Time: 0:00:00 ETA:   0:00:00\n",
      " 55% (701 of 1274) |###########          | Elapsed Time: 0:00:00 ETA:   0:00:00\n",
      " 62% (791 of 1274) |#############        | Elapsed Time: 0:00:00 ETA:   0:00:00\n",
      " 68% (871 of 1274) |##############       | Elapsed Time: 0:00:00 ETA:   0:00:00\n",
      " 75% (961 of 1274) |###############      | Elapsed Time: 0:00:00 ETA:   0:00:00\n",
      " 81% (1041 of 1274) |################    | Elapsed Time: 0:00:00 ETA:   0:00:00\n",
      " 87% (1121 of 1274) |#################   | Elapsed Time: 0:00:00 ETA:   0:00:00\n",
      " 94% (1201 of 1274) |##################  | Elapsed Time: 0:00:00 ETA:   0:00:00\n",
      "100% (1274 of 1274) |####################| Elapsed Time: 0:00:00 Time:  0:00:00\n"
     ]
    },
    {
     "name": "stdout",
     "output_type": "stream",
     "text": [
      "\n",
      "Finished backtest: 0:00:01\n"
     ]
    }
   ],
   "source": [
    "strategy = Strategy(YFinance(), start_date='1/1/2018', end_date='1/1/2023')\n",
    "strategy.add_execution(None, ['FROTO.IS', 'DOAS.IS', 'FROTO.IS', 'EREGL.IS', 'ISMEN.IS'])\n",
    "strategy.set_after_exec(rebalance)\n",
    "result = strategy.backtest()"
   ]
  },
  {
   "cell_type": "code",
   "execution_count": 24,
   "id": "2db2b1db",
   "metadata": {},
   "outputs": [
    {
     "data": {
      "text/html": [
       "<div>\n",
       "<style scoped>\n",
       "    .dataframe tbody tr th:only-of-type {\n",
       "        vertical-align: middle;\n",
       "    }\n",
       "\n",
       "    .dataframe tbody tr th {\n",
       "        vertical-align: top;\n",
       "    }\n",
       "\n",
       "    .dataframe thead th {\n",
       "        text-align: right;\n",
       "    }\n",
       "</style>\n",
       "<table border=\"1\" class=\"dataframe\">\n",
       "  <thead>\n",
       "    <tr style=\"text-align: right;\">\n",
       "      <th></th>\n",
       "      <th>type</th>\n",
       "      <th>symbol</th>\n",
       "      <th>date</th>\n",
       "      <th>shares</th>\n",
       "      <th>limit_price</th>\n",
       "      <th>fill_price</th>\n",
       "      <th>fees</th>\n",
       "    </tr>\n",
       "    <tr>\n",
       "      <th>id</th>\n",
       "      <th></th>\n",
       "      <th></th>\n",
       "      <th></th>\n",
       "      <th></th>\n",
       "      <th></th>\n",
       "      <th></th>\n",
       "      <th></th>\n",
       "    </tr>\n",
       "  </thead>\n",
       "  <tbody>\n",
       "    <tr>\n",
       "      <th>1</th>\n",
       "      <td>buy</td>\n",
       "      <td>DOAS.IS</td>\n",
       "      <td>2018-01-02</td>\n",
       "      <td>3033</td>\n",
       "      <td>NaN</td>\n",
       "      <td>8.32</td>\n",
       "      <td>0.0</td>\n",
       "    </tr>\n",
       "    <tr>\n",
       "      <th>2</th>\n",
       "      <td>buy</td>\n",
       "      <td>FROTO.IS</td>\n",
       "      <td>2018-01-02</td>\n",
       "      <td>414</td>\n",
       "      <td>NaN</td>\n",
       "      <td>61.82</td>\n",
       "      <td>0.0</td>\n",
       "    </tr>\n",
       "    <tr>\n",
       "      <th>3</th>\n",
       "      <td>buy</td>\n",
       "      <td>ISMEN.IS</td>\n",
       "      <td>2018-01-02</td>\n",
       "      <td>43115</td>\n",
       "      <td>NaN</td>\n",
       "      <td>0.58</td>\n",
       "      <td>0.0</td>\n",
       "    </tr>\n",
       "    <tr>\n",
       "      <th>4</th>\n",
       "      <td>buy</td>\n",
       "      <td>EREGL.IS</td>\n",
       "      <td>2018-01-02</td>\n",
       "      <td>2373</td>\n",
       "      <td>NaN</td>\n",
       "      <td>10.18</td>\n",
       "      <td>0.0</td>\n",
       "    </tr>\n",
       "    <tr>\n",
       "      <th>5</th>\n",
       "      <td>sell</td>\n",
       "      <td>DOAS.IS</td>\n",
       "      <td>2018-02-02</td>\n",
       "      <td>138</td>\n",
       "      <td>NaN</td>\n",
       "      <td>8.98</td>\n",
       "      <td>0.0</td>\n",
       "    </tr>\n",
       "    <tr>\n",
       "      <th>...</th>\n",
       "      <td>...</td>\n",
       "      <td>...</td>\n",
       "      <td>...</td>\n",
       "      <td>...</td>\n",
       "      <td>...</td>\n",
       "      <td>...</td>\n",
       "      <td>...</td>\n",
       "    </tr>\n",
       "    <tr>\n",
       "      <th>236</th>\n",
       "      <td>buy</td>\n",
       "      <td>EREGL.IS</td>\n",
       "      <td>2022-11-02</td>\n",
       "      <td>1221</td>\n",
       "      <td>NaN</td>\n",
       "      <td>30.29</td>\n",
       "      <td>0.0</td>\n",
       "    </tr>\n",
       "    <tr>\n",
       "      <th>237</th>\n",
       "      <td>sell</td>\n",
       "      <td>ISMEN.IS</td>\n",
       "      <td>2022-12-02</td>\n",
       "      <td>670</td>\n",
       "      <td>NaN</td>\n",
       "      <td>11.01</td>\n",
       "      <td>0.0</td>\n",
       "    </tr>\n",
       "    <tr>\n",
       "      <th>238</th>\n",
       "      <td>sell</td>\n",
       "      <td>EREGL.IS</td>\n",
       "      <td>2022-12-02</td>\n",
       "      <td>740</td>\n",
       "      <td>NaN</td>\n",
       "      <td>41.88</td>\n",
       "      <td>0.0</td>\n",
       "    </tr>\n",
       "    <tr>\n",
       "      <th>239</th>\n",
       "      <td>buy</td>\n",
       "      <td>DOAS.IS</td>\n",
       "      <td>2022-12-02</td>\n",
       "      <td>111</td>\n",
       "      <td>NaN</td>\n",
       "      <td>155.05</td>\n",
       "      <td>0.0</td>\n",
       "    </tr>\n",
       "    <tr>\n",
       "      <th>240</th>\n",
       "      <td>buy</td>\n",
       "      <td>FROTO.IS</td>\n",
       "      <td>2022-12-02</td>\n",
       "      <td>47</td>\n",
       "      <td>NaN</td>\n",
       "      <td>443.95</td>\n",
       "      <td>0.0</td>\n",
       "    </tr>\n",
       "  </tbody>\n",
       "</table>\n",
       "<p>240 rows × 7 columns</p>\n",
       "</div>"
      ],
      "text/plain": [
       "     type    symbol       date  shares  limit_price  fill_price  fees\n",
       "id                                                                   \n",
       "1     buy   DOAS.IS 2018-01-02    3033          NaN        8.32   0.0\n",
       "2     buy  FROTO.IS 2018-01-02     414          NaN       61.82   0.0\n",
       "3     buy  ISMEN.IS 2018-01-02   43115          NaN        0.58   0.0\n",
       "4     buy  EREGL.IS 2018-01-02    2373          NaN       10.18   0.0\n",
       "5    sell   DOAS.IS 2018-02-02     138          NaN        8.98   0.0\n",
       "..    ...       ...        ...     ...          ...         ...   ...\n",
       "236   buy  EREGL.IS 2022-11-02    1221          NaN       30.29   0.0\n",
       "237  sell  ISMEN.IS 2022-12-02     670          NaN       11.01   0.0\n",
       "238  sell  EREGL.IS 2022-12-02     740          NaN       41.88   0.0\n",
       "239   buy   DOAS.IS 2022-12-02     111          NaN      155.05   0.0\n",
       "240   buy  FROTO.IS 2022-12-02      47          NaN      443.95   0.0\n",
       "\n",
       "[240 rows x 7 columns]"
      ]
     },
     "execution_count": 24,
     "metadata": {},
     "output_type": "execute_result"
    }
   ],
   "source": [
    "result.orders"
   ]
  },
  {
   "cell_type": "markdown",
   "id": "81452ad7",
   "metadata": {},
   "source": [
    "## Portföy Optimizasyonu\n",
    "\n",
    "[Portföy optimizasyonu](https://en.wikipedia.org/wiki/Portfolio_optimization), portföyümüz için bazı hedeflere ulaşmak amacıyla yeniden dengelememize rehberlik edebilir. Örneğin, varlıkları riski en aza indirecek şekilde tahsis etmek amacıyla portföy optimizasyonunu kullanabiliriz.\n",
    "\n",
    "[Riskfolio-Lib](https://riskfolio-lib.readthedocs.io/), portföy optimizasyonu gerçekleştirmek için kullanılan popüler bir Python kitaplığıdır. Aşağıda, portföyün geçen yıla dayalı olarak [Koşullu Riske Maruz Değeri (CVar)](https://www.investopedia.com/terms/c/conditional_value_at_risk.asp) değerini en aza indirerek minimum risk portföyü oluşturmak için nasıl kullanılacağı gösterilmektedir. İadeler:"
   ]
  },
  {
   "cell_type": "code",
   "execution_count": 25,
   "id": "128204be",
   "metadata": {},
   "outputs": [],
   "source": [
    "import pandas as pd\n",
    "import riskfolio as rp\n",
    "\n",
    "pyb.param('lookback', 252)  # Geçmiş yılın getirilerini kullanın.\n",
    "\n",
    "def calculate_returns(ctxs: dict[str, ExecContext], lookback: int):\n",
    "    prices = {}\n",
    "    for ctx in ctxs.values():\n",
    "        prices[ctx.symbol] = ctx.adj_close[-lookback:]\n",
    "    df = pd.DataFrame(prices)\n",
    "    return df.pct_change().dropna()\n",
    "\n",
    "def optimization(ctxs: dict[str, ExecContext]):\n",
    "    lookback = pyb.param('lookback')\n",
    "    first_ctx = tuple(ctxs.values())[0]\n",
    "    if start_of_month(first_ctx.dt):\n",
    "        Y = calculate_returns(ctxs, lookback)\n",
    "        port = rp.Portfolio(returns=Y)\n",
    "        port.assets_stats(method_mu='hist', method_cov='hist', d=0.94)\n",
    "        w = port.optimization(\n",
    "            model='Classic', \n",
    "            rm='CVaR', \n",
    "            obj='MinRisk', \n",
    "            rf=0,      # Risksiz oran.\n",
    "            l=0,       # Riskten kaçınma faktörü.\n",
    "            hist=True  # Tarihsel senaryoları kullanın.\n",
    "        )\n",
    "        targets = {\n",
    "            symbol: w.T[symbol].values[0]\n",
    "            for symbol in ctxs.keys()\n",
    "        }\n",
    "        set_target_shares(ctxs, targets)"
   ]
  },
  {
   "cell_type": "markdown",
   "id": "bec587f2",
   "metadata": {},
   "source": [
    "Resmi belgelerde [Riskfolio-Lib](https://riskfolio-lib.readthedocs.io/) kullanımına ilişkin daha fazla bilgi ve örnek bulabilirsiniz. Şimdi stratejiyi geriye doğru test etmeye geçelim!"
   ]
  },
  {
   "cell_type": "code",
   "execution_count": 26,
   "id": "7353fc62",
   "metadata": {},
   "outputs": [
    {
     "name": "stdout",
     "output_type": "stream",
     "text": [
      "Backtesting: 2018-01-01 00:00:00 to 2023-01-01 00:00:00\n",
      "\n",
      "Loaded cached bar data.\n",
      "\n",
      "Test split: 2018-01-01 00:00:00 to 2022-12-30 00:00:00\n"
     ]
    },
    {
     "name": "stderr",
     "output_type": "stream",
     "text": [
      "  0% (0 of 1274) |                       | Elapsed Time: 0:00:00 ETA:  --:--:--\n",
      " 22% (291 of 1274) |####                 | Elapsed Time: 0:00:00 ETA:  00:00:00\n",
      " 25% (331 of 1274) |#####                | Elapsed Time: 0:00:00 ETA:   0:00:00\n",
      " 29% (371 of 1274) |######               | Elapsed Time: 0:00:00 ETA:   0:00:00\n",
      " 33% (421 of 1274) |######               | Elapsed Time: 0:00:00 ETA:   0:00:00\n",
      " 36% (461 of 1274) |#######              | Elapsed Time: 0:00:00 ETA:   0:00:00\n",
      " 39% (501 of 1274) |########             | Elapsed Time: 0:00:00 ETA:   0:00:00\n",
      " 43% (551 of 1274) |#########            | Elapsed Time: 0:00:00 ETA:   0:00:00\n",
      " 47% (601 of 1274) |#########            | Elapsed Time: 0:00:00 ETA:   0:00:00\n",
      " 49% (631 of 1274) |##########           | Elapsed Time: 0:00:00 ETA:   0:00:00\n",
      " 52% (671 of 1274) |###########          | Elapsed Time: 0:00:00 ETA:   0:00:00\n",
      " 55% (711 of 1274) |###########          | Elapsed Time: 0:00:00 ETA:   0:00:00\n",
      " 58% (751 of 1274) |############         | Elapsed Time: 0:00:00 ETA:   0:00:00\n",
      " 63% (811 of 1274) |#############        | Elapsed Time: 0:00:00 ETA:   0:00:00\n",
      " 66% (841 of 1274) |#############        | Elapsed Time: 0:00:00 ETA:   0:00:00\n",
      " 69% (891 of 1274) |##############       | Elapsed Time: 0:00:00 ETA:   0:00:00\n",
      " 72% (921 of 1274) |###############      | Elapsed Time: 0:00:01 ETA:   0:00:00\n",
      " 75% (961 of 1274) |###############      | Elapsed Time: 0:00:01 ETA:   0:00:00\n",
      " 78% (1001 of 1274) |###############     | Elapsed Time: 0:00:01 ETA:   0:00:00\n",
      " 82% (1051 of 1274) |################    | Elapsed Time: 0:00:01 ETA:   0:00:00\n",
      " 86% (1101 of 1274) |#################   | Elapsed Time: 0:00:01 ETA:   0:00:00\n",
      " 88% (1131 of 1274) |#################   | Elapsed Time: 0:00:01 ETA:   0:00:00\n",
      " 91% (1171 of 1274) |##################  | Elapsed Time: 0:00:01 ETA:   0:00:00\n",
      " 95% (1211 of 1274) |################### | Elapsed Time: 0:00:01 ETA:   0:00:00\n",
      " 98% (1261 of 1274) |################### | Elapsed Time: 0:00:01 ETA:   0:00:00\n",
      "100% (1274 of 1274) |####################| Elapsed Time: 0:00:01 Time:  0:00:01\n"
     ]
    },
    {
     "name": "stdout",
     "output_type": "stream",
     "text": [
      "\n",
      "Finished backtest: 0:00:02\n"
     ]
    }
   ],
   "source": [
    "strategy.set_after_exec(optimization)\n",
    "result = strategy.backtest(warmup=pyb.param('lookback'))"
   ]
  },
  {
   "cell_type": "code",
   "execution_count": 27,
   "id": "95b1e1d8",
   "metadata": {},
   "outputs": [
    {
     "data": {
      "text/html": [
       "<div>\n",
       "<style scoped>\n",
       "    .dataframe tbody tr th:only-of-type {\n",
       "        vertical-align: middle;\n",
       "    }\n",
       "\n",
       "    .dataframe tbody tr th {\n",
       "        vertical-align: top;\n",
       "    }\n",
       "\n",
       "    .dataframe thead th {\n",
       "        text-align: right;\n",
       "    }\n",
       "</style>\n",
       "<table border=\"1\" class=\"dataframe\">\n",
       "  <thead>\n",
       "    <tr style=\"text-align: right;\">\n",
       "      <th></th>\n",
       "      <th>type</th>\n",
       "      <th>symbol</th>\n",
       "      <th>date</th>\n",
       "      <th>shares</th>\n",
       "      <th>limit_price</th>\n",
       "      <th>fill_price</th>\n",
       "      <th>fees</th>\n",
       "    </tr>\n",
       "    <tr>\n",
       "      <th>id</th>\n",
       "      <th></th>\n",
       "      <th></th>\n",
       "      <th></th>\n",
       "      <th></th>\n",
       "      <th></th>\n",
       "      <th></th>\n",
       "      <th></th>\n",
       "    </tr>\n",
       "  </thead>\n",
       "  <tbody>\n",
       "    <tr>\n",
       "      <th>1</th>\n",
       "      <td>buy</td>\n",
       "      <td>DOAS.IS</td>\n",
       "      <td>2019-01-02</td>\n",
       "      <td>5315</td>\n",
       "      <td>NaN</td>\n",
       "      <td>4.34</td>\n",
       "      <td>0.0</td>\n",
       "    </tr>\n",
       "    <tr>\n",
       "      <th>2</th>\n",
       "      <td>buy</td>\n",
       "      <td>FROTO.IS</td>\n",
       "      <td>2019-01-02</td>\n",
       "      <td>69</td>\n",
       "      <td>NaN</td>\n",
       "      <td>48.69</td>\n",
       "      <td>0.0</td>\n",
       "    </tr>\n",
       "    <tr>\n",
       "      <th>3</th>\n",
       "      <td>buy</td>\n",
       "      <td>ISMEN.IS</td>\n",
       "      <td>2019-01-02</td>\n",
       "      <td>112603</td>\n",
       "      <td>NaN</td>\n",
       "      <td>0.49</td>\n",
       "      <td>0.0</td>\n",
       "    </tr>\n",
       "    <tr>\n",
       "      <th>4</th>\n",
       "      <td>buy</td>\n",
       "      <td>EREGL.IS</td>\n",
       "      <td>2019-01-02</td>\n",
       "      <td>2553</td>\n",
       "      <td>NaN</td>\n",
       "      <td>7.15</td>\n",
       "      <td>0.0</td>\n",
       "    </tr>\n",
       "    <tr>\n",
       "      <th>5</th>\n",
       "      <td>sell</td>\n",
       "      <td>ISMEN.IS</td>\n",
       "      <td>2019-02-04</td>\n",
       "      <td>3422</td>\n",
       "      <td>NaN</td>\n",
       "      <td>0.59</td>\n",
       "      <td>0.0</td>\n",
       "    </tr>\n",
       "  </tbody>\n",
       "</table>\n",
       "</div>"
      ],
      "text/plain": [
       "    type    symbol       date  shares  limit_price  fill_price  fees\n",
       "id                                                                  \n",
       "1    buy   DOAS.IS 2019-01-02    5315          NaN        4.34   0.0\n",
       "2    buy  FROTO.IS 2019-01-02      69          NaN       48.69   0.0\n",
       "3    buy  ISMEN.IS 2019-01-02  112603          NaN        0.49   0.0\n",
       "4    buy  EREGL.IS 2019-01-02    2553          NaN        7.15   0.0\n",
       "5   sell  ISMEN.IS 2019-02-04    3422          NaN        0.59   0.0"
      ]
     },
     "execution_count": 27,
     "metadata": {},
     "output_type": "execute_result"
    }
   ],
   "source": [
    "result.orders.head()"
   ]
  }
 ],
 "metadata": {
  "kernelspec": {
   "display_name": "Python 3 (ipykernel)",
   "language": "python",
   "name": "python3"
  },
  "language_info": {
   "codemirror_mode": {
    "name": "ipython",
    "version": 3
   },
   "file_extension": ".py",
   "mimetype": "text/x-python",
   "name": "python",
   "nbconvert_exporter": "python",
   "pygments_lexer": "ipython3",
   "version": "3.10.9"
  }
 },
 "nbformat": 4,
 "nbformat_minor": 5
}
