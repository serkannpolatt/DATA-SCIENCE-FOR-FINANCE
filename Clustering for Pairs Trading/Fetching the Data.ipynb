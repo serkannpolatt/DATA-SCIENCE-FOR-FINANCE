{
 "cells": [
  {
   "attachments": {},
   "cell_type": "markdown",
   "metadata": {},
   "source": [
    "### Fetching the data for all the stocks of S&P500\n",
    "### S&P500'ün tüm hisse senetleri için veriler getiriliyor"
   ]
  },
  {
   "cell_type": "code",
   "execution_count": 1,
   "metadata": {},
   "outputs": [],
   "source": [
    "# Load libraries\n",
    "import pandas as pd\n",
    "import pandas_datareader as dr"
   ]
  },
  {
   "cell_type": "code",
   "execution_count": 2,
   "metadata": {},
   "outputs": [],
   "source": [
    "# load dataset\n",
    "#scraping wikipedia to fetch S&P 500 stock list\n",
    "snp500url = \"https://en.wikipedia.org/wiki/List_of_S%26P_500_companies\"\n",
    "data_table = pd.read_html(snp500url)"
   ]
  },
  {
   "cell_type": "code",
   "execution_count": 3,
   "metadata": {},
   "outputs": [
    {
     "name": "stdout",
     "output_type": "stream",
     "text": [
      "\n",
      "Total number of companies are: 502\n"
     ]
    }
   ],
   "source": [
    "tickers = data_table[0][1:]['Symbol'].tolist()\n",
    "#print(tickers)\n",
    "print(\"\\nTotal number of companies are:\", len(tickers))"
   ]
  },
  {
   "cell_type": "code",
   "execution_count": 4,
   "metadata": {},
   "outputs": [
    {
     "name": "stdout",
     "output_type": "stream",
     "text": [
      "No data available for AOS\n",
      "No data available for ABT\n",
      "No data available for ABBV\n",
      "No data available for ACN\n",
      "No data available for ATVI\n",
      "No data available for ADM\n",
      "No data available for ADBE\n",
      "No data available for ADP\n",
      "No data available for AAP\n",
      "No data available for AES\n",
      "No data available for AFL\n",
      "No data available for A\n",
      "No data available for APD\n",
      "No data available for AKAM\n",
      "No data available for ALK\n",
      "No data available for ALB\n",
      "No data available for ARE\n",
      "No data available for ALGN\n",
      "No data available for ALLE\n",
      "No data available for LNT\n",
      "No data available for ALL\n",
      "No data available for GOOGL\n",
      "No data available for GOOG\n"
     ]
    },
    {
     "name": "stdout",
     "output_type": "stream",
     "text": [
      "No data available for MO\n"
     ]
    }
   ],
   "source": [
    "price_list = []\n",
    "for ticker in tickers:\n",
    "    try:\n",
    "        prices = dr.DataReader(ticker, 'yahoo', '01/01/2018')['Close']\n",
    "        prices = pd.DataFrame(prices)\n",
    "        prices.columns = [ticker]\n",
    "        price_list.append(prices)\n",
    "    except:\n",
    "        print(f\"No data available for {ticker}\")\n",
    "\n",
    "prices_df = pd.concat(price_list, axis=1)\n",
    "prices_df.sort_index(inplace=True)\n",
    "\n",
    "prices_df.to_csv(\"SP500Data2.csv\") "
   ]
  },
  {
   "cell_type": "code",
   "execution_count": 1,
   "metadata": {},
   "outputs": [
    {
     "name": "stdout",
     "output_type": "stream",
     "text": [
      "Got error from yahoo api for ticker BRK.B, Error: {'code': 'Not Found', 'description': 'No data found, symbol may be delisted'}\n",
      "- BRK.B: No timezone found, symbol may be delisted\n",
      "BF.B: No data found for this date range, symbol may be delisted\n",
      "\n",
      "Total number of companies with data / Verileri olan toplam şirket sayısı: 502\n"
     ]
    }
   ],
   "source": [
    "import pandas as pd\n",
    "import yfinance as yf\n",
    "\n",
    "# Scraping Wikipedia to fetch S&P 500 stock list\n",
    "# S&P 500 hisse senedi listesini almak için Wikipedia'yı kazıma\n",
    "snp500url = \"https://en.wikipedia.org/wiki/List_of_S%26P_500_companies\"\n",
    "data_table = pd.read_html(snp500url)\n",
    "tickers = data_table[0][1:]['Symbol'].tolist()\n",
    "\n",
    "# Initialize an empty list to store price data\n",
    "# Fiyat verilerini depolamak için boş bir liste başlatın\n",
    "price_list = []\n",
    "\n",
    "# Set the start and end dates for data retrieval\n",
    "# Veri alımı için başlangıç ​​ve bitiş tarihlerini ayarlayın\n",
    "start_date = '2018-01-01'\n",
    "end_date = '2023-08-08'\n",
    "\n",
    "# Loop through tickers and fetch data using yfinance\n",
    "# yfinance kullanarak şeritler arasında geçiş yapın ve verileri alın\n",
    "for ticker in tickers:\n",
    "    try:\n",
    "        stock = yf.Ticker(ticker)\n",
    "        prices = stock.history(start=start_date, end=end_date)['Close']\n",
    "        prices = pd.DataFrame(prices)\n",
    "        prices.columns = [ticker]\n",
    "        price_list.append(prices)\n",
    "    except yf.errors.YFError as e:\n",
    "        if 'No data found, symbol may be delisted' in str(e):\n",
    "            print(f\"No data available for {ticker}: {e}\")\n",
    "        else:\n",
    "            print(f\"Error for {ticker}: {e}\")\n",
    "\n",
    "# Concatenate price data into a DataFrame\n",
    "# Fiyat verilerini bir DataFrame'de birleştirin\n",
    "prices_df = pd.concat(price_list, axis=1)\n",
    "prices_df.sort_index(inplace=True)\n",
    "\n",
    "# Save the DataFrame to a CSV file\n",
    "# DataFrame'i bir CSV dosyasına kaydedin\n",
    "prices_df.to_csv(\"SP500Data2.csv\")\n",
    "\n",
    "print(\"\\nTotal number of companies with data / Verileri olan toplam şirket sayısı:\", len(prices_df.columns))\n"
   ]
  }
 ],
 "metadata": {
  "kernelspec": {
   "display_name": "Python 3",
   "language": "python",
   "name": "python3"
  },
  "language_info": {
   "codemirror_mode": {
    "name": "ipython",
    "version": 3
   },
   "file_extension": ".py",
   "mimetype": "text/x-python",
   "name": "python",
   "nbconvert_exporter": "python",
   "pygments_lexer": "ipython3",
   "version": "3.10.9"
  }
 },
 "nbformat": 4,
 "nbformat_minor": 2
}
