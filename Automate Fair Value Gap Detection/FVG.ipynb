{
 "cells": [
  {
   "cell_type": "markdown",
   "id": "05a8fd91",
   "metadata": {},
   "source": [
    "# FVG Indicator"
   ]
  },
  {
   "cell_type": "code",
   "execution_count": 1,
   "id": "964219a4",
   "metadata": {},
   "outputs": [
    {
     "data": {
      "text/html": [
       "<div>\n",
       "<style scoped>\n",
       "    .dataframe tbody tr th:only-of-type {\n",
       "        vertical-align: middle;\n",
       "    }\n",
       "\n",
       "    .dataframe tbody tr th {\n",
       "        vertical-align: top;\n",
       "    }\n",
       "\n",
       "    .dataframe thead th {\n",
       "        text-align: right;\n",
       "    }\n",
       "</style>\n",
       "<table border=\"1\" class=\"dataframe\">\n",
       "  <thead>\n",
       "    <tr style=\"text-align: right;\">\n",
       "      <th></th>\n",
       "      <th>Gmt time</th>\n",
       "      <th>Open</th>\n",
       "      <th>High</th>\n",
       "      <th>Low</th>\n",
       "      <th>Close</th>\n",
       "      <th>Volume</th>\n",
       "    </tr>\n",
       "  </thead>\n",
       "  <tbody>\n",
       "    <tr>\n",
       "      <th>0</th>\n",
       "      <td>01.07.2020 00:00:00.000</td>\n",
       "      <td>1.12336</td>\n",
       "      <td>1.12336</td>\n",
       "      <td>1.12275</td>\n",
       "      <td>1.12306</td>\n",
       "      <td>4148.0298</td>\n",
       "    </tr>\n",
       "    <tr>\n",
       "      <th>1</th>\n",
       "      <td>01.07.2020 01:00:00.000</td>\n",
       "      <td>1.12306</td>\n",
       "      <td>1.12395</td>\n",
       "      <td>1.12288</td>\n",
       "      <td>1.12385</td>\n",
       "      <td>5375.5801</td>\n",
       "    </tr>\n",
       "    <tr>\n",
       "      <th>2</th>\n",
       "      <td>01.07.2020 02:00:00.000</td>\n",
       "      <td>1.12386</td>\n",
       "      <td>1.12406</td>\n",
       "      <td>1.12363</td>\n",
       "      <td>1.12382</td>\n",
       "      <td>4131.6099</td>\n",
       "    </tr>\n",
       "    <tr>\n",
       "      <th>3</th>\n",
       "      <td>01.07.2020 03:00:00.000</td>\n",
       "      <td>1.12382</td>\n",
       "      <td>1.12388</td>\n",
       "      <td>1.12221</td>\n",
       "      <td>1.12265</td>\n",
       "      <td>4440.6001</td>\n",
       "    </tr>\n",
       "    <tr>\n",
       "      <th>4</th>\n",
       "      <td>01.07.2020 04:00:00.000</td>\n",
       "      <td>1.12265</td>\n",
       "      <td>1.12272</td>\n",
       "      <td>1.12151</td>\n",
       "      <td>1.12179</td>\n",
       "      <td>4833.1001</td>\n",
       "    </tr>\n",
       "    <tr>\n",
       "      <th>5</th>\n",
       "      <td>01.07.2020 05:00:00.000</td>\n",
       "      <td>1.12179</td>\n",
       "      <td>1.12261</td>\n",
       "      <td>1.12156</td>\n",
       "      <td>1.12240</td>\n",
       "      <td>6689.5601</td>\n",
       "    </tr>\n",
       "    <tr>\n",
       "      <th>6</th>\n",
       "      <td>01.07.2020 06:00:00.000</td>\n",
       "      <td>1.12240</td>\n",
       "      <td>1.12343</td>\n",
       "      <td>1.12202</td>\n",
       "      <td>1.12333</td>\n",
       "      <td>7562.7500</td>\n",
       "    </tr>\n",
       "    <tr>\n",
       "      <th>7</th>\n",
       "      <td>01.07.2020 07:00:00.000</td>\n",
       "      <td>1.12331</td>\n",
       "      <td>1.12331</td>\n",
       "      <td>1.12231</td>\n",
       "      <td>1.12315</td>\n",
       "      <td>8641.7500</td>\n",
       "    </tr>\n",
       "    <tr>\n",
       "      <th>8</th>\n",
       "      <td>01.07.2020 08:00:00.000</td>\n",
       "      <td>1.12315</td>\n",
       "      <td>1.12448</td>\n",
       "      <td>1.12290</td>\n",
       "      <td>1.12311</td>\n",
       "      <td>10042.7695</td>\n",
       "    </tr>\n",
       "    <tr>\n",
       "      <th>9</th>\n",
       "      <td>01.07.2020 09:00:00.000</td>\n",
       "      <td>1.12313</td>\n",
       "      <td>1.12337</td>\n",
       "      <td>1.12076</td>\n",
       "      <td>1.12076</td>\n",
       "      <td>9587.4004</td>\n",
       "    </tr>\n",
       "  </tbody>\n",
       "</table>\n",
       "</div>"
      ],
      "text/plain": [
       "                  Gmt time     Open     High      Low    Close      Volume\n",
       "0  01.07.2020 00:00:00.000  1.12336  1.12336  1.12275  1.12306   4148.0298\n",
       "1  01.07.2020 01:00:00.000  1.12306  1.12395  1.12288  1.12385   5375.5801\n",
       "2  01.07.2020 02:00:00.000  1.12386  1.12406  1.12363  1.12382   4131.6099\n",
       "3  01.07.2020 03:00:00.000  1.12382  1.12388  1.12221  1.12265   4440.6001\n",
       "4  01.07.2020 04:00:00.000  1.12265  1.12272  1.12151  1.12179   4833.1001\n",
       "5  01.07.2020 05:00:00.000  1.12179  1.12261  1.12156  1.12240   6689.5601\n",
       "6  01.07.2020 06:00:00.000  1.12240  1.12343  1.12202  1.12333   7562.7500\n",
       "7  01.07.2020 07:00:00.000  1.12331  1.12331  1.12231  1.12315   8641.7500\n",
       "8  01.07.2020 08:00:00.000  1.12315  1.12448  1.12290  1.12311  10042.7695\n",
       "9  01.07.2020 09:00:00.000  1.12313  1.12337  1.12076  1.12076   9587.4004"
      ]
     },
     "execution_count": 1,
     "metadata": {},
     "output_type": "execute_result"
    }
   ],
   "source": [
    "import pandas as pd\n",
    "df = pd.read_csv(\"EURUSD_Candlestick_1_Hour_BID_01.07.2020-15.07.2023.csv\")\n",
    "df=df[df['Volume']!=0]\n",
    "df.reset_index(drop=True, inplace=True)\n",
    "df.head(10)"
   ]
  },
  {
   "cell_type": "code",
   "execution_count": 2,
   "id": "34a5a23b",
   "metadata": {},
   "outputs": [],
   "source": [
    "df['Gmt time'] = pd.to_datetime(df['Gmt time'], format='%d.%m.%Y %H:%M:%S.%f')"
   ]
  },
  {
   "cell_type": "code",
   "execution_count": 3,
   "id": "33ac25a7",
   "metadata": {},
   "outputs": [],
   "source": [
    "def detect_fvg(data, lookback_period=10, body_multiplier=1.5):\n",
    "    \"\"\"\n",
    "    Detects Fair Value Gaps (FVGs) in historical price data.\n",
    "\n",
    "    Parameters:\n",
    "        data (DataFrame): DataFrame with columns ['open', 'high', 'low', 'close'].\n",
    "        lookback_period (int): Number of candles to look back for average body size.\n",
    "        body_multiplier (float): Multiplier to determine significant body size.\n",
    "\n",
    "    Returns:\n",
    "        list of tuples: Each tuple contains ('type', start, end, index).\n",
    "    \"\"\"\n",
    "    fvg_list = [None, None]\n",
    "\n",
    "    for i in range(2, len(data)):\n",
    "        first_high = data['High'].iloc[i-2]\n",
    "        first_low = data['Low'].iloc[i-2]\n",
    "        middle_open = data['Open'].iloc[i-1]\n",
    "        middle_close = data['Close'].iloc[i-1]\n",
    "        third_low = data['Low'].iloc[i]\n",
    "        third_high = data['High'].iloc[i]\n",
    "\n",
    "        # Calculate the average absolute body size over the lookback period\n",
    "        prev_bodies = (data['Close'].iloc[max(0, i-1-lookback_period):i-1] - \n",
    "                       data['Open'].iloc[max(0, i-1-lookback_period):i-1]).abs()\n",
    "        avg_body_size = prev_bodies.mean()\n",
    "        \n",
    "        # Ensure avg_body_size is nonzero to avoid false positives\n",
    "        avg_body_size = avg_body_size if avg_body_size > 0 else 0.001\n",
    "\n",
    "        middle_body = abs(middle_close - middle_open)\n",
    "\n",
    "        # Check for Bullish FVG\n",
    "        if third_low > first_high and middle_body > avg_body_size * body_multiplier:\n",
    "            fvg_list.append(('bullish', first_high, third_low, i))\n",
    "\n",
    "        # Check for Bearish FVG\n",
    "        elif third_high < first_low and middle_body > avg_body_size * body_multiplier:\n",
    "            fvg_list.append(('bearish', first_low, third_high, i))\n",
    "        \n",
    "        else:\n",
    "            fvg_list.append(None)\n",
    "\n",
    "    return fvg_list"
   ]
  },
  {
   "cell_type": "code",
   "execution_count": 4,
   "id": "e4f25d69",
   "metadata": {},
   "outputs": [
    {
     "data": {
      "text/html": [
       "<div>\n",
       "<style scoped>\n",
       "    .dataframe tbody tr th:only-of-type {\n",
       "        vertical-align: middle;\n",
       "    }\n",
       "\n",
       "    .dataframe tbody tr th {\n",
       "        vertical-align: top;\n",
       "    }\n",
       "\n",
       "    .dataframe thead th {\n",
       "        text-align: right;\n",
       "    }\n",
       "</style>\n",
       "<table border=\"1\" class=\"dataframe\">\n",
       "  <thead>\n",
       "    <tr style=\"text-align: right;\">\n",
       "      <th></th>\n",
       "      <th>Gmt time</th>\n",
       "      <th>Open</th>\n",
       "      <th>High</th>\n",
       "      <th>Low</th>\n",
       "      <th>Close</th>\n",
       "      <th>Volume</th>\n",
       "      <th>FVG</th>\n",
       "    </tr>\n",
       "  </thead>\n",
       "  <tbody>\n",
       "    <tr>\n",
       "      <th>0</th>\n",
       "      <td>2020-07-01 00:00:00</td>\n",
       "      <td>1.12336</td>\n",
       "      <td>1.12336</td>\n",
       "      <td>1.12275</td>\n",
       "      <td>1.12306</td>\n",
       "      <td>4148.0298</td>\n",
       "      <td>None</td>\n",
       "    </tr>\n",
       "    <tr>\n",
       "      <th>1</th>\n",
       "      <td>2020-07-01 01:00:00</td>\n",
       "      <td>1.12306</td>\n",
       "      <td>1.12395</td>\n",
       "      <td>1.12288</td>\n",
       "      <td>1.12385</td>\n",
       "      <td>5375.5801</td>\n",
       "      <td>None</td>\n",
       "    </tr>\n",
       "    <tr>\n",
       "      <th>2</th>\n",
       "      <td>2020-07-01 02:00:00</td>\n",
       "      <td>1.12386</td>\n",
       "      <td>1.12406</td>\n",
       "      <td>1.12363</td>\n",
       "      <td>1.12382</td>\n",
       "      <td>4131.6099</td>\n",
       "      <td>(bullish, 1.12336, 1.12363, 2)</td>\n",
       "    </tr>\n",
       "    <tr>\n",
       "      <th>3</th>\n",
       "      <td>2020-07-01 03:00:00</td>\n",
       "      <td>1.12382</td>\n",
       "      <td>1.12388</td>\n",
       "      <td>1.12221</td>\n",
       "      <td>1.12265</td>\n",
       "      <td>4440.6001</td>\n",
       "      <td>None</td>\n",
       "    </tr>\n",
       "    <tr>\n",
       "      <th>4</th>\n",
       "      <td>2020-07-01 04:00:00</td>\n",
       "      <td>1.12265</td>\n",
       "      <td>1.12272</td>\n",
       "      <td>1.12151</td>\n",
       "      <td>1.12179</td>\n",
       "      <td>4833.1001</td>\n",
       "      <td>(bearish, 1.12363, 1.12272, 4)</td>\n",
       "    </tr>\n",
       "    <tr>\n",
       "      <th>5</th>\n",
       "      <td>2020-07-01 05:00:00</td>\n",
       "      <td>1.12179</td>\n",
       "      <td>1.12261</td>\n",
       "      <td>1.12156</td>\n",
       "      <td>1.12240</td>\n",
       "      <td>6689.5601</td>\n",
       "      <td>None</td>\n",
       "    </tr>\n",
       "    <tr>\n",
       "      <th>6</th>\n",
       "      <td>2020-07-01 06:00:00</td>\n",
       "      <td>1.12240</td>\n",
       "      <td>1.12343</td>\n",
       "      <td>1.12202</td>\n",
       "      <td>1.12333</td>\n",
       "      <td>7562.7500</td>\n",
       "      <td>None</td>\n",
       "    </tr>\n",
       "    <tr>\n",
       "      <th>7</th>\n",
       "      <td>2020-07-01 07:00:00</td>\n",
       "      <td>1.12331</td>\n",
       "      <td>1.12331</td>\n",
       "      <td>1.12231</td>\n",
       "      <td>1.12315</td>\n",
       "      <td>8641.7500</td>\n",
       "      <td>None</td>\n",
       "    </tr>\n",
       "    <tr>\n",
       "      <th>8</th>\n",
       "      <td>2020-07-01 08:00:00</td>\n",
       "      <td>1.12315</td>\n",
       "      <td>1.12448</td>\n",
       "      <td>1.12290</td>\n",
       "      <td>1.12311</td>\n",
       "      <td>10042.7695</td>\n",
       "      <td>None</td>\n",
       "    </tr>\n",
       "    <tr>\n",
       "      <th>9</th>\n",
       "      <td>2020-07-01 09:00:00</td>\n",
       "      <td>1.12313</td>\n",
       "      <td>1.12337</td>\n",
       "      <td>1.12076</td>\n",
       "      <td>1.12076</td>\n",
       "      <td>9587.4004</td>\n",
       "      <td>None</td>\n",
       "    </tr>\n",
       "    <tr>\n",
       "      <th>10</th>\n",
       "      <td>2020-07-01 10:00:00</td>\n",
       "      <td>1.12076</td>\n",
       "      <td>1.12113</td>\n",
       "      <td>1.12002</td>\n",
       "      <td>1.12050</td>\n",
       "      <td>11767.5898</td>\n",
       "      <td>(bearish, 1.1229, 1.12113, 10)</td>\n",
       "    </tr>\n",
       "    <tr>\n",
       "      <th>11</th>\n",
       "      <td>2020-07-01 11:00:00</td>\n",
       "      <td>1.12050</td>\n",
       "      <td>1.12067</td>\n",
       "      <td>1.11848</td>\n",
       "      <td>1.12036</td>\n",
       "      <td>14733.7998</td>\n",
       "      <td>None</td>\n",
       "    </tr>\n",
       "    <tr>\n",
       "      <th>12</th>\n",
       "      <td>2020-07-01 12:00:00</td>\n",
       "      <td>1.12036</td>\n",
       "      <td>1.12209</td>\n",
       "      <td>1.11980</td>\n",
       "      <td>1.12177</td>\n",
       "      <td>13410.0596</td>\n",
       "      <td>None</td>\n",
       "    </tr>\n",
       "    <tr>\n",
       "      <th>13</th>\n",
       "      <td>2020-07-01 13:00:00</td>\n",
       "      <td>1.12176</td>\n",
       "      <td>1.12398</td>\n",
       "      <td>1.12140</td>\n",
       "      <td>1.12391</td>\n",
       "      <td>14157.5195</td>\n",
       "      <td>(bullish, 1.12067, 1.1214, 13)</td>\n",
       "    </tr>\n",
       "    <tr>\n",
       "      <th>14</th>\n",
       "      <td>2020-07-01 14:00:00</td>\n",
       "      <td>1.12391</td>\n",
       "      <td>1.12751</td>\n",
       "      <td>1.12364</td>\n",
       "      <td>1.12605</td>\n",
       "      <td>20865.6504</td>\n",
       "      <td>(bullish, 1.12209, 1.12364, 14)</td>\n",
       "    </tr>\n",
       "    <tr>\n",
       "      <th>15</th>\n",
       "      <td>2020-07-01 15:00:00</td>\n",
       "      <td>1.12606</td>\n",
       "      <td>1.12697</td>\n",
       "      <td>1.12538</td>\n",
       "      <td>1.12584</td>\n",
       "      <td>11918.3701</td>\n",
       "      <td>(bullish, 1.12398, 1.12538, 15)</td>\n",
       "    </tr>\n",
       "    <tr>\n",
       "      <th>16</th>\n",
       "      <td>2020-07-01 16:00:00</td>\n",
       "      <td>1.12583</td>\n",
       "      <td>1.12647</td>\n",
       "      <td>1.12508</td>\n",
       "      <td>1.12643</td>\n",
       "      <td>7906.6499</td>\n",
       "      <td>None</td>\n",
       "    </tr>\n",
       "    <tr>\n",
       "      <th>17</th>\n",
       "      <td>2020-07-01 17:00:00</td>\n",
       "      <td>1.12642</td>\n",
       "      <td>1.12669</td>\n",
       "      <td>1.12522</td>\n",
       "      <td>1.12541</td>\n",
       "      <td>7654.9399</td>\n",
       "      <td>None</td>\n",
       "    </tr>\n",
       "    <tr>\n",
       "      <th>18</th>\n",
       "      <td>2020-07-01 18:00:00</td>\n",
       "      <td>1.12544</td>\n",
       "      <td>1.12604</td>\n",
       "      <td>1.12451</td>\n",
       "      <td>1.12452</td>\n",
       "      <td>6496.9902</td>\n",
       "      <td>None</td>\n",
       "    </tr>\n",
       "    <tr>\n",
       "      <th>19</th>\n",
       "      <td>2020-07-01 19:00:00</td>\n",
       "      <td>1.12451</td>\n",
       "      <td>1.12572</td>\n",
       "      <td>1.12432</td>\n",
       "      <td>1.12507</td>\n",
       "      <td>5664.5498</td>\n",
       "      <td>None</td>\n",
       "    </tr>\n",
       "  </tbody>\n",
       "</table>\n",
       "</div>"
      ],
      "text/plain": [
       "              Gmt time     Open     High      Low    Close      Volume  \\\n",
       "0  2020-07-01 00:00:00  1.12336  1.12336  1.12275  1.12306   4148.0298   \n",
       "1  2020-07-01 01:00:00  1.12306  1.12395  1.12288  1.12385   5375.5801   \n",
       "2  2020-07-01 02:00:00  1.12386  1.12406  1.12363  1.12382   4131.6099   \n",
       "3  2020-07-01 03:00:00  1.12382  1.12388  1.12221  1.12265   4440.6001   \n",
       "4  2020-07-01 04:00:00  1.12265  1.12272  1.12151  1.12179   4833.1001   \n",
       "5  2020-07-01 05:00:00  1.12179  1.12261  1.12156  1.12240   6689.5601   \n",
       "6  2020-07-01 06:00:00  1.12240  1.12343  1.12202  1.12333   7562.7500   \n",
       "7  2020-07-01 07:00:00  1.12331  1.12331  1.12231  1.12315   8641.7500   \n",
       "8  2020-07-01 08:00:00  1.12315  1.12448  1.12290  1.12311  10042.7695   \n",
       "9  2020-07-01 09:00:00  1.12313  1.12337  1.12076  1.12076   9587.4004   \n",
       "10 2020-07-01 10:00:00  1.12076  1.12113  1.12002  1.12050  11767.5898   \n",
       "11 2020-07-01 11:00:00  1.12050  1.12067  1.11848  1.12036  14733.7998   \n",
       "12 2020-07-01 12:00:00  1.12036  1.12209  1.11980  1.12177  13410.0596   \n",
       "13 2020-07-01 13:00:00  1.12176  1.12398  1.12140  1.12391  14157.5195   \n",
       "14 2020-07-01 14:00:00  1.12391  1.12751  1.12364  1.12605  20865.6504   \n",
       "15 2020-07-01 15:00:00  1.12606  1.12697  1.12538  1.12584  11918.3701   \n",
       "16 2020-07-01 16:00:00  1.12583  1.12647  1.12508  1.12643   7906.6499   \n",
       "17 2020-07-01 17:00:00  1.12642  1.12669  1.12522  1.12541   7654.9399   \n",
       "18 2020-07-01 18:00:00  1.12544  1.12604  1.12451  1.12452   6496.9902   \n",
       "19 2020-07-01 19:00:00  1.12451  1.12572  1.12432  1.12507   5664.5498   \n",
       "\n",
       "                                FVG  \n",
       "0                              None  \n",
       "1                              None  \n",
       "2    (bullish, 1.12336, 1.12363, 2)  \n",
       "3                              None  \n",
       "4    (bearish, 1.12363, 1.12272, 4)  \n",
       "5                              None  \n",
       "6                              None  \n",
       "7                              None  \n",
       "8                              None  \n",
       "9                              None  \n",
       "10   (bearish, 1.1229, 1.12113, 10)  \n",
       "11                             None  \n",
       "12                             None  \n",
       "13   (bullish, 1.12067, 1.1214, 13)  \n",
       "14  (bullish, 1.12209, 1.12364, 14)  \n",
       "15  (bullish, 1.12398, 1.12538, 15)  \n",
       "16                             None  \n",
       "17                             None  \n",
       "18                             None  \n",
       "19                             None  "
      ]
     },
     "execution_count": 4,
     "metadata": {},
     "output_type": "execute_result"
    }
   ],
   "source": [
    "# Detect FVGs and create a new column in the dataframe\n",
    "df['FVG'] = detect_fvg(df)\n",
    "df.head(20)"
   ]
  },
  {
   "cell_type": "code",
   "execution_count": 17,
   "id": "ee281f8e",
   "metadata": {},
   "outputs": [
    {
     "data": {
      "application/vnd.plotly.v1+json": {
       "config": {
        "plotlyServerURL": "https://plot.ly"
       },
       "data": [
        {
         "close": [
          1.17502,
          1.17454,
          1.1751,
          1.17495,
          1.17634,
          1.17682,
          1.17661,
          1.17584,
          1.17446,
          1.17243,
          1.17312,
          1.17352,
          1.17271,
          1.17107,
          1.1721,
          1.17288,
          1.17377,
          1.17045,
          1.1733,
          1.17322,
          1.17289,
          1.17319,
          1.17346,
          1.17306,
          1.17238,
          1.1714,
          1.1715,
          1.17205,
          1.17199,
          1.17185,
          1.17214,
          1.1724,
          1.17283,
          1.17285,
          1.17295,
          1.17344,
          1.17474,
          1.17593,
          1.17506,
          1.17471,
          1.17462,
          1.17223,
          1.17435,
          1.17551,
          1.17747,
          1.17692,
          1.17736,
          1.17869,
          1.17664,
          1.17768,
          1.17907,
          1.17924,
          1.17897,
          1.17806,
          1.17795,
          1.17702,
          1.1777,
          1.17762,
          1.17683,
          1.17597,
          1.17564,
          1.17577,
          1.17418,
          1.17574,
          1.17469,
          1.17487,
          1.1777,
          1.17878,
          1.17951,
          1.17902,
          1.18036,
          1.18281,
          1.18385,
          1.18447,
          1.18467,
          1.18412,
          1.18479,
          1.18719,
          1.18659,
          1.18832,
          1.18904,
          1.18918,
          1.18976,
          1.1888,
          1.19014,
          1.18755,
          1.18577,
          1.18571,
          1.18497,
          1.18397
         ],
         "high": [
          1.17646,
          1.17517,
          1.17518,
          1.17542,
          1.17641,
          1.17688,
          1.17729,
          1.17736,
          1.17631,
          1.17471,
          1.17353,
          1.17357,
          1.17405,
          1.17356,
          1.17218,
          1.17367,
          1.17402,
          1.1743,
          1.17359,
          1.17422,
          1.17396,
          1.17325,
          1.17372,
          1.17371,
          1.1732,
          1.17242,
          1.17201,
          1.17214,
          1.17234,
          1.17217,
          1.17256,
          1.17242,
          1.17313,
          1.1732,
          1.17338,
          1.17346,
          1.17508,
          1.17699,
          1.17631,
          1.17543,
          1.17544,
          1.17465,
          1.17454,
          1.17641,
          1.17783,
          1.1777,
          1.17773,
          1.17906,
          1.18061,
          1.17933,
          1.17971,
          1.17931,
          1.17931,
          1.17897,
          1.17845,
          1.17839,
          1.17774,
          1.1785,
          1.17766,
          1.17692,
          1.17629,
          1.17648,
          1.1764,
          1.17615,
          1.17586,
          1.176,
          1.17789,
          1.18097,
          1.17973,
          1.17957,
          1.18061,
          1.18341,
          1.18385,
          1.18447,
          1.18482,
          1.1847,
          1.18486,
          1.18762,
          1.18885,
          1.18846,
          1.19047,
          1.18932,
          1.18976,
          1.18978,
          1.19087,
          1.19036,
          1.18859,
          1.18582,
          1.18623,
          1.18503
         ],
         "low": [
          1.17502,
          1.17423,
          1.17441,
          1.17459,
          1.17491,
          1.17513,
          1.17601,
          1.17555,
          1.17432,
          1.17141,
          1.17181,
          1.17211,
          1.17243,
          1.17058,
          1.16987,
          1.17108,
          1.17254,
          1.17001,
          1.17041,
          1.17215,
          1.17082,
          1.17124,
          1.17281,
          1.17277,
          1.1719,
          1.17122,
          1.17132,
          1.17118,
          1.17179,
          1.17178,
          1.17139,
          1.17151,
          1.17202,
          1.17247,
          1.17249,
          1.17245,
          1.1732,
          1.17433,
          1.17471,
          1.17417,
          1.17424,
          1.17201,
          1.17184,
          1.1742,
          1.17514,
          1.1764,
          1.17665,
          1.177,
          1.17579,
          1.17539,
          1.17764,
          1.17835,
          1.17894,
          1.17805,
          1.17722,
          1.17685,
          1.17656,
          1.17742,
          1.17664,
          1.17589,
          1.17493,
          1.17458,
          1.17402,
          1.17308,
          1.17423,
          1.17443,
          1.17423,
          1.17739,
          1.17739,
          1.17749,
          1.179,
          1.1802,
          1.18247,
          1.1837,
          1.1843,
          1.18365,
          1.18401,
          1.1843,
          1.1862,
          1.18618,
          1.1882,
          1.18826,
          1.18851,
          1.18859,
          1.18769,
          1.1874,
          1.18521,
          1.18383,
          1.18461,
          1.18273
         ],
         "name": "Candles",
         "open": [
          1.17554,
          1.17501,
          1.17453,
          1.17512,
          1.17501,
          1.17633,
          1.17681,
          1.1766,
          1.17583,
          1.17447,
          1.17243,
          1.17311,
          1.17351,
          1.17272,
          1.1711,
          1.17213,
          1.17289,
          1.17378,
          1.17045,
          1.17329,
          1.17321,
          1.17291,
          1.17319,
          1.17347,
          1.17306,
          1.17239,
          1.17139,
          1.17148,
          1.17205,
          1.17199,
          1.17185,
          1.17214,
          1.1724,
          1.17283,
          1.17286,
          1.17294,
          1.17342,
          1.17475,
          1.17593,
          1.17507,
          1.17472,
          1.17461,
          1.17221,
          1.17437,
          1.1755,
          1.17749,
          1.17693,
          1.17735,
          1.17861,
          1.17666,
          1.17768,
          1.1791,
          1.17924,
          1.17895,
          1.17809,
          1.17796,
          1.17702,
          1.1777,
          1.17762,
          1.17683,
          1.17598,
          1.17563,
          1.17578,
          1.17421,
          1.17573,
          1.1747,
          1.17486,
          1.17771,
          1.17878,
          1.17953,
          1.17903,
          1.18034,
          1.18281,
          1.18386,
          1.18445,
          1.18465,
          1.18414,
          1.18481,
          1.18718,
          1.18662,
          1.18832,
          1.18904,
          1.18918,
          1.18974,
          1.1888,
          1.19013,
          1.18756,
          1.18577,
          1.18569,
          1.18498
         ],
         "type": "candlestick",
         "x": [
          450,
          451,
          452,
          453,
          454,
          455,
          456,
          457,
          458,
          459,
          460,
          461,
          462,
          463,
          464,
          465,
          466,
          467,
          468,
          469,
          470,
          471,
          472,
          473,
          474,
          475,
          476,
          477,
          478,
          479,
          480,
          481,
          482,
          483,
          484,
          485,
          486,
          487,
          488,
          489,
          490,
          491,
          492,
          493,
          494,
          495,
          496,
          497,
          498,
          499,
          500,
          501,
          502,
          503,
          504,
          505,
          506,
          507,
          508,
          509,
          510,
          511,
          512,
          513,
          514,
          515,
          516,
          517,
          518,
          519,
          520,
          521,
          522,
          523,
          524,
          525,
          526,
          527,
          528,
          529,
          530,
          531,
          532,
          533,
          534,
          535,
          536,
          537,
          538,
          539
         ]
        }
       ],
       "layout": {
        "height": 800,
        "paper_bgcolor": "black",
        "plot_bgcolor": "black",
        "shapes": [
         {
          "fillcolor": "rgba(255,0,0,0.3)",
          "layer": "below",
          "line": {
           "width": 0
          },
          "opacity": 0.8,
          "type": "rect",
          "x0": 457,
          "x1": 489,
          "y0": 1.17555,
          "y1": 1.17471
         },
         {
          "fillcolor": "rgba(255,0,0,0.3)",
          "layer": "below",
          "line": {
           "width": 0
          },
          "opacity": 0.8,
          "type": "rect",
          "x0": 458,
          "x1": 490,
          "y0": 1.17432,
          "y1": 1.17353
         },
         {
          "fillcolor": "rgba(255,0,0,0.3)",
          "layer": "below",
          "line": {
           "width": 0
          },
          "opacity": 0.8,
          "type": "rect",
          "x0": 462,
          "x1": 494,
          "y0": 1.17243,
          "y1": 1.17218
         },
         {
          "fillcolor": "rgba(0,255,0,0.3)",
          "layer": "below",
          "line": {
           "width": 0
          },
          "opacity": 0.8,
          "type": "rect",
          "x0": 485,
          "x1": 517,
          "y0": 1.17346,
          "y1": 1.17433
         },
         {
          "fillcolor": "rgba(0,255,0,0.3)",
          "layer": "below",
          "line": {
           "width": 0
          },
          "opacity": 0.8,
          "type": "rect",
          "x0": 515,
          "x1": 547,
          "y0": 1.176,
          "y1": 1.17739
         },
         {
          "fillcolor": "rgba(0,255,0,0.3)",
          "layer": "below",
          "line": {
           "width": 0
          },
          "opacity": 0.8,
          "type": "rect",
          "x0": 520,
          "x1": 552,
          "y0": 1.18061,
          "y1": 1.18247
         },
         {
          "fillcolor": "rgba(0,255,0,0.3)",
          "layer": "below",
          "line": {
           "width": 0
          },
          "opacity": 0.8,
          "type": "rect",
          "x0": 526,
          "x1": 558,
          "y0": 1.18486,
          "y1": 1.1862
         },
         {
          "fillcolor": "rgba(255,0,0,0.3)",
          "layer": "below",
          "line": {
           "width": 0
          },
          "opacity": 0.8,
          "type": "rect",
          "x0": 535,
          "x1": 567,
          "y0": 1.1874,
          "y1": 1.18582
         }
        ],
        "template": {
         "data": {
          "bar": [
           {
            "error_x": {
             "color": "#2a3f5f"
            },
            "error_y": {
             "color": "#2a3f5f"
            },
            "marker": {
             "line": {
              "color": "#E5ECF6",
              "width": 0.5
             },
             "pattern": {
              "fillmode": "overlay",
              "size": 10,
              "solidity": 0.2
             }
            },
            "type": "bar"
           }
          ],
          "barpolar": [
           {
            "marker": {
             "line": {
              "color": "#E5ECF6",
              "width": 0.5
             },
             "pattern": {
              "fillmode": "overlay",
              "size": 10,
              "solidity": 0.2
             }
            },
            "type": "barpolar"
           }
          ],
          "carpet": [
           {
            "aaxis": {
             "endlinecolor": "#2a3f5f",
             "gridcolor": "white",
             "linecolor": "white",
             "minorgridcolor": "white",
             "startlinecolor": "#2a3f5f"
            },
            "baxis": {
             "endlinecolor": "#2a3f5f",
             "gridcolor": "white",
             "linecolor": "white",
             "minorgridcolor": "white",
             "startlinecolor": "#2a3f5f"
            },
            "type": "carpet"
           }
          ],
          "choropleth": [
           {
            "colorbar": {
             "outlinewidth": 0,
             "ticks": ""
            },
            "type": "choropleth"
           }
          ],
          "contour": [
           {
            "colorbar": {
             "outlinewidth": 0,
             "ticks": ""
            },
            "colorscale": [
             [
              0,
              "#0d0887"
             ],
             [
              0.1111111111111111,
              "#46039f"
             ],
             [
              0.2222222222222222,
              "#7201a8"
             ],
             [
              0.3333333333333333,
              "#9c179e"
             ],
             [
              0.4444444444444444,
              "#bd3786"
             ],
             [
              0.5555555555555556,
              "#d8576b"
             ],
             [
              0.6666666666666666,
              "#ed7953"
             ],
             [
              0.7777777777777778,
              "#fb9f3a"
             ],
             [
              0.8888888888888888,
              "#fdca26"
             ],
             [
              1,
              "#f0f921"
             ]
            ],
            "type": "contour"
           }
          ],
          "contourcarpet": [
           {
            "colorbar": {
             "outlinewidth": 0,
             "ticks": ""
            },
            "type": "contourcarpet"
           }
          ],
          "heatmap": [
           {
            "colorbar": {
             "outlinewidth": 0,
             "ticks": ""
            },
            "colorscale": [
             [
              0,
              "#0d0887"
             ],
             [
              0.1111111111111111,
              "#46039f"
             ],
             [
              0.2222222222222222,
              "#7201a8"
             ],
             [
              0.3333333333333333,
              "#9c179e"
             ],
             [
              0.4444444444444444,
              "#bd3786"
             ],
             [
              0.5555555555555556,
              "#d8576b"
             ],
             [
              0.6666666666666666,
              "#ed7953"
             ],
             [
              0.7777777777777778,
              "#fb9f3a"
             ],
             [
              0.8888888888888888,
              "#fdca26"
             ],
             [
              1,
              "#f0f921"
             ]
            ],
            "type": "heatmap"
           }
          ],
          "heatmapgl": [
           {
            "colorbar": {
             "outlinewidth": 0,
             "ticks": ""
            },
            "colorscale": [
             [
              0,
              "#0d0887"
             ],
             [
              0.1111111111111111,
              "#46039f"
             ],
             [
              0.2222222222222222,
              "#7201a8"
             ],
             [
              0.3333333333333333,
              "#9c179e"
             ],
             [
              0.4444444444444444,
              "#bd3786"
             ],
             [
              0.5555555555555556,
              "#d8576b"
             ],
             [
              0.6666666666666666,
              "#ed7953"
             ],
             [
              0.7777777777777778,
              "#fb9f3a"
             ],
             [
              0.8888888888888888,
              "#fdca26"
             ],
             [
              1,
              "#f0f921"
             ]
            ],
            "type": "heatmapgl"
           }
          ],
          "histogram": [
           {
            "marker": {
             "pattern": {
              "fillmode": "overlay",
              "size": 10,
              "solidity": 0.2
             }
            },
            "type": "histogram"
           }
          ],
          "histogram2d": [
           {
            "colorbar": {
             "outlinewidth": 0,
             "ticks": ""
            },
            "colorscale": [
             [
              0,
              "#0d0887"
             ],
             [
              0.1111111111111111,
              "#46039f"
             ],
             [
              0.2222222222222222,
              "#7201a8"
             ],
             [
              0.3333333333333333,
              "#9c179e"
             ],
             [
              0.4444444444444444,
              "#bd3786"
             ],
             [
              0.5555555555555556,
              "#d8576b"
             ],
             [
              0.6666666666666666,
              "#ed7953"
             ],
             [
              0.7777777777777778,
              "#fb9f3a"
             ],
             [
              0.8888888888888888,
              "#fdca26"
             ],
             [
              1,
              "#f0f921"
             ]
            ],
            "type": "histogram2d"
           }
          ],
          "histogram2dcontour": [
           {
            "colorbar": {
             "outlinewidth": 0,
             "ticks": ""
            },
            "colorscale": [
             [
              0,
              "#0d0887"
             ],
             [
              0.1111111111111111,
              "#46039f"
             ],
             [
              0.2222222222222222,
              "#7201a8"
             ],
             [
              0.3333333333333333,
              "#9c179e"
             ],
             [
              0.4444444444444444,
              "#bd3786"
             ],
             [
              0.5555555555555556,
              "#d8576b"
             ],
             [
              0.6666666666666666,
              "#ed7953"
             ],
             [
              0.7777777777777778,
              "#fb9f3a"
             ],
             [
              0.8888888888888888,
              "#fdca26"
             ],
             [
              1,
              "#f0f921"
             ]
            ],
            "type": "histogram2dcontour"
           }
          ],
          "mesh3d": [
           {
            "colorbar": {
             "outlinewidth": 0,
             "ticks": ""
            },
            "type": "mesh3d"
           }
          ],
          "parcoords": [
           {
            "line": {
             "colorbar": {
              "outlinewidth": 0,
              "ticks": ""
             }
            },
            "type": "parcoords"
           }
          ],
          "pie": [
           {
            "automargin": true,
            "type": "pie"
           }
          ],
          "scatter": [
           {
            "fillpattern": {
             "fillmode": "overlay",
             "size": 10,
             "solidity": 0.2
            },
            "type": "scatter"
           }
          ],
          "scatter3d": [
           {
            "line": {
             "colorbar": {
              "outlinewidth": 0,
              "ticks": ""
             }
            },
            "marker": {
             "colorbar": {
              "outlinewidth": 0,
              "ticks": ""
             }
            },
            "type": "scatter3d"
           }
          ],
          "scattercarpet": [
           {
            "marker": {
             "colorbar": {
              "outlinewidth": 0,
              "ticks": ""
             }
            },
            "type": "scattercarpet"
           }
          ],
          "scattergeo": [
           {
            "marker": {
             "colorbar": {
              "outlinewidth": 0,
              "ticks": ""
             }
            },
            "type": "scattergeo"
           }
          ],
          "scattergl": [
           {
            "marker": {
             "colorbar": {
              "outlinewidth": 0,
              "ticks": ""
             }
            },
            "type": "scattergl"
           }
          ],
          "scattermapbox": [
           {
            "marker": {
             "colorbar": {
              "outlinewidth": 0,
              "ticks": ""
             }
            },
            "type": "scattermapbox"
           }
          ],
          "scatterpolar": [
           {
            "marker": {
             "colorbar": {
              "outlinewidth": 0,
              "ticks": ""
             }
            },
            "type": "scatterpolar"
           }
          ],
          "scatterpolargl": [
           {
            "marker": {
             "colorbar": {
              "outlinewidth": 0,
              "ticks": ""
             }
            },
            "type": "scatterpolargl"
           }
          ],
          "scatterternary": [
           {
            "marker": {
             "colorbar": {
              "outlinewidth": 0,
              "ticks": ""
             }
            },
            "type": "scatterternary"
           }
          ],
          "surface": [
           {
            "colorbar": {
             "outlinewidth": 0,
             "ticks": ""
            },
            "colorscale": [
             [
              0,
              "#0d0887"
             ],
             [
              0.1111111111111111,
              "#46039f"
             ],
             [
              0.2222222222222222,
              "#7201a8"
             ],
             [
              0.3333333333333333,
              "#9c179e"
             ],
             [
              0.4444444444444444,
              "#bd3786"
             ],
             [
              0.5555555555555556,
              "#d8576b"
             ],
             [
              0.6666666666666666,
              "#ed7953"
             ],
             [
              0.7777777777777778,
              "#fb9f3a"
             ],
             [
              0.8888888888888888,
              "#fdca26"
             ],
             [
              1,
              "#f0f921"
             ]
            ],
            "type": "surface"
           }
          ],
          "table": [
           {
            "cells": {
             "fill": {
              "color": "#EBF0F8"
             },
             "line": {
              "color": "white"
             }
            },
            "header": {
             "fill": {
              "color": "#C8D4E3"
             },
             "line": {
              "color": "white"
             }
            },
            "type": "table"
           }
          ]
         },
         "layout": {
          "annotationdefaults": {
           "arrowcolor": "#2a3f5f",
           "arrowhead": 0,
           "arrowwidth": 1
          },
          "autotypenumbers": "strict",
          "coloraxis": {
           "colorbar": {
            "outlinewidth": 0,
            "ticks": ""
           }
          },
          "colorscale": {
           "diverging": [
            [
             0,
             "#8e0152"
            ],
            [
             0.1,
             "#c51b7d"
            ],
            [
             0.2,
             "#de77ae"
            ],
            [
             0.3,
             "#f1b6da"
            ],
            [
             0.4,
             "#fde0ef"
            ],
            [
             0.5,
             "#f7f7f7"
            ],
            [
             0.6,
             "#e6f5d0"
            ],
            [
             0.7,
             "#b8e186"
            ],
            [
             0.8,
             "#7fbc41"
            ],
            [
             0.9,
             "#4d9221"
            ],
            [
             1,
             "#276419"
            ]
           ],
           "sequential": [
            [
             0,
             "#0d0887"
            ],
            [
             0.1111111111111111,
             "#46039f"
            ],
            [
             0.2222222222222222,
             "#7201a8"
            ],
            [
             0.3333333333333333,
             "#9c179e"
            ],
            [
             0.4444444444444444,
             "#bd3786"
            ],
            [
             0.5555555555555556,
             "#d8576b"
            ],
            [
             0.6666666666666666,
             "#ed7953"
            ],
            [
             0.7777777777777778,
             "#fb9f3a"
            ],
            [
             0.8888888888888888,
             "#fdca26"
            ],
            [
             1,
             "#f0f921"
            ]
           ],
           "sequentialminus": [
            [
             0,
             "#0d0887"
            ],
            [
             0.1111111111111111,
             "#46039f"
            ],
            [
             0.2222222222222222,
             "#7201a8"
            ],
            [
             0.3333333333333333,
             "#9c179e"
            ],
            [
             0.4444444444444444,
             "#bd3786"
            ],
            [
             0.5555555555555556,
             "#d8576b"
            ],
            [
             0.6666666666666666,
             "#ed7953"
            ],
            [
             0.7777777777777778,
             "#fb9f3a"
            ],
            [
             0.8888888888888888,
             "#fdca26"
            ],
            [
             1,
             "#f0f921"
            ]
           ]
          },
          "colorway": [
           "#636efa",
           "#EF553B",
           "#00cc96",
           "#ab63fa",
           "#FFA15A",
           "#19d3f3",
           "#FF6692",
           "#B6E880",
           "#FF97FF",
           "#FECB52"
          ],
          "font": {
           "color": "#2a3f5f"
          },
          "geo": {
           "bgcolor": "white",
           "lakecolor": "white",
           "landcolor": "#E5ECF6",
           "showlakes": true,
           "showland": true,
           "subunitcolor": "white"
          },
          "hoverlabel": {
           "align": "left"
          },
          "hovermode": "closest",
          "mapbox": {
           "style": "light"
          },
          "paper_bgcolor": "white",
          "plot_bgcolor": "#E5ECF6",
          "polar": {
           "angularaxis": {
            "gridcolor": "white",
            "linecolor": "white",
            "ticks": ""
           },
           "bgcolor": "#E5ECF6",
           "radialaxis": {
            "gridcolor": "white",
            "linecolor": "white",
            "ticks": ""
           }
          },
          "scene": {
           "xaxis": {
            "backgroundcolor": "#E5ECF6",
            "gridcolor": "white",
            "gridwidth": 2,
            "linecolor": "white",
            "showbackground": true,
            "ticks": "",
            "zerolinecolor": "white"
           },
           "yaxis": {
            "backgroundcolor": "#E5ECF6",
            "gridcolor": "white",
            "gridwidth": 2,
            "linecolor": "white",
            "showbackground": true,
            "ticks": "",
            "zerolinecolor": "white"
           },
           "zaxis": {
            "backgroundcolor": "#E5ECF6",
            "gridcolor": "white",
            "gridwidth": 2,
            "linecolor": "white",
            "showbackground": true,
            "ticks": "",
            "zerolinecolor": "white"
           }
          },
          "shapedefaults": {
           "line": {
            "color": "#2a3f5f"
           }
          },
          "ternary": {
           "aaxis": {
            "gridcolor": "white",
            "linecolor": "white",
            "ticks": ""
           },
           "baxis": {
            "gridcolor": "white",
            "linecolor": "white",
            "ticks": ""
           },
           "bgcolor": "#E5ECF6",
           "caxis": {
            "gridcolor": "white",
            "linecolor": "white",
            "ticks": ""
           }
          },
          "title": {
           "x": 0.05
          },
          "xaxis": {
           "automargin": true,
           "gridcolor": "white",
           "linecolor": "white",
           "ticks": "",
           "title": {
            "standoff": 15
           },
           "zerolinecolor": "white",
           "zerolinewidth": 2
          },
          "yaxis": {
           "automargin": true,
           "gridcolor": "white",
           "linecolor": "white",
           "ticks": "",
           "title": {
            "standoff": 15
           },
           "zerolinecolor": "white",
           "zerolinewidth": 2
          }
         }
        },
        "width": 1200,
        "xaxis": {
         "showgrid": false
        },
        "yaxis": {
         "showgrid": false
        }
       }
      }
     },
     "metadata": {},
     "output_type": "display_data"
    }
   ],
   "source": [
    "import plotly.graph_objects as go\n",
    "from plotly.subplots import make_subplots\n",
    "from datetime import datetime\n",
    "dfpl = df[450:540]\n",
    "# Create the figure\n",
    "fig = go.Figure()\n",
    "\n",
    "# Add candlestick chart\n",
    "fig.add_trace(go.Candlestick(\n",
    "    x=dfpl.index,\n",
    "    open=dfpl[\"Open\"],\n",
    "    high=dfpl[\"High\"],\n",
    "    low=dfpl[\"Low\"],\n",
    "    close=dfpl[\"Close\"],\n",
    "    name=\"Candles\"\n",
    "))\n",
    "\n",
    "# Add FVG zones\n",
    "for _, row in dfpl.iterrows():\n",
    "    if isinstance(row[\"FVG\"], tuple):\n",
    "        fvg_type, start, end, index = row[\"FVG\"]\n",
    "        color = \"rgba(0,255,0,0.3)\" if fvg_type == \"bullish\" else \"rgba(255,0,0,0.3)\"\n",
    "        fig.add_shape(\n",
    "            type=\"rect\",\n",
    "            x0=index -2,\n",
    "            x1=index + 30,\n",
    "            y0=start,\n",
    "            y1=end,\n",
    "            fillcolor=color,\n",
    "            opacity=0.8,\n",
    "            layer=\"below\",\n",
    "            line=dict(width=0),\n",
    "        )\n",
    "\n",
    "# Show the chart\n",
    "fig.update_layout(width=1200, height=800,\n",
    "                  xaxis=dict(showgrid=False),\n",
    "                  yaxis=dict(showgrid=False),\n",
    "                  plot_bgcolor='black',\n",
    "                  paper_bgcolor='black')\n",
    "fig.show()"
   ]
  }
 ],
 "metadata": {
  "kernelspec": {
   "display_name": "Python 3",
   "language": "python",
   "name": "python3"
  },
  "language_info": {
   "codemirror_mode": {
    "name": "ipython",
    "version": 3
   },
   "file_extension": ".py",
   "mimetype": "text/x-python",
   "name": "python",
   "nbconvert_exporter": "python",
   "pygments_lexer": "ipython3",
   "version": "3.11.4"
  }
 },
 "nbformat": 4,
 "nbformat_minor": 5
}
