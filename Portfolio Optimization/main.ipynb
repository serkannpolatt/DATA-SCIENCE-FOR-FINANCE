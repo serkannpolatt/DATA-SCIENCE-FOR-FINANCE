{
 "cells": [
  {
   "cell_type": "markdown",
   "metadata": {},
   "source": [
    "### Description: This program attempts to optimize a users portfolio using the Efficient Frontier\n",
    "### Açıklama: Bu program Efficient Frontier'ı kullanarak kullanıcı portföyünü optimize etmeye çalışır"
   ]
  },
  {
   "cell_type": "code",
   "execution_count": 9,
   "metadata": {},
   "outputs": [],
   "source": [
    "from pandas_datareader import data as web\n",
    "import pandas as pd\n",
    "import numpy as np\n",
    "from datetime import datetime\n",
    "import matplotlib.pyplot as plt\n",
    "plt.style.use(\"fivethirtyeight\")"
   ]
  },
  {
   "cell_type": "code",
   "execution_count": 10,
   "metadata": {},
   "outputs": [],
   "source": [
    "# Get the stock symbols / tickers in the portfolio\n",
    "# Portföydeki hisse senedi sembollerini / işaretlerini alın\n",
    "assest=[\"AMZN\",\"AAPL\",\"NFLX\",\"GOOG\"]"
   ]
  },
  {
   "cell_type": "code",
   "execution_count": 11,
   "metadata": {},
   "outputs": [],
   "source": [
    "# Assign weights to the stocks.\n",
    "# Hisse senetlerine ağırlık atayın.\n",
    "weights=np.array([0.2,0.2,0.2,0.2,0.2])"
   ]
  },
  {
   "cell_type": "code",
   "execution_count": 12,
   "metadata": {},
   "outputs": [],
   "source": [
    "# Get the stock / portfolio starting date\n",
    "# Hisse senedi / portföy başlangıç ​​tarihini alın\n",
    "stockStartDate=\"2013-01-01\""
   ]
  },
  {
   "cell_type": "code",
   "execution_count": 13,
   "metadata": {},
   "outputs": [
    {
     "data": {
      "text/plain": [
       "'2023-09-23'"
      ]
     },
     "execution_count": 13,
     "metadata": {},
     "output_type": "execute_result"
    }
   ],
   "source": [
    "# Get the stocks ending date (today)\n",
    "# Hisse senetlerinin bitiş tarihini alın (bugün)\n",
    "today=datetime.today().strftime('%Y-%m-%d')\n",
    "today"
   ]
  },
  {
   "cell_type": "code",
   "execution_count": 14,
   "metadata": {},
   "outputs": [],
   "source": [
    "# df=pd.DataFrame()\n",
    "\n",
    "# for stock in assest:\n",
    "#     df[stock]=web.DataReader(stock,data_source=\"yahoo\",start=stockStartDate,end=today)[\"Adj Close\"]"
   ]
  },
  {
   "cell_type": "code",
   "execution_count": 15,
   "metadata": {},
   "outputs": [
    {
     "name": "stdout",
     "output_type": "stream",
     "text": [
      "[*********************100%***********************]  4 of 4 completed\n"
     ]
    }
   ],
   "source": [
    "import yfinance as yf\n",
    "# Store the adjusted close price of the stock into the df\n",
    "# Hisse senedinin düzeltilmiş kapanış fiyatını df'de saklayın\n",
    "df = yf.download(assest, start=stockStartDate, end=today)[\"Adj Close\"]\n"
   ]
  },
  {
   "cell_type": "code",
   "execution_count": 16,
   "metadata": {},
   "outputs": [
    {
     "data": {
      "text/html": [
       "<div>\n",
       "<style scoped>\n",
       "    .dataframe tbody tr th:only-of-type {\n",
       "        vertical-align: middle;\n",
       "    }\n",
       "\n",
       "    .dataframe tbody tr th {\n",
       "        vertical-align: top;\n",
       "    }\n",
       "\n",
       "    .dataframe thead th {\n",
       "        text-align: right;\n",
       "    }\n",
       "</style>\n",
       "<table border=\"1\" class=\"dataframe\">\n",
       "  <thead>\n",
       "    <tr style=\"text-align: right;\">\n",
       "      <th></th>\n",
       "      <th>AAPL</th>\n",
       "      <th>AMZN</th>\n",
       "      <th>GOOG</th>\n",
       "      <th>NFLX</th>\n",
       "    </tr>\n",
       "    <tr>\n",
       "      <th>Date</th>\n",
       "      <th></th>\n",
       "      <th></th>\n",
       "      <th></th>\n",
       "      <th></th>\n",
       "    </tr>\n",
       "  </thead>\n",
       "  <tbody>\n",
       "    <tr>\n",
       "      <th>2013-01-02</th>\n",
       "      <td>16.791183</td>\n",
       "      <td>12.865500</td>\n",
       "      <td>18.013729</td>\n",
       "      <td>13.144286</td>\n",
       "    </tr>\n",
       "    <tr>\n",
       "      <th>2013-01-03</th>\n",
       "      <td>16.579241</td>\n",
       "      <td>12.924000</td>\n",
       "      <td>18.024191</td>\n",
       "      <td>13.798571</td>\n",
       "    </tr>\n",
       "    <tr>\n",
       "      <th>2013-01-04</th>\n",
       "      <td>16.117437</td>\n",
       "      <td>12.957500</td>\n",
       "      <td>18.380356</td>\n",
       "      <td>13.711429</td>\n",
       "    </tr>\n",
       "    <tr>\n",
       "      <th>2013-01-07</th>\n",
       "      <td>16.022623</td>\n",
       "      <td>13.423000</td>\n",
       "      <td>18.300158</td>\n",
       "      <td>14.171429</td>\n",
       "    </tr>\n",
       "    <tr>\n",
       "      <th>2013-01-08</th>\n",
       "      <td>16.065748</td>\n",
       "      <td>13.319000</td>\n",
       "      <td>18.264042</td>\n",
       "      <td>13.880000</td>\n",
       "    </tr>\n",
       "    <tr>\n",
       "      <th>...</th>\n",
       "      <td>...</td>\n",
       "      <td>...</td>\n",
       "      <td>...</td>\n",
       "      <td>...</td>\n",
       "    </tr>\n",
       "    <tr>\n",
       "      <th>2023-09-18</th>\n",
       "      <td>177.970001</td>\n",
       "      <td>139.979996</td>\n",
       "      <td>138.960007</td>\n",
       "      <td>394.399994</td>\n",
       "    </tr>\n",
       "    <tr>\n",
       "      <th>2023-09-19</th>\n",
       "      <td>179.070007</td>\n",
       "      <td>137.630005</td>\n",
       "      <td>138.830002</td>\n",
       "      <td>396.200012</td>\n",
       "    </tr>\n",
       "    <tr>\n",
       "      <th>2023-09-20</th>\n",
       "      <td>175.490005</td>\n",
       "      <td>135.289993</td>\n",
       "      <td>134.589996</td>\n",
       "      <td>386.299988</td>\n",
       "    </tr>\n",
       "    <tr>\n",
       "      <th>2023-09-21</th>\n",
       "      <td>173.929993</td>\n",
       "      <td>129.330002</td>\n",
       "      <td>131.360001</td>\n",
       "      <td>384.149994</td>\n",
       "    </tr>\n",
       "    <tr>\n",
       "      <th>2023-09-22</th>\n",
       "      <td>174.789993</td>\n",
       "      <td>129.119995</td>\n",
       "      <td>131.250000</td>\n",
       "      <td>379.809998</td>\n",
       "    </tr>\n",
       "  </tbody>\n",
       "</table>\n",
       "<p>2700 rows × 4 columns</p>\n",
       "</div>"
      ],
      "text/plain": [
       "                  AAPL        AMZN        GOOG        NFLX\n",
       "Date                                                      \n",
       "2013-01-02   16.791183   12.865500   18.013729   13.144286\n",
       "2013-01-03   16.579241   12.924000   18.024191   13.798571\n",
       "2013-01-04   16.117437   12.957500   18.380356   13.711429\n",
       "2013-01-07   16.022623   13.423000   18.300158   14.171429\n",
       "2013-01-08   16.065748   13.319000   18.264042   13.880000\n",
       "...                ...         ...         ...         ...\n",
       "2023-09-18  177.970001  139.979996  138.960007  394.399994\n",
       "2023-09-19  179.070007  137.630005  138.830002  396.200012\n",
       "2023-09-20  175.490005  135.289993  134.589996  386.299988\n",
       "2023-09-21  173.929993  129.330002  131.360001  384.149994\n",
       "2023-09-22  174.789993  129.119995  131.250000  379.809998\n",
       "\n",
       "[2700 rows x 4 columns]"
      ]
     },
     "execution_count": 16,
     "metadata": {},
     "output_type": "execute_result"
    }
   ],
   "source": [
    "df"
   ]
  },
  {
   "cell_type": "code",
   "execution_count": 17,
   "metadata": {},
   "outputs": [
    {
     "data": {
      "image/png": "[encoded data removed]",
      "text/plain": [
       "<Figure size 640x480 with 1 Axes>"
      ]
     },
     "metadata": {},
     "output_type": "display_data"
    }
   ],
   "source": [
    "# Visually show the stock / portfolio\n",
    "# Hisse senedini / portföyü görsel olarak gösterin\n",
    "title=\"Portfolio Adj. Close Price History\"\n",
    "\n",
    "# Get the stocks\n",
    "# Hisse senetlerini al\n",
    "my_stocks=df\n",
    "\n",
    "# Create and plot the graph\n",
    "# Grafiği oluşturun ve çizin\n",
    "for c in my_stocks.columns.values:\n",
    "    plt.plot(my_stocks[c],label=c)\n",
    "        \n",
    "plt.title(title)\n",
    "plt.xlabel(\"Date/Güb\",fontsize=18)\n",
    "plt.ylabel(\"Adj. Price USD $\",fontsize=18)\n",
    "plt.legend(my_stocks.columns.values,loc=\"upper left\")\n",
    "plt.show()"
   ]
  },
  {
   "cell_type": "code",
   "execution_count": 18,
   "metadata": {},
   "outputs": [
    {
     "data": {
      "text/html": [
       "<div>\n",
       "<style scoped>\n",
       "    .dataframe tbody tr th:only-of-type {\n",
       "        vertical-align: middle;\n",
       "    }\n",
       "\n",
       "    .dataframe tbody tr th {\n",
       "        vertical-align: top;\n",
       "    }\n",
       "\n",
       "    .dataframe thead th {\n",
       "        text-align: right;\n",
       "    }\n",
       "</style>\n",
       "<table border=\"1\" class=\"dataframe\">\n",
       "  <thead>\n",
       "    <tr style=\"text-align: right;\">\n",
       "      <th></th>\n",
       "      <th>AAPL</th>\n",
       "      <th>AMZN</th>\n",
       "      <th>GOOG</th>\n",
       "      <th>NFLX</th>\n",
       "    </tr>\n",
       "    <tr>\n",
       "      <th>Date</th>\n",
       "      <th></th>\n",
       "      <th></th>\n",
       "      <th></th>\n",
       "      <th></th>\n",
       "    </tr>\n",
       "  </thead>\n",
       "  <tbody>\n",
       "    <tr>\n",
       "      <th>2013-01-02</th>\n",
       "      <td>NaN</td>\n",
       "      <td>NaN</td>\n",
       "      <td>NaN</td>\n",
       "      <td>NaN</td>\n",
       "    </tr>\n",
       "    <tr>\n",
       "      <th>2013-01-03</th>\n",
       "      <td>-0.012622</td>\n",
       "      <td>0.004547</td>\n",
       "      <td>0.000581</td>\n",
       "      <td>0.049777</td>\n",
       "    </tr>\n",
       "    <tr>\n",
       "      <th>2013-01-04</th>\n",
       "      <td>-0.027854</td>\n",
       "      <td>0.002592</td>\n",
       "      <td>0.019760</td>\n",
       "      <td>-0.006315</td>\n",
       "    </tr>\n",
       "    <tr>\n",
       "      <th>2013-01-07</th>\n",
       "      <td>-0.005883</td>\n",
       "      <td>0.035925</td>\n",
       "      <td>-0.004363</td>\n",
       "      <td>0.033549</td>\n",
       "    </tr>\n",
       "    <tr>\n",
       "      <th>2013-01-08</th>\n",
       "      <td>0.002692</td>\n",
       "      <td>-0.007748</td>\n",
       "      <td>-0.001974</td>\n",
       "      <td>-0.020565</td>\n",
       "    </tr>\n",
       "    <tr>\n",
       "      <th>...</th>\n",
       "      <td>...</td>\n",
       "      <td>...</td>\n",
       "      <td>...</td>\n",
       "      <td>...</td>\n",
       "    </tr>\n",
       "    <tr>\n",
       "      <th>2023-09-18</th>\n",
       "      <td>0.016913</td>\n",
       "      <td>-0.002920</td>\n",
       "      <td>0.004772</td>\n",
       "      <td>-0.006399</td>\n",
       "    </tr>\n",
       "    <tr>\n",
       "      <th>2023-09-19</th>\n",
       "      <td>0.006181</td>\n",
       "      <td>-0.016788</td>\n",
       "      <td>-0.000936</td>\n",
       "      <td>0.004564</td>\n",
       "    </tr>\n",
       "    <tr>\n",
       "      <th>2023-09-20</th>\n",
       "      <td>-0.019992</td>\n",
       "      <td>-0.017002</td>\n",
       "      <td>-0.030541</td>\n",
       "      <td>-0.024987</td>\n",
       "    </tr>\n",
       "    <tr>\n",
       "      <th>2023-09-21</th>\n",
       "      <td>-0.008889</td>\n",
       "      <td>-0.044053</td>\n",
       "      <td>-0.023999</td>\n",
       "      <td>-0.005566</td>\n",
       "    </tr>\n",
       "    <tr>\n",
       "      <th>2023-09-22</th>\n",
       "      <td>0.004945</td>\n",
       "      <td>-0.001624</td>\n",
       "      <td>-0.000837</td>\n",
       "      <td>-0.011298</td>\n",
       "    </tr>\n",
       "  </tbody>\n",
       "</table>\n",
       "<p>2700 rows × 4 columns</p>\n",
       "</div>"
      ],
      "text/plain": [
       "                AAPL      AMZN      GOOG      NFLX\n",
       "Date                                              \n",
       "2013-01-02       NaN       NaN       NaN       NaN\n",
       "2013-01-03 -0.012622  0.004547  0.000581  0.049777\n",
       "2013-01-04 -0.027854  0.002592  0.019760 -0.006315\n",
       "2013-01-07 -0.005883  0.035925 -0.004363  0.033549\n",
       "2013-01-08  0.002692 -0.007748 -0.001974 -0.020565\n",
       "...              ...       ...       ...       ...\n",
       "2023-09-18  0.016913 -0.002920  0.004772 -0.006399\n",
       "2023-09-19  0.006181 -0.016788 -0.000936  0.004564\n",
       "2023-09-20 -0.019992 -0.017002 -0.030541 -0.024987\n",
       "2023-09-21 -0.008889 -0.044053 -0.023999 -0.005566\n",
       "2023-09-22  0.004945 -0.001624 -0.000837 -0.011298\n",
       "\n",
       "[2700 rows x 4 columns]"
      ]
     },
     "execution_count": 18,
     "metadata": {},
     "output_type": "execute_result"
    }
   ],
   "source": [
    "# Show the daily simple return\n",
    "# Günlük basit getiriyi göster\n",
    "returns=df.pct_change()\n",
    "returns"
   ]
  },
  {
   "cell_type": "code",
   "execution_count": 19,
   "metadata": {},
   "outputs": [
    {
     "data": {
      "text/html": [
       "<div>\n",
       "<style scoped>\n",
       "    .dataframe tbody tr th:only-of-type {\n",
       "        vertical-align: middle;\n",
       "    }\n",
       "\n",
       "    .dataframe tbody tr th {\n",
       "        vertical-align: top;\n",
       "    }\n",
       "\n",
       "    .dataframe thead th {\n",
       "        text-align: right;\n",
       "    }\n",
       "</style>\n",
       "<table border=\"1\" class=\"dataframe\">\n",
       "  <thead>\n",
       "    <tr style=\"text-align: right;\">\n",
       "      <th></th>\n",
       "      <th>AAPL</th>\n",
       "      <th>AMZN</th>\n",
       "      <th>GOOG</th>\n",
       "      <th>NFLX</th>\n",
       "    </tr>\n",
       "  </thead>\n",
       "  <tbody>\n",
       "    <tr>\n",
       "      <th>AAPL</th>\n",
       "      <td>0.081947</td>\n",
       "      <td>0.046648</td>\n",
       "      <td>0.044439</td>\n",
       "      <td>0.043380</td>\n",
       "    </tr>\n",
       "    <tr>\n",
       "      <th>AMZN</th>\n",
       "      <td>0.046648</td>\n",
       "      <td>0.107119</td>\n",
       "      <td>0.056340</td>\n",
       "      <td>0.073257</td>\n",
       "    </tr>\n",
       "    <tr>\n",
       "      <th>GOOG</th>\n",
       "      <td>0.044439</td>\n",
       "      <td>0.056340</td>\n",
       "      <td>0.075110</td>\n",
       "      <td>0.055324</td>\n",
       "    </tr>\n",
       "    <tr>\n",
       "      <th>NFLX</th>\n",
       "      <td>0.043380</td>\n",
       "      <td>0.073257</td>\n",
       "      <td>0.055324</td>\n",
       "      <td>0.221969</td>\n",
       "    </tr>\n",
       "  </tbody>\n",
       "</table>\n",
       "</div>"
      ],
      "text/plain": [
       "          AAPL      AMZN      GOOG      NFLX\n",
       "AAPL  0.081947  0.046648  0.044439  0.043380\n",
       "AMZN  0.046648  0.107119  0.056340  0.073257\n",
       "GOOG  0.044439  0.056340  0.075110  0.055324\n",
       "NFLX  0.043380  0.073257  0.055324  0.221969"
      ]
     },
     "execution_count": 19,
     "metadata": {},
     "output_type": "execute_result"
    }
   ],
   "source": [
    "# Create and show the annualized covariance matrix\n",
    "# Yıllıklandırılmış kovaryans matrisini oluşturun ve gösterin\n",
    "cov_matrix_annual=returns.cov()*252\n",
    "cov_matrix_annual"
   ]
  },
  {
   "cell_type": "code",
   "execution_count": 20,
   "metadata": {},
   "outputs": [],
   "source": [
    "# # Calculate the portfolio variance\n",
    "# port_varience=np.dot(weights.T,np.dot(cov_matrix_annual,weights))\n",
    "# port_varience"
   ]
  },
  {
   "cell_type": "code",
   "execution_count": 21,
   "metadata": {},
   "outputs": [],
   "source": [
    "import numpy as np\n",
    "\n",
    "# Assuming you have 4 assets in your portfolio\n",
    "# Portföyünüzde 4 varlık olduğunu varsayalım\n",
    "assets = [\"AAPL\", \"AMZN\", \"GOOG\", \"NFLX\"]\n",
    "weights = np.array([0.25, 0.25, 0.25, 0.25])  # Adjust weights accordingly / Ağırlıkları buna göre ayarlayın\n",
    "\n",
    "# Assuming you have a 4x4 covariance matrix for these 4 assets\n",
    "# Bu 4 varlık için 4x4 kovaryans matrisiniz olduğunu varsayalım\n",
    "cov_matrix_annual = returns[assets].cov() * 252\n",
    "\n",
    "# Calculate the portfolio variance\n",
    "# Portföy varyansını hesaplayın\n",
    "port_variance = np.dot(weights.T, np.dot(cov_matrix_annual, weights))"
   ]
  },
  {
   "cell_type": "code",
   "execution_count": 22,
   "metadata": {},
   "outputs": [
    {
     "data": {
      "text/plain": [
       "0.07030746386790093"
      ]
     },
     "execution_count": 22,
     "metadata": {},
     "output_type": "execute_result"
    }
   ],
   "source": [
    "port_variance"
   ]
  },
  {
   "cell_type": "code",
   "execution_count": 23,
   "metadata": {},
   "outputs": [
    {
     "data": {
      "text/plain": [
       "0.2651555465531523"
      ]
     },
     "execution_count": 23,
     "metadata": {},
     "output_type": "execute_result"
    }
   ],
   "source": [
    "# Calculate the portfolio volatility aka standard deviation\n",
    "# Portföy volatilitesini yani standart sapmayı hesaplayın\n",
    "port_volatility=np.sqrt(port_variance)\n",
    "port_volatility"
   ]
  },
  {
   "cell_type": "code",
   "execution_count": 24,
   "metadata": {},
   "outputs": [
    {
     "data": {
      "text/plain": [
       "0.29398972119788214"
      ]
     },
     "execution_count": 24,
     "metadata": {},
     "output_type": "execute_result"
    }
   ],
   "source": [
    "# Calculate the annual portfolio return\n",
    "# Yıllık portföy getirisini hesaplayın\n",
    "portfolioSimpleAnnualReturn=np.sum(returns.mean()*weights)*252\n",
    "portfolioSimpleAnnualReturn"
   ]
  },
  {
   "cell_type": "code",
   "execution_count": 25,
   "metadata": {},
   "outputs": [
    {
     "name": "stdout",
     "output_type": "stream",
     "text": [
      "Expected annual returns / Beklenen yıllık getiri: 28.999999999999996%\n",
      "Expected volatility / risky - Beklenen oynaklık / riskli: 27.0%\n",
      "Expected variance / Beklenen varyans: 7.000000000000001%\n"
     ]
    }
   ],
   "source": [
    "# Show the expected annual return, volatility (risk), and varience\n",
    "# Beklenen yıllık getiriyi, volatiliteyi (riski) ve varyansı gösterin\n",
    "percent_var=str(round(port_variance,2)*100)+\"%\"\n",
    "percent_vols=str(round(port_volatility,2)*100)+\"%\"\n",
    "percent_ret=str(round(portfolioSimpleAnnualReturn,2)*100)+\"%\"\n",
    "\n",
    "print(\"Expected annual returns / Beklenen yıllık getiri: \"+percent_ret)\n",
    "print(\"Expected volatility / risky - Beklenen oynaklık / riskli: \"+percent_vols)\n",
    "print(\"Expected variance / Beklenen varyans: \"+percent_var)"
   ]
  },
  {
   "cell_type": "code",
   "execution_count": 26,
   "metadata": {},
   "outputs": [
    {
     "name": "stdout",
     "output_type": "stream",
     "text": [
      "Requirement already satisfied: PyPortfolioOpt in c:\\users\\serkan polat\\appdata\\local\\programs\\python\\python310\\lib\\site-packages (1.5.5)\n",
      "Requirement already satisfied: cvxpy<2.0.0,>=1.1.19 in c:\\users\\serkan polat\\appdata\\local\\programs\\python\\python310\\lib\\site-packages (from PyPortfolioOpt) (1.3.2)\n",
      "Requirement already satisfied: numpy<2.0.0,>=1.22.4 in c:\\users\\serkan polat\\appdata\\local\\programs\\python\\python310\\lib\\site-packages (from PyPortfolioOpt) (1.23.5)\n",
      "Requirement already satisfied: pandas>=0.19 in c:\\users\\serkan polat\\appdata\\local\\programs\\python\\python310\\lib\\site-packages (from PyPortfolioOpt) (1.5.3)\n",
      "Requirement already satisfied: scipy<2.0,>=1.3 in c:\\users\\serkan polat\\appdata\\local\\programs\\python\\python310\\lib\\site-packages (from PyPortfolioOpt) (1.10.1)\n",
      "Requirement already satisfied: osqp>=0.4.1 in c:\\users\\serkan polat\\appdata\\local\\programs\\python\\python310\\lib\\site-packages (from cvxpy<2.0.0,>=1.1.19->PyPortfolioOpt) (0.6.3)\n",
      "Requirement already satisfied: ecos>=2 in c:\\users\\serkan polat\\appdata\\local\\programs\\python\\python310\\lib\\site-packages (from cvxpy<2.0.0,>=1.1.19->PyPortfolioOpt) (2.0.12)\n",
      "Requirement already satisfied: scs>=1.1.6 in c:\\users\\serkan polat\\appdata\\local\\programs\\python\\python310\\lib\\site-packages (from cvxpy<2.0.0,>=1.1.19->PyPortfolioOpt) (3.2.3)\n",
      "Requirement already satisfied: setuptools>65.5.1 in c:\\users\\serkan polat\\appdata\\local\\programs\\python\\python310\\lib\\site-packages (from cvxpy<2.0.0,>=1.1.19->PyPortfolioOpt) (67.8.0)\n",
      "Requirement already satisfied: python-dateutil>=2.8.1 in c:\\users\\serkan polat\\appdata\\roaming\\python\\python310\\site-packages (from pandas>=0.19->PyPortfolioOpt) (2.8.2)\n",
      "Requirement already satisfied: pytz>=2020.1 in c:\\users\\serkan polat\\appdata\\local\\programs\\python\\python310\\lib\\site-packages (from pandas>=0.19->PyPortfolioOpt) (2023.3)\n",
      "Requirement already satisfied: qdldl in c:\\users\\serkan polat\\appdata\\local\\programs\\python\\python310\\lib\\site-packages (from osqp>=0.4.1->cvxpy<2.0.0,>=1.1.19->PyPortfolioOpt) (0.1.7.post0)\n",
      "Requirement already satisfied: six>=1.5 in c:\\users\\serkan polat\\appdata\\roaming\\python\\python310\\site-packages (from python-dateutil>=2.8.1->pandas>=0.19->PyPortfolioOpt) (1.16.0)\n"
     ]
    }
   ],
   "source": [
    "!pip install PyPortfolioOpt"
   ]
  },
  {
   "cell_type": "code",
   "execution_count": 27,
   "metadata": {},
   "outputs": [],
   "source": [
    "from pypfopt.efficient_frontier import EfficientFrontier\n",
    "from pypfopt import risk_models\n",
    "from pypfopt import expected_returns"
   ]
  },
  {
   "cell_type": "code",
   "execution_count": 28,
   "metadata": {},
   "outputs": [
    {
     "name": "stdout",
     "output_type": "stream",
     "text": [
      "OrderedDict([('AAPL', 0.5051), ('AMZN', 0.11665), ('GOOG', 0.09574), ('NFLX', 0.28251)])\n",
      "Expected annual return: 27.5%\n",
      "Annual volatility: 26.8%\n",
      "Sharpe Ratio: 0.95\n"
     ]
    },
    {
     "data": {
      "text/plain": [
       "(0.2752682853938496, 0.2683711810387691, 0.9511762194651345)"
      ]
     },
     "execution_count": 28,
     "metadata": {},
     "output_type": "execute_result"
    }
   ],
   "source": [
    "# Portfolio Optimization\n",
    "# Portföy Optimizasyonu\n",
    "\n",
    "\n",
    "# Calculate the expected returns and the annualised sample covariance matrix of asset returns\n",
    "# Varlık getirilerinin beklenen getirilerini ve yıllıklaştırılmış örnek kovaryans matrisini hesaplayın\n",
    "mu= expected_returns.mean_historical_return(df)\n",
    "S=risk_models.sample_cov(df)\n",
    "\n",
    "# Optimize for max sharpe ratio\n",
    "# Maksimum keskinlik oranı için optimize edin\n",
    "ef=EfficientFrontier(mu,S)\n",
    "weights=ef.max_sharpe()\n",
    "cleaned_weights=ef.clean_weights()\n",
    "print(cleaned_weights)\n",
    "ef.portfolio_performance(verbose=True)"
   ]
  },
  {
   "cell_type": "code",
   "execution_count": 29,
   "metadata": {},
   "outputs": [
    {
     "data": {
      "text/plain": [
       "1.0"
      ]
     },
     "execution_count": 29,
     "metadata": {},
     "output_type": "execute_result"
    }
   ],
   "source": [
    "0.47904+0.13797+0.11074+0.27225"
   ]
  },
  {
   "cell_type": "code",
   "execution_count": 30,
   "metadata": {},
   "outputs": [
    {
     "name": "stdout",
     "output_type": "stream",
     "text": [
      "Discrete allocation/Ayrık tahsis: {'AAPL': 43, 'AMZN': 14, 'GOOG': 11, 'NFLX': 11}\n",
      "Funds remaining/Kalan fon: $54.69\n"
     ]
    }
   ],
   "source": [
    "# Get the discrete allocation of each share per stock\n",
    "# Hisse başına her hissenin ayrı ayrı tahsisini alın\n",
    "from pypfopt.discrete_allocation import DiscreteAllocation,get_latest_prices\n",
    "\n",
    "latest_prices=get_latest_prices(df)\n",
    "weight=cleaned_weights\n",
    "da=DiscreteAllocation(weights,latest_prices,total_portfolio_value=15000)\n",
    "\n",
    "allocation,leftover=da.lp_portfolio()\n",
    "print(\"Discrete allocation/Ayrık tahsis:\",allocation)\n",
    "print(\"Funds remaining/Kalan fon: ${:.2f}\".format(leftover))"
   ]
  }
 ],
 "metadata": {
  "kernelspec": {
   "display_name": "Python 3",
   "language": "python",
   "name": "python3"
  },
  "language_info": {
   "codemirror_mode": {
    "name": "ipython",
    "version": 3
   },
   "file_extension": ".py",
   "mimetype": "text/x-python",
   "name": "python",
   "nbconvert_exporter": "python",
   "pygments_lexer": "ipython3",
   "version": "3.10.9"
  },
  "orig_nbformat": 4
 },
 "nbformat": 4,
 "nbformat_minor": 2
}
