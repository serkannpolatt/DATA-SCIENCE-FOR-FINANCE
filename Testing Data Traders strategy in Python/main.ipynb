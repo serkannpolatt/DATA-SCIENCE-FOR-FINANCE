{
 "cells": [
  {
   "cell_type": "markdown",
   "metadata": {},
   "source": [
    "## Calculating technical indicators\n",
    "## Teknik göstergeleri hesaplama"
   ]
  },
  {
   "cell_type": "code",
   "execution_count": 108,
   "metadata": {},
   "outputs": [],
   "source": [
    "import yfinance as yf \n",
    "import ta \n",
    "import numpy as np\n",
    "import datetime as dt\n",
    "import matplotlib.pyplot as plt"
   ]
  },
  {
   "cell_type": "code",
   "execution_count": 109,
   "metadata": {},
   "outputs": [
    {
     "name": "stdout",
     "output_type": "stream",
     "text": [
      "[*********************100%***********************]  1 of 1 completed\n"
     ]
    }
   ],
   "source": [
    "df = yf.download(\"BTC-USD\", start=\"2022-07-01\", interval=\"1h\")"
   ]
  },
  {
   "cell_type": "code",
   "execution_count": 110,
   "metadata": {},
   "outputs": [
    {
     "data": {
      "text/html": [
       "<div>\n",
       "<style scoped>\n",
       "    .dataframe tbody tr th:only-of-type {\n",
       "        vertical-align: middle;\n",
       "    }\n",
       "\n",
       "    .dataframe tbody tr th {\n",
       "        vertical-align: top;\n",
       "    }\n",
       "\n",
       "    .dataframe thead th {\n",
       "        text-align: right;\n",
       "    }\n",
       "</style>\n",
       "<table border=\"1\" class=\"dataframe\">\n",
       "  <thead>\n",
       "    <tr style=\"text-align: right;\">\n",
       "      <th></th>\n",
       "      <th>Open</th>\n",
       "      <th>High</th>\n",
       "      <th>Low</th>\n",
       "      <th>Close</th>\n",
       "      <th>Adj Close</th>\n",
       "      <th>Volume</th>\n",
       "    </tr>\n",
       "    <tr>\n",
       "      <th>Datetime</th>\n",
       "      <th></th>\n",
       "      <th></th>\n",
       "      <th></th>\n",
       "      <th></th>\n",
       "      <th></th>\n",
       "      <th></th>\n",
       "    </tr>\n",
       "  </thead>\n",
       "  <tbody>\n",
       "    <tr>\n",
       "      <th>2022-07-01 00:00:00+00:00</th>\n",
       "      <td>19878.185547</td>\n",
       "      <td>20632.671875</td>\n",
       "      <td>19705.644531</td>\n",
       "      <td>20320.039062</td>\n",
       "      <td>20320.039062</td>\n",
       "      <td>0</td>\n",
       "    </tr>\n",
       "    <tr>\n",
       "      <th>2022-07-01 01:00:00+00:00</th>\n",
       "      <td>20308.171875</td>\n",
       "      <td>20401.996094</td>\n",
       "      <td>20282.875000</td>\n",
       "      <td>20385.322266</td>\n",
       "      <td>20385.322266</td>\n",
       "      <td>762939392</td>\n",
       "    </tr>\n",
       "    <tr>\n",
       "      <th>2022-07-01 02:00:00+00:00</th>\n",
       "      <td>20398.035156</td>\n",
       "      <td>20454.083984</td>\n",
       "      <td>20289.501953</td>\n",
       "      <td>20307.867188</td>\n",
       "      <td>20307.867188</td>\n",
       "      <td>530212864</td>\n",
       "    </tr>\n",
       "    <tr>\n",
       "      <th>2022-07-01 03:00:00+00:00</th>\n",
       "      <td>20301.914062</td>\n",
       "      <td>20301.914062</td>\n",
       "      <td>19782.597656</td>\n",
       "      <td>19782.597656</td>\n",
       "      <td>19782.597656</td>\n",
       "      <td>690944000</td>\n",
       "    </tr>\n",
       "    <tr>\n",
       "      <th>2022-07-01 04:00:00+00:00</th>\n",
       "      <td>19752.228516</td>\n",
       "      <td>19752.228516</td>\n",
       "      <td>19468.343750</td>\n",
       "      <td>19469.933594</td>\n",
       "      <td>19469.933594</td>\n",
       "      <td>1126240256</td>\n",
       "    </tr>\n",
       "    <tr>\n",
       "      <th>...</th>\n",
       "      <td>...</td>\n",
       "      <td>...</td>\n",
       "      <td>...</td>\n",
       "      <td>...</td>\n",
       "      <td>...</td>\n",
       "      <td>...</td>\n",
       "    </tr>\n",
       "    <tr>\n",
       "      <th>2023-08-18 05:00:00+00:00</th>\n",
       "      <td>26262.656250</td>\n",
       "      <td>26514.214844</td>\n",
       "      <td>26262.656250</td>\n",
       "      <td>26439.041016</td>\n",
       "      <td>26439.041016</td>\n",
       "      <td>890626048</td>\n",
       "    </tr>\n",
       "    <tr>\n",
       "      <th>2023-08-18 06:00:00+00:00</th>\n",
       "      <td>26439.648438</td>\n",
       "      <td>26598.652344</td>\n",
       "      <td>26439.648438</td>\n",
       "      <td>26506.587891</td>\n",
       "      <td>26506.587891</td>\n",
       "      <td>964212736</td>\n",
       "    </tr>\n",
       "    <tr>\n",
       "      <th>2023-08-18 07:00:00+00:00</th>\n",
       "      <td>26510.484375</td>\n",
       "      <td>26520.677734</td>\n",
       "      <td>26418.230469</td>\n",
       "      <td>26418.230469</td>\n",
       "      <td>26418.230469</td>\n",
       "      <td>900331520</td>\n",
       "    </tr>\n",
       "    <tr>\n",
       "      <th>2023-08-18 08:00:00+00:00</th>\n",
       "      <td>26413.839844</td>\n",
       "      <td>26573.185547</td>\n",
       "      <td>26412.912109</td>\n",
       "      <td>26569.796875</td>\n",
       "      <td>26569.796875</td>\n",
       "      <td>706672640</td>\n",
       "    </tr>\n",
       "    <tr>\n",
       "      <th>2023-08-18 09:00:00+00:00</th>\n",
       "      <td>26578.017578</td>\n",
       "      <td>26578.017578</td>\n",
       "      <td>26540.896484</td>\n",
       "      <td>26551.673828</td>\n",
       "      <td>26551.673828</td>\n",
       "      <td>110456832</td>\n",
       "    </tr>\n",
       "  </tbody>\n",
       "</table>\n",
       "<p>9839 rows × 6 columns</p>\n",
       "</div>"
      ],
      "text/plain": [
       "                                   Open          High           Low  \\\n",
       "Datetime                                                              \n",
       "2022-07-01 00:00:00+00:00  19878.185547  20632.671875  19705.644531   \n",
       "2022-07-01 01:00:00+00:00  20308.171875  20401.996094  20282.875000   \n",
       "2022-07-01 02:00:00+00:00  20398.035156  20454.083984  20289.501953   \n",
       "2022-07-01 03:00:00+00:00  20301.914062  20301.914062  19782.597656   \n",
       "2022-07-01 04:00:00+00:00  19752.228516  19752.228516  19468.343750   \n",
       "...                                 ...           ...           ...   \n",
       "2023-08-18 05:00:00+00:00  26262.656250  26514.214844  26262.656250   \n",
       "2023-08-18 06:00:00+00:00  26439.648438  26598.652344  26439.648438   \n",
       "2023-08-18 07:00:00+00:00  26510.484375  26520.677734  26418.230469   \n",
       "2023-08-18 08:00:00+00:00  26413.839844  26573.185547  26412.912109   \n",
       "2023-08-18 09:00:00+00:00  26578.017578  26578.017578  26540.896484   \n",
       "\n",
       "                                  Close     Adj Close      Volume  \n",
       "Datetime                                                           \n",
       "2022-07-01 00:00:00+00:00  20320.039062  20320.039062           0  \n",
       "2022-07-01 01:00:00+00:00  20385.322266  20385.322266   762939392  \n",
       "2022-07-01 02:00:00+00:00  20307.867188  20307.867188   530212864  \n",
       "2022-07-01 03:00:00+00:00  19782.597656  19782.597656   690944000  \n",
       "2022-07-01 04:00:00+00:00  19469.933594  19469.933594  1126240256  \n",
       "...                                 ...           ...         ...  \n",
       "2023-08-18 05:00:00+00:00  26439.041016  26439.041016   890626048  \n",
       "2023-08-18 06:00:00+00:00  26506.587891  26506.587891   964212736  \n",
       "2023-08-18 07:00:00+00:00  26418.230469  26418.230469   900331520  \n",
       "2023-08-18 08:00:00+00:00  26569.796875  26569.796875   706672640  \n",
       "2023-08-18 09:00:00+00:00  26551.673828  26551.673828   110456832  \n",
       "\n",
       "[9839 rows x 6 columns]"
      ]
     },
     "execution_count": 110,
     "metadata": {},
     "output_type": "execute_result"
    }
   ],
   "source": [
    "df"
   ]
  },
  {
   "cell_type": "code",
   "execution_count": 111,
   "metadata": {},
   "outputs": [],
   "source": [
    "df[\"%K\"]=ta.momentum.stoch(df.High,df.Low,df.Close,window=14,smooth_window=3)"
   ]
  },
  {
   "cell_type": "code",
   "execution_count": 112,
   "metadata": {},
   "outputs": [],
   "source": [
    "df[\"%D\"]=df[\"%K\"].rolling(3).mean()"
   ]
  },
  {
   "cell_type": "code",
   "execution_count": 113,
   "metadata": {},
   "outputs": [],
   "source": [
    "df[\"rsi\"]=ta.momentum.rsi(df.Close,window=14)"
   ]
  },
  {
   "cell_type": "code",
   "execution_count": 114,
   "metadata": {},
   "outputs": [],
   "source": [
    "df[\"macd\"]=ta.trend.macd_diff(df.Close)"
   ]
  },
  {
   "cell_type": "code",
   "execution_count": 115,
   "metadata": {},
   "outputs": [],
   "source": [
    "df.dropna(inplace=True)"
   ]
  },
  {
   "cell_type": "markdown",
   "metadata": {},
   "source": [
    "## Explanation of how trigger signals are attained\n",
    "## Tetikleme sinyallerinin nasıl elde edildiğinin açıklaması"
   ]
  },
  {
   "cell_type": "code",
   "execution_count": 117,
   "metadata": {},
   "outputs": [],
   "source": [
    "# dfx=pd.DataFrame()\n",
    "# for i in range(1,4):\n",
    "#     mask=(df[\"%K\"].shift(i)<20) & (df[\"%D\"].shift(i)<20)\n",
    "#     dfx=dfx.append(mask,ignore_index=True)"
   ]
  },
  {
   "cell_type": "code",
   "execution_count": 118,
   "metadata": {},
   "outputs": [],
   "source": [
    "# dfx.sum(axis=0)"
   ]
  },
  {
   "cell_type": "markdown",
   "metadata": {},
   "source": [
    "## Get the triggers for Buys and Sell\n",
    "## Alış ve Satış için tetikleyicileri edinin"
   ]
  },
  {
   "cell_type": "code",
   "execution_count": 119,
   "metadata": {},
   "outputs": [],
   "source": [
    "def gettriggers(df, lags, buy=True):\n",
    "    dfx = pd.DataFrame()\n",
    "    for i in range(1, lags+1):\n",
    "        if buy:\n",
    "            mask = (df['%K'].shift(i) < 20) & (df['%D'].shift(i) < 20)\n",
    "        else:\n",
    "            mask = (df['%K'].shift(i) > 80) & (df['%D'].shift(i) > 80)\n",
    "        dfx = dfx.append(mask, ignore_index=True)\n",
    "    return dfx.sum(axis=0)"
   ]
  },
  {
   "cell_type": "code",
   "execution_count": 120,
   "metadata": {},
   "outputs": [
    {
     "name": "stderr",
     "output_type": "stream",
     "text": [
      "C:\\Users\\Serkan POLAT\\AppData\\Local\\Temp\\ipykernel_17392\\3342241015.py:8: FutureWarning: The frame.append method is deprecated and will be removed from pandas in a future version. Use pandas.concat instead.\n",
      "  dfx = dfx.append(mask, ignore_index=True)\n",
      "C:\\Users\\Serkan POLAT\\AppData\\Local\\Temp\\ipykernel_17392\\3342241015.py:8: FutureWarning: The frame.append method is deprecated and will be removed from pandas in a future version. Use pandas.concat instead.\n",
      "  dfx = dfx.append(mask, ignore_index=True)\n",
      "C:\\Users\\Serkan POLAT\\AppData\\Local\\Temp\\ipykernel_17392\\3342241015.py:8: FutureWarning: The frame.append method is deprecated and will be removed from pandas in a future version. Use pandas.concat instead.\n",
      "  dfx = dfx.append(mask, ignore_index=True)\n",
      "C:\\Users\\Serkan POLAT\\AppData\\Local\\Temp\\ipykernel_17392\\3342241015.py:8: FutureWarning: The frame.append method is deprecated and will be removed from pandas in a future version. Use pandas.concat instead.\n",
      "  dfx = dfx.append(mask, ignore_index=True)\n"
     ]
    }
   ],
   "source": [
    "df[\"Buytrigger\"]=np.where(gettriggers(df,4),1,0)"
   ]
  },
  {
   "cell_type": "code",
   "execution_count": 121,
   "metadata": {},
   "outputs": [
    {
     "name": "stderr",
     "output_type": "stream",
     "text": [
      "C:\\Users\\Serkan POLAT\\AppData\\Local\\Temp\\ipykernel_17392\\3342241015.py:8: FutureWarning: The frame.append method is deprecated and will be removed from pandas in a future version. Use pandas.concat instead.\n",
      "  dfx = dfx.append(mask, ignore_index=True)\n",
      "C:\\Users\\Serkan POLAT\\AppData\\Local\\Temp\\ipykernel_17392\\3342241015.py:8: FutureWarning: The frame.append method is deprecated and will be removed from pandas in a future version. Use pandas.concat instead.\n",
      "  dfx = dfx.append(mask, ignore_index=True)\n",
      "C:\\Users\\Serkan POLAT\\AppData\\Local\\Temp\\ipykernel_17392\\3342241015.py:8: FutureWarning: The frame.append method is deprecated and will be removed from pandas in a future version. Use pandas.concat instead.\n",
      "  dfx = dfx.append(mask, ignore_index=True)\n",
      "C:\\Users\\Serkan POLAT\\AppData\\Local\\Temp\\ipykernel_17392\\3342241015.py:8: FutureWarning: The frame.append method is deprecated and will be removed from pandas in a future version. Use pandas.concat instead.\n",
      "  dfx = dfx.append(mask, ignore_index=True)\n"
     ]
    }
   ],
   "source": [
    "df[\"Selltrigger\"]=np.where(gettriggers(df,4,False),1,0)"
   ]
  },
  {
   "cell_type": "markdown",
   "metadata": {},
   "source": [
    "## Buying/Selling condition (Trigger, Stochastic, RSI, MACD)\n",
    "## Alış/Satış koşulu (Tetikleyici, Stokastik, RSI, MACD)"
   ]
  },
  {
   "cell_type": "code",
   "execution_count": 122,
   "metadata": {},
   "outputs": [],
   "source": [
    "df[\"Buy\"] = np.where(\n",
    "    (df.Buytrigger) & \n",
    "    (df[\"%K\"].between(20, 80)) & \n",
    "    (df[\"%D\"].between(20, 80)) & \n",
    "    (df[\"rsi\"] > 50) & \n",
    "    (df[\"macd\"] > 0), \n",
    "    1, \n",
    "    0\n",
    ")\n"
   ]
  },
  {
   "cell_type": "code",
   "execution_count": 123,
   "metadata": {},
   "outputs": [],
   "source": [
    "df[\"Sell\"] = np.where(\n",
    "    (df.Selltrigger) & \n",
    "    (df[\"%K\"].between(20, 80)) & \n",
    "    (df[\"%D\"].between(20, 80)) & \n",
    "    (df[\"rsi\"] < 50) & \n",
    "    (df[\"macd\"] < 0), \n",
    "    1, \n",
    "    0\n",
    ")\n"
   ]
  },
  {
   "cell_type": "markdown",
   "metadata": {},
   "source": [
    "## Buying and Selling Dates\n",
    "## Alış ve Satış Tarihleri"
   ]
  },
  {
   "cell_type": "code",
   "execution_count": 124,
   "metadata": {},
   "outputs": [],
   "source": [
    "Buying_dates,Selling_dates=[],[]"
   ]
  },
  {
   "cell_type": "code",
   "execution_count": 125,
   "metadata": {},
   "outputs": [],
   "source": [
    "for i in range(len(df)-1):\n",
    "    if df.Buy.iloc[i]:\n",
    "        Buying_dates.append(df.iloc[i+1].name)\n",
    "        for num,j in enumerate(df.Sell[i:]):\n",
    "            if j:\n",
    "                Selling_dates.append(df.iloc[i+num+1].name)\n",
    "                break"
   ]
  },
  {
   "cell_type": "markdown",
   "metadata": {},
   "source": [
    "## Avoid meaningless or multiple positions\n",
    "## Anlamsız veya çoklu konumlardan kaçının"
   ]
  },
  {
   "cell_type": "code",
   "execution_count": 126,
   "metadata": {},
   "outputs": [],
   "source": [
    "cutit=len(Buying_dates)-len(Selling_dates)"
   ]
  },
  {
   "cell_type": "code",
   "execution_count": 127,
   "metadata": {},
   "outputs": [],
   "source": [
    "if cutit:\n",
    "    Buying_dates=Buying_dates[:-cutit]"
   ]
  },
  {
   "cell_type": "code",
   "execution_count": 128,
   "metadata": {},
   "outputs": [],
   "source": [
    "frame=pd.DataFrame({\"Buying_dates\":Buying_dates,\"Selling_dates\":Selling_dates})"
   ]
  },
  {
   "cell_type": "code",
   "execution_count": 129,
   "metadata": {},
   "outputs": [
    {
     "data": {
      "text/html": [
       "<div>\n",
       "<style scoped>\n",
       "    .dataframe tbody tr th:only-of-type {\n",
       "        vertical-align: middle;\n",
       "    }\n",
       "\n",
       "    .dataframe tbody tr th {\n",
       "        vertical-align: top;\n",
       "    }\n",
       "\n",
       "    .dataframe thead th {\n",
       "        text-align: right;\n",
       "    }\n",
       "</style>\n",
       "<table border=\"1\" class=\"dataframe\">\n",
       "  <thead>\n",
       "    <tr style=\"text-align: right;\">\n",
       "      <th></th>\n",
       "      <th>Buying_dates</th>\n",
       "      <th>Selling_dates</th>\n",
       "    </tr>\n",
       "  </thead>\n",
       "  <tbody>\n",
       "    <tr>\n",
       "      <th>0</th>\n",
       "      <td>2022-07-04 10:00:00+00:00</td>\n",
       "      <td>2022-07-05 09:00:00+00:00</td>\n",
       "    </tr>\n",
       "    <tr>\n",
       "      <th>1</th>\n",
       "      <td>2022-07-14 17:00:00+00:00</td>\n",
       "      <td>2022-07-30 21:00:00+00:00</td>\n",
       "    </tr>\n",
       "    <tr>\n",
       "      <th>2</th>\n",
       "      <td>2022-08-02 00:00:00+00:00</td>\n",
       "      <td>2022-08-25 00:00:00+00:00</td>\n",
       "    </tr>\n",
       "    <tr>\n",
       "      <th>3</th>\n",
       "      <td>2022-08-02 15:00:00+00:00</td>\n",
       "      <td>2022-08-25 00:00:00+00:00</td>\n",
       "    </tr>\n",
       "    <tr>\n",
       "      <th>4</th>\n",
       "      <td>2022-08-03 07:00:00+00:00</td>\n",
       "      <td>2022-08-25 00:00:00+00:00</td>\n",
       "    </tr>\n",
       "    <tr>\n",
       "      <th>5</th>\n",
       "      <td>2022-08-03 08:00:00+00:00</td>\n",
       "      <td>2022-08-25 00:00:00+00:00</td>\n",
       "    </tr>\n",
       "    <tr>\n",
       "      <th>6</th>\n",
       "      <td>2022-08-05 02:00:00+00:00</td>\n",
       "      <td>2022-08-25 00:00:00+00:00</td>\n",
       "    </tr>\n",
       "    <tr>\n",
       "      <th>7</th>\n",
       "      <td>2022-08-05 23:00:00+00:00</td>\n",
       "      <td>2022-08-25 00:00:00+00:00</td>\n",
       "    </tr>\n",
       "    <tr>\n",
       "      <th>8</th>\n",
       "      <td>2022-09-05 16:00:00+00:00</td>\n",
       "      <td>2022-09-25 16:00:00+00:00</td>\n",
       "    </tr>\n",
       "    <tr>\n",
       "      <th>9</th>\n",
       "      <td>2022-09-05 17:00:00+00:00</td>\n",
       "      <td>2022-09-25 16:00:00+00:00</td>\n",
       "    </tr>\n",
       "    <tr>\n",
       "      <th>10</th>\n",
       "      <td>2022-09-06 07:00:00+00:00</td>\n",
       "      <td>2022-09-25 16:00:00+00:00</td>\n",
       "    </tr>\n",
       "    <tr>\n",
       "      <th>11</th>\n",
       "      <td>2022-09-06 08:00:00+00:00</td>\n",
       "      <td>2022-09-25 16:00:00+00:00</td>\n",
       "    </tr>\n",
       "    <tr>\n",
       "      <th>12</th>\n",
       "      <td>2022-09-06 09:00:00+00:00</td>\n",
       "      <td>2022-09-25 16:00:00+00:00</td>\n",
       "    </tr>\n",
       "    <tr>\n",
       "      <th>13</th>\n",
       "      <td>2022-09-16 22:00:00+00:00</td>\n",
       "      <td>2022-09-25 16:00:00+00:00</td>\n",
       "    </tr>\n",
       "    <tr>\n",
       "      <th>14</th>\n",
       "      <td>2022-10-02 20:00:00+00:00</td>\n",
       "      <td>2022-10-05 21:00:00+00:00</td>\n",
       "    </tr>\n",
       "    <tr>\n",
       "      <th>15</th>\n",
       "      <td>2022-11-02 17:00:00+00:00</td>\n",
       "      <td>2022-11-28 01:00:00+00:00</td>\n",
       "    </tr>\n",
       "    <tr>\n",
       "      <th>16</th>\n",
       "      <td>2022-11-03 05:00:00+00:00</td>\n",
       "      <td>2022-11-28 01:00:00+00:00</td>\n",
       "    </tr>\n",
       "    <tr>\n",
       "      <th>17</th>\n",
       "      <td>2022-11-03 17:00:00+00:00</td>\n",
       "      <td>2022-11-28 01:00:00+00:00</td>\n",
       "    </tr>\n",
       "    <tr>\n",
       "      <th>18</th>\n",
       "      <td>2022-11-15 01:00:00+00:00</td>\n",
       "      <td>2022-11-28 01:00:00+00:00</td>\n",
       "    </tr>\n",
       "    <tr>\n",
       "      <th>19</th>\n",
       "      <td>2022-11-15 02:00:00+00:00</td>\n",
       "      <td>2022-11-28 01:00:00+00:00</td>\n",
       "    </tr>\n",
       "    <tr>\n",
       "      <th>20</th>\n",
       "      <td>2022-11-15 03:00:00+00:00</td>\n",
       "      <td>2022-11-28 01:00:00+00:00</td>\n",
       "    </tr>\n",
       "    <tr>\n",
       "      <th>21</th>\n",
       "      <td>2022-12-18 20:00:00+00:00</td>\n",
       "      <td>2022-12-24 14:00:00+00:00</td>\n",
       "    </tr>\n",
       "    <tr>\n",
       "      <th>22</th>\n",
       "      <td>2022-12-18 21:00:00+00:00</td>\n",
       "      <td>2022-12-24 14:00:00+00:00</td>\n",
       "    </tr>\n",
       "    <tr>\n",
       "      <th>23</th>\n",
       "      <td>2022-12-22 03:00:00+00:00</td>\n",
       "      <td>2022-12-24 14:00:00+00:00</td>\n",
       "    </tr>\n",
       "    <tr>\n",
       "      <th>24</th>\n",
       "      <td>2022-12-22 22:00:00+00:00</td>\n",
       "      <td>2022-12-24 14:00:00+00:00</td>\n",
       "    </tr>\n",
       "    <tr>\n",
       "      <th>25</th>\n",
       "      <td>2022-12-22 23:00:00+00:00</td>\n",
       "      <td>2022-12-24 14:00:00+00:00</td>\n",
       "    </tr>\n",
       "    <tr>\n",
       "      <th>26</th>\n",
       "      <td>2022-12-30 19:00:00+00:00</td>\n",
       "      <td>2023-01-03 15:00:00+00:00</td>\n",
       "    </tr>\n",
       "    <tr>\n",
       "      <th>27</th>\n",
       "      <td>2023-01-08 21:00:00+00:00</td>\n",
       "      <td>2023-01-24 10:00:00+00:00</td>\n",
       "    </tr>\n",
       "    <tr>\n",
       "      <th>28</th>\n",
       "      <td>2023-01-08 22:00:00+00:00</td>\n",
       "      <td>2023-01-24 10:00:00+00:00</td>\n",
       "    </tr>\n",
       "    <tr>\n",
       "      <th>29</th>\n",
       "      <td>2023-01-08 23:00:00+00:00</td>\n",
       "      <td>2023-01-24 10:00:00+00:00</td>\n",
       "    </tr>\n",
       "    <tr>\n",
       "      <th>30</th>\n",
       "      <td>2023-01-20 14:00:00+00:00</td>\n",
       "      <td>2023-01-24 10:00:00+00:00</td>\n",
       "    </tr>\n",
       "    <tr>\n",
       "      <th>31</th>\n",
       "      <td>2023-02-05 07:00:00+00:00</td>\n",
       "      <td>2023-02-21 10:00:00+00:00</td>\n",
       "    </tr>\n",
       "    <tr>\n",
       "      <th>32</th>\n",
       "      <td>2023-03-01 04:00:00+00:00</td>\n",
       "      <td>2023-04-26 21:00:00+00:00</td>\n",
       "    </tr>\n",
       "    <tr>\n",
       "      <th>33</th>\n",
       "      <td>2023-03-08 16:00:00+00:00</td>\n",
       "      <td>2023-04-26 21:00:00+00:00</td>\n",
       "    </tr>\n",
       "    <tr>\n",
       "      <th>34</th>\n",
       "      <td>2023-03-08 17:00:00+00:00</td>\n",
       "      <td>2023-04-26 21:00:00+00:00</td>\n",
       "    </tr>\n",
       "    <tr>\n",
       "      <th>35</th>\n",
       "      <td>2023-03-11 18:00:00+00:00</td>\n",
       "      <td>2023-04-26 21:00:00+00:00</td>\n",
       "    </tr>\n",
       "    <tr>\n",
       "      <th>36</th>\n",
       "      <td>2023-06-10 18:00:00+00:00</td>\n",
       "      <td>2023-06-13 15:00:00+00:00</td>\n",
       "    </tr>\n",
       "    <tr>\n",
       "      <th>37</th>\n",
       "      <td>2023-06-14 02:00:00+00:00</td>\n",
       "      <td>2023-06-18 21:00:00+00:00</td>\n",
       "    </tr>\n",
       "    <tr>\n",
       "      <th>38</th>\n",
       "      <td>2023-06-14 03:00:00+00:00</td>\n",
       "      <td>2023-06-18 21:00:00+00:00</td>\n",
       "    </tr>\n",
       "    <tr>\n",
       "      <th>39</th>\n",
       "      <td>2023-07-08 17:00:00+00:00</td>\n",
       "      <td>2023-07-30 04:00:00+00:00</td>\n",
       "    </tr>\n",
       "    <tr>\n",
       "      <th>40</th>\n",
       "      <td>2023-08-06 18:00:00+00:00</td>\n",
       "      <td>2023-08-07 08:00:00+00:00</td>\n",
       "    </tr>\n",
       "    <tr>\n",
       "      <th>41</th>\n",
       "      <td>2023-08-06 19:00:00+00:00</td>\n",
       "      <td>2023-08-07 08:00:00+00:00</td>\n",
       "    </tr>\n",
       "    <tr>\n",
       "      <th>42</th>\n",
       "      <td>2023-08-06 20:00:00+00:00</td>\n",
       "      <td>2023-08-07 08:00:00+00:00</td>\n",
       "    </tr>\n",
       "  </tbody>\n",
       "</table>\n",
       "</div>"
      ],
      "text/plain": [
       "                Buying_dates             Selling_dates\n",
       "0  2022-07-04 10:00:00+00:00 2022-07-05 09:00:00+00:00\n",
       "1  2022-07-14 17:00:00+00:00 2022-07-30 21:00:00+00:00\n",
       "2  2022-08-02 00:00:00+00:00 2022-08-25 00:00:00+00:00\n",
       "3  2022-08-02 15:00:00+00:00 2022-08-25 00:00:00+00:00\n",
       "4  2022-08-03 07:00:00+00:00 2022-08-25 00:00:00+00:00\n",
       "5  2022-08-03 08:00:00+00:00 2022-08-25 00:00:00+00:00\n",
       "6  2022-08-05 02:00:00+00:00 2022-08-25 00:00:00+00:00\n",
       "7  2022-08-05 23:00:00+00:00 2022-08-25 00:00:00+00:00\n",
       "8  2022-09-05 16:00:00+00:00 2022-09-25 16:00:00+00:00\n",
       "9  2022-09-05 17:00:00+00:00 2022-09-25 16:00:00+00:00\n",
       "10 2022-09-06 07:00:00+00:00 2022-09-25 16:00:00+00:00\n",
       "11 2022-09-06 08:00:00+00:00 2022-09-25 16:00:00+00:00\n",
       "12 2022-09-06 09:00:00+00:00 2022-09-25 16:00:00+00:00\n",
       "13 2022-09-16 22:00:00+00:00 2022-09-25 16:00:00+00:00\n",
       "14 2022-10-02 20:00:00+00:00 2022-10-05 21:00:00+00:00\n",
       "15 2022-11-02 17:00:00+00:00 2022-11-28 01:00:00+00:00\n",
       "16 2022-11-03 05:00:00+00:00 2022-11-28 01:00:00+00:00\n",
       "17 2022-11-03 17:00:00+00:00 2022-11-28 01:00:00+00:00\n",
       "18 2022-11-15 01:00:00+00:00 2022-11-28 01:00:00+00:00\n",
       "19 2022-11-15 02:00:00+00:00 2022-11-28 01:00:00+00:00\n",
       "20 2022-11-15 03:00:00+00:00 2022-11-28 01:00:00+00:00\n",
       "21 2022-12-18 20:00:00+00:00 2022-12-24 14:00:00+00:00\n",
       "22 2022-12-18 21:00:00+00:00 2022-12-24 14:00:00+00:00\n",
       "23 2022-12-22 03:00:00+00:00 2022-12-24 14:00:00+00:00\n",
       "24 2022-12-22 22:00:00+00:00 2022-12-24 14:00:00+00:00\n",
       "25 2022-12-22 23:00:00+00:00 2022-12-24 14:00:00+00:00\n",
       "26 2022-12-30 19:00:00+00:00 2023-01-03 15:00:00+00:00\n",
       "27 2023-01-08 21:00:00+00:00 2023-01-24 10:00:00+00:00\n",
       "28 2023-01-08 22:00:00+00:00 2023-01-24 10:00:00+00:00\n",
       "29 2023-01-08 23:00:00+00:00 2023-01-24 10:00:00+00:00\n",
       "30 2023-01-20 14:00:00+00:00 2023-01-24 10:00:00+00:00\n",
       "31 2023-02-05 07:00:00+00:00 2023-02-21 10:00:00+00:00\n",
       "32 2023-03-01 04:00:00+00:00 2023-04-26 21:00:00+00:00\n",
       "33 2023-03-08 16:00:00+00:00 2023-04-26 21:00:00+00:00\n",
       "34 2023-03-08 17:00:00+00:00 2023-04-26 21:00:00+00:00\n",
       "35 2023-03-11 18:00:00+00:00 2023-04-26 21:00:00+00:00\n",
       "36 2023-06-10 18:00:00+00:00 2023-06-13 15:00:00+00:00\n",
       "37 2023-06-14 02:00:00+00:00 2023-06-18 21:00:00+00:00\n",
       "38 2023-06-14 03:00:00+00:00 2023-06-18 21:00:00+00:00\n",
       "39 2023-07-08 17:00:00+00:00 2023-07-30 04:00:00+00:00\n",
       "40 2023-08-06 18:00:00+00:00 2023-08-07 08:00:00+00:00\n",
       "41 2023-08-06 19:00:00+00:00 2023-08-07 08:00:00+00:00\n",
       "42 2023-08-06 20:00:00+00:00 2023-08-07 08:00:00+00:00"
      ]
     },
     "execution_count": 129,
     "metadata": {},
     "output_type": "execute_result"
    }
   ],
   "source": [
    "frame"
   ]
  },
  {
   "cell_type": "code",
   "execution_count": 130,
   "metadata": {},
   "outputs": [],
   "source": [
    "actuals=frame[frame.Buying_dates > frame.Selling_dates.shift(1)]"
   ]
  },
  {
   "cell_type": "code",
   "execution_count": 131,
   "metadata": {},
   "outputs": [
    {
     "data": {
      "text/html": [
       "<div>\n",
       "<style scoped>\n",
       "    .dataframe tbody tr th:only-of-type {\n",
       "        vertical-align: middle;\n",
       "    }\n",
       "\n",
       "    .dataframe tbody tr th {\n",
       "        vertical-align: top;\n",
       "    }\n",
       "\n",
       "    .dataframe thead th {\n",
       "        text-align: right;\n",
       "    }\n",
       "</style>\n",
       "<table border=\"1\" class=\"dataframe\">\n",
       "  <thead>\n",
       "    <tr style=\"text-align: right;\">\n",
       "      <th></th>\n",
       "      <th>Buying_dates</th>\n",
       "      <th>Selling_dates</th>\n",
       "    </tr>\n",
       "  </thead>\n",
       "  <tbody>\n",
       "    <tr>\n",
       "      <th>1</th>\n",
       "      <td>2022-07-14 17:00:00+00:00</td>\n",
       "      <td>2022-07-30 21:00:00+00:00</td>\n",
       "    </tr>\n",
       "    <tr>\n",
       "      <th>2</th>\n",
       "      <td>2022-08-02 00:00:00+00:00</td>\n",
       "      <td>2022-08-25 00:00:00+00:00</td>\n",
       "    </tr>\n",
       "    <tr>\n",
       "      <th>8</th>\n",
       "      <td>2022-09-05 16:00:00+00:00</td>\n",
       "      <td>2022-09-25 16:00:00+00:00</td>\n",
       "    </tr>\n",
       "    <tr>\n",
       "      <th>14</th>\n",
       "      <td>2022-10-02 20:00:00+00:00</td>\n",
       "      <td>2022-10-05 21:00:00+00:00</td>\n",
       "    </tr>\n",
       "    <tr>\n",
       "      <th>15</th>\n",
       "      <td>2022-11-02 17:00:00+00:00</td>\n",
       "      <td>2022-11-28 01:00:00+00:00</td>\n",
       "    </tr>\n",
       "    <tr>\n",
       "      <th>21</th>\n",
       "      <td>2022-12-18 20:00:00+00:00</td>\n",
       "      <td>2022-12-24 14:00:00+00:00</td>\n",
       "    </tr>\n",
       "    <tr>\n",
       "      <th>26</th>\n",
       "      <td>2022-12-30 19:00:00+00:00</td>\n",
       "      <td>2023-01-03 15:00:00+00:00</td>\n",
       "    </tr>\n",
       "    <tr>\n",
       "      <th>27</th>\n",
       "      <td>2023-01-08 21:00:00+00:00</td>\n",
       "      <td>2023-01-24 10:00:00+00:00</td>\n",
       "    </tr>\n",
       "    <tr>\n",
       "      <th>31</th>\n",
       "      <td>2023-02-05 07:00:00+00:00</td>\n",
       "      <td>2023-02-21 10:00:00+00:00</td>\n",
       "    </tr>\n",
       "    <tr>\n",
       "      <th>32</th>\n",
       "      <td>2023-03-01 04:00:00+00:00</td>\n",
       "      <td>2023-04-26 21:00:00+00:00</td>\n",
       "    </tr>\n",
       "    <tr>\n",
       "      <th>36</th>\n",
       "      <td>2023-06-10 18:00:00+00:00</td>\n",
       "      <td>2023-06-13 15:00:00+00:00</td>\n",
       "    </tr>\n",
       "    <tr>\n",
       "      <th>37</th>\n",
       "      <td>2023-06-14 02:00:00+00:00</td>\n",
       "      <td>2023-06-18 21:00:00+00:00</td>\n",
       "    </tr>\n",
       "    <tr>\n",
       "      <th>39</th>\n",
       "      <td>2023-07-08 17:00:00+00:00</td>\n",
       "      <td>2023-07-30 04:00:00+00:00</td>\n",
       "    </tr>\n",
       "    <tr>\n",
       "      <th>40</th>\n",
       "      <td>2023-08-06 18:00:00+00:00</td>\n",
       "      <td>2023-08-07 08:00:00+00:00</td>\n",
       "    </tr>\n",
       "  </tbody>\n",
       "</table>\n",
       "</div>"
      ],
      "text/plain": [
       "                Buying_dates             Selling_dates\n",
       "1  2022-07-14 17:00:00+00:00 2022-07-30 21:00:00+00:00\n",
       "2  2022-08-02 00:00:00+00:00 2022-08-25 00:00:00+00:00\n",
       "8  2022-09-05 16:00:00+00:00 2022-09-25 16:00:00+00:00\n",
       "14 2022-10-02 20:00:00+00:00 2022-10-05 21:00:00+00:00\n",
       "15 2022-11-02 17:00:00+00:00 2022-11-28 01:00:00+00:00\n",
       "21 2022-12-18 20:00:00+00:00 2022-12-24 14:00:00+00:00\n",
       "26 2022-12-30 19:00:00+00:00 2023-01-03 15:00:00+00:00\n",
       "27 2023-01-08 21:00:00+00:00 2023-01-24 10:00:00+00:00\n",
       "31 2023-02-05 07:00:00+00:00 2023-02-21 10:00:00+00:00\n",
       "32 2023-03-01 04:00:00+00:00 2023-04-26 21:00:00+00:00\n",
       "36 2023-06-10 18:00:00+00:00 2023-06-13 15:00:00+00:00\n",
       "37 2023-06-14 02:00:00+00:00 2023-06-18 21:00:00+00:00\n",
       "39 2023-07-08 17:00:00+00:00 2023-07-30 04:00:00+00:00\n",
       "40 2023-08-06 18:00:00+00:00 2023-08-07 08:00:00+00:00"
      ]
     },
     "execution_count": 131,
     "metadata": {},
     "output_type": "execute_result"
    }
   ],
   "source": [
    "actuals"
   ]
  },
  {
   "cell_type": "markdown",
   "metadata": {},
   "source": [
    "## Profit Calculation\n",
    "## Kar Hesaplama"
   ]
  },
  {
   "cell_type": "code",
   "execution_count": 132,
   "metadata": {},
   "outputs": [],
   "source": [
    "def profitcalc():\n",
    "    Buyprices=df.loc[actuals.Buying_dates].Open\n",
    "    Sellprices=df.loc[actuals.Selling_dates].Open\n",
    "    return (Sellprices.values-Buyprices.values)/Buyprices.values"
   ]
  },
  {
   "cell_type": "code",
   "execution_count": 133,
   "metadata": {},
   "outputs": [],
   "source": [
    "profits=profitcalc()"
   ]
  },
  {
   "cell_type": "code",
   "execution_count": 134,
   "metadata": {},
   "outputs": [
    {
     "data": {
      "text/plain": [
       "array([ 0.18547557, -0.08045448, -0.04339493,  0.03996194, -0.19685469,\n",
       "        0.00401567,  0.00750303,  0.34737439,  0.05957627,  0.21031171,\n",
       "       -0.00148047,  0.01670718, -0.03115224, -0.00044565])"
      ]
     },
     "execution_count": 134,
     "metadata": {},
     "output_type": "execute_result"
    }
   ],
   "source": [
    "profits"
   ]
  },
  {
   "cell_type": "code",
   "execution_count": 135,
   "metadata": {},
   "outputs": [
    {
     "data": {
      "text/plain": [
       "0.03693880798211533"
      ]
     },
     "execution_count": 135,
     "metadata": {},
     "output_type": "execute_result"
    }
   ],
   "source": [
    "profits.mean()"
   ]
  },
  {
   "cell_type": "code",
   "execution_count": 136,
   "metadata": {},
   "outputs": [
    {
     "data": {
      "text/plain": [
       "1.4966805128593064"
      ]
     },
     "execution_count": 136,
     "metadata": {},
     "output_type": "execute_result"
    }
   ],
   "source": [
    "(profits + 1).prod()"
   ]
  },
  {
   "cell_type": "markdown",
   "metadata": {},
   "source": [
    "## Visualizing the Signals\n",
    "## Sinyalleri Görselleştirme"
   ]
  },
  {
   "cell_type": "code",
   "execution_count": 137,
   "metadata": {},
   "outputs": [
    {
     "data": {
      "text/plain": [
       "<matplotlib.collections.PathCollection at 0x2499caa6c80>"
      ]
     },
     "execution_count": 137,
     "metadata": {},
     "output_type": "execute_result"
    },
    {
     "data": {
      "image/png": "[encoded data removed]",
      "text/plain": [
       "<Figure size 2000x1000 with 1 Axes>"
      ]
     },
     "metadata": {},
     "output_type": "display_data"
    }
   ],
   "source": [
    "plt.figure(figsize=(20,10))\n",
    "plt.plot(df.Close,color=\"k\",alpha=0.7)\n",
    "plt.scatter(actuals.Buying_dates,df.Open[actuals.Buying_dates],marker=\"^\",color=\"g\",s=500)\n",
    "plt.scatter(actuals.Selling_dates,df.Open[actuals.Selling_dates],marker=\"v\",color=\"r\",s=500)"
   ]
  }
 ],
 "metadata": {
  "kernelspec": {
   "display_name": "Python 3",
   "language": "python",
   "name": "python3"
  },
  "language_info": {
   "codemirror_mode": {
    "name": "ipython",
    "version": 3
   },
   "file_extension": ".py",
   "mimetype": "text/x-python",
   "name": "python",
   "nbconvert_exporter": "python",
   "pygments_lexer": "ipython3",
   "version": "3.10.9"
  },
  "orig_nbformat": 4
 },
 "nbformat": 4,
 "nbformat_minor": 2
}
