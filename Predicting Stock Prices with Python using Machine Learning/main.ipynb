{
 "cells": [
  {
   "cell_type": "markdown",
   "metadata": {},
   "source": [
    "## Data prep\n",
    "## Veri Hazırlığı"
   ]
  },
  {
   "cell_type": "code",
   "execution_count": 31,
   "metadata": {},
   "outputs": [],
   "source": [
    "import yfinance as yf\n",
    "import numpy as np "
   ]
  },
  {
   "cell_type": "code",
   "execution_count": 59,
   "metadata": {},
   "outputs": [
    {
     "name": "stdout",
     "output_type": "stream",
     "text": [
      "[*********************100%***********************]  1 of 1 completed\n"
     ]
    }
   ],
   "source": [
    "df=yf.download(\"AAPL\",start=\"2018-01-01\")"
   ]
  },
  {
   "cell_type": "code",
   "execution_count": 60,
   "metadata": {},
   "outputs": [],
   "source": [
    "df[\"returns\"]=np.log(df.Close.pct_change()+1)"
   ]
  },
  {
   "cell_type": "code",
   "execution_count": 61,
   "metadata": {},
   "outputs": [],
   "source": [
    "def lagit(df,lags):\n",
    "    names=[]\n",
    "    for i in range(1,lags+1):\n",
    "        df[\"Lag_\"+str(i)]=df[\"returns\"].shift(i)\n",
    "        names.append(\"Lag_\"+str(i))\n",
    "    return names"
   ]
  },
  {
   "cell_type": "code",
   "execution_count": 62,
   "metadata": {},
   "outputs": [],
   "source": [
    "lagnames=lagit(df,5)"
   ]
  },
  {
   "cell_type": "code",
   "execution_count": 63,
   "metadata": {},
   "outputs": [
    {
     "data": {
      "text/html": [
       "<div>\n",
       "<style scoped>\n",
       "    .dataframe tbody tr th:only-of-type {\n",
       "        vertical-align: middle;\n",
       "    }\n",
       "\n",
       "    .dataframe tbody tr th {\n",
       "        vertical-align: top;\n",
       "    }\n",
       "\n",
       "    .dataframe thead th {\n",
       "        text-align: right;\n",
       "    }\n",
       "</style>\n",
       "<table border=\"1\" class=\"dataframe\">\n",
       "  <thead>\n",
       "    <tr style=\"text-align: right;\">\n",
       "      <th></th>\n",
       "      <th>Open</th>\n",
       "      <th>High</th>\n",
       "      <th>Low</th>\n",
       "      <th>Close</th>\n",
       "      <th>Adj Close</th>\n",
       "      <th>Volume</th>\n",
       "      <th>returns</th>\n",
       "      <th>Lag_1</th>\n",
       "      <th>Lag_2</th>\n",
       "      <th>Lag_3</th>\n",
       "      <th>Lag_4</th>\n",
       "      <th>Lag_5</th>\n",
       "    </tr>\n",
       "    <tr>\n",
       "      <th>Date</th>\n",
       "      <th></th>\n",
       "      <th></th>\n",
       "      <th></th>\n",
       "      <th></th>\n",
       "      <th></th>\n",
       "      <th></th>\n",
       "      <th></th>\n",
       "      <th></th>\n",
       "      <th></th>\n",
       "      <th></th>\n",
       "      <th></th>\n",
       "      <th></th>\n",
       "    </tr>\n",
       "  </thead>\n",
       "  <tbody>\n",
       "    <tr>\n",
       "      <th>2018-01-02</th>\n",
       "      <td>42.540001</td>\n",
       "      <td>43.075001</td>\n",
       "      <td>42.314999</td>\n",
       "      <td>43.064999</td>\n",
       "      <td>40.776520</td>\n",
       "      <td>102223600</td>\n",
       "      <td>NaN</td>\n",
       "      <td>NaN</td>\n",
       "      <td>NaN</td>\n",
       "      <td>NaN</td>\n",
       "      <td>NaN</td>\n",
       "      <td>NaN</td>\n",
       "    </tr>\n",
       "    <tr>\n",
       "      <th>2018-01-03</th>\n",
       "      <td>43.132500</td>\n",
       "      <td>43.637501</td>\n",
       "      <td>42.990002</td>\n",
       "      <td>43.057499</td>\n",
       "      <td>40.769428</td>\n",
       "      <td>118071600</td>\n",
       "      <td>-0.000174</td>\n",
       "      <td>NaN</td>\n",
       "      <td>NaN</td>\n",
       "      <td>NaN</td>\n",
       "      <td>NaN</td>\n",
       "      <td>NaN</td>\n",
       "    </tr>\n",
       "    <tr>\n",
       "      <th>2018-01-04</th>\n",
       "      <td>43.134998</td>\n",
       "      <td>43.367500</td>\n",
       "      <td>43.020000</td>\n",
       "      <td>43.257500</td>\n",
       "      <td>40.958794</td>\n",
       "      <td>89738400</td>\n",
       "      <td>0.004634</td>\n",
       "      <td>-0.000174</td>\n",
       "      <td>NaN</td>\n",
       "      <td>NaN</td>\n",
       "      <td>NaN</td>\n",
       "      <td>NaN</td>\n",
       "    </tr>\n",
       "    <tr>\n",
       "      <th>2018-01-05</th>\n",
       "      <td>43.360001</td>\n",
       "      <td>43.842499</td>\n",
       "      <td>43.262501</td>\n",
       "      <td>43.750000</td>\n",
       "      <td>41.425125</td>\n",
       "      <td>94640000</td>\n",
       "      <td>0.011321</td>\n",
       "      <td>0.004634</td>\n",
       "      <td>-0.000174</td>\n",
       "      <td>NaN</td>\n",
       "      <td>NaN</td>\n",
       "      <td>NaN</td>\n",
       "    </tr>\n",
       "    <tr>\n",
       "      <th>2018-01-08</th>\n",
       "      <td>43.587502</td>\n",
       "      <td>43.902500</td>\n",
       "      <td>43.482498</td>\n",
       "      <td>43.587502</td>\n",
       "      <td>41.271252</td>\n",
       "      <td>82271200</td>\n",
       "      <td>-0.003721</td>\n",
       "      <td>0.011321</td>\n",
       "      <td>0.004634</td>\n",
       "      <td>-0.000174</td>\n",
       "      <td>NaN</td>\n",
       "      <td>NaN</td>\n",
       "    </tr>\n",
       "    <tr>\n",
       "      <th>...</th>\n",
       "      <td>...</td>\n",
       "      <td>...</td>\n",
       "      <td>...</td>\n",
       "      <td>...</td>\n",
       "      <td>...</td>\n",
       "      <td>...</td>\n",
       "      <td>...</td>\n",
       "      <td>...</td>\n",
       "      <td>...</td>\n",
       "      <td>...</td>\n",
       "      <td>...</td>\n",
       "      <td>...</td>\n",
       "    </tr>\n",
       "    <tr>\n",
       "      <th>2023-08-09</th>\n",
       "      <td>180.869995</td>\n",
       "      <td>180.929993</td>\n",
       "      <td>177.009995</td>\n",
       "      <td>178.190002</td>\n",
       "      <td>177.949707</td>\n",
       "      <td>60378500</td>\n",
       "      <td>-0.008995</td>\n",
       "      <td>0.005298</td>\n",
       "      <td>-0.017404</td>\n",
       "      <td>-0.049211</td>\n",
       "      <td>-0.007349</td>\n",
       "      <td>-0.015611</td>\n",
       "    </tr>\n",
       "    <tr>\n",
       "      <th>2023-08-10</th>\n",
       "      <td>179.479996</td>\n",
       "      <td>180.750000</td>\n",
       "      <td>177.600006</td>\n",
       "      <td>177.970001</td>\n",
       "      <td>177.729996</td>\n",
       "      <td>54686900</td>\n",
       "      <td>-0.001235</td>\n",
       "      <td>-0.008995</td>\n",
       "      <td>0.005298</td>\n",
       "      <td>-0.017404</td>\n",
       "      <td>-0.049211</td>\n",
       "      <td>-0.007349</td>\n",
       "    </tr>\n",
       "    <tr>\n",
       "      <th>2023-08-11</th>\n",
       "      <td>177.320007</td>\n",
       "      <td>178.619995</td>\n",
       "      <td>176.550003</td>\n",
       "      <td>177.789993</td>\n",
       "      <td>177.789993</td>\n",
       "      <td>51988100</td>\n",
       "      <td>-0.001012</td>\n",
       "      <td>-0.001235</td>\n",
       "      <td>-0.008995</td>\n",
       "      <td>0.005298</td>\n",
       "      <td>-0.017404</td>\n",
       "      <td>-0.049211</td>\n",
       "    </tr>\n",
       "    <tr>\n",
       "      <th>2023-08-14</th>\n",
       "      <td>177.970001</td>\n",
       "      <td>179.690002</td>\n",
       "      <td>177.309998</td>\n",
       "      <td>179.460007</td>\n",
       "      <td>179.460007</td>\n",
       "      <td>43597400</td>\n",
       "      <td>0.009349</td>\n",
       "      <td>-0.001012</td>\n",
       "      <td>-0.001235</td>\n",
       "      <td>-0.008995</td>\n",
       "      <td>0.005298</td>\n",
       "      <td>-0.017404</td>\n",
       "    </tr>\n",
       "    <tr>\n",
       "      <th>2023-08-15</th>\n",
       "      <td>178.880005</td>\n",
       "      <td>179.470001</td>\n",
       "      <td>177.380005</td>\n",
       "      <td>177.994995</td>\n",
       "      <td>177.994995</td>\n",
       "      <td>21972134</td>\n",
       "      <td>-0.008197</td>\n",
       "      <td>0.009349</td>\n",
       "      <td>-0.001012</td>\n",
       "      <td>-0.001235</td>\n",
       "      <td>-0.008995</td>\n",
       "      <td>0.005298</td>\n",
       "    </tr>\n",
       "  </tbody>\n",
       "</table>\n",
       "<p>1414 rows × 12 columns</p>\n",
       "</div>"
      ],
      "text/plain": [
       "                  Open        High         Low       Close   Adj Close  \\\n",
       "Date                                                                     \n",
       "2018-01-02   42.540001   43.075001   42.314999   43.064999   40.776520   \n",
       "2018-01-03   43.132500   43.637501   42.990002   43.057499   40.769428   \n",
       "2018-01-04   43.134998   43.367500   43.020000   43.257500   40.958794   \n",
       "2018-01-05   43.360001   43.842499   43.262501   43.750000   41.425125   \n",
       "2018-01-08   43.587502   43.902500   43.482498   43.587502   41.271252   \n",
       "...                ...         ...         ...         ...         ...   \n",
       "2023-08-09  180.869995  180.929993  177.009995  178.190002  177.949707   \n",
       "2023-08-10  179.479996  180.750000  177.600006  177.970001  177.729996   \n",
       "2023-08-11  177.320007  178.619995  176.550003  177.789993  177.789993   \n",
       "2023-08-14  177.970001  179.690002  177.309998  179.460007  179.460007   \n",
       "2023-08-15  178.880005  179.470001  177.380005  177.994995  177.994995   \n",
       "\n",
       "               Volume   returns     Lag_1     Lag_2     Lag_3     Lag_4  \\\n",
       "Date                                                                      \n",
       "2018-01-02  102223600       NaN       NaN       NaN       NaN       NaN   \n",
       "2018-01-03  118071600 -0.000174       NaN       NaN       NaN       NaN   \n",
       "2018-01-04   89738400  0.004634 -0.000174       NaN       NaN       NaN   \n",
       "2018-01-05   94640000  0.011321  0.004634 -0.000174       NaN       NaN   \n",
       "2018-01-08   82271200 -0.003721  0.011321  0.004634 -0.000174       NaN   \n",
       "...               ...       ...       ...       ...       ...       ...   \n",
       "2023-08-09   60378500 -0.008995  0.005298 -0.017404 -0.049211 -0.007349   \n",
       "2023-08-10   54686900 -0.001235 -0.008995  0.005298 -0.017404 -0.049211   \n",
       "2023-08-11   51988100 -0.001012 -0.001235 -0.008995  0.005298 -0.017404   \n",
       "2023-08-14   43597400  0.009349 -0.001012 -0.001235 -0.008995  0.005298   \n",
       "2023-08-15   21972134 -0.008197  0.009349 -0.001012 -0.001235 -0.008995   \n",
       "\n",
       "               Lag_5  \n",
       "Date                  \n",
       "2018-01-02       NaN  \n",
       "2018-01-03       NaN  \n",
       "2018-01-04       NaN  \n",
       "2018-01-05       NaN  \n",
       "2018-01-08       NaN  \n",
       "...              ...  \n",
       "2023-08-09 -0.015611  \n",
       "2023-08-10 -0.007349  \n",
       "2023-08-11 -0.049211  \n",
       "2023-08-14 -0.017404  \n",
       "2023-08-15  0.005298  \n",
       "\n",
       "[1414 rows x 12 columns]"
      ]
     },
     "execution_count": 63,
     "metadata": {},
     "output_type": "execute_result"
    }
   ],
   "source": [
    "df"
   ]
  },
  {
   "cell_type": "code",
   "execution_count": 64,
   "metadata": {},
   "outputs": [],
   "source": [
    "df.dropna(inplace=True)"
   ]
  },
  {
   "cell_type": "markdown",
   "metadata": {},
   "source": [
    "## Model building, fitting & prediction\n",
    "## Model Oluşturma, Uyarlama ve Tahmin"
   ]
  },
  {
   "cell_type": "code",
   "execution_count": 65,
   "metadata": {},
   "outputs": [],
   "source": [
    "from sklearn.linear_model import LinearRegression"
   ]
  },
  {
   "cell_type": "code",
   "execution_count": 66,
   "metadata": {},
   "outputs": [],
   "source": [
    "model=LinearRegression()"
   ]
  },
  {
   "cell_type": "code",
   "execution_count": 67,
   "metadata": {},
   "outputs": [
    {
     "data": {
      "text/html": [
       "<style>#sk-container-id-5 {color: black;background-color: white;}#sk-container-id-5 pre{padding: 0;}#sk-container-id-5 div.sk-toggleable {background-color: white;}#sk-container-id-5 label.sk-toggleable__label {cursor: pointer;display: block;width: 100%;margin-bottom: 0;padding: 0.3em;box-sizing: border-box;text-align: center;}#sk-container-id-5 label.sk-toggleable__label-arrow:before {content: \"▸\";float: left;margin-right: 0.25em;color: #696969;}#sk-container-id-5 label.sk-toggleable__label-arrow:hover:before {color: black;}#sk-container-id-5 div.sk-estimator:hover label.sk-toggleable__label-arrow:before {color: black;}#sk-container-id-5 div.sk-toggleable__content {max-height: 0;max-width: 0;overflow: hidden;text-align: left;background-color: #f0f8ff;}#sk-container-id-5 div.sk-toggleable__content pre {margin: 0.2em;color: black;border-radius: 0.25em;background-color: #f0f8ff;}#sk-container-id-5 input.sk-toggleable__control:checked~div.sk-toggleable__content {max-height: 200px;max-width: 100%;overflow: auto;}#sk-container-id-5 input.sk-toggleable__control:checked~label.sk-toggleable__label-arrow:before {content: \"▾\";}#sk-container-id-5 div.sk-estimator input.sk-toggleable__control:checked~label.sk-toggleable__label {background-color: #d4ebff;}#sk-container-id-5 div.sk-label input.sk-toggleable__control:checked~label.sk-toggleable__label {background-color: #d4ebff;}#sk-container-id-5 input.sk-hidden--visually {border: 0;clip: rect(1px 1px 1px 1px);clip: rect(1px, 1px, 1px, 1px);height: 1px;margin: -1px;overflow: hidden;padding: 0;position: absolute;width: 1px;}#sk-container-id-5 div.sk-estimator {font-family: monospace;background-color: #f0f8ff;border: 1px dotted black;border-radius: 0.25em;box-sizing: border-box;margin-bottom: 0.5em;}#sk-container-id-5 div.sk-estimator:hover {background-color: #d4ebff;}#sk-container-id-5 div.sk-parallel-item::after {content: \"\";width: 100%;border-bottom: 1px solid gray;flex-grow: 1;}#sk-container-id-5 div.sk-label:hover label.sk-toggleable__label {background-color: #d4ebff;}#sk-container-id-5 div.sk-serial::before {content: \"\";position: absolute;border-left: 1px solid gray;box-sizing: border-box;top: 0;bottom: 0;left: 50%;z-index: 0;}#sk-container-id-5 div.sk-serial {display: flex;flex-direction: column;align-items: center;background-color: white;padding-right: 0.2em;padding-left: 0.2em;position: relative;}#sk-container-id-5 div.sk-item {position: relative;z-index: 1;}#sk-container-id-5 div.sk-parallel {display: flex;align-items: stretch;justify-content: center;background-color: white;position: relative;}#sk-container-id-5 div.sk-item::before, #sk-container-id-5 div.sk-parallel-item::before {content: \"\";position: absolute;border-left: 1px solid gray;box-sizing: border-box;top: 0;bottom: 0;left: 50%;z-index: -1;}#sk-container-id-5 div.sk-parallel-item {display: flex;flex-direction: column;z-index: 1;position: relative;background-color: white;}#sk-container-id-5 div.sk-parallel-item:first-child::after {align-self: flex-end;width: 50%;}#sk-container-id-5 div.sk-parallel-item:last-child::after {align-self: flex-start;width: 50%;}#sk-container-id-5 div.sk-parallel-item:only-child::after {width: 0;}#sk-container-id-5 div.sk-dashed-wrapped {border: 1px dashed gray;margin: 0 0.4em 0.5em 0.4em;box-sizing: border-box;padding-bottom: 0.4em;background-color: white;}#sk-container-id-5 div.sk-label label {font-family: monospace;font-weight: bold;display: inline-block;line-height: 1.2em;}#sk-container-id-5 div.sk-label-container {text-align: center;}#sk-container-id-5 div.sk-container {/* jupyter's `normalize.less` sets `[hidden] { display: none; }` but bootstrap.min.css set `[hidden] { display: none !important; }` so we also need the `!important` here to be able to override the default hidden behavior on the sphinx rendered scikit-learn.org. See: https://github.com/scikit-learn/scikit-learn/issues/21755 */display: inline-block !important;position: relative;}#sk-container-id-5 div.sk-text-repr-fallback {display: none;}</style><div id=\"sk-container-id-5\" class=\"sk-top-container\"><div class=\"sk-text-repr-fallback\"><pre>LinearRegression()</pre><b>In a Jupyter environment, please rerun this cell to show the HTML representation or trust the notebook. <br />On GitHub, the HTML representation is unable to render, please try loading this page with nbviewer.org.</b></div><div class=\"sk-container\" hidden><div class=\"sk-item\"><div class=\"sk-estimator sk-toggleable\"><input class=\"sk-toggleable__control sk-hidden--visually\" id=\"sk-estimator-id-5\" type=\"checkbox\" checked><label for=\"sk-estimator-id-5\" class=\"sk-toggleable__label sk-toggleable__label-arrow\">LinearRegression</label><div class=\"sk-toggleable__content\"><pre>LinearRegression()</pre></div></div></div></div></div>"
      ],
      "text/plain": [
       "LinearRegression()"
      ]
     },
     "execution_count": 67,
     "metadata": {},
     "output_type": "execute_result"
    }
   ],
   "source": [
    "model.fit(df[lagnames],df[\"returns\"])"
   ]
  },
  {
   "cell_type": "markdown",
   "metadata": {},
   "source": [
    "## Strategy, Performance and Visualization\n",
    "## Strateji, Performans ve Görselleştirme"
   ]
  },
  {
   "cell_type": "code",
   "execution_count": 68,
   "metadata": {},
   "outputs": [],
   "source": [
    "df[\"prediction_LR\"]=model.predict(df[lagnames])"
   ]
  },
  {
   "cell_type": "code",
   "execution_count": 69,
   "metadata": {},
   "outputs": [
    {
     "data": {
      "text/html": [
       "<div>\n",
       "<style scoped>\n",
       "    .dataframe tbody tr th:only-of-type {\n",
       "        vertical-align: middle;\n",
       "    }\n",
       "\n",
       "    .dataframe tbody tr th {\n",
       "        vertical-align: top;\n",
       "    }\n",
       "\n",
       "    .dataframe thead th {\n",
       "        text-align: right;\n",
       "    }\n",
       "</style>\n",
       "<table border=\"1\" class=\"dataframe\">\n",
       "  <thead>\n",
       "    <tr style=\"text-align: right;\">\n",
       "      <th></th>\n",
       "      <th>Open</th>\n",
       "      <th>High</th>\n",
       "      <th>Low</th>\n",
       "      <th>Close</th>\n",
       "      <th>Adj Close</th>\n",
       "      <th>Volume</th>\n",
       "      <th>returns</th>\n",
       "      <th>Lag_1</th>\n",
       "      <th>Lag_2</th>\n",
       "      <th>Lag_3</th>\n",
       "      <th>Lag_4</th>\n",
       "      <th>Lag_5</th>\n",
       "      <th>prediction_LR</th>\n",
       "    </tr>\n",
       "    <tr>\n",
       "      <th>Date</th>\n",
       "      <th></th>\n",
       "      <th></th>\n",
       "      <th></th>\n",
       "      <th></th>\n",
       "      <th></th>\n",
       "      <th></th>\n",
       "      <th></th>\n",
       "      <th></th>\n",
       "      <th></th>\n",
       "      <th></th>\n",
       "      <th></th>\n",
       "      <th></th>\n",
       "      <th></th>\n",
       "    </tr>\n",
       "  </thead>\n",
       "  <tbody>\n",
       "    <tr>\n",
       "      <th>2018-01-10</th>\n",
       "      <td>43.290001</td>\n",
       "      <td>43.575001</td>\n",
       "      <td>43.250000</td>\n",
       "      <td>43.572498</td>\n",
       "      <td>41.257046</td>\n",
       "      <td>95839600</td>\n",
       "      <td>-0.000230</td>\n",
       "      <td>-0.000115</td>\n",
       "      <td>-0.003721</td>\n",
       "      <td>0.011321</td>\n",
       "      <td>0.004634</td>\n",
       "      <td>-0.000174</td>\n",
       "      <td>0.000924</td>\n",
       "    </tr>\n",
       "    <tr>\n",
       "      <th>2018-01-11</th>\n",
       "      <td>43.647499</td>\n",
       "      <td>43.872501</td>\n",
       "      <td>43.622501</td>\n",
       "      <td>43.820000</td>\n",
       "      <td>41.491398</td>\n",
       "      <td>74670800</td>\n",
       "      <td>0.005664</td>\n",
       "      <td>-0.000230</td>\n",
       "      <td>-0.000115</td>\n",
       "      <td>-0.003721</td>\n",
       "      <td>0.011321</td>\n",
       "      <td>0.004634</td>\n",
       "      <td>0.001316</td>\n",
       "    </tr>\n",
       "    <tr>\n",
       "      <th>2018-01-12</th>\n",
       "      <td>44.044998</td>\n",
       "      <td>44.340000</td>\n",
       "      <td>43.912498</td>\n",
       "      <td>44.272499</td>\n",
       "      <td>41.919865</td>\n",
       "      <td>101672400</td>\n",
       "      <td>0.010273</td>\n",
       "      <td>0.005664</td>\n",
       "      <td>-0.000230</td>\n",
       "      <td>-0.000115</td>\n",
       "      <td>-0.003721</td>\n",
       "      <td>0.011321</td>\n",
       "      <td>0.001005</td>\n",
       "    </tr>\n",
       "    <tr>\n",
       "      <th>2018-01-16</th>\n",
       "      <td>44.474998</td>\n",
       "      <td>44.847500</td>\n",
       "      <td>44.035000</td>\n",
       "      <td>44.047501</td>\n",
       "      <td>41.706818</td>\n",
       "      <td>118263600</td>\n",
       "      <td>-0.005095</td>\n",
       "      <td>0.010273</td>\n",
       "      <td>0.005664</td>\n",
       "      <td>-0.000230</td>\n",
       "      <td>-0.000115</td>\n",
       "      <td>-0.003721</td>\n",
       "      <td>-0.000182</td>\n",
       "    </tr>\n",
       "    <tr>\n",
       "      <th>2018-01-17</th>\n",
       "      <td>44.037498</td>\n",
       "      <td>44.812500</td>\n",
       "      <td>43.767502</td>\n",
       "      <td>44.775002</td>\n",
       "      <td>42.395660</td>\n",
       "      <td>137547200</td>\n",
       "      <td>0.016381</td>\n",
       "      <td>-0.005095</td>\n",
       "      <td>0.010273</td>\n",
       "      <td>0.005664</td>\n",
       "      <td>-0.000230</td>\n",
       "      <td>-0.000115</td>\n",
       "      <td>0.001469</td>\n",
       "    </tr>\n",
       "    <tr>\n",
       "      <th>...</th>\n",
       "      <td>...</td>\n",
       "      <td>...</td>\n",
       "      <td>...</td>\n",
       "      <td>...</td>\n",
       "      <td>...</td>\n",
       "      <td>...</td>\n",
       "      <td>...</td>\n",
       "      <td>...</td>\n",
       "      <td>...</td>\n",
       "      <td>...</td>\n",
       "      <td>...</td>\n",
       "      <td>...</td>\n",
       "      <td>...</td>\n",
       "    </tr>\n",
       "    <tr>\n",
       "      <th>2023-08-09</th>\n",
       "      <td>180.869995</td>\n",
       "      <td>180.929993</td>\n",
       "      <td>177.009995</td>\n",
       "      <td>178.190002</td>\n",
       "      <td>177.949707</td>\n",
       "      <td>60378500</td>\n",
       "      <td>-0.008995</td>\n",
       "      <td>0.005298</td>\n",
       "      <td>-0.017404</td>\n",
       "      <td>-0.049211</td>\n",
       "      <td>-0.007349</td>\n",
       "      <td>-0.015611</td>\n",
       "      <td>0.000723</td>\n",
       "    </tr>\n",
       "    <tr>\n",
       "      <th>2023-08-10</th>\n",
       "      <td>179.479996</td>\n",
       "      <td>180.750000</td>\n",
       "      <td>177.600006</td>\n",
       "      <td>177.970001</td>\n",
       "      <td>177.729996</td>\n",
       "      <td>54686900</td>\n",
       "      <td>-0.001235</td>\n",
       "      <td>-0.008995</td>\n",
       "      <td>0.005298</td>\n",
       "      <td>-0.017404</td>\n",
       "      <td>-0.049211</td>\n",
       "      <td>-0.007349</td>\n",
       "      <td>0.002160</td>\n",
       "    </tr>\n",
       "    <tr>\n",
       "      <th>2023-08-11</th>\n",
       "      <td>177.320007</td>\n",
       "      <td>178.619995</td>\n",
       "      <td>176.550003</td>\n",
       "      <td>177.789993</td>\n",
       "      <td>177.789993</td>\n",
       "      <td>51988100</td>\n",
       "      <td>-0.001012</td>\n",
       "      <td>-0.001235</td>\n",
       "      <td>-0.008995</td>\n",
       "      <td>0.005298</td>\n",
       "      <td>-0.017404</td>\n",
       "      <td>-0.049211</td>\n",
       "      <td>-0.000866</td>\n",
       "    </tr>\n",
       "    <tr>\n",
       "      <th>2023-08-14</th>\n",
       "      <td>177.970001</td>\n",
       "      <td>179.690002</td>\n",
       "      <td>177.309998</td>\n",
       "      <td>179.460007</td>\n",
       "      <td>179.460007</td>\n",
       "      <td>43597400</td>\n",
       "      <td>0.009349</td>\n",
       "      <td>-0.001012</td>\n",
       "      <td>-0.001235</td>\n",
       "      <td>-0.008995</td>\n",
       "      <td>0.005298</td>\n",
       "      <td>-0.017404</td>\n",
       "      <td>0.000553</td>\n",
       "    </tr>\n",
       "    <tr>\n",
       "      <th>2023-08-15</th>\n",
       "      <td>178.880005</td>\n",
       "      <td>179.470001</td>\n",
       "      <td>177.380005</td>\n",
       "      <td>177.994995</td>\n",
       "      <td>177.994995</td>\n",
       "      <td>21972134</td>\n",
       "      <td>-0.008197</td>\n",
       "      <td>0.009349</td>\n",
       "      <td>-0.001012</td>\n",
       "      <td>-0.001235</td>\n",
       "      <td>-0.008995</td>\n",
       "      <td>0.005298</td>\n",
       "      <td>0.000403</td>\n",
       "    </tr>\n",
       "  </tbody>\n",
       "</table>\n",
       "<p>1408 rows × 13 columns</p>\n",
       "</div>"
      ],
      "text/plain": [
       "                  Open        High         Low       Close   Adj Close  \\\n",
       "Date                                                                     \n",
       "2018-01-10   43.290001   43.575001   43.250000   43.572498   41.257046   \n",
       "2018-01-11   43.647499   43.872501   43.622501   43.820000   41.491398   \n",
       "2018-01-12   44.044998   44.340000   43.912498   44.272499   41.919865   \n",
       "2018-01-16   44.474998   44.847500   44.035000   44.047501   41.706818   \n",
       "2018-01-17   44.037498   44.812500   43.767502   44.775002   42.395660   \n",
       "...                ...         ...         ...         ...         ...   \n",
       "2023-08-09  180.869995  180.929993  177.009995  178.190002  177.949707   \n",
       "2023-08-10  179.479996  180.750000  177.600006  177.970001  177.729996   \n",
       "2023-08-11  177.320007  178.619995  176.550003  177.789993  177.789993   \n",
       "2023-08-14  177.970001  179.690002  177.309998  179.460007  179.460007   \n",
       "2023-08-15  178.880005  179.470001  177.380005  177.994995  177.994995   \n",
       "\n",
       "               Volume   returns     Lag_1     Lag_2     Lag_3     Lag_4  \\\n",
       "Date                                                                      \n",
       "2018-01-10   95839600 -0.000230 -0.000115 -0.003721  0.011321  0.004634   \n",
       "2018-01-11   74670800  0.005664 -0.000230 -0.000115 -0.003721  0.011321   \n",
       "2018-01-12  101672400  0.010273  0.005664 -0.000230 -0.000115 -0.003721   \n",
       "2018-01-16  118263600 -0.005095  0.010273  0.005664 -0.000230 -0.000115   \n",
       "2018-01-17  137547200  0.016381 -0.005095  0.010273  0.005664 -0.000230   \n",
       "...               ...       ...       ...       ...       ...       ...   \n",
       "2023-08-09   60378500 -0.008995  0.005298 -0.017404 -0.049211 -0.007349   \n",
       "2023-08-10   54686900 -0.001235 -0.008995  0.005298 -0.017404 -0.049211   \n",
       "2023-08-11   51988100 -0.001012 -0.001235 -0.008995  0.005298 -0.017404   \n",
       "2023-08-14   43597400  0.009349 -0.001012 -0.001235 -0.008995  0.005298   \n",
       "2023-08-15   21972134 -0.008197  0.009349 -0.001012 -0.001235 -0.008995   \n",
       "\n",
       "               Lag_5  prediction_LR  \n",
       "Date                                 \n",
       "2018-01-10 -0.000174       0.000924  \n",
       "2018-01-11  0.004634       0.001316  \n",
       "2018-01-12  0.011321       0.001005  \n",
       "2018-01-16 -0.003721      -0.000182  \n",
       "2018-01-17 -0.000115       0.001469  \n",
       "...              ...            ...  \n",
       "2023-08-09 -0.015611       0.000723  \n",
       "2023-08-10 -0.007349       0.002160  \n",
       "2023-08-11 -0.049211      -0.000866  \n",
       "2023-08-14 -0.017404       0.000553  \n",
       "2023-08-15  0.005298       0.000403  \n",
       "\n",
       "[1408 rows x 13 columns]"
      ]
     },
     "execution_count": 69,
     "metadata": {},
     "output_type": "execute_result"
    }
   ],
   "source": [
    "df"
   ]
  },
  {
   "cell_type": "code",
   "execution_count": 70,
   "metadata": {},
   "outputs": [],
   "source": [
    "df[\"direction_LR\"]=[1 if i > 0 else -1 for i in df.prediction_LR]"
   ]
  },
  {
   "cell_type": "code",
   "execution_count": 71,
   "metadata": {},
   "outputs": [],
   "source": [
    "df[\"strat_LR\"]=df[\"direction_LR\"]*df[\"returns\"]"
   ]
  },
  {
   "cell_type": "code",
   "execution_count": 72,
   "metadata": {},
   "outputs": [
    {
     "data": {
      "text/plain": [
       "returns     4.084093\n",
       "strat_LR    3.691328\n",
       "dtype: float64"
      ]
     },
     "execution_count": 72,
     "metadata": {},
     "output_type": "execute_result"
    }
   ],
   "source": [
    "np.exp(df[[\"returns\",\"strat_LR\"]].sum())"
   ]
  },
  {
   "cell_type": "code",
   "execution_count": 73,
   "metadata": {},
   "outputs": [
    {
     "data": {
      "text/plain": [
       "<Axes: xlabel='Date'>"
      ]
     },
     "execution_count": 73,
     "metadata": {},
     "output_type": "execute_result"
    },
    {
     "data": {
      "image/png": "[encoded data removed]",
      "text/plain": [
       "<Figure size 640x480 with 1 Axes>"
      ]
     },
     "metadata": {},
     "output_type": "display_data"
    }
   ],
   "source": [
    "np.exp(df[[\"returns\",\"strat_LR\"]].cumsum()).plot()"
   ]
  },
  {
   "cell_type": "markdown",
   "metadata": {},
   "source": [
    "## Overfitting and avoiding with train test split\n",
    "## Aşırı Uydurma ve Eğitim ve Test Verisi Ayırımı ile Önleme"
   ]
  },
  {
   "cell_type": "code",
   "execution_count": 74,
   "metadata": {},
   "outputs": [],
   "source": [
    "from sklearn.model_selection import train_test_split"
   ]
  },
  {
   "cell_type": "code",
   "execution_count": 75,
   "metadata": {},
   "outputs": [],
   "source": [
    "train,test=train_test_split(df,shuffle=False,test_size=0.3,random_state=0)"
   ]
  },
  {
   "cell_type": "code",
   "execution_count": 76,
   "metadata": {},
   "outputs": [],
   "source": [
    "train=train.copy()"
   ]
  },
  {
   "cell_type": "code",
   "execution_count": 77,
   "metadata": {},
   "outputs": [],
   "source": [
    "test=test.copy()"
   ]
  },
  {
   "cell_type": "code",
   "execution_count": 78,
   "metadata": {},
   "outputs": [],
   "source": [
    "model=LinearRegression() "
   ]
  },
  {
   "cell_type": "code",
   "execution_count": 79,
   "metadata": {},
   "outputs": [
    {
     "data": {
      "text/html": [
       "<style>#sk-container-id-6 {color: black;background-color: white;}#sk-container-id-6 pre{padding: 0;}#sk-container-id-6 div.sk-toggleable {background-color: white;}#sk-container-id-6 label.sk-toggleable__label {cursor: pointer;display: block;width: 100%;margin-bottom: 0;padding: 0.3em;box-sizing: border-box;text-align: center;}#sk-container-id-6 label.sk-toggleable__label-arrow:before {content: \"▸\";float: left;margin-right: 0.25em;color: #696969;}#sk-container-id-6 label.sk-toggleable__label-arrow:hover:before {color: black;}#sk-container-id-6 div.sk-estimator:hover label.sk-toggleable__label-arrow:before {color: black;}#sk-container-id-6 div.sk-toggleable__content {max-height: 0;max-width: 0;overflow: hidden;text-align: left;background-color: #f0f8ff;}#sk-container-id-6 div.sk-toggleable__content pre {margin: 0.2em;color: black;border-radius: 0.25em;background-color: #f0f8ff;}#sk-container-id-6 input.sk-toggleable__control:checked~div.sk-toggleable__content {max-height: 200px;max-width: 100%;overflow: auto;}#sk-container-id-6 input.sk-toggleable__control:checked~label.sk-toggleable__label-arrow:before {content: \"▾\";}#sk-container-id-6 div.sk-estimator input.sk-toggleable__control:checked~label.sk-toggleable__label {background-color: #d4ebff;}#sk-container-id-6 div.sk-label input.sk-toggleable__control:checked~label.sk-toggleable__label {background-color: #d4ebff;}#sk-container-id-6 input.sk-hidden--visually {border: 0;clip: rect(1px 1px 1px 1px);clip: rect(1px, 1px, 1px, 1px);height: 1px;margin: -1px;overflow: hidden;padding: 0;position: absolute;width: 1px;}#sk-container-id-6 div.sk-estimator {font-family: monospace;background-color: #f0f8ff;border: 1px dotted black;border-radius: 0.25em;box-sizing: border-box;margin-bottom: 0.5em;}#sk-container-id-6 div.sk-estimator:hover {background-color: #d4ebff;}#sk-container-id-6 div.sk-parallel-item::after {content: \"\";width: 100%;border-bottom: 1px solid gray;flex-grow: 1;}#sk-container-id-6 div.sk-label:hover label.sk-toggleable__label {background-color: #d4ebff;}#sk-container-id-6 div.sk-serial::before {content: \"\";position: absolute;border-left: 1px solid gray;box-sizing: border-box;top: 0;bottom: 0;left: 50%;z-index: 0;}#sk-container-id-6 div.sk-serial {display: flex;flex-direction: column;align-items: center;background-color: white;padding-right: 0.2em;padding-left: 0.2em;position: relative;}#sk-container-id-6 div.sk-item {position: relative;z-index: 1;}#sk-container-id-6 div.sk-parallel {display: flex;align-items: stretch;justify-content: center;background-color: white;position: relative;}#sk-container-id-6 div.sk-item::before, #sk-container-id-6 div.sk-parallel-item::before {content: \"\";position: absolute;border-left: 1px solid gray;box-sizing: border-box;top: 0;bottom: 0;left: 50%;z-index: -1;}#sk-container-id-6 div.sk-parallel-item {display: flex;flex-direction: column;z-index: 1;position: relative;background-color: white;}#sk-container-id-6 div.sk-parallel-item:first-child::after {align-self: flex-end;width: 50%;}#sk-container-id-6 div.sk-parallel-item:last-child::after {align-self: flex-start;width: 50%;}#sk-container-id-6 div.sk-parallel-item:only-child::after {width: 0;}#sk-container-id-6 div.sk-dashed-wrapped {border: 1px dashed gray;margin: 0 0.4em 0.5em 0.4em;box-sizing: border-box;padding-bottom: 0.4em;background-color: white;}#sk-container-id-6 div.sk-label label {font-family: monospace;font-weight: bold;display: inline-block;line-height: 1.2em;}#sk-container-id-6 div.sk-label-container {text-align: center;}#sk-container-id-6 div.sk-container {/* jupyter's `normalize.less` sets `[hidden] { display: none; }` but bootstrap.min.css set `[hidden] { display: none !important; }` so we also need the `!important` here to be able to override the default hidden behavior on the sphinx rendered scikit-learn.org. See: https://github.com/scikit-learn/scikit-learn/issues/21755 */display: inline-block !important;position: relative;}#sk-container-id-6 div.sk-text-repr-fallback {display: none;}</style><div id=\"sk-container-id-6\" class=\"sk-top-container\"><div class=\"sk-text-repr-fallback\"><pre>LinearRegression()</pre><b>In a Jupyter environment, please rerun this cell to show the HTML representation or trust the notebook. <br />On GitHub, the HTML representation is unable to render, please try loading this page with nbviewer.org.</b></div><div class=\"sk-container\" hidden><div class=\"sk-item\"><div class=\"sk-estimator sk-toggleable\"><input class=\"sk-toggleable__control sk-hidden--visually\" id=\"sk-estimator-id-6\" type=\"checkbox\" checked><label for=\"sk-estimator-id-6\" class=\"sk-toggleable__label sk-toggleable__label-arrow\">LinearRegression</label><div class=\"sk-toggleable__content\"><pre>LinearRegression()</pre></div></div></div></div></div>"
      ],
      "text/plain": [
       "LinearRegression()"
      ]
     },
     "execution_count": 79,
     "metadata": {},
     "output_type": "execute_result"
    }
   ],
   "source": [
    "model.fit(train[lagnames],train[\"returns\"])"
   ]
  },
  {
   "cell_type": "code",
   "execution_count": 80,
   "metadata": {},
   "outputs": [],
   "source": [
    "test[\"prediction_LR\"] = model.predict(test[lagnames])"
   ]
  },
  {
   "cell_type": "code",
   "execution_count": 81,
   "metadata": {},
   "outputs": [],
   "source": [
    "test[\"direction_LR\"]=[1 if i >0 else -1 for i in test.prediction_LR]"
   ]
  },
  {
   "cell_type": "code",
   "execution_count": 82,
   "metadata": {},
   "outputs": [],
   "source": [
    "test[\"strat_LR\"]=test[\"direction_LR\"]*test[\"returns\"]"
   ]
  },
  {
   "cell_type": "code",
   "execution_count": 83,
   "metadata": {},
   "outputs": [
    {
     "data": {
      "text/plain": [
       "returns     1.039812\n",
       "strat_LR    1.434466\n",
       "dtype: float64"
      ]
     },
     "execution_count": 83,
     "metadata": {},
     "output_type": "execute_result"
    }
   ],
   "source": [
    "np.exp(test[[\"returns\",\"strat_LR\"]].sum())"
   ]
  },
  {
   "cell_type": "code",
   "execution_count": 84,
   "metadata": {},
   "outputs": [
    {
     "data": {
      "text/plain": [
       "False    235\n",
       "True     188\n",
       "Name: direction_LR, dtype: int64"
      ]
     },
     "execution_count": 84,
     "metadata": {},
     "output_type": "execute_result"
    }
   ],
   "source": [
    "(test[\"direction_LR\"].diff() !=0).value_counts()"
   ]
  },
  {
   "cell_type": "code",
   "execution_count": 85,
   "metadata": {},
   "outputs": [
    {
     "data": {
      "text/plain": [
       "<Axes: xlabel='Date'>"
      ]
     },
     "execution_count": 85,
     "metadata": {},
     "output_type": "execute_result"
    },
    {
     "data": {
      "image/png": "[encoded data removed]",
      "text/plain": [
       "<Figure size 640x480 with 1 Axes>"
      ]
     },
     "metadata": {},
     "output_type": "display_data"
    }
   ],
   "source": [
    "np.exp(test[[\"returns\",\"strat_LR\"]].cumsum()).plot()"
   ]
  }
 ],
 "metadata": {
  "kernelspec": {
   "display_name": "Python 3",
   "language": "python",
   "name": "python3"
  },
  "language_info": {
   "codemirror_mode": {
    "name": "ipython",
    "version": 3
   },
   "file_extension": ".py",
   "mimetype": "text/x-python",
   "name": "python",
   "nbconvert_exporter": "python",
   "pygments_lexer": "ipython3",
   "version": "3.10.9"
  },
  "orig_nbformat": 4
 },
 "nbformat": 4,
 "nbformat_minor": 2
}
