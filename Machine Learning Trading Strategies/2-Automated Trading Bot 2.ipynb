{
 "cells": [
  {
   "cell_type": "markdown",
   "metadata": {},
   "source": [
    "# Candlesticks patterns and statistical analysis\n",
    "# Loading and preparing data"
   ]
  },
  {
   "cell_type": "code",
   "execution_count": 1,
   "metadata": {
    "scrolled": true
   },
   "outputs": [
    {
     "data": {
      "text/html": [
       "<div>\n",
       "<style scoped>\n",
       "    .dataframe tbody tr th:only-of-type {\n",
       "        vertical-align: middle;\n",
       "    }\n",
       "\n",
       "    .dataframe tbody tr th {\n",
       "        vertical-align: top;\n",
       "    }\n",
       "\n",
       "    .dataframe thead th {\n",
       "        text-align: right;\n",
       "    }\n",
       "</style>\n",
       "<table border=\"1\" class=\"dataframe\">\n",
       "  <thead>\n",
       "    <tr style=\"text-align: right;\">\n",
       "      <th></th>\n",
       "      <th>Local time</th>\n",
       "      <th>open</th>\n",
       "      <th>high</th>\n",
       "      <th>low</th>\n",
       "      <th>close</th>\n",
       "      <th>volume</th>\n",
       "    </tr>\n",
       "  </thead>\n",
       "  <tbody>\n",
       "    <tr>\n",
       "      <th>4323</th>\n",
       "      <td>14.10.2019 00:00:00.000 GMT+0300</td>\n",
       "      <td>108.372</td>\n",
       "      <td>108.525</td>\n",
       "      <td>108.033</td>\n",
       "      <td>108.404</td>\n",
       "      <td>122267.0400</td>\n",
       "    </tr>\n",
       "    <tr>\n",
       "      <th>4324</th>\n",
       "      <td>15.10.2019 00:00:00.000 GMT+0300</td>\n",
       "      <td>108.408</td>\n",
       "      <td>108.901</td>\n",
       "      <td>108.157</td>\n",
       "      <td>108.868</td>\n",
       "      <td>161800.8200</td>\n",
       "    </tr>\n",
       "    <tr>\n",
       "      <th>4325</th>\n",
       "      <td>16.10.2019 00:00:00.000 GMT+0300</td>\n",
       "      <td>108.878</td>\n",
       "      <td>108.878</td>\n",
       "      <td>108.565</td>\n",
       "      <td>108.792</td>\n",
       "      <td>178244.1800</td>\n",
       "    </tr>\n",
       "    <tr>\n",
       "      <th>4326</th>\n",
       "      <td>17.10.2019 00:00:00.000 GMT+0300</td>\n",
       "      <td>108.793</td>\n",
       "      <td>108.941</td>\n",
       "      <td>108.454</td>\n",
       "      <td>108.692</td>\n",
       "      <td>234278.7681</td>\n",
       "    </tr>\n",
       "    <tr>\n",
       "      <th>4327</th>\n",
       "      <td>18.10.2019 00:00:00.000 GMT+0300</td>\n",
       "      <td>108.706</td>\n",
       "      <td>108.724</td>\n",
       "      <td>108.388</td>\n",
       "      <td>108.433</td>\n",
       "      <td>148743.3600</td>\n",
       "    </tr>\n",
       "  </tbody>\n",
       "</table>\n",
       "</div>"
      ],
      "text/plain": [
       "                            Local time     open     high      low    close  \\\n",
       "4323  14.10.2019 00:00:00.000 GMT+0300  108.372  108.525  108.033  108.404   \n",
       "4324  15.10.2019 00:00:00.000 GMT+0300  108.408  108.901  108.157  108.868   \n",
       "4325  16.10.2019 00:00:00.000 GMT+0300  108.878  108.878  108.565  108.792   \n",
       "4326  17.10.2019 00:00:00.000 GMT+0300  108.793  108.941  108.454  108.692   \n",
       "4327  18.10.2019 00:00:00.000 GMT+0300  108.706  108.724  108.388  108.433   \n",
       "\n",
       "           volume  \n",
       "4323  122267.0400  \n",
       "4324  161800.8200  \n",
       "4325  178244.1800  \n",
       "4326  234278.7681  \n",
       "4327  148743.3600  "
      ]
     },
     "execution_count": 1,
     "metadata": {},
     "output_type": "execute_result"
    }
   ],
   "source": [
    "import pandas as pd\n",
    "df = pd.read_csv(\"USDJPY_Candlestick_1_D_ASK_05.05.2003-19.10.2019.csv\")\n",
    "df.tail()"
   ]
  },
  {
   "cell_type": "code",
   "execution_count": 2,
   "metadata": {},
   "outputs": [
    {
     "data": {
      "text/plain": [
       "Local time    0\n",
       "open          0\n",
       "high          0\n",
       "low           0\n",
       "close         0\n",
       "volume        0\n",
       "dtype: int64"
      ]
     },
     "execution_count": 2,
     "metadata": {},
     "output_type": "execute_result"
    }
   ],
   "source": [
    "#Check if any zero volumes are available\n",
    "indexZeros = df[ df['volume'] == 0 ].index\n",
    "\n",
    "df.drop(indexZeros , inplace=True)\n",
    "df.loc[(df[\"volume\"] == 0 )]\n",
    "df.isna().sum()"
   ]
  },
  {
   "cell_type": "code",
   "execution_count": 3,
   "metadata": {},
   "outputs": [
    {
     "data": {
      "text/html": [
       "<div>\n",
       "<style scoped>\n",
       "    .dataframe tbody tr th:only-of-type {\n",
       "        vertical-align: middle;\n",
       "    }\n",
       "\n",
       "    .dataframe tbody tr th {\n",
       "        vertical-align: top;\n",
       "    }\n",
       "\n",
       "    .dataframe thead th {\n",
       "        text-align: right;\n",
       "    }\n",
       "</style>\n",
       "<table border=\"1\" class=\"dataframe\">\n",
       "  <thead>\n",
       "    <tr style=\"text-align: right;\">\n",
       "      <th></th>\n",
       "      <th>Local time</th>\n",
       "      <th>open</th>\n",
       "      <th>high</th>\n",
       "      <th>low</th>\n",
       "      <th>close</th>\n",
       "      <th>volume</th>\n",
       "      <th>ATR</th>\n",
       "      <th>RSI</th>\n",
       "    </tr>\n",
       "  </thead>\n",
       "  <tbody>\n",
       "    <tr>\n",
       "      <th>14</th>\n",
       "      <td>23.05.2003 00:00:00.000 GMT+0300</td>\n",
       "      <td>117.223</td>\n",
       "      <td>117.433</td>\n",
       "      <td>116.740</td>\n",
       "      <td>116.871</td>\n",
       "      <td>564114.1005</td>\n",
       "      <td>1.147194</td>\n",
       "      <td>38.950893</td>\n",
       "    </tr>\n",
       "    <tr>\n",
       "      <th>15</th>\n",
       "      <td>26.05.2003 00:00:00.000 GMT+0300</td>\n",
       "      <td>116.813</td>\n",
       "      <td>117.387</td>\n",
       "      <td>116.669</td>\n",
       "      <td>116.841</td>\n",
       "      <td>565039.0928</td>\n",
       "      <td>1.104275</td>\n",
       "      <td>38.795462</td>\n",
       "    </tr>\n",
       "    <tr>\n",
       "      <th>16</th>\n",
       "      <td>27.05.2003 00:00:00.000 GMT+0300</td>\n",
       "      <td>116.836</td>\n",
       "      <td>117.317</td>\n",
       "      <td>116.180</td>\n",
       "      <td>117.279</td>\n",
       "      <td>574499.0030</td>\n",
       "      <td>1.107547</td>\n",
       "      <td>42.408832</td>\n",
       "    </tr>\n",
       "    <tr>\n",
       "      <th>17</th>\n",
       "      <td>28.05.2003 00:00:00.000 GMT+0300</td>\n",
       "      <td>117.283</td>\n",
       "      <td>118.900</td>\n",
       "      <td>116.933</td>\n",
       "      <td>118.689</td>\n",
       "      <td>566670.9004</td>\n",
       "      <td>1.193493</td>\n",
       "      <td>52.193486</td>\n",
       "    </tr>\n",
       "    <tr>\n",
       "      <th>18</th>\n",
       "      <td>29.05.2003 00:00:00.000 GMT+0300</td>\n",
       "      <td>118.680</td>\n",
       "      <td>119.144</td>\n",
       "      <td>117.903</td>\n",
       "      <td>118.272</td>\n",
       "      <td>564631.6944</td>\n",
       "      <td>1.198243</td>\n",
       "      <td>49.514189</td>\n",
       "    </tr>\n",
       "    <tr>\n",
       "      <th>...</th>\n",
       "      <td>...</td>\n",
       "      <td>...</td>\n",
       "      <td>...</td>\n",
       "      <td>...</td>\n",
       "      <td>...</td>\n",
       "      <td>...</td>\n",
       "      <td>...</td>\n",
       "      <td>...</td>\n",
       "    </tr>\n",
       "    <tr>\n",
       "      <th>4323</th>\n",
       "      <td>14.10.2019 00:00:00.000 GMT+0300</td>\n",
       "      <td>108.372</td>\n",
       "      <td>108.525</td>\n",
       "      <td>108.033</td>\n",
       "      <td>108.404</td>\n",
       "      <td>122267.0400</td>\n",
       "      <td>0.683948</td>\n",
       "      <td>61.010164</td>\n",
       "    </tr>\n",
       "    <tr>\n",
       "      <th>4324</th>\n",
       "      <td>15.10.2019 00:00:00.000 GMT+0300</td>\n",
       "      <td>108.408</td>\n",
       "      <td>108.901</td>\n",
       "      <td>108.157</td>\n",
       "      <td>108.868</td>\n",
       "      <td>161800.8200</td>\n",
       "      <td>0.689953</td>\n",
       "      <td>65.223022</td>\n",
       "    </tr>\n",
       "    <tr>\n",
       "      <th>4325</th>\n",
       "      <td>16.10.2019 00:00:00.000 GMT+0300</td>\n",
       "      <td>108.878</td>\n",
       "      <td>108.878</td>\n",
       "      <td>108.565</td>\n",
       "      <td>108.792</td>\n",
       "      <td>178244.1800</td>\n",
       "      <td>0.652258</td>\n",
       "      <td>64.003170</td>\n",
       "    </tr>\n",
       "    <tr>\n",
       "      <th>4326</th>\n",
       "      <td>17.10.2019 00:00:00.000 GMT+0300</td>\n",
       "      <td>108.793</td>\n",
       "      <td>108.941</td>\n",
       "      <td>108.454</td>\n",
       "      <td>108.692</td>\n",
       "      <td>234278.7681</td>\n",
       "      <td>0.635732</td>\n",
       "      <td>62.350755</td>\n",
       "    </tr>\n",
       "    <tr>\n",
       "      <th>4327</th>\n",
       "      <td>18.10.2019 00:00:00.000 GMT+0300</td>\n",
       "      <td>108.706</td>\n",
       "      <td>108.724</td>\n",
       "      <td>108.388</td>\n",
       "      <td>108.433</td>\n",
       "      <td>148743.3600</td>\n",
       "      <td>0.605759</td>\n",
       "      <td>58.162392</td>\n",
       "    </tr>\n",
       "  </tbody>\n",
       "</table>\n",
       "<p>4283 rows × 8 columns</p>\n",
       "</div>"
      ],
      "text/plain": [
       "                            Local time     open     high      low    close  \\\n",
       "14    23.05.2003 00:00:00.000 GMT+0300  117.223  117.433  116.740  116.871   \n",
       "15    26.05.2003 00:00:00.000 GMT+0300  116.813  117.387  116.669  116.841   \n",
       "16    27.05.2003 00:00:00.000 GMT+0300  116.836  117.317  116.180  117.279   \n",
       "17    28.05.2003 00:00:00.000 GMT+0300  117.283  118.900  116.933  118.689   \n",
       "18    29.05.2003 00:00:00.000 GMT+0300  118.680  119.144  117.903  118.272   \n",
       "...                                ...      ...      ...      ...      ...   \n",
       "4323  14.10.2019 00:00:00.000 GMT+0300  108.372  108.525  108.033  108.404   \n",
       "4324  15.10.2019 00:00:00.000 GMT+0300  108.408  108.901  108.157  108.868   \n",
       "4325  16.10.2019 00:00:00.000 GMT+0300  108.878  108.878  108.565  108.792   \n",
       "4326  17.10.2019 00:00:00.000 GMT+0300  108.793  108.941  108.454  108.692   \n",
       "4327  18.10.2019 00:00:00.000 GMT+0300  108.706  108.724  108.388  108.433   \n",
       "\n",
       "           volume       ATR        RSI  \n",
       "14    564114.1005  1.147194  38.950893  \n",
       "15    565039.0928  1.104275  38.795462  \n",
       "16    574499.0030  1.107547  42.408832  \n",
       "17    566670.9004  1.193493  52.193486  \n",
       "18    564631.6944  1.198243  49.514189  \n",
       "...           ...       ...        ...  \n",
       "4323  122267.0400  0.683948  61.010164  \n",
       "4324  161800.8200  0.689953  65.223022  \n",
       "4325  178244.1800  0.652258  64.003170  \n",
       "4326  234278.7681  0.635732  62.350755  \n",
       "4327  148743.3600  0.605759  58.162392  \n",
       "\n",
       "[4283 rows x 8 columns]"
      ]
     },
     "execution_count": 3,
     "metadata": {},
     "output_type": "execute_result"
    }
   ],
   "source": [
    "import numpy as np\n",
    "import pandas_ta as ta\n",
    "#df.ta.indicators()\n",
    "#help(ta.atr)\n",
    "df['ATR'] = df.ta.atr(length=10)\n",
    "df['RSI'] = df.ta.rsi()\n",
    "df.dropna()"
   ]
  },
  {
   "cell_type": "code",
   "execution_count": 4,
   "metadata": {},
   "outputs": [
    {
     "data": {
      "text/plain": [
       "Local time    36\n",
       "open          36\n",
       "high          36\n",
       "low           36\n",
       "close         36\n",
       "volume        36\n",
       "ATR           36\n",
       "RSI           36\n",
       "signal1       36\n",
       "dtype: int64"
      ]
     },
     "execution_count": 4,
     "metadata": {},
     "output_type": "execute_result"
    }
   ],
   "source": [
    "# for down trends\n",
    "# Shooting star\n",
    "\n",
    "def Revsignal1(df1):\n",
    "    df.dropna()\n",
    "    df.reset_index(drop=True, inplace=True)\n",
    "    \n",
    "    length = len(df1)\n",
    "    high = list(df1['high'])\n",
    "    low = list(df1['low'])\n",
    "    close = list(df1['close'])\n",
    "    open = list(df1['open'])\n",
    "    signal = [0] * length\n",
    "    highdiff = [0] * length\n",
    "    lowdiff = [0] * length\n",
    "    bodydiff = [0] * length\n",
    "    ratio1 = [0] * length\n",
    "    ratio2 = [0] * length\n",
    "        \n",
    "    for row in range(0, length):\n",
    "        \n",
    "        highdiff[row] = high[row]-max(open[row],close[row])\n",
    "        bodydiff[row] = abs(open[row]-close[row])\n",
    "        if bodydiff[row]<0.002:\n",
    "            bodydiff[row]=0.002\n",
    "        lowdiff[row] = min(open[row],close[row])-low[row]\n",
    "        ratio1[row] = highdiff[row]/bodydiff[row]\n",
    "        ratio2[row] = lowdiff[row]/bodydiff[row]\n",
    "        #print(df.RSI[row])\n",
    "        if (ratio1[row]>2.5 and lowdiff[row]<0.3*highdiff[row] and bodydiff[row]>0.03 and df.RSI[row]>50 and df.RSI[row]<70 ):\n",
    "            signal[row] = 1\n",
    "        elif (ratio2[row-1]>2.5 and highdiff[row-1]<0.23*lowdiff[row-1] and bodydiff[row-1]>0.03 and bodydiff[row]>0.04 and close[row]>open[row] and close[row]>high[row-1] and df.RSI[row]<55 and df.RSI[row]>30):\n",
    "            signal[row] = 2\n",
    "        #elif (ratio2[row]>2.5 and highdiff[row]<0.23*lowdiff[row] and bodydiff[row]>0.03 and df.RSI[row]<70):\n",
    "        #    signal[row]=2\n",
    "    return signal\n",
    "df['signal1'] = Revsignal1(df)\n",
    "df[df['signal1']==1].count()"
   ]
  },
  {
   "cell_type": "code",
   "execution_count": 5,
   "metadata": {},
   "outputs": [],
   "source": [
    "#Target Shooting Star\n",
    "\n",
    "def mytarget(barsupfront, df1):\n",
    "    length = len(df1)\n",
    "    high = list(df1['high'])\n",
    "    low = list(df1['low'])\n",
    "    close = list(df1['close'])\n",
    "    open = list(df1['open'])\n",
    "    datr = list(df1['ATR'])\n",
    "    trendcat = [None] * length\n",
    "    \n",
    "\n",
    "    for line in range (0,length-barsupfront-1):\n",
    "        valueOpenLow = 0\n",
    "        valueOpenHigh = 0\n",
    "        \n",
    "        highdiff = high[line]-max(open[line],close[line])\n",
    "        bodydiff = abs(open[line]-close[line])\n",
    "        \n",
    "        pipdiff = datr[line]*1. #highdiff*1.3 #for SL 400*1e-3\n",
    "        if pipdiff<1.1:\n",
    "            pipdiff=1.1\n",
    "            \n",
    "        SLTPRatio = 2. #pipdiff*Ratio gives TP\n",
    "        \n",
    "        for i in range(1,barsupfront+1):\n",
    "            value1 = close[line]-low[line+i]\n",
    "            value2 = close[line]-high[line+i]\n",
    "            valueOpenLow = max(value1, valueOpenLow)\n",
    "            valueOpenHigh = min(value2, valueOpenHigh)\n",
    "\n",
    "            if ( (valueOpenLow >= (SLTPRatio*pipdiff) ) and (-valueOpenHigh < pipdiff) ):\n",
    "                trendcat[line] = 1 #-1 downtrend\n",
    "                break\n",
    "            elif ((valueOpenLow < pipdiff) ) and (-valueOpenHigh >= (SLTPRatio*pipdiff)):\n",
    "                trendcat[line] = 2 # uptrend\n",
    "                break \n",
    "            else:\n",
    "                trendcat[line] = 0 # no clear trend\n",
    "            \n",
    "    return trendcat\n",
    "\n",
    "# mytarget(barsfront to take into account, dataframe)\n",
    "df['Trend'] = mytarget(100, df)\n",
    "#df.head(10)"
   ]
  },
  {
   "cell_type": "code",
   "execution_count": 6,
   "metadata": {},
   "outputs": [
    {
     "name": "stdout",
     "output_type": "stream",
     "text": [
      "0.5833333333333334\n"
     ]
    },
    {
     "data": {
      "text/html": [
       "<div>\n",
       "<style scoped>\n",
       "    .dataframe tbody tr th:only-of-type {\n",
       "        vertical-align: middle;\n",
       "    }\n",
       "\n",
       "    .dataframe tbody tr th {\n",
       "        vertical-align: top;\n",
       "    }\n",
       "\n",
       "    .dataframe thead th {\n",
       "        text-align: right;\n",
       "    }\n",
       "</style>\n",
       "<table border=\"1\" class=\"dataframe\">\n",
       "  <thead>\n",
       "    <tr style=\"text-align: right;\">\n",
       "      <th></th>\n",
       "      <th>Local time</th>\n",
       "      <th>open</th>\n",
       "      <th>high</th>\n",
       "      <th>low</th>\n",
       "      <th>close</th>\n",
       "      <th>volume</th>\n",
       "      <th>ATR</th>\n",
       "      <th>RSI</th>\n",
       "      <th>signal1</th>\n",
       "      <th>Trend</th>\n",
       "      <th>result</th>\n",
       "    </tr>\n",
       "  </thead>\n",
       "  <tbody>\n",
       "    <tr>\n",
       "      <th>186</th>\n",
       "      <td>20.01.2004 00:00:00.000 GMT+0200</td>\n",
       "      <td>107.229</td>\n",
       "      <td>107.900</td>\n",
       "      <td>106.952</td>\n",
       "      <td>107.072</td>\n",
       "      <td>6.082301e+05</td>\n",
       "      <td>0.790313</td>\n",
       "      <td>50.361965</td>\n",
       "      <td>1</td>\n",
       "      <td>0.0</td>\n",
       "      <td>0</td>\n",
       "    </tr>\n",
       "    <tr>\n",
       "      <th>580</th>\n",
       "      <td>25.07.2005 00:00:00.000 GMT+0300</td>\n",
       "      <td>111.347</td>\n",
       "      <td>111.998</td>\n",
       "      <td>111.210</td>\n",
       "      <td>111.508</td>\n",
       "      <td>6.041630e+05</td>\n",
       "      <td>1.126688</td>\n",
       "      <td>53.553068</td>\n",
       "      <td>1</td>\n",
       "      <td>0.0</td>\n",
       "      <td>0</td>\n",
       "    </tr>\n",
       "    <tr>\n",
       "      <th>643</th>\n",
       "      <td>20.10.2005 00:00:00.000 GMT+0300</td>\n",
       "      <td>115.440</td>\n",
       "      <td>115.767</td>\n",
       "      <td>115.263</td>\n",
       "      <td>115.325</td>\n",
       "      <td>5.879348e+05</td>\n",
       "      <td>0.846232</td>\n",
       "      <td>66.012856</td>\n",
       "      <td>1</td>\n",
       "      <td>2.0</td>\n",
       "      <td>0</td>\n",
       "    </tr>\n",
       "    <tr>\n",
       "      <th>760</th>\n",
       "      <td>03.04.2006 00:00:00.000 GMT+0300</td>\n",
       "      <td>117.805</td>\n",
       "      <td>118.790</td>\n",
       "      <td>117.591</td>\n",
       "      <td>117.695</td>\n",
       "      <td>5.831051e+05</td>\n",
       "      <td>1.069075</td>\n",
       "      <td>52.196782</td>\n",
       "      <td>1</td>\n",
       "      <td>0.0</td>\n",
       "      <td>0</td>\n",
       "    </tr>\n",
       "    <tr>\n",
       "      <th>1048</th>\n",
       "      <td>10.05.2007 00:00:00.000 GMT+0300</td>\n",
       "      <td>120.100</td>\n",
       "      <td>120.550</td>\n",
       "      <td>119.850</td>\n",
       "      <td>119.920</td>\n",
       "      <td>3.273105e+06</td>\n",
       "      <td>0.704032</td>\n",
       "      <td>57.089153</td>\n",
       "      <td>1</td>\n",
       "      <td>2.0</td>\n",
       "      <td>0</td>\n",
       "    </tr>\n",
       "    <tr>\n",
       "      <th>1302</th>\n",
       "      <td>30.04.2008 00:00:00.000 GMT+0300</td>\n",
       "      <td>104.040</td>\n",
       "      <td>104.895</td>\n",
       "      <td>103.700</td>\n",
       "      <td>103.905</td>\n",
       "      <td>2.509382e+05</td>\n",
       "      <td>1.230512</td>\n",
       "      <td>57.856887</td>\n",
       "      <td>1</td>\n",
       "      <td>0.0</td>\n",
       "      <td>0</td>\n",
       "    </tr>\n",
       "    <tr>\n",
       "      <th>1307</th>\n",
       "      <td>07.05.2008 00:00:00.000 GMT+0300</td>\n",
       "      <td>104.770</td>\n",
       "      <td>105.600</td>\n",
       "      <td>104.615</td>\n",
       "      <td>104.735</td>\n",
       "      <td>2.909724e+05</td>\n",
       "      <td>1.164444</td>\n",
       "      <td>59.973593</td>\n",
       "      <td>1</td>\n",
       "      <td>0.0</td>\n",
       "      <td>0</td>\n",
       "    </tr>\n",
       "    <tr>\n",
       "      <th>1824</th>\n",
       "      <td>30.04.2010 00:00:00.000 GMT+0300</td>\n",
       "      <td>94.040</td>\n",
       "      <td>94.590</td>\n",
       "      <td>93.850</td>\n",
       "      <td>93.885</td>\n",
       "      <td>2.948239e+05</td>\n",
       "      <td>0.841398</td>\n",
       "      <td>59.232221</td>\n",
       "      <td>1</td>\n",
       "      <td>0.0</td>\n",
       "      <td>0</td>\n",
       "    </tr>\n",
       "    <tr>\n",
       "      <th>2282</th>\n",
       "      <td>25.01.2012 00:00:00.000 GMT+0200</td>\n",
       "      <td>77.673</td>\n",
       "      <td>78.287</td>\n",
       "      <td>77.567</td>\n",
       "      <td>77.785</td>\n",
       "      <td>1.092068e+05</td>\n",
       "      <td>0.404107</td>\n",
       "      <td>64.030737</td>\n",
       "      <td>1</td>\n",
       "      <td>0.0</td>\n",
       "      <td>0</td>\n",
       "    </tr>\n",
       "    <tr>\n",
       "      <th>3086</th>\n",
       "      <td>24.02.2015 00:00:00.000 GMT+0200</td>\n",
       "      <td>118.818</td>\n",
       "      <td>119.842</td>\n",
       "      <td>118.767</td>\n",
       "      <td>118.986</td>\n",
       "      <td>1.119961e+05</td>\n",
       "      <td>1.019934</td>\n",
       "      <td>52.287097</td>\n",
       "      <td>1</td>\n",
       "      <td>2.0</td>\n",
       "      <td>0</td>\n",
       "    </tr>\n",
       "    <tr>\n",
       "      <th>3150</th>\n",
       "      <td>25.05.2015 00:00:00.000 GMT+0300</td>\n",
       "      <td>121.509</td>\n",
       "      <td>121.780</td>\n",
       "      <td>121.448</td>\n",
       "      <td>121.566</td>\n",
       "      <td>4.827400e+04</td>\n",
       "      <td>0.717279</td>\n",
       "      <td>65.474669</td>\n",
       "      <td>1</td>\n",
       "      <td>2.0</td>\n",
       "      <td>0</td>\n",
       "    </tr>\n",
       "    <tr>\n",
       "      <th>3520</th>\n",
       "      <td>25.10.2016 00:00:00.000 GMT+0300</td>\n",
       "      <td>104.182</td>\n",
       "      <td>104.876</td>\n",
       "      <td>104.119</td>\n",
       "      <td>104.231</td>\n",
       "      <td>1.426352e+05</td>\n",
       "      <td>0.839487</td>\n",
       "      <td>60.068404</td>\n",
       "      <td>1</td>\n",
       "      <td>0.0</td>\n",
       "      <td>0</td>\n",
       "    </tr>\n",
       "    <tr>\n",
       "      <th>3651</th>\n",
       "      <td>26.04.2017 00:00:00.000 GMT+0300</td>\n",
       "      <td>111.114</td>\n",
       "      <td>111.781</td>\n",
       "      <td>110.879</td>\n",
       "      <td>111.061</td>\n",
       "      <td>2.207049e+05</td>\n",
       "      <td>0.965044</td>\n",
       "      <td>54.398107</td>\n",
       "      <td>1</td>\n",
       "      <td>2.0</td>\n",
       "      <td>0</td>\n",
       "    </tr>\n",
       "    <tr>\n",
       "      <th>3768</th>\n",
       "      <td>06.10.2017 00:00:00.000 GMT+0300</td>\n",
       "      <td>112.826</td>\n",
       "      <td>113.441</td>\n",
       "      <td>112.609</td>\n",
       "      <td>112.686</td>\n",
       "      <td>1.827785e+05</td>\n",
       "      <td>0.818211</td>\n",
       "      <td>61.258187</td>\n",
       "      <td>1</td>\n",
       "      <td>0.0</td>\n",
       "      <td>0</td>\n",
       "    </tr>\n",
       "    <tr>\n",
       "      <th>3945</th>\n",
       "      <td>13.06.2018 00:00:00.000 GMT+0300</td>\n",
       "      <td>110.386</td>\n",
       "      <td>110.852</td>\n",
       "      <td>110.274</td>\n",
       "      <td>110.348</td>\n",
       "      <td>1.172374e+05</td>\n",
       "      <td>0.674987</td>\n",
       "      <td>59.036091</td>\n",
       "      <td>1</td>\n",
       "      <td>2.0</td>\n",
       "      <td>0</td>\n",
       "    </tr>\n",
       "  </tbody>\n",
       "</table>\n",
       "</div>"
      ],
      "text/plain": [
       "                            Local time     open     high      low    close  \\\n",
       "186   20.01.2004 00:00:00.000 GMT+0200  107.229  107.900  106.952  107.072   \n",
       "580   25.07.2005 00:00:00.000 GMT+0300  111.347  111.998  111.210  111.508   \n",
       "643   20.10.2005 00:00:00.000 GMT+0300  115.440  115.767  115.263  115.325   \n",
       "760   03.04.2006 00:00:00.000 GMT+0300  117.805  118.790  117.591  117.695   \n",
       "1048  10.05.2007 00:00:00.000 GMT+0300  120.100  120.550  119.850  119.920   \n",
       "1302  30.04.2008 00:00:00.000 GMT+0300  104.040  104.895  103.700  103.905   \n",
       "1307  07.05.2008 00:00:00.000 GMT+0300  104.770  105.600  104.615  104.735   \n",
       "1824  30.04.2010 00:00:00.000 GMT+0300   94.040   94.590   93.850   93.885   \n",
       "2282  25.01.2012 00:00:00.000 GMT+0200   77.673   78.287   77.567   77.785   \n",
       "3086  24.02.2015 00:00:00.000 GMT+0200  118.818  119.842  118.767  118.986   \n",
       "3150  25.05.2015 00:00:00.000 GMT+0300  121.509  121.780  121.448  121.566   \n",
       "3520  25.10.2016 00:00:00.000 GMT+0300  104.182  104.876  104.119  104.231   \n",
       "3651  26.04.2017 00:00:00.000 GMT+0300  111.114  111.781  110.879  111.061   \n",
       "3768  06.10.2017 00:00:00.000 GMT+0300  112.826  113.441  112.609  112.686   \n",
       "3945  13.06.2018 00:00:00.000 GMT+0300  110.386  110.852  110.274  110.348   \n",
       "\n",
       "            volume       ATR        RSI  signal1  Trend  result  \n",
       "186   6.082301e+05  0.790313  50.361965        1    0.0       0  \n",
       "580   6.041630e+05  1.126688  53.553068        1    0.0       0  \n",
       "643   5.879348e+05  0.846232  66.012856        1    2.0       0  \n",
       "760   5.831051e+05  1.069075  52.196782        1    0.0       0  \n",
       "1048  3.273105e+06  0.704032  57.089153        1    2.0       0  \n",
       "1302  2.509382e+05  1.230512  57.856887        1    0.0       0  \n",
       "1307  2.909724e+05  1.164444  59.973593        1    0.0       0  \n",
       "1824  2.948239e+05  0.841398  59.232221        1    0.0       0  \n",
       "2282  1.092068e+05  0.404107  64.030737        1    0.0       0  \n",
       "3086  1.119961e+05  1.019934  52.287097        1    2.0       0  \n",
       "3150  4.827400e+04  0.717279  65.474669        1    2.0       0  \n",
       "3520  1.426352e+05  0.839487  60.068404        1    0.0       0  \n",
       "3651  2.207049e+05  0.965044  54.398107        1    2.0       0  \n",
       "3768  1.827785e+05  0.818211  61.258187        1    0.0       0  \n",
       "3945  1.172374e+05  0.674987  59.036091        1    2.0       0  "
      ]
     },
     "execution_count": 6,
     "metadata": {},
     "output_type": "execute_result"
    }
   ],
   "source": [
    "conditions = [(df['Trend'] == 1) & (df['signal1'] == 1),\n",
    "              (df['Trend'] == 2) & (df['signal1'] == 2)]\n",
    "values = [1, 2]\n",
    "df['result'] = np.select(conditions, values)\n",
    "\n",
    "trendId=1\n",
    "print(df[df['result']==trendId].result.count()/df[df['signal1']==trendId].signal1.count())\n",
    "df[ (df['result']!=trendId) & (df['signal1']==trendId) ] # false positives\n",
    "\n",
    "#histrs = df[ (df['result']==2) & (df['signal1']==2) ].RSI # false positives\n",
    "#import matplotlib.pyplot as plt\n",
    "#plt.hist(histrs,bins=2)  # density=False would make counts\n",
    "#plt.ylabel('Probability')\n",
    "#plt.xlabel('RSI');"
   ]
  },
  {
   "cell_type": "code",
   "execution_count": 7,
   "metadata": {},
   "outputs": [
    {
     "data": {
      "application/vnd.plotly.v1+json": {
       "config": {
        "plotlyServerURL": "https://plot.ly"
       },
       "data": [
        {
         "close": [
          109.552,
          109.502,
          109.198,
          108.904,
          108.607,
          109.293,
          108.173,
          108.875,
          108.915,
          109.08,
          109.291,
          110.057,
          110.482,
          110.943,
          111.807,
          111.648,
          111.756,
          112.202,
          112.113,
          112.205,
          111.848,
          110.829,
          111.907,
          112.41,
          112.189,
          112.011,
          112.706,
          112.947,
          110.294,
          111.347,
          111.508,
          112.556,
          112.5,
          112.154,
          112.548,
          112.276,
          111.481,
          111.114,
          111.273,
          111.959,
          112.216,
          111.933,
          110.689,
          109.726,
          109.423,
          109.248,
          109.55,
          109.946,
          110.579,
          110.49,
          109.813,
          109.907,
          110.227,
          110.083,
          110.212,
          110.635,
          111.251,
          110.607,
          109.807,
          109.82,
          109.164,
          109.712,
          110.13,
          110.501,
          109.705,
          110.376,
          110.67,
          110.42,
          110.661,
          111.378,
          111.523,
          111.99,
          111.325,
          111.742,
          112.51,
          112.206,
          113.326,
          113.135,
          113.031,
          113.521,
          114.14,
          114.27,
          114.039,
          113.319,
          113.841,
          114.125,
          114.595,
          114.429,
          114.528,
          114.116,
          114.957,
          115.732,
          115.472,
          115.325,
          115.935,
          115.476,
          115.057,
          115.896,
          115.473,
          115.693
         ],
         "high": [
          109.684,
          109.594,
          109.722,
          109.421,
          109.105,
          109.611,
          109.516,
          109.146,
          108.967,
          109.415,
          109.461,
          110.072,
          110.66,
          111.022,
          111.827,
          111.917,
          112.127,
          112.306,
          112.349,
          112.548,
          112.294,
          111.853,
          112.268,
          112.41,
          112.418,
          112.394,
          113.006,
          113.561,
          112.948,
          111.449,
          111.998,
          112.62,
          112.817,
          112.871,
          112.561,
          112.792,
          112.412,
          111.947,
          111.609,
          112.228,
          112.608,
          112.238,
          112.024,
          110.751,
          109.973,
          109.824,
          109.687,
          110.08,
          110.708,
          110.83,
          110.571,
          110.192,
          110.752,
          110.456,
          110.403,
          110.703,
          111.602,
          111.783,
          110.927,
          110.049,
          109.808,
          109.82,
          110.282,
          110.623,
          110.745,
          110.4,
          111.031,
          110.83,
          110.741,
          111.495,
          111.684,
          112.033,
          112.065,
          111.817,
          112.526,
          112.595,
          113.509,
          113.445,
          113.217,
          113.714,
          114.367,
          114.404,
          114.425,
          114.166,
          114.027,
          114.311,
          114.648,
          114.755,
          115.085,
          114.903,
          114.99,
          115.93,
          115.983,
          115.767,
          115.988,
          115.98,
          115.742,
          115.945,
          116.23,
          115.732
         ],
         "low": [
          108.416,
          109.066,
          109.142,
          108.674,
          108.494,
          108.329,
          108.13,
          108.137,
          108.388,
          108.83,
          109.067,
          109.066,
          109.712,
          110.021,
          110.621,
          111.333,
          111.461,
          111.457,
          111.492,
          111.804,
          111.683,
          110.751,
          110.786,
          111.651,
          111.762,
          111.503,
          111.841,
          112.454,
          109.682,
          110.183,
          111.21,
          111.376,
          111.944,
          111.99,
          111.838,
          111.74,
          111.135,
          110.918,
          110.762,
          111.117,
          111.558,
          111.681,
          110.41,
          109.574,
          109.321,
          109.17,
          109.045,
          109.394,
          109.744,
          110.304,
          109.385,
          109.602,
          109.863,
          109.764,
          109.373,
          109.797,
          110.489,
          110.376,
          109.612,
          109.197,
          108.773,
          109.091,
          109.385,
          109.965,
          109.488,
          109.013,
          110.129,
          109.892,
          110.191,
          110.467,
          111.164,
          111.139,
          110.986,
          111.035,
          110.885,
          112.094,
          112.139,
          112.882,
          112.661,
          112.93,
          113.375,
          114.012,
          113.585,
          113.022,
          113.161,
          113.558,
          113.824,
          114.252,
          114.209,
          113.863,
          113.762,
          114.907,
          115.251,
          115.263,
          114.986,
          115.06,
          114.612,
          114.917,
          114.859,
          115.097
         ],
         "open": [
          108.615,
          109.563,
          109.508,
          109.237,
          108.942,
          108.577,
          109.3,
          108.168,
          108.863,
          108.94,
          109.112,
          109.285,
          110.082,
          110.45,
          110.97,
          111.791,
          111.653,
          111.752,
          112.215,
          112.128,
          112.264,
          111.835,
          110.832,
          111.918,
          112.403,
          112.27,
          112.027,
          112.711,
          112.948,
          110.31,
          111.347,
          111.508,
          112.572,
          112.517,
          112.168,
          112.557,
          112.277,
          111.485,
          111.113,
          111.285,
          111.916,
          112.238,
          111.945,
          110.666,
          109.738,
          109.492,
          109.243,
          109.547,
          109.962,
          110.573,
          110.47,
          109.8,
          109.912,
          110.24,
          110.065,
          110.175,
          110.645,
          111.261,
          110.588,
          109.8,
          109.785,
          109.157,
          109.695,
          110.113,
          110.493,
          109.648,
          110.36,
          110.662,
          110.38,
          110.655,
          111.401,
          111.517,
          111.963,
          111.332,
          111.752,
          112.476,
          112.207,
          113.342,
          113.118,
          113.028,
          113.701,
          114.129,
          114.275,
          114.04,
          113.322,
          113.836,
          114.117,
          114.607,
          114.428,
          114.538,
          114.122,
          114.94,
          115.735,
          115.44,
          115.312,
          115.935,
          115.482,
          115.062,
          115.902,
          115.463
         ],
         "type": "candlestick",
         "x": [
          550,
          551,
          552,
          553,
          554,
          555,
          556,
          557,
          558,
          559,
          560,
          561,
          562,
          563,
          564,
          565,
          566,
          567,
          568,
          569,
          570,
          571,
          572,
          573,
          574,
          575,
          576,
          577,
          578,
          579,
          580,
          581,
          582,
          583,
          584,
          585,
          586,
          587,
          588,
          589,
          590,
          591,
          592,
          593,
          594,
          595,
          596,
          597,
          598,
          599,
          600,
          601,
          602,
          603,
          604,
          605,
          606,
          607,
          608,
          609,
          610,
          611,
          612,
          613,
          614,
          615,
          616,
          617,
          618,
          619,
          620,
          621,
          622,
          623,
          624,
          625,
          626,
          627,
          628,
          629,
          630,
          631,
          632,
          633,
          634,
          635,
          636,
          637,
          638,
          639,
          640,
          641,
          642,
          643,
          644,
          645,
          646,
          647,
          648,
          649
         ]
        }
       ],
       "layout": {
        "template": {
         "data": {
          "bar": [
           {
            "error_x": {
             "color": "#2a3f5f"
            },
            "error_y": {
             "color": "#2a3f5f"
            },
            "marker": {
             "line": {
              "color": "#E5ECF6",
              "width": 0.5
             },
             "pattern": {
              "fillmode": "overlay",
              "size": 10,
              "solidity": 0.2
             }
            },
            "type": "bar"
           }
          ],
          "barpolar": [
           {
            "marker": {
             "line": {
              "color": "#E5ECF6",
              "width": 0.5
             },
             "pattern": {
              "fillmode": "overlay",
              "size": 10,
              "solidity": 0.2
             }
            },
            "type": "barpolar"
           }
          ],
          "carpet": [
           {
            "aaxis": {
             "endlinecolor": "#2a3f5f",
             "gridcolor": "white",
             "linecolor": "white",
             "minorgridcolor": "white",
             "startlinecolor": "#2a3f5f"
            },
            "baxis": {
             "endlinecolor": "#2a3f5f",
             "gridcolor": "white",
             "linecolor": "white",
             "minorgridcolor": "white",
             "startlinecolor": "#2a3f5f"
            },
            "type": "carpet"
           }
          ],
          "choropleth": [
           {
            "colorbar": {
             "outlinewidth": 0,
             "ticks": ""
            },
            "type": "choropleth"
           }
          ],
          "contour": [
           {
            "colorbar": {
             "outlinewidth": 0,
             "ticks": ""
            },
            "colorscale": [
             [
              0,
              "#0d0887"
             ],
             [
              0.1111111111111111,
              "#46039f"
             ],
             [
              0.2222222222222222,
              "#7201a8"
             ],
             [
              0.3333333333333333,
              "#9c179e"
             ],
             [
              0.4444444444444444,
              "#bd3786"
             ],
             [
              0.5555555555555556,
              "#d8576b"
             ],
             [
              0.6666666666666666,
              "#ed7953"
             ],
             [
              0.7777777777777778,
              "#fb9f3a"
             ],
             [
              0.8888888888888888,
              "#fdca26"
             ],
             [
              1,
              "#f0f921"
             ]
            ],
            "type": "contour"
           }
          ],
          "contourcarpet": [
           {
            "colorbar": {
             "outlinewidth": 0,
             "ticks": ""
            },
            "type": "contourcarpet"
           }
          ],
          "heatmap": [
           {
            "colorbar": {
             "outlinewidth": 0,
             "ticks": ""
            },
            "colorscale": [
             [
              0,
              "#0d0887"
             ],
             [
              0.1111111111111111,
              "#46039f"
             ],
             [
              0.2222222222222222,
              "#7201a8"
             ],
             [
              0.3333333333333333,
              "#9c179e"
             ],
             [
              0.4444444444444444,
              "#bd3786"
             ],
             [
              0.5555555555555556,
              "#d8576b"
             ],
             [
              0.6666666666666666,
              "#ed7953"
             ],
             [
              0.7777777777777778,
              "#fb9f3a"
             ],
             [
              0.8888888888888888,
              "#fdca26"
             ],
             [
              1,
              "#f0f921"
             ]
            ],
            "type": "heatmap"
           }
          ],
          "heatmapgl": [
           {
            "colorbar": {
             "outlinewidth": 0,
             "ticks": ""
            },
            "colorscale": [
             [
              0,
              "#0d0887"
             ],
             [
              0.1111111111111111,
              "#46039f"
             ],
             [
              0.2222222222222222,
              "#7201a8"
             ],
             [
              0.3333333333333333,
              "#9c179e"
             ],
             [
              0.4444444444444444,
              "#bd3786"
             ],
             [
              0.5555555555555556,
              "#d8576b"
             ],
             [
              0.6666666666666666,
              "#ed7953"
             ],
             [
              0.7777777777777778,
              "#fb9f3a"
             ],
             [
              0.8888888888888888,
              "#fdca26"
             ],
             [
              1,
              "#f0f921"
             ]
            ],
            "type": "heatmapgl"
           }
          ],
          "histogram": [
           {
            "marker": {
             "pattern": {
              "fillmode": "overlay",
              "size": 10,
              "solidity": 0.2
             }
            },
            "type": "histogram"
           }
          ],
          "histogram2d": [
           {
            "colorbar": {
             "outlinewidth": 0,
             "ticks": ""
            },
            "colorscale": [
             [
              0,
              "#0d0887"
             ],
             [
              0.1111111111111111,
              "#46039f"
             ],
             [
              0.2222222222222222,
              "#7201a8"
             ],
             [
              0.3333333333333333,
              "#9c179e"
             ],
             [
              0.4444444444444444,
              "#bd3786"
             ],
             [
              0.5555555555555556,
              "#d8576b"
             ],
             [
              0.6666666666666666,
              "#ed7953"
             ],
             [
              0.7777777777777778,
              "#fb9f3a"
             ],
             [
              0.8888888888888888,
              "#fdca26"
             ],
             [
              1,
              "#f0f921"
             ]
            ],
            "type": "histogram2d"
           }
          ],
          "histogram2dcontour": [
           {
            "colorbar": {
             "outlinewidth": 0,
             "ticks": ""
            },
            "colorscale": [
             [
              0,
              "#0d0887"
             ],
             [
              0.1111111111111111,
              "#46039f"
             ],
             [
              0.2222222222222222,
              "#7201a8"
             ],
             [
              0.3333333333333333,
              "#9c179e"
             ],
             [
              0.4444444444444444,
              "#bd3786"
             ],
             [
              0.5555555555555556,
              "#d8576b"
             ],
             [
              0.6666666666666666,
              "#ed7953"
             ],
             [
              0.7777777777777778,
              "#fb9f3a"
             ],
             [
              0.8888888888888888,
              "#fdca26"
             ],
             [
              1,
              "#f0f921"
             ]
            ],
            "type": "histogram2dcontour"
           }
          ],
          "mesh3d": [
           {
            "colorbar": {
             "outlinewidth": 0,
             "ticks": ""
            },
            "type": "mesh3d"
           }
          ],
          "parcoords": [
           {
            "line": {
             "colorbar": {
              "outlinewidth": 0,
              "ticks": ""
             }
            },
            "type": "parcoords"
           }
          ],
          "pie": [
           {
            "automargin": true,
            "type": "pie"
           }
          ],
          "scatter": [
           {
            "fillpattern": {
             "fillmode": "overlay",
             "size": 10,
             "solidity": 0.2
            },
            "type": "scatter"
           }
          ],
          "scatter3d": [
           {
            "line": {
             "colorbar": {
              "outlinewidth": 0,
              "ticks": ""
             }
            },
            "marker": {
             "colorbar": {
              "outlinewidth": 0,
              "ticks": ""
             }
            },
            "type": "scatter3d"
           }
          ],
          "scattercarpet": [
           {
            "marker": {
             "colorbar": {
              "outlinewidth": 0,
              "ticks": ""
             }
            },
            "type": "scattercarpet"
           }
          ],
          "scattergeo": [
           {
            "marker": {
             "colorbar": {
              "outlinewidth": 0,
              "ticks": ""
             }
            },
            "type": "scattergeo"
           }
          ],
          "scattergl": [
           {
            "marker": {
             "colorbar": {
              "outlinewidth": 0,
              "ticks": ""
             }
            },
            "type": "scattergl"
           }
          ],
          "scattermapbox": [
           {
            "marker": {
             "colorbar": {
              "outlinewidth": 0,
              "ticks": ""
             }
            },
            "type": "scattermapbox"
           }
          ],
          "scatterpolar": [
           {
            "marker": {
             "colorbar": {
              "outlinewidth": 0,
              "ticks": ""
             }
            },
            "type": "scatterpolar"
           }
          ],
          "scatterpolargl": [
           {
            "marker": {
             "colorbar": {
              "outlinewidth": 0,
              "ticks": ""
             }
            },
            "type": "scatterpolargl"
           }
          ],
          "scatterternary": [
           {
            "marker": {
             "colorbar": {
              "outlinewidth": 0,
              "ticks": ""
             }
            },
            "type": "scatterternary"
           }
          ],
          "surface": [
           {
            "colorbar": {
             "outlinewidth": 0,
             "ticks": ""
            },
            "colorscale": [
             [
              0,
              "#0d0887"
             ],
             [
              0.1111111111111111,
              "#46039f"
             ],
             [
              0.2222222222222222,
              "#7201a8"
             ],
             [
              0.3333333333333333,
              "#9c179e"
             ],
             [
              0.4444444444444444,
              "#bd3786"
             ],
             [
              0.5555555555555556,
              "#d8576b"
             ],
             [
              0.6666666666666666,
              "#ed7953"
             ],
             [
              0.7777777777777778,
              "#fb9f3a"
             ],
             [
              0.8888888888888888,
              "#fdca26"
             ],
             [
              1,
              "#f0f921"
             ]
            ],
            "type": "surface"
           }
          ],
          "table": [
           {
            "cells": {
             "fill": {
              "color": "#EBF0F8"
             },
             "line": {
              "color": "white"
             }
            },
            "header": {
             "fill": {
              "color": "#C8D4E3"
             },
             "line": {
              "color": "white"
             }
            },
            "type": "table"
           }
          ]
         },
         "layout": {
          "annotationdefaults": {
           "arrowcolor": "#2a3f5f",
           "arrowhead": 0,
           "arrowwidth": 1
          },
          "autotypenumbers": "strict",
          "coloraxis": {
           "colorbar": {
            "outlinewidth": 0,
            "ticks": ""
           }
          },
          "colorscale": {
           "diverging": [
            [
             0,
             "#8e0152"
            ],
            [
             0.1,
             "#c51b7d"
            ],
            [
             0.2,
             "#de77ae"
            ],
            [
             0.3,
             "#f1b6da"
            ],
            [
             0.4,
             "#fde0ef"
            ],
            [
             0.5,
             "#f7f7f7"
            ],
            [
             0.6,
             "#e6f5d0"
            ],
            [
             0.7,
             "#b8e186"
            ],
            [
             0.8,
             "#7fbc41"
            ],
            [
             0.9,
             "#4d9221"
            ],
            [
             1,
             "#276419"
            ]
           ],
           "sequential": [
            [
             0,
             "#0d0887"
            ],
            [
             0.1111111111111111,
             "#46039f"
            ],
            [
             0.2222222222222222,
             "#7201a8"
            ],
            [
             0.3333333333333333,
             "#9c179e"
            ],
            [
             0.4444444444444444,
             "#bd3786"
            ],
            [
             0.5555555555555556,
             "#d8576b"
            ],
            [
             0.6666666666666666,
             "#ed7953"
            ],
            [
             0.7777777777777778,
             "#fb9f3a"
            ],
            [
             0.8888888888888888,
             "#fdca26"
            ],
            [
             1,
             "#f0f921"
            ]
           ],
           "sequentialminus": [
            [
             0,
             "#0d0887"
            ],
            [
             0.1111111111111111,
             "#46039f"
            ],
            [
             0.2222222222222222,
             "#7201a8"
            ],
            [
             0.3333333333333333,
             "#9c179e"
            ],
            [
             0.4444444444444444,
             "#bd3786"
            ],
            [
             0.5555555555555556,
             "#d8576b"
            ],
            [
             0.6666666666666666,
             "#ed7953"
            ],
            [
             0.7777777777777778,
             "#fb9f3a"
            ],
            [
             0.8888888888888888,
             "#fdca26"
            ],
            [
             1,
             "#f0f921"
            ]
           ]
          },
          "colorway": [
           "#636efa",
           "#EF553B",
           "#00cc96",
           "#ab63fa",
           "#FFA15A",
           "#19d3f3",
           "#FF6692",
           "#B6E880",
           "#FF97FF",
           "#FECB52"
          ],
          "font": {
           "color": "#2a3f5f"
          },
          "geo": {
           "bgcolor": "white",
           "lakecolor": "white",
           "landcolor": "#E5ECF6",
           "showlakes": true,
           "showland": true,
           "subunitcolor": "white"
          },
          "hoverlabel": {
           "align": "left"
          },
          "hovermode": "closest",
          "mapbox": {
           "style": "light"
          },
          "paper_bgcolor": "white",
          "plot_bgcolor": "#E5ECF6",
          "polar": {
           "angularaxis": {
            "gridcolor": "white",
            "linecolor": "white",
            "ticks": ""
           },
           "bgcolor": "#E5ECF6",
           "radialaxis": {
            "gridcolor": "white",
            "linecolor": "white",
            "ticks": ""
           }
          },
          "scene": {
           "xaxis": {
            "backgroundcolor": "#E5ECF6",
            "gridcolor": "white",
            "gridwidth": 2,
            "linecolor": "white",
            "showbackground": true,
            "ticks": "",
            "zerolinecolor": "white"
           },
           "yaxis": {
            "backgroundcolor": "#E5ECF6",
            "gridcolor": "white",
            "gridwidth": 2,
            "linecolor": "white",
            "showbackground": true,
            "ticks": "",
            "zerolinecolor": "white"
           },
           "zaxis": {
            "backgroundcolor": "#E5ECF6",
            "gridcolor": "white",
            "gridwidth": 2,
            "linecolor": "white",
            "showbackground": true,
            "ticks": "",
            "zerolinecolor": "white"
           }
          },
          "shapedefaults": {
           "line": {
            "color": "#2a3f5f"
           }
          },
          "ternary": {
           "aaxis": {
            "gridcolor": "white",
            "linecolor": "white",
            "ticks": ""
           },
           "baxis": {
            "gridcolor": "white",
            "linecolor": "white",
            "ticks": ""
           },
           "bgcolor": "#E5ECF6",
           "caxis": {
            "gridcolor": "white",
            "linecolor": "white",
            "ticks": ""
           }
          },
          "title": {
           "x": 0.05
          },
          "xaxis": {
           "automargin": true,
           "gridcolor": "white",
           "linecolor": "white",
           "ticks": "",
           "title": {
            "standoff": 15
           },
           "zerolinecolor": "white",
           "zerolinewidth": 2
          },
          "yaxis": {
           "automargin": true,
           "gridcolor": "white",
           "linecolor": "white",
           "ticks": "",
           "title": {
            "standoff": 15
           },
           "zerolinecolor": "white",
           "zerolinewidth": 2
          }
         }
        }
       }
      }
     },
     "metadata": {},
     "output_type": "display_data"
    }
   ],
   "source": [
    "dfpl = df[550:650]\n",
    "import plotly.graph_objects as go\n",
    "from datetime import datetime\n",
    "\n",
    "fig = go.Figure(data=[go.Candlestick(x=dfpl.index,\n",
    "                open=dfpl['open'],\n",
    "                high=dfpl['high'],\n",
    "                low=dfpl['low'],\n",
    "                close=dfpl['close'])])\n",
    "\n",
    "fig.show()"
   ]
  },
  {
   "cell_type": "markdown",
   "metadata": {},
   "source": [
    "## Live Automated Orders with email notification"
   ]
  },
  {
   "cell_type": "code",
   "execution_count": 8,
   "metadata": {},
   "outputs": [],
   "source": [
    "from apscheduler.schedulers.blocking import BlockingScheduler\n",
    "import json\n",
    "from oandapyV20 import API\n",
    "import oandapyV20.endpoints.orders as orders\n",
    "from oandapyV20.contrib.requests import MarketOrderRequest\n",
    "from oanda_candles import Pair, Gran, CandleCollector, CandleClient\n",
    "from oandapyV20.contrib.requests import TakeProfitDetails, StopLossDetails\n",
    "\n",
    "token = \"XXXXXXXX\"#you need token here generated from OANDA account\n",
    "\n",
    "import smtplib\n",
    "gmail_user = 'XXXXXXXX'\n",
    "gmail_password = 'XXXXXX'\n",
    "sent_from = gmail_user\n",
    "to = ['XXXXXEMAILXXXX']\n",
    "subject = 'info JPY'"
   ]
  },
  {
   "cell_type": "code",
   "execution_count": 9,
   "metadata": {},
   "outputs": [],
   "source": [
    "def some_job():\n",
    "    access_token='XXXXXXX'#you need token here generated from OANDA account\n",
    "    client = CandleClient(access_token, real=False)\n",
    "    #collector = CandleCollector(access_token, Pair.USD_JPY, Gran.D)\n",
    "    collector = client.get_collector(Pair.USD_JPY, Gran.D)\n",
    "    candles = collector.grab(2*161)\n",
    "\n",
    "    dfstream = pd.DataFrame(columns=['open','close','high','low'])\n",
    "    i=0\n",
    "    for candle in candles:\n",
    "        dfstream.loc[i, ['open']] = float(str(candle.bid.o))\n",
    "        dfstream.loc[i, ['close']] = float(str(candle.bid.c))\n",
    "        dfstream.loc[i, ['high']] = float(str(candle.bid.h))\n",
    "        dfstream.loc[i, ['low']] = float(str(candle.bid.l))\n",
    "        i=i+1\n",
    "\n",
    "    dfstream['open'] = dfstream['open'].astype(float)\n",
    "    dfstream['close'] = dfstream['close'].astype(float)\n",
    "    dfstream['high'] = dfstream['high'].astype(float)\n",
    "    dfstream['low'] = dfstream['low'].astype(float)\n",
    "\n",
    "   \n",
    "    import numpy as np\n",
    "    import pandas_ta as ta\n",
    "    dfstream['ATR'] = dfstream.ta.atr(length=20)\n",
    "    dfstream['RSI'] = dfstream.ta.rsi()\n",
    "\n",
    "    #________________________________________________________________________________________________\n",
    "    X_stream = dfstream.iloc[[319,320]].copy()# !!! Index takes last CLOSED candle and the one before\n",
    "    X_stream.reset_index(drop=True, inplace=True)\n",
    "    signal = 0\n",
    "    length = len(X_stream)\n",
    "\n",
    "    highdiff = [0] * length\n",
    "    lowdiff = [0] * length\n",
    "    bodydiff = [0] * length\n",
    "    ratio1 = [0] * length\n",
    "    ratio2 = [0] * length\n",
    "   \n",
    "    #print(X_stream.high[0])\n",
    "\n",
    "    for row in range(0,length):\n",
    "        highdiff[row] = X_stream.high[row]-max(X_stream.open[row],X_stream.close[row])\n",
    "        bodydiff[row] = abs(X_stream.open[row]-X_stream.close[row])\n",
    "        if bodydiff[row]<0.002:\n",
    "            bodydiff[row]=0.002\n",
    "        lowdiff[row] = min(X_stream.open[row],X_stream.close[row])-X_stream.low[row]\n",
    "        ratio1[row] = highdiff[row]/bodydiff[row]\n",
    "        ratio2[row] = lowdiff[row]/bodydiff[row]\n",
    "\n",
    "    row=1\n",
    "    if (ratio1[row]>2.5 and lowdiff[row]<0.3*highdiff[row] and bodydiff[row]>0.03 and X_stream.RSI[row]>50 and X_stream.RSI[row]<70 ):\n",
    "        signal = 1\n",
    "    elif (ratio2[row-1]>2.5 and highdiff[row-1]<0.23*lowdiff[row-1] and bodydiff[row-1]>0.03 and bodydiff[row]>0.04 and X_stream.Close[row]>X_stream.open[row] and X_stream.close[row]>X_stream.high[row-1] and X_stream.RSI[row]<55 and X_stream.RSI[row]>30):\n",
    "        signal = 2\n",
    "    else:\n",
    "        signal = 0\n",
    "    \n",
    "    \n",
    "    #------------------------------------\n",
    "    # send email with \n",
    "    server = smtplib.SMTP_SSL('smtp.gmail.com', 465)\n",
    "    server.ehlo()\n",
    "    server.login(gmail_user, gmail_password)\n",
    "    msg = str(signal)+\" USDJPY  \"\n",
    "    server.sendmail(sent_from, to, msg)\n",
    "    #________________________________________________________________________________________________\n",
    "    \n",
    "    # EXECUTING ORDERS\n",
    "    accountID = \"XXXXXXX\" #your account ID here\n",
    "    access_token='XXXXX'#access token here\n",
    "    client = API(access_token)\n",
    "    \n",
    "    candles = collector.grab(1)\n",
    "    for candle in candles:\n",
    "        print(candle.bid.o)\n",
    "        print(candle.bid.c)\n",
    "        print(candle.bid.h)\n",
    "        print(candle.bid.l)\n",
    "    \n",
    "    pipdiff = X_stream.ATR[row]*1. #highdiff*1.3 #for SL 400*1e-3\n",
    "    if pipdiff<1.1:\n",
    "        pipdiff=1.1\n",
    "            \n",
    "    SLTPRatio = 2. #pipdiff*Ratio gives TP\n",
    "    \n",
    "    TPBuy = float(str(candle.bid.o))+pipdiff*SLTPRatio\n",
    "    SLBuy = float(str(candle.bid.o))-pipdiff\n",
    "    TPSell = float(str(candle.bid.o))-pipdiff*SLTPRatio\n",
    "    SLSell = float(str(candle.bid.o))+pipdiff\n",
    "    \n",
    "    print(TPBuy, \"  \", SLBuy, \"  \", TPSell, \"  \", SLSell)\n",
    "    \n",
    "    #Sell\n",
    "    if signal == 1:\n",
    "        mo = MarketOrderRequest(instrument=\"USD_JPY\", units=-1000, takeProfitOnFill=TakeProfitDetails(price=TPSell).data, stopLossOnFill=StopLossDetails(price=SLSell).data)\n",
    "        r = orders.OrderCreate(accountID, data=mo.data)\n",
    "        rv = client.request(r)\n",
    "        print(rv)\n",
    "    #Buy\n",
    "    elif signal == 2:\n",
    "        mo = MarketOrderRequest(instrument=\"USD_JPY\", units=1000, takeProfitOnFill=TakeProfitDetails(price=TPBuy).data, stopLossOnFill=StopLossDetails(price=SLBuy).data)\n",
    "        r = orders.OrderCreate(accountID, data=mo.data)\n",
    "        rv = client.request(r)\n",
    "        print(rv)"
   ]
  },
  {
   "cell_type": "markdown",
   "metadata": {},
   "source": [
    "## Executing orders automatically every Day"
   ]
  },
  {
   "cell_type": "code",
   "execution_count": 10,
   "metadata": {},
   "outputs": [],
   "source": [
    "#some_job()\n",
    "\n",
    "###################################################################\n",
    "## Interval time job ##############################################\n",
    "scheduler = BlockingScheduler(job_defaults={'misfire_grace_time': 15*60})\n",
    "#scheduler = BlockingScheduler()\n",
    "scheduler.add_job(some_job, 'cron', day_of_week='mon-fri', hour='*/23', minute=59, jitter=120, timezone='America/New_York')\n",
    "#scheduler.add_job(some_job, 'cron', day_of_week='mon-fri', hour='*/4', minute=5, jitter=120, timezone='America/New_York')\n",
    "#scheduler.add_job(some_job, 'interval', seconds=5)\n",
    "scheduler.start()"
   ]
  }
 ],
 "metadata": {
  "kernelspec": {
   "display_name": "Python 3",
   "language": "python",
   "name": "python3"
  },
  "language_info": {
   "codemirror_mode": {
    "name": "ipython",
    "version": 3
   },
   "file_extension": ".py",
   "mimetype": "text/x-python",
   "name": "python",
   "nbconvert_exporter": "python",
   "pygments_lexer": "ipython3",
   "version": "3.10.9"
  }
 },
 "nbformat": 4,
 "nbformat_minor": 2
}
